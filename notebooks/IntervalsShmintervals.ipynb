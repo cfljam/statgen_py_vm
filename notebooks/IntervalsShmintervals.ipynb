{
 "metadata": {
  "name": "",
  "signature": "sha256:8497f7a936dafd81a2470ba94b55345a9b9e1292a407480bf4aa5407a66eb25d"
 },
 "nbformat": 3,
 "nbformat_minor": 0,
 "worksheets": [
  {
   "cells": [
    {
     "cell_type": "markdown",
     "metadata": {
      "slideshow": {
       "slide_type": "slide"
      }
     },
     "source": [
      "Genome Interval Algebra with Bedtools\n",
      "===============\n",
      "\n",
      "- biological interest is at different scales\n",
      "    - genes\n",
      "    - chromosomes\n",
      "    - regions\n",
      "    - bases\n",
      "- need to do **set operations** to focus our analyses\n",
      "    e.g.\n",
      "    - whichs SNPs lie in genes?\n",
      "- General format\n",
      "```\n",
      "    chromosome start end *other stuff*\n",
      "```\n",
      "- GOTCHAs\n",
      "    - BED starts are zero-based and BED ends are one-based.\n",
      "    - GFF starts and ends are one-based\n",
      "    - VCF coordinates are one-based."
     ]
    },
    {
     "cell_type": "markdown",
     "metadata": {
      "slideshow": {
       "slide_type": "slide"
      }
     },
     "source": [
      "Tools\n",
      "-----\n",
      "\n",
      "- R/ BioConductor GRanges\n",
      "- Galaxy interval format tools\n",
      "- BedTools\n",
      "    -interfaces to BedTools e.g. [PyBedtools](http://pythonhosted.org/pybedtools/)\n",
      "    - RTFD http://bedtools.readthedocs.org/en/latest/content/overview.html"
     ]
    },
    {
     "cell_type": "markdown",
     "metadata": {
      "slideshow": {
       "slide_type": "slide"
      }
     },
     "source": [
      "#### Look at a gff file\n",
      "\n",
      "- annotation file of gene models for *Actinidia chinensis*\n",
      "- decompress with zcat\n",
      "- pipe into head to just show the first 10 lines\n"
     ]
    },
    {
     "cell_type": "code",
     "collapsed": false,
     "input": [
      "!zcat /vagrant_data/Kiwifruit_pseudomolecule.gff.gz | head"
     ],
     "language": "python",
     "metadata": {},
     "outputs": [
      {
       "output_type": "stream",
       "stream": "stdout",
       "text": [
        "#seqname\tsource\tfeature\tstart\tend\tscore\tstrand\tframe\tgroup\r\n",
        "Chr1\tglean\tgene\t6122\t13423\t.\t+\t.\tID=Achn331171; status=novel;\r\n",
        "Chr1\tglean\tmRNA\t6122\t13423\t0.209815\t+\t.\tID=Achn331171-TA; Parent=Achn331171; status=novel;\r\n",
        "Chr1\tglean\tCDS\t6122\t6193\t.\t+\t0\tParent=Achn331171-TA;\r\n",
        "Chr1\tglean\tCDS\t13295\t13423\t.\t+\t0\tParent=Achn331171-TA;\r\n",
        "Chr1\tglean\tgene\t17534\t23498\t.\t+\t.\tID=Achn331181; status=novel;\r\n",
        "Chr1\tglean\tmRNA\t17534\t23498\t0.198624\t+\t.\tID=Achn331181-TA; Parent=Achn331181; status=novel;\r\n",
        "Chr1\tglean\tCDS\t17534\t17603\t.\t+\t0\tParent=Achn331181-TA;\r\n",
        "Chr1\tglean\tCDS\t21237\t21310\t.\t+\t1\tParent=Achn331181-TA;\r\n",
        "Chr1\tglean\tCDS\t21437\t21642\t.\t+\t0\tParent=Achn331181-TA;\r\n",
        "\r\n",
        "gzip: stdout: Broken pipe\r\n"
       ]
      }
     ],
     "prompt_number": 2
    },
    {
     "cell_type": "markdown",
     "metadata": {
      "slideshow": {
       "slide_type": "slide"
      }
     },
     "source": [
      "#### Look at 2 Non-Header Lines of a vcf file\n",
      "\n",
      "- decompress with zcat\n",
      "- pipe into awk, which passes lines NOT starting with hash\n",
      "- pipe into head just passing 2 lines"
     ]
    },
    {
     "cell_type": "code",
     "collapsed": false,
     "input": [
      "!zcat /vagrant_data/Chr1_1Mb.vcf.gz | awk '!/^#/' | head -n2"
     ],
     "language": "python",
     "metadata": {},
     "outputs": [
      {
       "output_type": "stream",
       "stream": "stdout",
       "text": [
        "Chr1\t19\t.\tT\tA\t700.624\t.\tAB=0.0666667;ABP=27.4756;AC=5;AF=0.147059;AN=34;AO=31;CIGAR=1X;DP=171;DPB=171;DPRA=1.66667;EPP=6.44263;EPPR=15.1705;GTI=1;LEN=1;MEANALT=1;MQM=192.29;MQMR=197.757;NS=17;NUMALT=1;ODDS=1.51804;PAIRED=0.612903;PAIREDR=0.6;PAO=0;PQA=0;PQR=0;PRO=0;QA=1095;QR=4915;RO=140;RPP=70.3259;RPPR=307.016;RUN=1;SAF=19;SAP=6.44263;SAR=12;SRF=84;SRP=15.1705;SRR=56;TYPE=snp;technology.Illumina=1\tGT:GQ:DP:RO:QR:AO:QA:GL\t1/1:43.2168:17:0:0:17:587:-10,-5.11751,0\t0/0:32.4938:8:8:282:0:0:0,-2.40824,-10\t0/0:32.4938:8:8:277:0:0:0,-2.40824,-10\t0/1:0.851999:15:14:488:1:40:-0.660641,0,-10\t0/0:50.5556:14:14:496:0:0:0,-4.21442,-10\t0/0:29.4835:7:7:252:0:0:0,-2.10721,-10\t0/0:29.4835:7:7:244:0:0:0,-2.10721,-10\t0/0:29.4835:7:7:236:0:0:0,-2.10721,-10\t0/0:41.5247:11:11:399:0:0:0,-3.31133,-10\t0/0:32.4938:8:8:293:0:0:0,-2.40824,-10\t0/0:38.5144:10:10:333:0:0:0,-3.0103,-10\t0/0:41.5247:11:11:392:0:0:0,-3.31133,-10\t0/0:38.5144:10:10:345:0:0:0,-3.0103,-10\t1/1:31.1756:13:0:0:13:468:-10,-3.91339,0\t0/0:35.5041:9:9:328:0:0:0,-2.70927,-10\t0/0:26.4732:6:6:209:0:0:0,-1.80618,-10\t0/0:38.5144:10:10:341:0:0:0,-3.0103,-10\r\n",
        "Chr1\t38\t.\tT\tA\t1706.75\t.\tAB=0;ABP=0;AC=6;AF=0.176471;AN=34;AO=65;CIGAR=1X;DP=338;DPB=338;DPRA=1.13235;EPP=3.84548;EPPR=28.8532;GTI=0;LEN=1;MEANALT=1;MQM=194.615;MQMR=197.495;NS=17;NUMALT=1;ODDS=7.07555;PAIRED=0.461538;PAIREDR=0.604396;PAO=0;PQA=0;PQR=0;PRO=0;QA=2353;QR=9905;RO=273;RPP=144.156;RPPR=595.822;RUN=1;SAF=30;SAP=3.84548;SAR=35;SRF=165;SRP=28.8532;SRR=108;TYPE=snp;technology.Illumina=1\tGT:GQ:DP:RO:QR:AO:QA:GL\t0/0:103.9:29:29:1050:0:0:0,-8.72987,-10\t0/0:67.7755:17:17:623:0:0:0,-5.11751,-10\t0/0:58.7446:14:14:513:0:0:0,-4.21442,-10\t1/1:30.7329:29:1:41:28:987:-10,-3.16747,0\t1/1:60.8642:22:0:0:22:820:-10,-6.62266,0\t0/0:67.7755:17:17:608:0:0:0,-5.11751,-10\t0/0:73.7962:19:19:671:0:0:0,-5.71957,-10\t0/0:67.7755:17:17:587:0:0:0,-5.11751,-10\t0/0:88.8477:24:24:902:0:0:0,-7.22472,-10\t0/0:64.7652:16:16:609:0:0:0,-4.81648,-10\t0/0:82.8271:22:22:779:0:0:0,-6.62266,-10\t0/0:88.8477:24:24:889:0:0:0,-7.22472,-10\t1/1:39.7921:15:0:0:15:546:-10,-4.51545,0\t0/0:100.889:28:28:1034:0:0:0,-8.42884,-10\t0/0:61.7549:15:15:542:0:0:0,-4.51545,-10\t0/0:64.7652:16:16:580:0:0:0,-4.81648,-10\t0/0:58.7446:14:14:477:0:0:0,-4.21442,-10\r\n",
        "awk: cmd. line:1: (FILENAME=- FNR=79) fatal: print to \"standard output\" failed (Broken pipe)\r\n",
        "\r\n",
        "gzip: stdout: Broken pipe\r\n"
       ]
      }
     ],
     "prompt_number": 9
    },
    {
     "cell_type": "markdown",
     "metadata": {},
     "source": []
    }
   ],
   "metadata": {}
  }
 ]
}