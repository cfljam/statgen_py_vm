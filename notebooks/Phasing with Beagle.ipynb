{
 "metadata": {
  "name": "",
  "signature": "sha256:03d0649595f000d505abec32f4cf616cce528f30e8fe2d964ae14a3db5b501ed"
 },
 "nbformat": 3,
 "nbformat_minor": 0,
 "worksheets": [
  {
   "cells": [
    {
     "cell_type": "markdown",
     "metadata": {},
     "source": [
      "Installing and Using Beagle\n",
      "===========\n",
      "\n",
      "- How to install and explore some software\n",
      "- This example was run on an ubuntu VM as defined by https://github.com/cfljam/statgen_py_vm\n",
      "- RTFD http://faculty.washington.edu/browning/beagle/beagle.html\n",
      "- download the software using **wget**\n"
     ]
    },
    {
     "cell_type": "code",
     "collapsed": false,
     "input": [
      "!wget http://faculty.washington.edu/browning/beagle/beagle.r1398.jar"
     ],
     "language": "python",
     "metadata": {},
     "outputs": [
      {
       "output_type": "stream",
       "stream": "stdout",
       "text": [
        "--2014-10-15 04:47:06--  http://faculty.washington.edu/browning/beagle/beagle.r1398.jar\r\n",
        "Resolving proxy.pfr.co.nz (proxy.pfr.co.nz)... "
       ]
      },
      {
       "output_type": "stream",
       "stream": "stdout",
       "text": [
        "10.16.1.30\r\n",
        "Connecting to proxy.pfr.co.nz (proxy.pfr.co.nz)|10.16.1.30|:8080... "
       ]
      },
      {
       "output_type": "stream",
       "stream": "stdout",
       "text": [
        "connected.\r\n",
        "Proxy request sent, awaiting response... "
       ]
      },
      {
       "output_type": "stream",
       "stream": "stdout",
       "text": [
        "200 OK\r\n",
        "Length: 267170 (261K) [text/plain]\r\n",
        "Saving to: \u2018beagle.r1398.jar\u2019\r\n",
        "\r\n",
        "\r",
        " 0% [                                       ] 0           --.-K/s              "
       ]
      },
      {
       "output_type": "stream",
       "stream": "stdout",
       "text": [
        "\r",
        "32% [===========>                           ] 86,692       273KB/s             "
       ]
      },
      {
       "output_type": "stream",
       "stream": "stdout",
       "text": [
        "\r",
        "52% [===================>                   ] 141,552      271KB/s             "
       ]
      },
      {
       "output_type": "stream",
       "stream": "stdout",
       "text": [
        "\r",
        "79% [=============================>         ] 211,132      289KB/s             "
       ]
      },
      {
       "output_type": "stream",
       "stream": "stdout",
       "text": [
        "\r",
        "100%[======================================>] 267,170      305KB/s   in 0.9s   \r\n",
        "\r\n",
        "2014-10-15 04:47:13 (305 KB/s) - \u2018beagle.r1398.jar\u2019 saved [267170/267170]\r\n",
        "\r\n"
       ]
      }
     ],
     "prompt_number": 1
    },
    {
     "cell_type": "markdown",
     "metadata": {},
     "source": [
      "### Move to somewhere in PATH"
     ]
    },
    {
     "cell_type": "code",
     "collapsed": false,
     "input": [
      "!echo $PATH"
     ],
     "language": "python",
     "metadata": {},
     "outputs": [
      {
       "output_type": "stream",
       "stream": "stdout",
       "text": [
        "/usr/local/sbin:/usr/local/bin:/usr/sbin:/usr/bin:/sbin:/bin:/usr/games:/usr/local/games\r\n"
       ]
      }
     ],
     "prompt_number": 2
    },
    {
     "cell_type": "code",
     "collapsed": false,
     "input": [
      "!sudo mv beagle.r1398.jar /usr/local/bin"
     ],
     "language": "python",
     "metadata": {},
     "outputs": [],
     "prompt_number": 3
    },
    {
     "cell_type": "markdown",
     "metadata": {},
     "source": [
      "### Try to run it"
     ]
    },
    {
     "cell_type": "code",
     "collapsed": false,
     "input": [
      "!java  -Xmx1000m -jar /usr/local/bin/beagle.r1398.jar"
     ],
     "language": "python",
     "metadata": {},
     "outputs": [
      {
       "output_type": "stream",
       "stream": "stdout",
       "text": [
        "/bin/sh: 1: java: not found\r\n"
       ]
      }
     ],
     "prompt_number": 4
    },
    {
     "cell_type": "markdown",
     "metadata": {},
     "source": [
      "### Doh! Need to install Java\n",
      "\n",
      "- google some help https://www.digitalocean.com/community/tutorials/how-to-install-java-on-ubuntu-with-apt-get\n",
      "- install using apt-get, accepting any additional packages blindly with -y flag"
     ]
    },
    {
     "cell_type": "code",
     "collapsed": false,
     "input": [
      "!sudo apt-get install -y default-jre"
     ],
     "language": "python",
     "metadata": {},
     "outputs": [
      {
       "output_type": "stream",
       "stream": "stdout",
       "text": [
        "\r",
        "Reading package lists... 0%\r",
        "\r",
        "Reading package lists... 100%\r",
        "\r",
        "Reading package lists... Done\r",
        "\r\n",
        "\r",
        "Building dependency tree... 0%\r",
        "\r",
        "Building dependency tree... 0%\r"
       ]
      },
      {
       "output_type": "stream",
       "stream": "stdout",
       "text": [
        "\r",
        "Building dependency tree... 50%\r",
        "\r",
        "Building dependency tree... 50%\r"
       ]
      },
      {
       "output_type": "stream",
       "stream": "stdout",
       "text": [
        "\r",
        "Building dependency tree       \r",
        "\r\n",
        "\r",
        "Reading state information... 0%\r",
        "\r",
        "Reading state information... 0%\r",
        "\r",
        "Reading state information... Done\r",
        "\r\n"
       ]
      },
      {
       "output_type": "stream",
       "stream": "stdout",
       "text": [
        "The following extra packages will be installed:\r\n",
        "  acl at-spi2-core ca-certificates-java colord dbus-x11\r\n",
        "  dconf-gsettings-backend dconf-service default-jre-headless\r\n",
        "  desktop-file-utils fonts-dejavu-extra gconf-service gconf-service-backend\r\n",
        "  gconf2 gconf2-common gvfs gvfs-common gvfs-daemons gvfs-libs\r\n",
        "  hicolor-icon-theme java-common libasound2 libasound2-data libasyncns0\r\n",
        "  libatasmart4 libatk-bridge2.0-0 libatk-wrapper-java libatk-wrapper-java-jni\r\n",
        "  libatk1.0-0 libatk1.0-data libatspi2.0-0 libavahi-client3\r\n",
        "  libavahi-common-data libavahi-common3 libavahi-glib1 libbonobo2-0\r\n",
        "  libbonobo2-common libcairo-gobject2 libcanberra0 libcolord1 libcolorhug1\r\n",
        "  libcups2 libdconf1 libexif12 libflac8 libgconf-2-4 libgconf2-4 libgd3\r\n",
        "  libgdk-pixbuf2.0-0 libgdk-pixbuf2.0-common libgif4 libgnome2-0 libgnome2-bin\r\n",
        "  libgnome2-common libgnomevfs2-0 libgnomevfs2-common libgphoto2-6\r\n",
        "  libgphoto2-l10n libgphoto2-port10 libgtk-3-0 libgtk-3-bin libgtk-3-common\r\n",
        "  libgtk2.0-0 libgtk2.0-bin libgtk2.0-common libgudev-1.0-0 libgusb2\r\n",
        "  libidl-common libidl0 libieee1284-3 libjasper1 libltdl7 libnspr4 libnss3\r\n",
        "  libnss3-1d libnss3-nssdb libogg0 liborbit-2-0 liborbit2 libpcsclite1\r\n",
        "  libpulse0 libsane libsane-common libsecret-1-0 libsecret-common libsndfile1\r\n",
        "  libtdb1 libudisks2-0 libv4l-0 libv4lconvert0 libvorbis0a libvorbisenc2\r\n",
        "  libvorbisfile3 libvpx1 libwayland-client0 libwayland-cursor0 libxkbcommon0\r\n",
        "  openjdk-7-jre openjdk-7-jre-headless policykit-1-gnome\r\n",
        "  sound-theme-freedesktop tzdata-java udisks2\r\n",
        "Suggested packages:\r\n",
        "  gconf-defaults-service gvfs-backends gvfs-backends-goa equivs\r\n",
        "  libasound2-plugins alsa-utils libbonobo2-bin libcanberra-gtk0\r\n",
        "  libcanberra-pulse cups-common libgd-tools desktop-base libgnomevfs2-bin\r\n",
        "  libgnomevfs2-extra gamin fam gnome-mime-data gphoto2 gtkam librsvg2-common\r\n",
        "  libjasper-runtime pcscd pulseaudio avahi-daemon hplip hpoj libsane-extras\r\n",
        "  sane-utils icedtea-7-plugin icedtea-7-jre-jamvm libnss-mdns sun-java6-fonts\r\n",
        "  fonts-ipafont-gothic fonts-ipafont-mincho ttf-wqy-microhei ttf-wqy-zenhei\r\n",
        "  ttf-indic-fonts-core ttf-telugu-fonts ttf-oriya-fonts ttf-kannada-fonts\r\n",
        "  ttf-bengali-fonts xfsprogs reiserfsprogs exfat-utils btrfs-tools mdadm\r\n"
       ]
      },
      {
       "output_type": "stream",
       "stream": "stdout",
       "text": [
        "The following NEW packages will be installed:\r\n",
        "  acl at-spi2-core ca-certificates-java colord dbus-x11\r\n",
        "  dconf-gsettings-backend dconf-service default-jre default-jre-headless\r\n",
        "  desktop-file-utils fonts-dejavu-extra gconf-service gconf-service-backend\r\n",
        "  gconf2 gconf2-common gvfs gvfs-common gvfs-daemons gvfs-libs\r\n",
        "  hicolor-icon-theme java-common libasound2 libasound2-data libasyncns0\r\n",
        "  libatasmart4 libatk-bridge2.0-0 libatk-wrapper-java libatk-wrapper-java-jni\r\n",
        "  libatk1.0-0 libatk1.0-data libatspi2.0-0 libavahi-client3\r\n",
        "  libavahi-common-data libavahi-common3 libavahi-glib1 libbonobo2-0\r\n",
        "  libbonobo2-common libcairo-gobject2 libcanberra0 libcolord1 libcolorhug1\r\n",
        "  libcups2 libdconf1 libexif12 libflac8 libgconf-2-4 libgconf2-4 libgd3\r\n",
        "  libgdk-pixbuf2.0-0 libgdk-pixbuf2.0-common libgif4 libgnome2-0 libgnome2-bin\r\n",
        "  libgnome2-common libgnomevfs2-0 libgnomevfs2-common libgphoto2-6\r\n",
        "  libgphoto2-l10n libgphoto2-port10 libgtk-3-0 libgtk-3-bin libgtk-3-common\r\n",
        "  libgtk2.0-0 libgtk2.0-bin libgtk2.0-common libgudev-1.0-0 libgusb2\r\n",
        "  libidl-common libidl0 libieee1284-3 libjasper1 libltdl7 libnspr4 libnss3\r\n",
        "  libnss3-1d libnss3-nssdb libogg0 liborbit-2-0 liborbit2 libpcsclite1\r\n",
        "  libpulse0 libsane libsane-common libsecret-1-0 libsecret-common libsndfile1\r\n",
        "  libtdb1 libudisks2-0 libv4l-0 libv4lconvert0 libvorbis0a libvorbisenc2\r\n",
        "  libvorbisfile3 libvpx1 libwayland-client0 libwayland-cursor0 libxkbcommon0\r\n",
        "  openjdk-7-jre openjdk-7-jre-headless policykit-1-gnome\r\n",
        "  sound-theme-freedesktop tzdata-java udisks2\r\n",
        "0 upgraded, 103 newly installed, 0 to remove and 40 not upgraded.\r\n",
        "Need to get 55.8 MB of archives.\r\n",
        "After this operation, 134 MB of additional disk space will be used.\r\n",
        "\r",
        "\r",
        "0% [Working]"
       ]
      },
      {
       "output_type": "stream",
       "stream": "stdout",
       "text": [
        "\r",
        "            \r",
        "0% [Connecting to proxy.pfr.co.nz]"
       ]
      },
      {
       "output_type": "stream",
       "stream": "stdout",
       "text": [
        "\r",
        "0% [Connecting to proxy.pfr.co.nz]"
       ]
      },
      {
       "output_type": "stream",
       "stream": "stdout",
       "text": [
        "\r",
        "0% [Connecting to proxy.pfr.co.nz]"
       ]
      },
      {
       "output_type": "stream",
       "stream": "stdout",
       "text": [
        "\r",
        "0% [Connecting to proxy.pfr.co.nz]"
       ]
      },
      {
       "output_type": "stream",
       "stream": "stdout",
       "text": [
        "\r",
        "0% [Connecting to proxy.pfr.co.nz]"
       ]
      },
      {
       "output_type": "stream",
       "stream": "stdout",
       "text": [
        "\r",
        "0% [Connecting to proxy.pfr.co.nz]"
       ]
      },
      {
       "output_type": "stream",
       "stream": "stdout",
       "text": [
        "\r",
        "0% [Connecting to proxy.pfr.co.nz]"
       ]
      },
      {
       "output_type": "stream",
       "stream": "stdout",
       "text": [
        "\r",
        "0% [Connecting to proxy.pfr.co.nz]"
       ]
      },
      {
       "output_type": "stream",
       "stream": "stdout",
       "text": [
        "\r",
        "0% [Connecting to proxy.pfr.co.nz]"
       ]
      },
      {
       "output_type": "stream",
       "stream": "stdout",
       "text": [
        "\r",
        "0% [Connecting to proxy.pfr.co.nz]"
       ]
      },
      {
       "output_type": "stream",
       "stream": "stdout",
       "text": [
        "\r",
        "                                  \r",
        "0% [Waiting for headers]"
       ]
      },
      {
       "output_type": "stream",
       "stream": "stdout",
       "text": [
        "\r",
        "                        \r",
        "Get:1 http://archive.ubuntu.com/ubuntu/ trusty/main libasound2-data all 1.0.27.2-3ubuntu7 [26.3 kB]\r\n",
        "\r",
        "                        \r",
        "0% [1 libasound2-data 0 B/26.3 kB 0%]"
       ]
      },
      {
       "output_type": "stream",
       "stream": "stdout",
       "text": [
        "\r",
        "                                     \r",
        "0% [Working]                                             4,165 B/s 3h 43min 14s"
       ]
      },
      {
       "output_type": "stream",
       "stream": "stdout",
       "text": [
        "\r",
        "0% [Waiting for headers]                                 4,165 B/s 3h 43min 14s"
       ]
      },
      {
       "output_type": "stream",
       "stream": "stdout",
       "text": [
        "\r",
        "                                                                               \r",
        "Get:2 http://archive.ubuntu.com/ubuntu/ trusty/main libasound2 amd64 1.0.27.2-3ubuntu7 [327 kB]\r\n",
        "\r",
        "0% [2 libasound2 0 B/327 kB 0%]                          4,165 B/s 3h 43min 14s"
       ]
      },
      {
       "output_type": "stream",
       "stream": "stdout",
       "text": [
        "\r",
        "0% [2 libasound2 28.9 kB/327 kB 9%]                       4,165 B/s 3h 43min 7s"
       ]
      },
      {
       "output_type": "stream",
       "stream": "stdout",
       "text": [
        "\r",
        "0% [2 libasound2 69.8 kB/327 kB 21%]                     4,165 B/s 3h 42min 57s"
       ]
      },
      {
       "output_type": "stream",
       "stream": "stdout",
       "text": [
        "\r",
        "0% [2 libasound2 97.5 kB/327 kB 30%]                     4,165 B/s 3h 42min 50s"
       ]
      },
      {
       "output_type": "stream",
       "stream": "stdout",
       "text": [
        "\r",
        "0% [2 libasound2 169 kB/327 kB 52%]                      4,165 B/s 3h 42min 33s"
       ]
      },
      {
       "output_type": "stream",
       "stream": "stdout",
       "text": [
        "\r",
        "0% [2 libasound2 239 kB/327 kB 73%]                      4,165 B/s 3h 42min 16s"
       ]
      },
      {
       "output_type": "stream",
       "stream": "stdout",
       "text": [
        "\r",
        "1% [2 libasound2 293 kB/327 kB 90%]                       4,165 B/s 3h 42min 3s"
       ]
      },
      {
       "output_type": "stream",
       "stream": "stdout",
       "text": [
        "\r",
        "1% [Working]                                             4,165 B/s 3h 41min 55s"
       ]
      },
      {
       "output_type": "stream",
       "stream": "stdout",
       "text": [
        "\r",
        "1% [Waiting for headers]                                 4,165 B/s 3h 41min 55s"
       ]
      },
      {
       "output_type": "stream",
       "stream": "stdout",
       "text": [
        "\r",
        "                                                                               \r",
        "Get:3 http://archive.ubuntu.com/ubuntu/ trusty/main libasyncns0 amd64 0.8-4ubuntu2 [11.9 kB]\r\n",
        "\r",
        "1% [3 libasyncns0 0 B/11.9 kB 0%]                        4,165 B/s 3h 41min 55s\r",
        "1% [Working]                                             4,165 B/s 3h 41min 52s"
       ]
      },
      {
       "output_type": "stream",
       "stream": "stdout",
       "text": [
        "\r",
        "                                                                               \r",
        "Get:4 http://archive.ubuntu.com/ubuntu/ trusty/main libatasmart4 amd64 0.19-3 [27.1 kB]\r\n",
        "\r",
        "1% [4 libatasmart4 0 B/27.1 kB 0%]                       4,165 B/s 3h 41min 52s"
       ]
      },
      {
       "output_type": "stream",
       "stream": "stdout",
       "text": [
        "\r",
        "1% [Working]                                             4,165 B/s 3h 41min 46s"
       ]
      },
      {
       "output_type": "stream",
       "stream": "stdout",
       "text": [
        "\r",
        "                                                                               \r",
        "Get:5 http://archive.ubuntu.com/ubuntu/ trusty/main libatk1.0-data all 2.10.0-2ubuntu2 [13.7 kB]\r\n",
        "\r",
        "1% [5 libatk1.0-data 0 B/13.7 kB 0%]                     4,165 B/s 3h 41min 46s\r",
        "1% [Working]                                             4,165 B/s 3h 41min 43s"
       ]
      },
      {
       "output_type": "stream",
       "stream": "stdout",
       "text": [
        "\r",
        "                                                                               \r",
        "Get:6 http://archive.ubuntu.com/ubuntu/ trusty/main libatk1.0-0 amd64 2.10.0-2ubuntu2 [50.9 kB]\r\n",
        "\r",
        "1% [6 libatk1.0-0 0 B/50.9 kB 0%]                           63.3 kB/s 14min 35s"
       ]
      },
      {
       "output_type": "stream",
       "stream": "stdout",
       "text": [
        "\r",
        "1% [Working]                                                63.3 kB/s 14min 35s"
       ]
      },
      {
       "output_type": "stream",
       "stream": "stdout",
       "text": [
        "\r",
        "1% [Waiting for headers]                                    63.3 kB/s 14min 35s"
       ]
      },
      {
       "output_type": "stream",
       "stream": "stdout",
       "text": [
        "\r",
        "                                                                               \r",
        "Get:7 http://archive.ubuntu.com/ubuntu/ trusty/main libatspi2.0-0 amd64 2.10.2.is.2.10.1-0ubuntu1 [53.1 kB]\r\n",
        "\r",
        "1% [7 libatspi2.0-0 0 B/53.1 kB 0%]                         63.3 kB/s 14min 35s"
       ]
      },
      {
       "output_type": "stream",
       "stream": "stdout",
       "text": [
        "\r",
        "1% [7 libatspi2.0-0 14.3 kB/53.1 kB 27%]                    63.3 kB/s 14min 34s"
       ]
      },
      {
       "output_type": "stream",
       "stream": "stdout",
       "text": [
        "\r",
        "1% [7 libatspi2.0-0 49.0 kB/53.1 kB 92%]                    63.3 kB/s 14min 34s"
       ]
      },
      {
       "output_type": "stream",
       "stream": "stdout",
       "text": [
        "\r",
        "1% [Working]                                                63.3 kB/s 14min 34s"
       ]
      },
      {
       "output_type": "stream",
       "stream": "stdout",
       "text": [
        "\r",
        "1% [Waiting for headers]                                    63.3 kB/s 14min 34s"
       ]
      },
      {
       "output_type": "stream",
       "stream": "stdout",
       "text": [
        "\r",
        "                                                                               \r",
        "Get:8 http://archive.ubuntu.com/ubuntu/ trusty/main libatk-bridge2.0-0 amd64 2.10.2-2ubuntu1 [46.8 kB]\r\n",
        "\r",
        "1% [8 libatk-bridge2.0-0 0 B/46.8 kB 0%]                    63.3 kB/s 14min 34s"
       ]
      },
      {
       "output_type": "stream",
       "stream": "stdout",
       "text": [
        "\r",
        "1% [8 libatk-bridge2.0-0 11.4 kB/46.8 kB 24%]               63.3 kB/s 14min 34s"
       ]
      },
      {
       "output_type": "stream",
       "stream": "stdout",
       "text": [
        "\r",
        "1% [Working]                                                63.3 kB/s 14min 33s"
       ]
      },
      {
       "output_type": "stream",
       "stream": "stdout",
       "text": [
        "\r",
        "                                                                               \r",
        "Get:9 http://archive.ubuntu.com/ubuntu/ trusty-updates/main libgtk2.0-common all 2.24.23-0ubuntu1.1 [121 kB]\r\n",
        "\r",
        "1% [9 libgtk2.0-common 0 B/121 kB 0%]                       63.3 kB/s 14min 33s"
       ]
      },
      {
       "output_type": "stream",
       "stream": "stdout",
       "text": [
        "\r",
        "1% [9 libgtk2.0-common 37.7 kB/121 kB 31%]                  63.3 kB/s 14min 32s"
       ]
      },
      {
       "output_type": "stream",
       "stream": "stdout",
       "text": [
        "\r",
        "1% [Working]                                                63.3 kB/s 14min 31s"
       ]
      },
      {
       "output_type": "stream",
       "stream": "stdout",
       "text": [
        "\r",
        "                                                                               \r",
        "Get:10 http://archive.ubuntu.com/ubuntu/ trusty/main libavahi-common-data amd64 0.6.31-4ubuntu1 [21.2 kB]\r\n",
        "\r",
        "1% [10 libavahi-common-data 0 B/21.2 kB 0%]                 63.3 kB/s 14min 31s"
       ]
      },
      {
       "output_type": "stream",
       "stream": "stdout",
       "text": [
        "\r",
        "1% [Working]                                                63.3 kB/s 14min 31s"
       ]
      },
      {
       "output_type": "stream",
       "stream": "stdout",
       "text": [
        "\r",
        "                                                                               \r",
        "Get:11 http://archive.ubuntu.com/ubuntu/ trusty/main libavahi-common3 amd64 0.6.31-4ubuntu1 [21.7 kB]\r\n",
        "\r",
        "1% [11 libavahi-common3 0 B/21.7 kB 0%]                     63.3 kB/s 14min 31s"
       ]
      },
      {
       "output_type": "stream",
       "stream": "stdout",
       "text": [
        "\r",
        "1% [Working]                                                63.3 kB/s 14min 30s"
       ]
      },
      {
       "output_type": "stream",
       "stream": "stdout",
       "text": [
        "\r",
        "                                                                               \r",
        "Get:12 http://archive.ubuntu.com/ubuntu/ trusty/main libavahi-client3 amd64 0.6.31-4ubuntu1 [25.1 kB]\r\n",
        "\r",
        "1% [12 libavahi-client3 0 B/25.1 kB 0%]                     50.0 kB/s 18min 21s"
       ]
      },
      {
       "output_type": "stream",
       "stream": "stdout",
       "text": [
        "\r",
        "1% [Working]                                                50.0 kB/s 18min 21s"
       ]
      },
      {
       "output_type": "stream",
       "stream": "stdout",
       "text": [
        "\r",
        "                                                                               \r",
        "Get:13 http://archive.ubuntu.com/ubuntu/ trusty-updates/main libcups2 amd64 1.7.2-0ubuntu1.2 [179 kB]\r\n",
        "\r",
        "1% [13 libcups2 0 B/179 kB 0%]                              50.0 kB/s 18min 21s"
       ]
      },
      {
       "output_type": "stream",
       "stream": "stdout",
       "text": [
        "\r",
        "1% [13 libcups2 6,992 B/179 kB 4%]                          50.0 kB/s 18min 21s"
       ]
      },
      {
       "output_type": "stream",
       "stream": "stdout",
       "text": [
        "\r",
        "1% [13 libcups2 39.1 kB/179 kB 22%]                         50.0 kB/s 18min 20s"
       ]
      },
      {
       "output_type": "stream",
       "stream": "stdout",
       "text": [
        "\r",
        "1% [13 libcups2 39.1 kB/179 kB 22%]                         50.0 kB/s 18min 20s"
       ]
      },
      {
       "output_type": "stream",
       "stream": "stdout",
       "text": [
        "\r",
        "1% [13 libcups2 81.6 kB/179 kB 46%]                         50.0 kB/s 18min 19s"
       ]
      },
      {
       "output_type": "stream",
       "stream": "stdout",
       "text": [
        "\r",
        "2% [13 libcups2 164 kB/179 kB 92%]                          50.0 kB/s 18min 18s"
       ]
      },
      {
       "output_type": "stream",
       "stream": "stdout",
       "text": [
        "\r",
        "2% [Working]                                                50.0 kB/s 18min 17s"
       ]
      },
      {
       "output_type": "stream",
       "stream": "stdout",
       "text": [
        "\r",
        "2% [Waiting for headers]                                    50.0 kB/s 18min 17s"
       ]
      },
      {
       "output_type": "stream",
       "stream": "stdout",
       "text": [
        "\r",
        "                                                                               \r",
        "Get:14 http://archive.ubuntu.com/ubuntu/ trusty/main libjasper1 amd64 1.900.1-14ubuntu3 [129 kB]\r\n",
        "\r",
        "2% [14 libjasper1 0 B/129 kB 0%]                            50.0 kB/s 18min 17s"
       ]
      },
      {
       "output_type": "stream",
       "stream": "stdout",
       "text": [
        "\r",
        "2% [14 libjasper1 21.6 kB/129 kB 17%]                       50.0 kB/s 18min 17s"
       ]
      },
      {
       "output_type": "stream",
       "stream": "stdout",
       "text": [
        "\r",
        "2% [14 libjasper1 69.8 kB/129 kB 54%]                       50.0 kB/s 18min 16s"
       ]
      },
      {
       "output_type": "stream",
       "stream": "stdout",
       "text": [
        "\r",
        "2% [Working]                                                50.0 kB/s 18min 15s"
       ]
      },
      {
       "output_type": "stream",
       "stream": "stdout",
       "text": [
        "\r",
        "2% [Waiting for headers]                                    50.0 kB/s 18min 15s"
       ]
      },
      {
       "output_type": "stream",
       "stream": "stdout",
       "text": [
        "\r",
        "                                                                               \r",
        "Get:15 http://archive.ubuntu.com/ubuntu/ trusty/main libgdk-pixbuf2.0-common all 2.30.7-0ubuntu1 [8,610 B]\r\n",
        "\r",
        "2% [15 libgdk-pixbuf2.0-common 0 B/8,610 B 0%]              50.0 kB/s 18min 15s\r",
        "2% [Working]                                                50.0 kB/s 18min 15s"
       ]
      },
      {
       "output_type": "stream",
       "stream": "stdout",
       "text": [
        "\r",
        "2% [Waiting for headers]                                    54.3 kB/s 16min 48s"
       ]
      },
      {
       "output_type": "stream",
       "stream": "stdout",
       "text": [
        "\r",
        "                                                                               \r",
        "Get:16 http://archive.ubuntu.com/ubuntu/ trusty/main libgdk-pixbuf2.0-0 amd64 2.30.7-0ubuntu1 [160 kB]\r\n",
        "\r",
        "2% [16 libgdk-pixbuf2.0-0 0 B/160 kB 0%]                    54.3 kB/s 16min 48s"
       ]
      },
      {
       "output_type": "stream",
       "stream": "stdout",
       "text": [
        "\r",
        "2% [16 libgdk-pixbuf2.0-0 14.3 kB/160 kB 9%]                54.3 kB/s 16min 47s"
       ]
      },
      {
       "output_type": "stream",
       "stream": "stdout",
       "text": [
        "\r",
        "2% [16 libgdk-pixbuf2.0-0 78.5 kB/160 kB 49%]               54.3 kB/s 16min 46s"
       ]
      },
      {
       "output_type": "stream",
       "stream": "stdout",
       "text": [
        "\r",
        "2% [16 libgdk-pixbuf2.0-0 111 kB/160 kB 69%]                54.3 kB/s 16min 46s"
       ]
      },
      {
       "output_type": "stream",
       "stream": "stdout",
       "text": [
        "\r",
        "2% [Working]                                                54.3 kB/s 16min 45s"
       ]
      },
      {
       "output_type": "stream",
       "stream": "stdout",
       "text": [
        "\r",
        "                                                                               \r",
        "Get:17 http://archive.ubuntu.com/ubuntu/ trusty-updates/main libgtk2.0-0 amd64 2.24.23-0ubuntu1.1 [1,733 kB]\r\n",
        "\r",
        "2% [17 libgtk2.0-0 0 B/1,733 kB 0%]                         54.3 kB/s 16min 45s"
       ]
      },
      {
       "output_type": "stream",
       "stream": "stdout",
       "text": [
        "\r",
        "2% [17 libgtk2.0-0 39.1 kB/1,733 kB 2%]                     54.3 kB/s 16min 44s"
       ]
      },
      {
       "output_type": "stream",
       "stream": "stdout",
       "text": [
        "\r",
        "2% [17 libgtk2.0-0 135 kB/1,733 kB 8%]                      54.3 kB/s 16min 42s"
       ]
      },
      {
       "output_type": "stream",
       "stream": "stdout",
       "text": [
        "\r",
        "3% [17 libgtk2.0-0 197 kB/1,733 kB 11%]                     54.3 kB/s 16min 41s"
       ]
      },
      {
       "output_type": "stream",
       "stream": "stdout",
       "text": [
        "\r",
        "3% [17 libgtk2.0-0 299 kB/1,733 kB 17%]                     54.3 kB/s 16min 39s"
       ]
      },
      {
       "output_type": "stream",
       "stream": "stdout",
       "text": [
        "\r",
        "3% [17 libgtk2.0-0 403 kB/1,733 kB 23%]                     54.3 kB/s 16min 37s"
       ]
      },
      {
       "output_type": "stream",
       "stream": "stdout",
       "text": [
        "\r",
        "3% [17 libgtk2.0-0 511 kB/1,733 kB 29%]                     54.3 kB/s 16min 35s"
       ]
      },
      {
       "output_type": "stream",
       "stream": "stdout",
       "text": [
        "\r",
        "3% [17 libgtk2.0-0 528 kB/1,733 kB 30%]                     54.3 kB/s 16min 35s"
       ]
      },
      {
       "output_type": "stream",
       "stream": "stdout",
       "text": [
        "\r",
        "3% [17 libgtk2.0-0 592 kB/1,733 kB 34%]                       120 kB/s 7min 31s"
       ]
      },
      {
       "output_type": "stream",
       "stream": "stdout",
       "text": [
        "\r",
        "3% [17 libgtk2.0-0 663 kB/1,733 kB 38%]                       120 kB/s 7min 30s"
       ]
      },
      {
       "output_type": "stream",
       "stream": "stdout",
       "text": [
        "\r",
        "3% [17 libgtk2.0-0 663 kB/1,733 kB 38%]                       120 kB/s 7min 30s"
       ]
      },
      {
       "output_type": "stream",
       "stream": "stdout",
       "text": [
        "\r",
        "4% [17 libgtk2.0-0 791 kB/1,733 kB 46%]                       120 kB/s 7min 29s"
       ]
      },
      {
       "output_type": "stream",
       "stream": "stdout",
       "text": [
        "\r",
        "4% [17 libgtk2.0-0 915 kB/1,733 kB 53%]                       120 kB/s 7min 28s"
       ]
      },
      {
       "output_type": "stream",
       "stream": "stdout",
       "text": [
        "\r",
        "4% [17 libgtk2.0-0 1,007 kB/1,733 kB 58%]                     120 kB/s 7min 27s"
       ]
      },
      {
       "output_type": "stream",
       "stream": "stdout",
       "text": [
        "\r",
        "4% [17 libgtk2.0-0 1,112 kB/1,733 kB 64%]                     120 kB/s 7min 26s"
       ]
      },
      {
       "output_type": "stream",
       "stream": "stdout",
       "text": [
        "\r",
        "4% [17 libgtk2.0-0 1,130 kB/1,733 kB 65%]                     120 kB/s 7min 26s"
       ]
      },
      {
       "output_type": "stream",
       "stream": "stdout",
       "text": [
        "\r",
        "4% [17 libgtk2.0-0 1,260 kB/1,733 kB 73%]                     120 kB/s 7min 25s"
       ]
      },
      {
       "output_type": "stream",
       "stream": "stdout",
       "text": [
        "\r",
        "5% [17 libgtk2.0-0 1,320 kB/1,733 kB 76%]                     120 kB/s 7min 25s"
       ]
      },
      {
       "output_type": "stream",
       "stream": "stdout",
       "text": [
        "\r",
        "5% [17 libgtk2.0-0 1,448 kB/1,733 kB 84%]                     120 kB/s 7min 24s"
       ]
      },
      {
       "output_type": "stream",
       "stream": "stdout",
       "text": [
        "\r",
        "5% [17 libgtk2.0-0 1,498 kB/1,733 kB 86%]                     120 kB/s 7min 23s"
       ]
      },
      {
       "output_type": "stream",
       "stream": "stdout",
       "text": [
        "\r",
        "5% [17 libgtk2.0-0 1,581 kB/1,733 kB 91%]                     164 kB/s 5min 22s"
       ]
      },
      {
       "output_type": "stream",
       "stream": "stdout",
       "text": [
        "\r",
        "5% [17 libgtk2.0-0 1,701 kB/1,733 kB 98%]                     164 kB/s 5min 21s"
       ]
      },
      {
       "output_type": "stream",
       "stream": "stdout",
       "text": [
        "\r",
        "5% [Working]                                                  164 kB/s 5min 21s"
       ]
      },
      {
       "output_type": "stream",
       "stream": "stdout",
       "text": [
        "\r",
        "                                                                               \r",
        "Get:18 http://archive.ubuntu.com/ubuntu/ trusty-updates/main libnspr4 amd64 2:4.10.7-0ubuntu0.14.04.1 [111 kB]\r\n",
        "\r",
        "5% [18 libnspr4 0 B/111 kB 0%]                                164 kB/s 5min 21s"
       ]
      },
      {
       "output_type": "stream",
       "stream": "stdout",
       "text": [
        "\r",
        "5% [18 libnspr4 37.7 kB/111 kB 34%]                           164 kB/s 5min 21s"
       ]
      },
      {
       "output_type": "stream",
       "stream": "stdout",
       "text": [
        "\r",
        "5% [Working]                                                  164 kB/s 5min 20s"
       ]
      },
      {
       "output_type": "stream",
       "stream": "stdout",
       "text": [
        "\r",
        "5% [Waiting for headers]                                      164 kB/s 5min 20s"
       ]
      },
      {
       "output_type": "stream",
       "stream": "stdout",
       "text": [
        "\r",
        "                                                                               \r",
        "Get:19 http://archive.ubuntu.com/ubuntu/ trusty-updates/main libnss3-nssdb all 2:3.17.1-0ubuntu0.14.04.1 [10.6 kB]\r\n",
        "\r",
        "5% [19 libnss3-nssdb 0 B/10.6 kB 0%]                          164 kB/s 5min 20s\r",
        "6% [Working]                                                  164 kB/s 5min 20s"
       ]
      },
      {
       "output_type": "stream",
       "stream": "stdout",
       "text": [
        "\r",
        "                                                                               \r",
        "Get:20 http://archive.ubuntu.com/ubuntu/ trusty-updates/main libnss3 amd64 2:3.17.1-0ubuntu0.14.04.1 [1,094 kB]\r\n",
        "\r",
        "6% [20 libnss3 0 B/1,094 kB 0%]                               164 kB/s 5min 20s"
       ]
      },
      {
       "output_type": "stream",
       "stream": "stdout",
       "text": [
        "\r",
        "6% [20 libnss3 65.4 kB/1,094 kB 6%]                           164 kB/s 5min 20s"
       ]
      },
      {
       "output_type": "stream",
       "stream": "stdout",
       "text": [
        "\r",
        "6% [20 libnss3 175 kB/1,094 kB 16%]                           164 kB/s 5min 19s"
       ]
      },
      {
       "output_type": "stream",
       "stream": "stdout",
       "text": [
        "\r",
        "6% [20 libnss3 302 kB/1,094 kB 28%]                           164 kB/s 5min 18s"
       ]
      },
      {
       "output_type": "stream",
       "stream": "stdout",
       "text": [
        "\r",
        "6% [20 libnss3 397 kB/1,094 kB 36%]                           164 kB/s 5min 18s"
       ]
      },
      {
       "output_type": "stream",
       "stream": "stdout",
       "text": [
        "\r",
        "6% [20 libnss3 528 kB/1,094 kB 48%]                           164 kB/s 5min 17s"
       ]
      },
      {
       "output_type": "stream",
       "stream": "stdout",
       "text": [
        "\r",
        "7% [20 libnss3 657 kB/1,094 kB 60%]                           153 kB/s 5min 41s"
       ]
      },
      {
       "output_type": "stream",
       "stream": "stdout",
       "text": [
        "\r",
        "7% [20 libnss3 775 kB/1,094 kB 71%]                           153 kB/s 5min 40s"
       ]
      },
      {
       "output_type": "stream",
       "stream": "stdout",
       "text": [
        "\r",
        "7% [20 libnss3 882 kB/1,094 kB 81%]                           153 kB/s 5min 39s"
       ]
      },
      {
       "output_type": "stream",
       "stream": "stdout",
       "text": [
        "\r",
        "7% [20 libnss3 1,010 kB/1,094 kB 92%]                         153 kB/s 5min 39s"
       ]
      },
      {
       "output_type": "stream",
       "stream": "stdout",
       "text": [
        "\r",
        "7% [Working]                                                  153 kB/s 5min 38s"
       ]
      },
      {
       "output_type": "stream",
       "stream": "stdout",
       "text": [
        "\r",
        "7% [Waiting for headers]                                      153 kB/s 5min 38s"
       ]
      },
      {
       "output_type": "stream",
       "stream": "stdout",
       "text": [
        "\r",
        "                                                                               \r",
        "Get:21 http://archive.ubuntu.com/ubuntu/ trusty/main ca-certificates-java all 20130815ubuntu1 [13.4 kB]\r\n",
        "\r",
        "7% [21 ca-certificates-java 0 B/13.4 kB 0%]                   153 kB/s 5min 38s"
       ]
      },
      {
       "output_type": "stream",
       "stream": "stdout",
       "text": [
        "\r",
        "7% [Working]                                                  153 kB/s 5min 38s"
       ]
      },
      {
       "output_type": "stream",
       "stream": "stdout",
       "text": [
        "\r",
        "                                                                               \r",
        "Get:22 http://archive.ubuntu.com/ubuntu/ trusty-updates/main tzdata-java all 2014e-0ubuntu0.14.04 [72.2 kB]\r\n",
        "\r",
        "7% [22 tzdata-java 0 B/72.2 kB 0%]                            153 kB/s 5min 38s"
       ]
      },
      {
       "output_type": "stream",
       "stream": "stdout",
       "text": [
        "\r",
        "8% [22 tzdata-java 43.5 kB/72.2 kB 60%]                       153 kB/s 5min 38s"
       ]
      },
      {
       "output_type": "stream",
       "stream": "stdout",
       "text": [
        "\r",
        "8% [Working]                                                  153 kB/s 5min 37s"
       ]
      },
      {
       "output_type": "stream",
       "stream": "stdout",
       "text": [
        "\r",
        "8% [Waiting for headers]                                      153 kB/s 5min 37s"
       ]
      },
      {
       "output_type": "stream",
       "stream": "stdout",
       "text": [
        "\r",
        "                                                                               \r",
        "Get:23 http://archive.ubuntu.com/ubuntu/ trusty/main java-common all 0.51 [130 kB]\r\n",
        "\r",
        "8% [23 java-common 0 B/130 kB 0%]                             153 kB/s 5min 37s"
       ]
      },
      {
       "output_type": "stream",
       "stream": "stdout",
       "text": [
        "\r",
        "8% [23 java-common 27.4 kB/130 kB 21%]                        153 kB/s 5min 37s"
       ]
      },
      {
       "output_type": "stream",
       "stream": "stdout",
       "text": [
        "\r",
        "8% [23 java-common 66.9 kB/130 kB 51%]                        153 kB/s 5min 37s"
       ]
      },
      {
       "output_type": "stream",
       "stream": "stdout",
       "text": [
        "\r",
        "8% [23 java-common 111 kB/130 kB 85%]                         153 kB/s 5min 37s"
       ]
      },
      {
       "output_type": "stream",
       "stream": "stdout",
       "text": [
        "\r",
        "8% [Working]                                                  153 kB/s 5min 37s"
       ]
      },
      {
       "output_type": "stream",
       "stream": "stdout",
       "text": [
        "\r",
        "                                                                               \r",
        "Get:24 http://archive.ubuntu.com/ubuntu/ trusty-updates/main libnss3-1d amd64 2:3.17.1-0ubuntu0.14.04.1 [9,308 B]\r\n",
        "\r",
        "8% [24 libnss3-1d 0 B/9,308 B 0%]                              107 kB/s 8min 2s\r",
        "8% [Working]                                                   107 kB/s 8min 2s"
       ]
      },
      {
       "output_type": "stream",
       "stream": "stdout",
       "text": [
        "\r",
        "8% [Waiting for headers]                                       107 kB/s 8min 2s"
       ]
      },
      {
       "output_type": "stream",
       "stream": "stdout",
       "text": [
        "\r",
        "                                                                               \r",
        "Get:25 http://archive.ubuntu.com/ubuntu/ trusty/main libpcsclite1 amd64 1.8.10-1ubuntu1 [20.9 kB]\r\n",
        "\r",
        "8% [25 libpcsclite1 0 B/20.9 kB 0%]                            107 kB/s 8min 2s"
       ]
      },
      {
       "output_type": "stream",
       "stream": "stdout",
       "text": [
        "\r",
        "8% [Working]                                                   107 kB/s 8min 2s"
       ]
      },
      {
       "output_type": "stream",
       "stream": "stdout",
       "text": [
        "\r",
        "                                                                               \r",
        "Get:26 http://archive.ubuntu.com/ubuntu/ trusty-updates/main openjdk-7-jre-headless amd64 7u65-2.5.2-3~14.04 [39.5 MB]\r\n",
        "\r",
        "8% [26 openjdk-7-jre-headless 0 B/39.5 MB 0%]                  107 kB/s 8min 2s"
       ]
      },
      {
       "output_type": "stream",
       "stream": "stdout",
       "text": [
        "\r",
        "8% [26 openjdk-7-jre-headless 46.4 kB/39.5 MB 0%]              107 kB/s 8min 2s"
       ]
      },
      {
       "output_type": "stream",
       "stream": "stdout",
       "text": [
        "\r",
        "8% [26 openjdk-7-jre-headless 86.2 kB/39.5 MB 0%]              107 kB/s 8min 1s"
       ]
      },
      {
       "output_type": "stream",
       "stream": "stdout",
       "text": [
        "\r",
        "8% [26 openjdk-7-jre-headless 188 kB/39.5 MB 0%]               107 kB/s 8min 0s"
       ]
      },
      {
       "output_type": "stream",
       "stream": "stdout",
       "text": [
        "\r",
        "8% [26 openjdk-7-jre-headless 296 kB/39.5 MB 1%]              107 kB/s 7min 59s"
       ]
      },
      {
       "output_type": "stream",
       "stream": "stdout",
       "text": [
        "\r",
        "9% [26 openjdk-7-jre-headless 432 kB/39.5 MB 1%]              107 kB/s 7min 58s"
       ]
      },
      {
       "output_type": "stream",
       "stream": "stdout",
       "text": [
        "\r",
        "9% [26 openjdk-7-jre-headless 605 kB/39.5 MB 2%]              107 kB/s 7min 56s"
       ]
      },
      {
       "output_type": "stream",
       "stream": "stdout",
       "text": [
        "\r",
        "9% [26 openjdk-7-jre-headless 721 kB/39.5 MB 2%]              107 kB/s 7min 55s"
       ]
      },
      {
       "output_type": "stream",
       "stream": "stdout",
       "text": [
        "\r",
        "9% [26 openjdk-7-jre-headless 806 kB/39.5 MB 2%]              107 kB/s 7min 54s"
       ]
      },
      {
       "output_type": "stream",
       "stream": "stdout",
       "text": [
        "\r",
        "10% [26 openjdk-7-jre-headless 1,010 kB/39.5 MB 3%]           107 kB/s 7min 52s"
       ]
      },
      {
       "output_type": "stream",
       "stream": "stdout",
       "text": [
        "\r",
        "10% [26 openjdk-7-jre-headless 1,159 kB/39.5 MB 3%]           183 kB/s 4min 34s"
       ]
      },
      {
       "output_type": "stream",
       "stream": "stdout",
       "text": [
        "\r",
        "10% [26 openjdk-7-jre-headless 1,267 kB/39.5 MB 3%]           183 kB/s 4min 33s"
       ]
      },
      {
       "output_type": "stream",
       "stream": "stdout",
       "text": [
        "\r",
        "10% [26 openjdk-7-jre-headless 1,363 kB/39.5 MB 3%]           183 kB/s 4min 33s"
       ]
      },
      {
       "output_type": "stream",
       "stream": "stdout",
       "text": [
        "\r",
        "11% [26 openjdk-7-jre-headless 1,444 kB/39.5 MB 4%]           183 kB/s 4min 32s"
       ]
      },
      {
       "output_type": "stream",
       "stream": "stdout",
       "text": [
        "\r",
        "11% [26 openjdk-7-jre-headless 1,610 kB/39.5 MB 4%]           183 kB/s 4min 31s"
       ]
      },
      {
       "output_type": "stream",
       "stream": "stdout",
       "text": [
        "\r",
        "11% [26 openjdk-7-jre-headless 1,685 kB/39.5 MB 4%]           183 kB/s 4min 31s"
       ]
      },
      {
       "output_type": "stream",
       "stream": "stdout",
       "text": [
        "\r",
        "11% [26 openjdk-7-jre-headless 1,813 kB/39.5 MB 5%]           183 kB/s 4min 30s"
       ]
      },
      {
       "output_type": "stream",
       "stream": "stdout",
       "text": [
        "\r",
        "11% [26 openjdk-7-jre-headless 1,936 kB/39.5 MB 5%]           183 kB/s 4min 30s"
       ]
      },
      {
       "output_type": "stream",
       "stream": "stdout",
       "text": [
        "\r",
        "12% [26 openjdk-7-jre-headless 2,038 kB/39.5 MB 5%]           183 kB/s 4min 29s"
       ]
      },
      {
       "output_type": "stream",
       "stream": "stdout",
       "text": [
        "\r",
        "12% [26 openjdk-7-jre-headless 2,188 kB/39.5 MB 6%]           183 kB/s 4min 28s"
       ]
      },
      {
       "output_type": "stream",
       "stream": "stdout",
       "text": [
        "\r",
        "12% [26 openjdk-7-jre-headless 2,295 kB/39.5 MB 6%]           183 kB/s 4min 28s"
       ]
      },
      {
       "output_type": "stream",
       "stream": "stdout",
       "text": [
        "\r",
        "12% [26 openjdk-7-jre-headless 2,422 kB/39.5 MB 6%]           183 kB/s 4min 27s"
       ]
      },
      {
       "output_type": "stream",
       "stream": "stdout",
       "text": [
        "\r",
        "13% [26 openjdk-7-jre-headless 2,607 kB/39.5 MB 7%]           241 kB/s 3min 22s"
       ]
      },
      {
       "output_type": "stream",
       "stream": "stdout",
       "text": [
        "\r",
        "13% [26 openjdk-7-jre-headless 2,680 kB/39.5 MB 7%]           241 kB/s 3min 22s"
       ]
      },
      {
       "output_type": "stream",
       "stream": "stdout",
       "text": [
        "\r",
        "13% [26 openjdk-7-jre-headless 2,869 kB/39.5 MB 7%]           241 kB/s 3min 21s"
       ]
      },
      {
       "output_type": "stream",
       "stream": "stdout",
       "text": [
        "\r",
        "13% [26 openjdk-7-jre-headless 2,990 kB/39.5 MB 8%]           241 kB/s 3min 21s"
       ]
      },
      {
       "output_type": "stream",
       "stream": "stdout",
       "text": [
        "\r",
        "14% [26 openjdk-7-jre-headless 3,203 kB/39.5 MB 8%]           241 kB/s 3min 20s"
       ]
      },
      {
       "output_type": "stream",
       "stream": "stdout",
       "text": [
        "\r",
        "14% [26 openjdk-7-jre-headless 3,347 kB/39.5 MB 8%]           241 kB/s 3min 19s"
       ]
      },
      {
       "output_type": "stream",
       "stream": "stdout",
       "text": [
        "\r",
        "14% [26 openjdk-7-jre-headless 3,515 kB/39.5 MB 9%]           241 kB/s 3min 18s"
       ]
      },
      {
       "output_type": "stream",
       "stream": "stdout",
       "text": [
        "\r",
        "14% [26 openjdk-7-jre-headless 3,628 kB/39.5 MB 9%]           241 kB/s 3min 18s"
       ]
      },
      {
       "output_type": "stream",
       "stream": "stdout",
       "text": [
        "\r",
        "15% [26 openjdk-7-jre-headless 3,804 kB/39.5 MB 10%]          241 kB/s 3min 17s"
       ]
      },
      {
       "output_type": "stream",
       "stream": "stdout",
       "text": [
        "\r",
        "15% [26 openjdk-7-jre-headless 3,933 kB/39.5 MB 10%]          241 kB/s 3min 17s"
       ]
      },
      {
       "output_type": "stream",
       "stream": "stdout",
       "text": [
        "\r",
        "15% [26 openjdk-7-jre-headless 4,121 kB/39.5 MB 10%]          241 kB/s 3min 16s"
       ]
      },
      {
       "output_type": "stream",
       "stream": "stdout",
       "text": [
        "\r",
        "16% [26 openjdk-7-jre-headless 4,254 kB/39.5 MB 11%]          241 kB/s 3min 15s"
       ]
      },
      {
       "output_type": "stream",
       "stream": "stdout",
       "text": [
        "\r",
        "16% [26 openjdk-7-jre-headless 4,407 kB/39.5 MB 11%]          299 kB/s 2min 37s"
       ]
      },
      {
       "output_type": "stream",
       "stream": "stdout",
       "text": [
        "\r",
        "16% [26 openjdk-7-jre-headless 4,543 kB/39.5 MB 11%]          299 kB/s 2min 36s"
       ]
      },
      {
       "output_type": "stream",
       "stream": "stdout",
       "text": [
        "\r",
        "16% [26 openjdk-7-jre-headless 4,736 kB/39.5 MB 12%]          299 kB/s 2min 36s"
       ]
      },
      {
       "output_type": "stream",
       "stream": "stdout",
       "text": [
        "\r",
        "17% [26 openjdk-7-jre-headless 4,804 kB/39.5 MB 12%]          299 kB/s 2min 35s"
       ]
      },
      {
       "output_type": "stream",
       "stream": "stdout",
       "text": [
        "\r",
        "17% [26 openjdk-7-jre-headless 4,913 kB/39.5 MB 12%]          299 kB/s 2min 35s"
       ]
      },
      {
       "output_type": "stream",
       "stream": "stdout",
       "text": [
        "\r",
        "17% [26 openjdk-7-jre-headless 5,047 kB/39.5 MB 13%]          299 kB/s 2min 34s"
       ]
      },
      {
       "output_type": "stream",
       "stream": "stdout",
       "text": [
        "\r",
        "17% [26 openjdk-7-jre-headless 5,171 kB/39.5 MB 13%]          299 kB/s 2min 34s"
       ]
      },
      {
       "output_type": "stream",
       "stream": "stdout",
       "text": [
        "\r",
        "17% [26 openjdk-7-jre-headless 5,314 kB/39.5 MB 13%]          299 kB/s 2min 34s"
       ]
      },
      {
       "output_type": "stream",
       "stream": "stdout",
       "text": [
        "\r",
        "18% [26 openjdk-7-jre-headless 5,443 kB/39.5 MB 14%]          299 kB/s 2min 33s"
       ]
      },
      {
       "output_type": "stream",
       "stream": "stdout",
       "text": [
        "\r",
        "18% [26 openjdk-7-jre-headless 5,586 kB/39.5 MB 14%]          299 kB/s 2min 33s"
       ]
      },
      {
       "output_type": "stream",
       "stream": "stdout",
       "text": [
        "\r",
        "18% [26 openjdk-7-jre-headless 5,689 kB/39.5 MB 14%]          299 kB/s 2min 32s"
       ]
      },
      {
       "output_type": "stream",
       "stream": "stdout",
       "text": [
        "\r",
        "18% [26 openjdk-7-jre-headless 5,863 kB/39.5 MB 15%]          299 kB/s 2min 32s"
       ]
      },
      {
       "output_type": "stream",
       "stream": "stdout",
       "text": [
        "\r",
        "19% [26 openjdk-7-jre-headless 6,021 kB/39.5 MB 15%]          268 kB/s 2min 49s"
       ]
      },
      {
       "output_type": "stream",
       "stream": "stdout",
       "text": [
        "\r",
        "19% [26 openjdk-7-jre-headless 6,205 kB/39.5 MB 16%]          268 kB/s 2min 48s"
       ]
      },
      {
       "output_type": "stream",
       "stream": "stdout",
       "text": [
        "\r",
        "19% [26 openjdk-7-jre-headless 6,342 kB/39.5 MB 16%]          268 kB/s 2min 47s"
       ]
      },
      {
       "output_type": "stream",
       "stream": "stdout",
       "text": [
        "\r",
        "20% [26 openjdk-7-jre-headless 6,524 kB/39.5 MB 17%]          268 kB/s 2min 47s"
       ]
      },
      {
       "output_type": "stream",
       "stream": "stdout",
       "text": [
        "\r",
        "20% [26 openjdk-7-jre-headless 6,621 kB/39.5 MB 17%]          268 kB/s 2min 46s"
       ]
      },
      {
       "output_type": "stream",
       "stream": "stdout",
       "text": [
        "\r",
        "20% [26 openjdk-7-jre-headless 6,784 kB/39.5 MB 17%]          268 kB/s 2min 46s"
       ]
      },
      {
       "output_type": "stream",
       "stream": "stdout",
       "text": [
        "\r",
        "20% [26 openjdk-7-jre-headless 6,942 kB/39.5 MB 18%]          268 kB/s 2min 45s"
       ]
      },
      {
       "output_type": "stream",
       "stream": "stdout",
       "text": [
        "\r",
        "21% [26 openjdk-7-jre-headless 7,123 kB/39.5 MB 18%]          268 kB/s 2min 45s"
       ]
      },
      {
       "output_type": "stream",
       "stream": "stdout",
       "text": [
        "\r",
        "21% [26 openjdk-7-jre-headless 7,254 kB/39.5 MB 18%]          268 kB/s 2min 44s"
       ]
      },
      {
       "output_type": "stream",
       "stream": "stdout",
       "text": [
        "\r",
        "21% [26 openjdk-7-jre-headless 7,333 kB/39.5 MB 19%]          268 kB/s 2min 44s"
       ]
      },
      {
       "output_type": "stream",
       "stream": "stdout",
       "text": [
        "\r",
        "21% [26 openjdk-7-jre-headless 7,526 kB/39.5 MB 19%]          268 kB/s 2min 43s"
       ]
      },
      {
       "output_type": "stream",
       "stream": "stdout",
       "text": [
        "\r",
        "22% [26 openjdk-7-jre-headless 7,627 kB/39.5 MB 19%]          268 kB/s 2min 43s"
       ]
      },
      {
       "output_type": "stream",
       "stream": "stdout",
       "text": [
        "\r",
        "22% [26 openjdk-7-jre-headless 7,723 kB/39.5 MB 20%]          283 kB/s 2min 34s"
       ]
      },
      {
       "output_type": "stream",
       "stream": "stdout",
       "text": [
        "\r",
        "22% [26 openjdk-7-jre-headless 7,787 kB/39.5 MB 20%]          283 kB/s 2min 34s"
       ]
      },
      {
       "output_type": "stream",
       "stream": "stdout",
       "text": [
        "\r",
        "22% [26 openjdk-7-jre-headless 7,914 kB/39.5 MB 20%]          283 kB/s 2min 33s"
       ]
      },
      {
       "output_type": "stream",
       "stream": "stdout",
       "text": [
        "\r",
        "22% [26 openjdk-7-jre-headless 7,980 kB/39.5 MB 20%]          283 kB/s 2min 33s"
       ]
      },
      {
       "output_type": "stream",
       "stream": "stdout",
       "text": [
        "\r",
        "22% [26 openjdk-7-jre-headless 8,118 kB/39.5 MB 21%]          283 kB/s 2min 32s"
       ]
      },
      {
       "output_type": "stream",
       "stream": "stdout",
       "text": [
        "\r",
        "23% [26 openjdk-7-jre-headless 8,257 kB/39.5 MB 21%]          283 kB/s 2min 32s"
       ]
      },
      {
       "output_type": "stream",
       "stream": "stdout",
       "text": [
        "\r",
        "23% [26 openjdk-7-jre-headless 8,390 kB/39.5 MB 21%]          283 kB/s 2min 31s"
       ]
      },
      {
       "output_type": "stream",
       "stream": "stdout",
       "text": [
        "\r",
        "23% [26 openjdk-7-jre-headless 8,548 kB/39.5 MB 22%]          283 kB/s 2min 31s"
       ]
      },
      {
       "output_type": "stream",
       "stream": "stdout",
       "text": [
        "\r",
        "23% [26 openjdk-7-jre-headless 8,655 kB/39.5 MB 22%]          283 kB/s 2min 31s"
       ]
      },
      {
       "output_type": "stream",
       "stream": "stdout",
       "text": [
        "\r",
        "24% [26 openjdk-7-jre-headless 8,808 kB/39.5 MB 22%]          283 kB/s 2min 30s"
       ]
      },
      {
       "output_type": "stream",
       "stream": "stdout",
       "text": [
        "\r",
        "24% [26 openjdk-7-jre-headless 8,967 kB/39.5 MB 23%]          283 kB/s 2min 29s"
       ]
      },
      {
       "output_type": "stream",
       "stream": "stdout",
       "text": [
        "\r",
        "24% [26 openjdk-7-jre-headless 9,095 kB/39.5 MB 23%]          283 kB/s 2min 29s"
       ]
      },
      {
       "output_type": "stream",
       "stream": "stdout",
       "text": [
        "\r",
        "25% [26 openjdk-7-jre-headless 9,262 kB/39.5 MB 23%]          256 kB/s 2min 44s"
       ]
      },
      {
       "output_type": "stream",
       "stream": "stdout",
       "text": [
        "\r",
        "25% [26 openjdk-7-jre-headless 9,383 kB/39.5 MB 24%]          256 kB/s 2min 44s"
       ]
      },
      {
       "output_type": "stream",
       "stream": "stdout",
       "text": [
        "\r",
        "25% [26 openjdk-7-jre-headless 9,542 kB/39.5 MB 24%]          256 kB/s 2min 43s"
       ]
      },
      {
       "output_type": "stream",
       "stream": "stdout",
       "text": [
        "\r",
        "25% [26 openjdk-7-jre-headless 9,650 kB/39.5 MB 24%]          256 kB/s 2min 43s"
       ]
      },
      {
       "output_type": "stream",
       "stream": "stdout",
       "text": [
        "\r",
        "26% [26 openjdk-7-jre-headless 9,834 kB/39.5 MB 25%]          256 kB/s 2min 42s"
       ]
      },
      {
       "output_type": "stream",
       "stream": "stdout",
       "text": [
        "\r",
        "26% [26 openjdk-7-jre-headless 9,939 kB/39.5 MB 25%]          256 kB/s 2min 42s"
       ]
      },
      {
       "output_type": "stream",
       "stream": "stdout",
       "text": [
        "\r",
        "26% [26 openjdk-7-jre-headless 10.1 MB/39.5 MB 25%]           256 kB/s 2min 41s"
       ]
      },
      {
       "output_type": "stream",
       "stream": "stdout",
       "text": [
        "\r",
        "26% [26 openjdk-7-jre-headless 10.2 MB/39.5 MB 26%]           256 kB/s 2min 40s"
       ]
      },
      {
       "output_type": "stream",
       "stream": "stdout",
       "text": [
        "\r",
        "27% [26 openjdk-7-jre-headless 10.4 MB/39.5 MB 26%]           256 kB/s 2min 40s"
       ]
      },
      {
       "output_type": "stream",
       "stream": "stdout",
       "text": [
        "\r",
        "27% [26 openjdk-7-jre-headless 10.5 MB/39.5 MB 27%]           256 kB/s 2min 39s"
       ]
      },
      {
       "output_type": "stream",
       "stream": "stdout",
       "text": [
        "\r",
        "27% [26 openjdk-7-jre-headless 10.6 MB/39.5 MB 27%]           256 kB/s 2min 39s"
       ]
      },
      {
       "output_type": "stream",
       "stream": "stdout",
       "text": [
        "\r",
        "27% [26 openjdk-7-jre-headless 10.7 MB/39.5 MB 27%]           256 kB/s 2min 38s"
       ]
      },
      {
       "output_type": "stream",
       "stream": "stdout",
       "text": [
        "\r",
        "27% [26 openjdk-7-jre-headless 10.9 MB/39.5 MB 28%]           272 kB/s 2min 29s"
       ]
      },
      {
       "output_type": "stream",
       "stream": "stdout",
       "text": [
        "\r",
        "28% [26 openjdk-7-jre-headless 11.1 MB/39.5 MB 28%]           272 kB/s 2min 28s"
       ]
      },
      {
       "output_type": "stream",
       "stream": "stdout",
       "text": [
        "\r",
        "28% [26 openjdk-7-jre-headless 11.2 MB/39.5 MB 28%]           272 kB/s 2min 27s"
       ]
      },
      {
       "output_type": "stream",
       "stream": "stdout",
       "text": [
        "\r",
        "28% [26 openjdk-7-jre-headless 11.3 MB/39.5 MB 29%]           272 kB/s 2min 27s"
       ]
      },
      {
       "output_type": "stream",
       "stream": "stdout",
       "text": [
        "\r",
        "28% [26 openjdk-7-jre-headless 11.5 MB/39.5 MB 29%]           272 kB/s 2min 27s"
       ]
      },
      {
       "output_type": "stream",
       "stream": "stdout",
       "text": [
        "\r",
        "29% [26 openjdk-7-jre-headless 11.6 MB/39.5 MB 29%]           272 kB/s 2min 26s"
       ]
      },
      {
       "output_type": "stream",
       "stream": "stdout",
       "text": [
        "\r",
        "29% [26 openjdk-7-jre-headless 11.8 MB/39.5 MB 30%]           272 kB/s 2min 25s"
       ]
      },
      {
       "output_type": "stream",
       "stream": "stdout",
       "text": [
        "\r",
        "29% [26 openjdk-7-jre-headless 11.9 MB/39.5 MB 30%]           272 kB/s 2min 25s"
       ]
      },
      {
       "output_type": "stream",
       "stream": "stdout",
       "text": [
        "\r",
        "30% [26 openjdk-7-jre-headless 12.1 MB/39.5 MB 30%]           272 kB/s 2min 24s"
       ]
      },
      {
       "output_type": "stream",
       "stream": "stdout",
       "text": [
        "\r",
        "30% [26 openjdk-7-jre-headless 12.2 MB/39.5 MB 31%]           272 kB/s 2min 24s"
       ]
      },
      {
       "output_type": "stream",
       "stream": "stdout",
       "text": [
        "\r",
        "30% [26 openjdk-7-jre-headless 12.4 MB/39.5 MB 31%]           272 kB/s 2min 23s"
       ]
      },
      {
       "output_type": "stream",
       "stream": "stdout",
       "text": [
        "\r",
        "30% [26 openjdk-7-jre-headless 12.5 MB/39.5 MB 32%]           272 kB/s 2min 23s"
       ]
      },
      {
       "output_type": "stream",
       "stream": "stdout",
       "text": [
        "\r",
        "31% [26 openjdk-7-jre-headless 12.6 MB/39.5 MB 32%]           290 kB/s 2min 13s"
       ]
      },
      {
       "output_type": "stream",
       "stream": "stdout",
       "text": [
        "\r",
        "31% [26 openjdk-7-jre-headless 12.7 MB/39.5 MB 32%]           290 kB/s 2min 13s"
       ]
      },
      {
       "output_type": "stream",
       "stream": "stdout",
       "text": [
        "\r",
        "31% [26 openjdk-7-jre-headless 12.9 MB/39.5 MB 33%]           290 kB/s 2min 13s"
       ]
      },
      {
       "output_type": "stream",
       "stream": "stdout",
       "text": [
        "\r",
        "31% [26 openjdk-7-jre-headless 13.0 MB/39.5 MB 33%]           290 kB/s 2min 12s"
       ]
      },
      {
       "output_type": "stream",
       "stream": "stdout",
       "text": [
        "\r",
        "31% [26 openjdk-7-jre-headless 13.1 MB/39.5 MB 33%]           290 kB/s 2min 12s"
       ]
      },
      {
       "output_type": "stream",
       "stream": "stdout",
       "text": [
        "\r",
        "31% [26 openjdk-7-jre-headless 13.2 MB/39.5 MB 33%]           290 kB/s 2min 12s"
       ]
      },
      {
       "output_type": "stream",
       "stream": "stdout",
       "text": [
        "\r",
        "32% [26 openjdk-7-jre-headless 13.2 MB/39.5 MB 33%]           290 kB/s 2min 11s"
       ]
      },
      {
       "output_type": "stream",
       "stream": "stdout",
       "text": [
        "\r",
        "32% [26 openjdk-7-jre-headless 13.3 MB/39.5 MB 34%]           290 kB/s 2min 11s"
       ]
      },
      {
       "output_type": "stream",
       "stream": "stdout",
       "text": [
        "\r",
        "32% [26 openjdk-7-jre-headless 13.4 MB/39.5 MB 34%]           290 kB/s 2min 11s"
       ]
      },
      {
       "output_type": "stream",
       "stream": "stdout",
       "text": [
        "\r",
        "32% [26 openjdk-7-jre-headless 13.5 MB/39.5 MB 34%]           290 kB/s 2min 10s"
       ]
      },
      {
       "output_type": "stream",
       "stream": "stdout",
       "text": [
        "\r",
        "32% [26 openjdk-7-jre-headless 13.7 MB/39.5 MB 35%]           290 kB/s 2min 10s"
       ]
      },
      {
       "output_type": "stream",
       "stream": "stdout",
       "text": [
        "\r",
        "33% [26 openjdk-7-jre-headless 13.8 MB/39.5 MB 35%]            290 kB/s 2min 9s"
       ]
      },
      {
       "output_type": "stream",
       "stream": "stdout",
       "text": [
        "\r",
        "33% [26 openjdk-7-jre-headless 13.9 MB/39.5 MB 35%]           216 kB/s 2min 53s"
       ]
      },
      {
       "output_type": "stream",
       "stream": "stdout",
       "text": [
        "\r",
        "33% [26 openjdk-7-jre-headless 14.1 MB/39.5 MB 36%]           216 kB/s 2min 52s"
       ]
      },
      {
       "output_type": "stream",
       "stream": "stdout",
       "text": [
        "\r",
        "33% [26 openjdk-7-jre-headless 14.2 MB/39.5 MB 36%]           216 kB/s 2min 51s"
       ]
      },
      {
       "output_type": "stream",
       "stream": "stdout",
       "text": [
        "\r",
        "34% [26 openjdk-7-jre-headless 14.3 MB/39.5 MB 36%]           216 kB/s 2min 51s"
       ]
      },
      {
       "output_type": "stream",
       "stream": "stdout",
       "text": [
        "\r",
        "34% [26 openjdk-7-jre-headless 14.5 MB/39.5 MB 37%]           216 kB/s 2min 50s"
       ]
      },
      {
       "output_type": "stream",
       "stream": "stdout",
       "text": [
        "\r",
        "34% [26 openjdk-7-jre-headless 14.6 MB/39.5 MB 37%]           216 kB/s 2min 50s"
       ]
      },
      {
       "output_type": "stream",
       "stream": "stdout",
       "text": [
        "\r",
        "34% [26 openjdk-7-jre-headless 14.7 MB/39.5 MB 37%]           216 kB/s 2min 49s"
       ]
      },
      {
       "output_type": "stream",
       "stream": "stdout",
       "text": [
        "\r",
        "35% [26 openjdk-7-jre-headless 14.9 MB/39.5 MB 38%]           216 kB/s 2min 49s"
       ]
      },
      {
       "output_type": "stream",
       "stream": "stdout",
       "text": [
        "\r",
        "35% [26 openjdk-7-jre-headless 15.0 MB/39.5 MB 38%]           216 kB/s 2min 48s"
       ]
      },
      {
       "output_type": "stream",
       "stream": "stdout",
       "text": [
        "\r",
        "35% [26 openjdk-7-jre-headless 15.1 MB/39.5 MB 38%]           216 kB/s 2min 47s"
       ]
      },
      {
       "output_type": "stream",
       "stream": "stdout",
       "text": [
        "\r",
        "35% [26 openjdk-7-jre-headless 15.2 MB/39.5 MB 38%]           216 kB/s 2min 47s"
       ]
      },
      {
       "output_type": "stream",
       "stream": "stdout",
       "text": [
        "\r",
        "35% [26 openjdk-7-jre-headless 15.4 MB/39.5 MB 39%]           216 kB/s 2min 46s"
       ]
      },
      {
       "output_type": "stream",
       "stream": "stdout",
       "text": [
        "\r",
        "36% [26 openjdk-7-jre-headless 15.5 MB/39.5 MB 39%]           262 kB/s 2min 16s"
       ]
      },
      {
       "output_type": "stream",
       "stream": "stdout",
       "text": [
        "\r",
        "36% [26 openjdk-7-jre-headless 15.7 MB/39.5 MB 40%]           262 kB/s 2min 16s"
       ]
      },
      {
       "output_type": "stream",
       "stream": "stdout",
       "text": [
        "\r",
        "36% [26 openjdk-7-jre-headless 15.8 MB/39.5 MB 40%]           262 kB/s 2min 16s"
       ]
      },
      {
       "output_type": "stream",
       "stream": "stdout",
       "text": [
        "\r",
        "36% [26 openjdk-7-jre-headless 15.9 MB/39.5 MB 40%]           262 kB/s 2min 15s"
       ]
      },
      {
       "output_type": "stream",
       "stream": "stdout",
       "text": [
        "\r",
        "37% [26 openjdk-7-jre-headless 16.0 MB/39.5 MB 41%]           262 kB/s 2min 15s"
       ]
      },
      {
       "output_type": "stream",
       "stream": "stdout",
       "text": [
        "\r",
        "37% [26 openjdk-7-jre-headless 16.2 MB/39.5 MB 41%]           262 kB/s 2min 14s"
       ]
      },
      {
       "output_type": "stream",
       "stream": "stdout",
       "text": [
        "\r",
        "37% [26 openjdk-7-jre-headless 16.3 MB/39.5 MB 41%]           262 kB/s 2min 13s"
       ]
      },
      {
       "output_type": "stream",
       "stream": "stdout",
       "text": [
        "\r",
        "37% [26 openjdk-7-jre-headless 16.4 MB/39.5 MB 42%]           262 kB/s 2min 13s"
       ]
      },
      {
       "output_type": "stream",
       "stream": "stdout",
       "text": [
        "\r",
        "38% [26 openjdk-7-jre-headless 16.6 MB/39.5 MB 42%]           262 kB/s 2min 12s"
       ]
      },
      {
       "output_type": "stream",
       "stream": "stdout",
       "text": [
        "\r",
        "38% [26 openjdk-7-jre-headless 16.7 MB/39.5 MB 42%]           262 kB/s 2min 12s"
       ]
      },
      {
       "output_type": "stream",
       "stream": "stdout",
       "text": [
        "\r",
        "38% [26 openjdk-7-jre-headless 16.9 MB/39.5 MB 43%]           262 kB/s 2min 11s"
       ]
      },
      {
       "output_type": "stream",
       "stream": "stdout",
       "text": [
        "\r",
        "38% [26 openjdk-7-jre-headless 17.0 MB/39.5 MB 43%]           262 kB/s 2min 11s"
       ]
      },
      {
       "output_type": "stream",
       "stream": "stdout",
       "text": [
        "\r",
        "39% [26 openjdk-7-jre-headless 17.2 MB/39.5 MB 43%]            275 kB/s 2min 4s"
       ]
      },
      {
       "output_type": "stream",
       "stream": "stdout",
       "text": [
        "\r",
        "39% [26 openjdk-7-jre-headless 17.3 MB/39.5 MB 44%]            275 kB/s 2min 4s"
       ]
      },
      {
       "output_type": "stream",
       "stream": "stdout",
       "text": [
        "\r",
        "39% [26 openjdk-7-jre-headless 17.5 MB/39.5 MB 44%]            275 kB/s 2min 3s"
       ]
      },
      {
       "output_type": "stream",
       "stream": "stdout",
       "text": [
        "\r",
        "39% [26 openjdk-7-jre-headless 17.6 MB/39.5 MB 45%]            275 kB/s 2min 2s"
       ]
      },
      {
       "output_type": "stream",
       "stream": "stdout",
       "text": [
        "\r",
        "40% [26 openjdk-7-jre-headless 17.7 MB/39.5 MB 45%]            275 kB/s 2min 2s"
       ]
      },
      {
       "output_type": "stream",
       "stream": "stdout",
       "text": [
        "\r",
        "40% [26 openjdk-7-jre-headless 17.9 MB/39.5 MB 45%]            275 kB/s 2min 1s"
       ]
      },
      {
       "output_type": "stream",
       "stream": "stdout",
       "text": [
        "\r",
        "40% [26 openjdk-7-jre-headless 18.1 MB/39.5 MB 46%]            275 kB/s 2min 1s"
       ]
      },
      {
       "output_type": "stream",
       "stream": "stdout",
       "text": [
        "\r",
        "41% [26 openjdk-7-jre-headless 18.2 MB/39.5 MB 46%]            275 kB/s 2min 0s"
       ]
      },
      {
       "output_type": "stream",
       "stream": "stdout",
       "text": [
        "\r",
        "41% [26 openjdk-7-jre-headless 18.4 MB/39.5 MB 47%]            275 kB/s 2min 0s"
       ]
      },
      {
       "output_type": "stream",
       "stream": "stdout",
       "text": [
        "\r",
        "41% [26 openjdk-7-jre-headless 18.5 MB/39.5 MB 47%]           275 kB/s 1min 59s"
       ]
      },
      {
       "output_type": "stream",
       "stream": "stdout",
       "text": [
        "\r",
        "41% [26 openjdk-7-jre-headless 18.6 MB/39.5 MB 47%]           275 kB/s 1min 59s"
       ]
      },
      {
       "output_type": "stream",
       "stream": "stdout",
       "text": [
        "\r",
        "42% [26 openjdk-7-jre-headless 18.8 MB/39.5 MB 48%]           275 kB/s 1min 58s"
       ]
      },
      {
       "output_type": "stream",
       "stream": "stdout",
       "text": [
        "\r",
        "42% [26 openjdk-7-jre-headless 19.0 MB/39.5 MB 48%]           298 kB/s 1min 49s"
       ]
      },
      {
       "output_type": "stream",
       "stream": "stdout",
       "text": [
        "\r",
        "42% [26 openjdk-7-jre-headless 19.1 MB/39.5 MB 48%]           298 kB/s 1min 48s"
       ]
      },
      {
       "output_type": "stream",
       "stream": "stdout",
       "text": [
        "\r",
        "42% [26 openjdk-7-jre-headless 19.2 MB/39.5 MB 49%]           298 kB/s 1min 48s"
       ]
      },
      {
       "output_type": "stream",
       "stream": "stdout",
       "text": [
        "\r",
        "43% [26 openjdk-7-jre-headless 19.4 MB/39.5 MB 49%]           298 kB/s 1min 47s"
       ]
      },
      {
       "output_type": "stream",
       "stream": "stdout",
       "text": [
        "\r",
        "43% [26 openjdk-7-jre-headless 19.5 MB/39.5 MB 49%]           298 kB/s 1min 47s"
       ]
      },
      {
       "output_type": "stream",
       "stream": "stdout",
       "text": [
        "\r",
        "43% [26 openjdk-7-jre-headless 19.6 MB/39.5 MB 50%]           298 kB/s 1min 46s"
       ]
      },
      {
       "output_type": "stream",
       "stream": "stdout",
       "text": [
        "\r",
        "43% [26 openjdk-7-jre-headless 19.8 MB/39.5 MB 50%]           298 kB/s 1min 46s"
       ]
      },
      {
       "output_type": "stream",
       "stream": "stdout",
       "text": [
        "\r",
        "44% [26 openjdk-7-jre-headless 19.9 MB/39.5 MB 50%]           298 kB/s 1min 45s"
       ]
      },
      {
       "output_type": "stream",
       "stream": "stdout",
       "text": [
        "\r",
        "44% [26 openjdk-7-jre-headless 20.0 MB/39.5 MB 51%]           298 kB/s 1min 45s"
       ]
      },
      {
       "output_type": "stream",
       "stream": "stdout",
       "text": [
        "\r",
        "44% [26 openjdk-7-jre-headless 20.2 MB/39.5 MB 51%]           298 kB/s 1min 44s"
       ]
      },
      {
       "output_type": "stream",
       "stream": "stdout",
       "text": [
        "\r",
        "44% [26 openjdk-7-jre-headless 20.3 MB/39.5 MB 51%]           298 kB/s 1min 44s"
       ]
      },
      {
       "output_type": "stream",
       "stream": "stdout",
       "text": [
        "\r",
        "45% [26 openjdk-7-jre-headless 20.5 MB/39.5 MB 52%]           298 kB/s 1min 43s"
       ]
      },
      {
       "output_type": "stream",
       "stream": "stdout",
       "text": [
        "\r",
        "45% [26 openjdk-7-jre-headless 20.6 MB/39.5 MB 52%]           269 kB/s 1min 54s"
       ]
      },
      {
       "output_type": "stream",
       "stream": "stdout",
       "text": [
        "\r",
        "45% [26 openjdk-7-jre-headless 20.7 MB/39.5 MB 52%]           269 kB/s 1min 54s"
       ]
      },
      {
       "output_type": "stream",
       "stream": "stdout",
       "text": [
        "\r",
        "45% [26 openjdk-7-jre-headless 20.9 MB/39.5 MB 53%]           269 kB/s 1min 53s"
       ]
      },
      {
       "output_type": "stream",
       "stream": "stdout",
       "text": [
        "\r",
        "46% [26 openjdk-7-jre-headless 21.0 MB/39.5 MB 53%]           269 kB/s 1min 53s"
       ]
      },
      {
       "output_type": "stream",
       "stream": "stdout",
       "text": [
        "\r",
        "46% [26 openjdk-7-jre-headless 21.1 MB/39.5 MB 53%]           269 kB/s 1min 52s"
       ]
      },
      {
       "output_type": "stream",
       "stream": "stdout",
       "text": [
        "\r",
        "46% [26 openjdk-7-jre-headless 21.3 MB/39.5 MB 54%]           269 kB/s 1min 51s"
       ]
      },
      {
       "output_type": "stream",
       "stream": "stdout",
       "text": [
        "\r",
        "46% [26 openjdk-7-jre-headless 21.4 MB/39.5 MB 54%]           269 kB/s 1min 51s"
       ]
      },
      {
       "output_type": "stream",
       "stream": "stdout",
       "text": [
        "\r",
        "47% [26 openjdk-7-jre-headless 21.6 MB/39.5 MB 55%]           269 kB/s 1min 50s"
       ]
      },
      {
       "output_type": "stream",
       "stream": "stdout",
       "text": [
        "\r",
        "47% [26 openjdk-7-jre-headless 21.7 MB/39.5 MB 55%]           269 kB/s 1min 50s"
       ]
      },
      {
       "output_type": "stream",
       "stream": "stdout",
       "text": [
        "\r",
        "47% [26 openjdk-7-jre-headless 21.9 MB/39.5 MB 55%]           269 kB/s 1min 49s"
       ]
      },
      {
       "output_type": "stream",
       "stream": "stdout",
       "text": [
        "\r",
        "47% [26 openjdk-7-jre-headless 22.0 MB/39.5 MB 56%]           269 kB/s 1min 49s"
       ]
      },
      {
       "output_type": "stream",
       "stream": "stdout",
       "text": [
        "\r",
        "48% [26 openjdk-7-jre-headless 22.2 MB/39.5 MB 56%]           269 kB/s 1min 48s"
       ]
      },
      {
       "output_type": "stream",
       "stream": "stdout",
       "text": [
        "\r",
        "48% [26 openjdk-7-jre-headless 22.3 MB/39.5 MB 56%]           288 kB/s 1min 41s"
       ]
      },
      {
       "output_type": "stream",
       "stream": "stdout",
       "text": [
        "\r",
        "48% [26 openjdk-7-jre-headless 22.5 MB/39.5 MB 57%]           288 kB/s 1min 40s"
       ]
      },
      {
       "output_type": "stream",
       "stream": "stdout",
       "text": [
        "\r",
        "48% [26 openjdk-7-jre-headless 22.6 MB/39.5 MB 57%]           288 kB/s 1min 39s"
       ]
      },
      {
       "output_type": "stream",
       "stream": "stdout",
       "text": [
        "\r",
        "49% [26 openjdk-7-jre-headless 22.8 MB/39.5 MB 58%]           288 kB/s 1min 39s"
       ]
      },
      {
       "output_type": "stream",
       "stream": "stdout",
       "text": [
        "\r",
        "49% [26 openjdk-7-jre-headless 22.9 MB/39.5 MB 58%]           288 kB/s 1min 38s"
       ]
      },
      {
       "output_type": "stream",
       "stream": "stdout",
       "text": [
        "\r",
        "49% [26 openjdk-7-jre-headless 23.1 MB/39.5 MB 58%]           288 kB/s 1min 38s"
       ]
      },
      {
       "output_type": "stream",
       "stream": "stdout",
       "text": [
        "\r",
        "49% [26 openjdk-7-jre-headless 23.2 MB/39.5 MB 59%]           288 kB/s 1min 37s"
       ]
      },
      {
       "output_type": "stream",
       "stream": "stdout",
       "text": [
        "\r",
        "50% [26 openjdk-7-jre-headless 23.4 MB/39.5 MB 59%]           288 kB/s 1min 37s"
       ]
      },
      {
       "output_type": "stream",
       "stream": "stdout",
       "text": [
        "\r",
        "50% [26 openjdk-7-jre-headless 23.5 MB/39.5 MB 59%]           288 kB/s 1min 36s"
       ]
      },
      {
       "output_type": "stream",
       "stream": "stdout",
       "text": [
        "\r",
        "50% [26 openjdk-7-jre-headless 23.7 MB/39.5 MB 60%]           288 kB/s 1min 36s"
       ]
      },
      {
       "output_type": "stream",
       "stream": "stdout",
       "text": [
        "\r",
        "51% [26 openjdk-7-jre-headless 23.9 MB/39.5 MB 60%]           288 kB/s 1min 35s"
       ]
      },
      {
       "output_type": "stream",
       "stream": "stdout",
       "text": [
        "\r",
        "51% [26 openjdk-7-jre-headless 23.9 MB/39.5 MB 61%]           288 kB/s 1min 35s"
       ]
      },
      {
       "output_type": "stream",
       "stream": "stdout",
       "text": [
        "\r",
        "51% [26 openjdk-7-jre-headless 24.1 MB/39.5 MB 61%]           301 kB/s 1min 30s"
       ]
      },
      {
       "output_type": "stream",
       "stream": "stdout",
       "text": [
        "\r",
        "51% [26 openjdk-7-jre-headless 24.2 MB/39.5 MB 61%]           301 kB/s 1min 30s"
       ]
      },
      {
       "output_type": "stream",
       "stream": "stdout",
       "text": [
        "\r",
        "52% [26 openjdk-7-jre-headless 24.3 MB/39.5 MB 62%]           301 kB/s 1min 29s"
       ]
      },
      {
       "output_type": "stream",
       "stream": "stdout",
       "text": [
        "\r",
        "52% [26 openjdk-7-jre-headless 24.5 MB/39.5 MB 62%]           301 kB/s 1min 29s"
       ]
      },
      {
       "output_type": "stream",
       "stream": "stdout",
       "text": [
        "\r",
        "52% [26 openjdk-7-jre-headless 24.6 MB/39.5 MB 62%]           301 kB/s 1min 29s"
       ]
      },
      {
       "output_type": "stream",
       "stream": "stdout",
       "text": [
        "\r",
        "52% [26 openjdk-7-jre-headless 24.8 MB/39.5 MB 63%]           301 kB/s 1min 28s"
       ]
      },
      {
       "output_type": "stream",
       "stream": "stdout",
       "text": [
        "\r",
        "53% [26 openjdk-7-jre-headless 24.9 MB/39.5 MB 63%]           301 kB/s 1min 27s"
       ]
      },
      {
       "output_type": "stream",
       "stream": "stdout",
       "text": [
        "\r",
        "53% [26 openjdk-7-jre-headless 25.1 MB/39.5 MB 64%]           301 kB/s 1min 27s"
       ]
      },
      {
       "output_type": "stream",
       "stream": "stdout",
       "text": [
        "\r",
        "53% [26 openjdk-7-jre-headless 25.2 MB/39.5 MB 64%]           301 kB/s 1min 26s"
       ]
      },
      {
       "output_type": "stream",
       "stream": "stdout",
       "text": [
        "\r",
        "53% [26 openjdk-7-jre-headless 25.4 MB/39.5 MB 64%]           301 kB/s 1min 26s"
       ]
      },
      {
       "output_type": "stream",
       "stream": "stdout",
       "text": [
        "\r",
        "54% [26 openjdk-7-jre-headless 25.5 MB/39.5 MB 65%]           301 kB/s 1min 26s"
       ]
      },
      {
       "output_type": "stream",
       "stream": "stdout",
       "text": [
        "\r",
        "54% [26 openjdk-7-jre-headless 25.6 MB/39.5 MB 65%]           301 kB/s 1min 25s"
       ]
      },
      {
       "output_type": "stream",
       "stream": "stdout",
       "text": [
        "\r",
        "54% [26 openjdk-7-jre-headless 25.7 MB/39.5 MB 65%]           263 kB/s 1min 37s"
       ]
      },
      {
       "output_type": "stream",
       "stream": "stdout",
       "text": [
        "\r",
        "54% [26 openjdk-7-jre-headless 25.8 MB/39.5 MB 65%]           263 kB/s 1min 37s"
       ]
      },
      {
       "output_type": "stream",
       "stream": "stdout",
       "text": [
        "\r",
        "54% [26 openjdk-7-jre-headless 26.0 MB/39.5 MB 66%]           263 kB/s 1min 36s"
       ]
      },
      {
       "output_type": "stream",
       "stream": "stdout",
       "text": [
        "\r",
        "55% [26 openjdk-7-jre-headless 26.1 MB/39.5 MB 66%]           263 kB/s 1min 36s"
       ]
      },
      {
       "output_type": "stream",
       "stream": "stdout",
       "text": [
        "\r",
        "55% [26 openjdk-7-jre-headless 26.3 MB/39.5 MB 66%]           263 kB/s 1min 35s"
       ]
      },
      {
       "output_type": "stream",
       "stream": "stdout",
       "text": [
        "\r",
        "55% [26 openjdk-7-jre-headless 26.4 MB/39.5 MB 67%]           263 kB/s 1min 35s"
       ]
      },
      {
       "output_type": "stream",
       "stream": "stdout",
       "text": [
        "\r",
        "55% [26 openjdk-7-jre-headless 26.5 MB/39.5 MB 67%]           263 kB/s 1min 34s"
       ]
      },
      {
       "output_type": "stream",
       "stream": "stdout",
       "text": [
        "\r",
        "56% [26 openjdk-7-jre-headless 26.6 MB/39.5 MB 67%]           263 kB/s 1min 34s"
       ]
      },
      {
       "output_type": "stream",
       "stream": "stdout",
       "text": [
        "\r",
        "56% [26 openjdk-7-jre-headless 26.8 MB/39.5 MB 68%]           263 kB/s 1min 33s"
       ]
      },
      {
       "output_type": "stream",
       "stream": "stdout",
       "text": [
        "\r",
        "56% [26 openjdk-7-jre-headless 26.9 MB/39.5 MB 68%]           263 kB/s 1min 32s"
       ]
      },
      {
       "output_type": "stream",
       "stream": "stdout",
       "text": [
        "\r",
        "56% [26 openjdk-7-jre-headless 27.1 MB/39.5 MB 68%]           263 kB/s 1min 32s"
       ]
      },
      {
       "output_type": "stream",
       "stream": "stdout",
       "text": [
        "\r",
        "57% [26 openjdk-7-jre-headless 27.1 MB/39.5 MB 69%]           263 kB/s 1min 32s"
       ]
      },
      {
       "output_type": "stream",
       "stream": "stdout",
       "text": [
        "\r",
        "57% [26 openjdk-7-jre-headless 27.3 MB/39.5 MB 69%]           270 kB/s 1min 29s"
       ]
      },
      {
       "output_type": "stream",
       "stream": "stdout",
       "text": [
        "\r",
        "57% [26 openjdk-7-jre-headless 27.4 MB/39.5 MB 69%]           270 kB/s 1min 28s"
       ]
      },
      {
       "output_type": "stream",
       "stream": "stdout",
       "text": [
        "\r",
        "57% [26 openjdk-7-jre-headless 27.6 MB/39.5 MB 70%]           270 kB/s 1min 28s"
       ]
      },
      {
       "output_type": "stream",
       "stream": "stdout",
       "text": [
        "\r",
        "58% [26 openjdk-7-jre-headless 27.7 MB/39.5 MB 70%]           270 kB/s 1min 27s"
       ]
      },
      {
       "output_type": "stream",
       "stream": "stdout",
       "text": [
        "\r",
        "58% [26 openjdk-7-jre-headless 27.9 MB/39.5 MB 71%]           270 kB/s 1min 26s"
       ]
      },
      {
       "output_type": "stream",
       "stream": "stdout",
       "text": [
        "\r",
        "58% [26 openjdk-7-jre-headless 28.0 MB/39.5 MB 71%]           270 kB/s 1min 26s"
       ]
      },
      {
       "output_type": "stream",
       "stream": "stdout",
       "text": [
        "\r",
        "58% [26 openjdk-7-jre-headless 28.2 MB/39.5 MB 71%]           270 kB/s 1min 25s"
       ]
      },
      {
       "output_type": "stream",
       "stream": "stdout",
       "text": [
        "\r",
        "59% [26 openjdk-7-jre-headless 28.2 MB/39.5 MB 71%]           270 kB/s 1min 25s"
       ]
      },
      {
       "output_type": "stream",
       "stream": "stdout",
       "text": [
        "\r",
        "59% [26 openjdk-7-jre-headless 28.4 MB/39.5 MB 72%]           270 kB/s 1min 24s"
       ]
      },
      {
       "output_type": "stream",
       "stream": "stdout",
       "text": [
        "\r",
        "59% [26 openjdk-7-jre-headless 28.5 MB/39.5 MB 72%]           270 kB/s 1min 24s"
       ]
      },
      {
       "output_type": "stream",
       "stream": "stdout",
       "text": [
        "\r",
        "59% [26 openjdk-7-jre-headless 28.7 MB/39.5 MB 73%]           270 kB/s 1min 23s"
       ]
      },
      {
       "output_type": "stream",
       "stream": "stdout",
       "text": [
        "\r",
        "60% [26 openjdk-7-jre-headless 28.8 MB/39.5 MB 73%]           270 kB/s 1min 23s"
       ]
      },
      {
       "output_type": "stream",
       "stream": "stdout",
       "text": [
        "\r",
        "60% [26 openjdk-7-jre-headless 29.0 MB/39.5 MB 73%]           277 kB/s 1min 20s"
       ]
      },
      {
       "output_type": "stream",
       "stream": "stdout",
       "text": [
        "\r",
        "60% [26 openjdk-7-jre-headless 29.1 MB/39.5 MB 74%]           277 kB/s 1min 20s"
       ]
      },
      {
       "output_type": "stream",
       "stream": "stdout",
       "text": [
        "\r",
        "60% [26 openjdk-7-jre-headless 29.3 MB/39.5 MB 74%]           277 kB/s 1min 19s"
       ]
      },
      {
       "output_type": "stream",
       "stream": "stdout",
       "text": [
        "\r",
        "61% [26 openjdk-7-jre-headless 29.4 MB/39.5 MB 74%]           277 kB/s 1min 19s"
       ]
      },
      {
       "output_type": "stream",
       "stream": "stdout",
       "text": [
        "\r",
        "61% [26 openjdk-7-jre-headless 29.6 MB/39.5 MB 75%]           277 kB/s 1min 18s"
       ]
      },
      {
       "output_type": "stream",
       "stream": "stdout",
       "text": [
        "\r",
        "61% [26 openjdk-7-jre-headless 29.7 MB/39.5 MB 75%]           277 kB/s 1min 18s"
       ]
      },
      {
       "output_type": "stream",
       "stream": "stdout",
       "text": [
        "\r",
        "61% [26 openjdk-7-jre-headless 29.9 MB/39.5 MB 76%]           277 kB/s 1min 17s"
       ]
      },
      {
       "output_type": "stream",
       "stream": "stdout",
       "text": [
        "\r",
        "62% [26 openjdk-7-jre-headless 30.0 MB/39.5 MB 76%]           277 kB/s 1min 17s"
       ]
      },
      {
       "output_type": "stream",
       "stream": "stdout",
       "text": [
        "\r",
        "62% [26 openjdk-7-jre-headless 30.2 MB/39.5 MB 76%]           277 kB/s 1min 16s"
       ]
      },
      {
       "output_type": "stream",
       "stream": "stdout",
       "text": [
        "\r",
        "62% [26 openjdk-7-jre-headless 30.3 MB/39.5 MB 77%]           277 kB/s 1min 15s"
       ]
      },
      {
       "output_type": "stream",
       "stream": "stdout",
       "text": [
        "\r",
        "63% [26 openjdk-7-jre-headless 30.5 MB/39.5 MB 77%]           277 kB/s 1min 15s"
       ]
      },
      {
       "output_type": "stream",
       "stream": "stdout",
       "text": [
        "\r",
        "63% [26 openjdk-7-jre-headless 30.7 MB/39.5 MB 78%]           277 kB/s 1min 14s"
       ]
      },
      {
       "output_type": "stream",
       "stream": "stdout",
       "text": [
        "\r",
        "63% [26 openjdk-7-jre-headless 30.8 MB/39.5 MB 78%]           294 kB/s 1min 10s"
       ]
      },
      {
       "output_type": "stream",
       "stream": "stdout",
       "text": [
        "\r",
        "63% [26 openjdk-7-jre-headless 30.9 MB/39.5 MB 78%]            294 kB/s 1min 9s"
       ]
      },
      {
       "output_type": "stream",
       "stream": "stdout",
       "text": [
        "\r",
        "63% [26 openjdk-7-jre-headless 31.0 MB/39.5 MB 78%]            294 kB/s 1min 9s"
       ]
      },
      {
       "output_type": "stream",
       "stream": "stdout",
       "text": [
        "\r",
        "64% [26 openjdk-7-jre-headless 31.1 MB/39.5 MB 79%]            294 kB/s 1min 9s"
       ]
      },
      {
       "output_type": "stream",
       "stream": "stdout",
       "text": [
        "\r",
        "64% [26 openjdk-7-jre-headless 31.2 MB/39.5 MB 79%]            294 kB/s 1min 8s"
       ]
      },
      {
       "output_type": "stream",
       "stream": "stdout",
       "text": [
        "\r",
        "64% [26 openjdk-7-jre-headless 31.3 MB/39.5 MB 79%]            294 kB/s 1min 8s"
       ]
      },
      {
       "output_type": "stream",
       "stream": "stdout",
       "text": [
        "\r",
        "64% [26 openjdk-7-jre-headless 31.4 MB/39.5 MB 79%]            294 kB/s 1min 8s"
       ]
      },
      {
       "output_type": "stream",
       "stream": "stdout",
       "text": [
        "\r",
        "64% [26 openjdk-7-jre-headless 31.5 MB/39.5 MB 80%]            294 kB/s 1min 7s"
       ]
      },
      {
       "output_type": "stream",
       "stream": "stdout",
       "text": [
        "\r",
        "65% [26 openjdk-7-jre-headless 31.7 MB/39.5 MB 80%]            294 kB/s 1min 7s"
       ]
      },
      {
       "output_type": "stream",
       "stream": "stdout",
       "text": [
        "\r",
        "65% [26 openjdk-7-jre-headless 31.8 MB/39.5 MB 80%]            294 kB/s 1min 6s"
       ]
      },
      {
       "output_type": "stream",
       "stream": "stdout",
       "text": [
        "\r",
        "65% [26 openjdk-7-jre-headless 31.9 MB/39.5 MB 81%]            294 kB/s 1min 6s"
       ]
      },
      {
       "output_type": "stream",
       "stream": "stdout",
       "text": [
        "\r",
        "65% [26 openjdk-7-jre-headless 32.0 MB/39.5 MB 81%]            294 kB/s 1min 5s"
       ]
      },
      {
       "output_type": "stream",
       "stream": "stdout",
       "text": [
        "\r",
        "65% [26 openjdk-7-jre-headless 32.1 MB/39.5 MB 81%]           223 kB/s 1min 26s"
       ]
      },
      {
       "output_type": "stream",
       "stream": "stdout",
       "text": [
        "\r",
        "66% [26 openjdk-7-jre-headless 32.2 MB/39.5 MB 82%]           223 kB/s 1min 25s"
       ]
      },
      {
       "output_type": "stream",
       "stream": "stdout",
       "text": [
        "\r",
        "66% [26 openjdk-7-jre-headless 32.3 MB/39.5 MB 82%]           223 kB/s 1min 25s"
       ]
      },
      {
       "output_type": "stream",
       "stream": "stdout",
       "text": [
        "\r",
        "66% [26 openjdk-7-jre-headless 32.5 MB/39.5 MB 82%]           223 kB/s 1min 24s"
       ]
      },
      {
       "output_type": "stream",
       "stream": "stdout",
       "text": [
        "\r",
        "66% [26 openjdk-7-jre-headless 32.7 MB/39.5 MB 83%]           223 kB/s 1min 23s"
       ]
      },
      {
       "output_type": "stream",
       "stream": "stdout",
       "text": [
        "\r",
        "67% [26 openjdk-7-jre-headless 32.8 MB/39.5 MB 83%]           223 kB/s 1min 23s"
       ]
      },
      {
       "output_type": "stream",
       "stream": "stdout",
       "text": [
        "\r",
        "67% [26 openjdk-7-jre-headless 32.8 MB/39.5 MB 83%]           223 kB/s 1min 23s"
       ]
      },
      {
       "output_type": "stream",
       "stream": "stdout",
       "text": [
        "\r",
        "67% [26 openjdk-7-jre-headless 33.1 MB/39.5 MB 84%]           223 kB/s 1min 22s"
       ]
      },
      {
       "output_type": "stream",
       "stream": "stdout",
       "text": [
        "\r",
        "67% [26 openjdk-7-jre-headless 33.2 MB/39.5 MB 84%]           223 kB/s 1min 21s"
       ]
      },
      {
       "output_type": "stream",
       "stream": "stdout",
       "text": [
        "\r",
        "68% [26 openjdk-7-jre-headless 33.3 MB/39.5 MB 84%]           223 kB/s 1min 21s"
       ]
      },
      {
       "output_type": "stream",
       "stream": "stdout",
       "text": [
        "\r",
        "68% [26 openjdk-7-jre-headless 33.5 MB/39.5 MB 85%]           223 kB/s 1min 20s"
       ]
      },
      {
       "output_type": "stream",
       "stream": "stdout",
       "text": [
        "\r",
        "68% [26 openjdk-7-jre-headless 33.5 MB/39.5 MB 85%]           223 kB/s 1min 19s"
       ]
      },
      {
       "output_type": "stream",
       "stream": "stdout",
       "text": [
        "\r",
        "68% [26 openjdk-7-jre-headless 33.6 MB/39.5 MB 85%]           252 kB/s 1min 10s"
       ]
      },
      {
       "output_type": "stream",
       "stream": "stdout",
       "text": [
        "\r",
        "68% [26 openjdk-7-jre-headless 33.7 MB/39.5 MB 85%]           252 kB/s 1min 10s"
       ]
      },
      {
       "output_type": "stream",
       "stream": "stdout",
       "text": [
        "\r",
        "69% [26 openjdk-7-jre-headless 33.9 MB/39.5 MB 86%]            252 kB/s 1min 9s"
       ]
      },
      {
       "output_type": "stream",
       "stream": "stdout",
       "text": [
        "\r",
        "69% [26 openjdk-7-jre-headless 34.1 MB/39.5 MB 86%]            252 kB/s 1min 8s"
       ]
      },
      {
       "output_type": "stream",
       "stream": "stdout",
       "text": [
        "\r",
        "69% [26 openjdk-7-jre-headless 34.2 MB/39.5 MB 86%]            252 kB/s 1min 8s"
       ]
      },
      {
       "output_type": "stream",
       "stream": "stdout",
       "text": [
        "\r",
        "69% [26 openjdk-7-jre-headless 34.3 MB/39.5 MB 87%]            252 kB/s 1min 7s"
       ]
      },
      {
       "output_type": "stream",
       "stream": "stdout",
       "text": [
        "\r",
        "70% [26 openjdk-7-jre-headless 34.4 MB/39.5 MB 87%]            252 kB/s 1min 7s"
       ]
      },
      {
       "output_type": "stream",
       "stream": "stdout",
       "text": [
        "\r",
        "70% [26 openjdk-7-jre-headless 34.5 MB/39.5 MB 87%]            252 kB/s 1min 7s"
       ]
      },
      {
       "output_type": "stream",
       "stream": "stdout",
       "text": [
        "\r",
        "70% [26 openjdk-7-jre-headless 34.6 MB/39.5 MB 88%]            252 kB/s 1min 6s"
       ]
      },
      {
       "output_type": "stream",
       "stream": "stdout",
       "text": [
        "\r",
        "70% [26 openjdk-7-jre-headless 34.8 MB/39.5 MB 88%]            252 kB/s 1min 5s"
       ]
      },
      {
       "output_type": "stream",
       "stream": "stdout",
       "text": [
        "\r",
        "70% [26 openjdk-7-jre-headless 34.9 MB/39.5 MB 88%]            252 kB/s 1min 5s"
       ]
      },
      {
       "output_type": "stream",
       "stream": "stdout",
       "text": [
        "\r",
        "71% [26 openjdk-7-jre-headless 35.1 MB/39.5 MB 89%]            252 kB/s 1min 4s"
       ]
      },
      {
       "output_type": "stream",
       "stream": "stdout",
       "text": [
        "\r",
        "71% [26 openjdk-7-jre-headless 35.2 MB/39.5 MB 89%]            257 kB/s 1min 3s"
       ]
      },
      {
       "output_type": "stream",
       "stream": "stdout",
       "text": [
        "\r",
        "71% [26 openjdk-7-jre-headless 35.3 MB/39.5 MB 89%]            257 kB/s 1min 2s"
       ]
      },
      {
       "output_type": "stream",
       "stream": "stdout",
       "text": [
        "\r",
        "71% [26 openjdk-7-jre-headless 35.5 MB/39.5 MB 90%]            257 kB/s 1min 2s"
       ]
      },
      {
       "output_type": "stream",
       "stream": "stdout",
       "text": [
        "\r",
        "72% [26 openjdk-7-jre-headless 35.6 MB/39.5 MB 90%]            257 kB/s 1min 1s"
       ]
      },
      {
       "output_type": "stream",
       "stream": "stdout",
       "text": [
        "\r",
        "72% [26 openjdk-7-jre-headless 35.8 MB/39.5 MB 90%]                257 kB/s 60s"
       ]
      },
      {
       "output_type": "stream",
       "stream": "stdout",
       "text": [
        "\r",
        "72% [26 openjdk-7-jre-headless 35.9 MB/39.5 MB 91%]                257 kB/s 60s"
       ]
      },
      {
       "output_type": "stream",
       "stream": "stdout",
       "text": [
        "\r",
        "72% [26 openjdk-7-jre-headless 36.0 MB/39.5 MB 91%]                257 kB/s 59s"
       ]
      },
      {
       "output_type": "stream",
       "stream": "stdout",
       "text": [
        "\r",
        "73% [26 openjdk-7-jre-headless 36.1 MB/39.5 MB 91%]                257 kB/s 59s"
       ]
      },
      {
       "output_type": "stream",
       "stream": "stdout",
       "text": [
        "\r",
        "73% [26 openjdk-7-jre-headless 36.3 MB/39.5 MB 92%]                257 kB/s 58s"
       ]
      },
      {
       "output_type": "stream",
       "stream": "stdout",
       "text": [
        "\r",
        "73% [26 openjdk-7-jre-headless 36.5 MB/39.5 MB 92%]                257 kB/s 58s"
       ]
      },
      {
       "output_type": "stream",
       "stream": "stdout",
       "text": [
        "\r",
        "73% [26 openjdk-7-jre-headless 36.6 MB/39.5 MB 93%]                257 kB/s 57s"
       ]
      },
      {
       "output_type": "stream",
       "stream": "stdout",
       "text": [
        "\r",
        "74% [26 openjdk-7-jre-headless 36.8 MB/39.5 MB 93%]                257 kB/s 57s"
       ]
      },
      {
       "output_type": "stream",
       "stream": "stdout",
       "text": [
        "\r",
        "74% [26 openjdk-7-jre-headless 36.9 MB/39.5 MB 93%]                292 kB/s 49s"
       ]
      },
      {
       "output_type": "stream",
       "stream": "stdout",
       "text": [
        "\r",
        "74% [26 openjdk-7-jre-headless 37.1 MB/39.5 MB 94%]                292 kB/s 49s"
       ]
      },
      {
       "output_type": "stream",
       "stream": "stdout",
       "text": [
        "\r",
        "75% [26 openjdk-7-jre-headless 37.2 MB/39.5 MB 94%]                292 kB/s 48s"
       ]
      },
      {
       "output_type": "stream",
       "stream": "stdout",
       "text": [
        "\r",
        "75% [26 openjdk-7-jre-headless 37.4 MB/39.5 MB 95%]                292 kB/s 48s"
       ]
      },
      {
       "output_type": "stream",
       "stream": "stdout",
       "text": [
        "\r",
        "75% [26 openjdk-7-jre-headless 37.5 MB/39.5 MB 95%]                292 kB/s 47s"
       ]
      },
      {
       "output_type": "stream",
       "stream": "stdout",
       "text": [
        "\r",
        "75% [26 openjdk-7-jre-headless 37.7 MB/39.5 MB 95%]                292 kB/s 46s"
       ]
      },
      {
       "output_type": "stream",
       "stream": "stdout",
       "text": [
        "\r",
        "76% [26 openjdk-7-jre-headless 37.8 MB/39.5 MB 96%]                292 kB/s 46s"
       ]
      },
      {
       "output_type": "stream",
       "stream": "stdout",
       "text": [
        "\r",
        "76% [26 openjdk-7-jre-headless 37.9 MB/39.5 MB 96%]                292 kB/s 46s"
       ]
      },
      {
       "output_type": "stream",
       "stream": "stdout",
       "text": [
        "\r",
        "76% [26 openjdk-7-jre-headless 38.1 MB/39.5 MB 96%]                292 kB/s 45s"
       ]
      },
      {
       "output_type": "stream",
       "stream": "stdout",
       "text": [
        "\r",
        "76% [26 openjdk-7-jre-headless 38.3 MB/39.5 MB 97%]                292 kB/s 44s"
       ]
      },
      {
       "output_type": "stream",
       "stream": "stdout",
       "text": [
        "\r",
        "77% [26 openjdk-7-jre-headless 38.4 MB/39.5 MB 97%]                292 kB/s 44s"
       ]
      },
      {
       "output_type": "stream",
       "stream": "stdout",
       "text": [
        "\r",
        "77% [26 openjdk-7-jre-headless 38.6 MB/39.5 MB 98%]                292 kB/s 43s"
       ]
      },
      {
       "output_type": "stream",
       "stream": "stdout",
       "text": [
        "\r",
        "77% [26 openjdk-7-jre-headless 38.7 MB/39.5 MB 98%]                298 kB/s 42s"
       ]
      },
      {
       "output_type": "stream",
       "stream": "stdout",
       "text": [
        "\r",
        "78% [26 openjdk-7-jre-headless 38.8 MB/39.5 MB 98%]                298 kB/s 42s"
       ]
      },
      {
       "output_type": "stream",
       "stream": "stdout",
       "text": [
        "\r",
        "78% [26 openjdk-7-jre-headless 39.0 MB/39.5 MB 99%]                298 kB/s 41s"
       ]
      },
      {
       "output_type": "stream",
       "stream": "stdout",
       "text": [
        "\r",
        "78% [26 openjdk-7-jre-headless 39.2 MB/39.5 MB 99%]                298 kB/s 41s"
       ]
      },
      {
       "output_type": "stream",
       "stream": "stdout",
       "text": [
        "\r",
        "78% [26 openjdk-7-jre-headless 39.3 MB/39.5 MB 100%]               298 kB/s 40s"
       ]
      },
      {
       "output_type": "stream",
       "stream": "stdout",
       "text": [
        "\r",
        "79% [26 openjdk-7-jre-headless 39.4 MB/39.5 MB 100%]               298 kB/s 40s"
       ]
      },
      {
       "output_type": "stream",
       "stream": "stdout",
       "text": [
        "\r",
        "79% [Working]                                                      298 kB/s 39s"
       ]
      },
      {
       "output_type": "stream",
       "stream": "stdout",
       "text": [
        "\r",
        "                                                                               \r",
        "Get:27 http://archive.ubuntu.com/ubuntu/ trusty/main default-jre-headless amd64 2:1.7-51 [3,834 B]\r\n",
        "\r",
        "79% [27 default-jre-headless 0 B/3,834 B 0%]                       298 kB/s 39s\r",
        "79% [Working]                                                      298 kB/s 39s"
       ]
      },
      {
       "output_type": "stream",
       "stream": "stdout",
       "text": [
        "\r",
        "79% [Waiting for headers]                                          298 kB/s 39s"
       ]
      },
      {
       "output_type": "stream",
       "stream": "stdout",
       "text": [
        "\r",
        "                                                                               \r",
        "Get:28 http://archive.ubuntu.com/ubuntu/ trusty/main libgif4 amd64 4.1.6-11 [28.6 kB]\r\n",
        "\r",
        "79% [28 libgif4 0 B/28.6 kB 0%]                                    298 kB/s 39s"
       ]
      },
      {
       "output_type": "stream",
       "stream": "stdout",
       "text": [
        "\r",
        "79% [Working]                                                      298 kB/s 39s"
       ]
      },
      {
       "output_type": "stream",
       "stream": "stdout",
       "text": [
        "\r",
        "                                                                               \r",
        "Get:29 http://archive.ubuntu.com/ubuntu/ trusty/main libogg0 amd64 1.3.1-1ubuntu1 [17.0 kB]\r\n",
        "\r",
        "79% [29 libogg0 0 B/17.0 kB 0%]                                    298 kB/s 39s"
       ]
      },
      {
       "output_type": "stream",
       "stream": "stdout",
       "text": [
        "\r",
        "79% [Working]                                                      298 kB/s 39s"
       ]
      },
      {
       "output_type": "stream",
       "stream": "stdout",
       "text": [
        "\r",
        "                                                                               \r",
        "Get:30 http://archive.ubuntu.com/ubuntu/ trusty/main libflac8 amd64 1.3.0-2 [94.5 kB]\r\n",
        "\r",
        "79% [30 libflac8 0 B/94.5 kB 0%]                                   298 kB/s 39s"
       ]
      },
      {
       "output_type": "stream",
       "stream": "stdout",
       "text": [
        "\r",
        "79% [30 libflac8 46.1 kB/94.5 kB 49%]                              298 kB/s 39s"
       ]
      },
      {
       "output_type": "stream",
       "stream": "stdout",
       "text": [
        "\r",
        "79% [Working]                                                 158 kB/s 1min 14s"
       ]
      },
      {
       "output_type": "stream",
       "stream": "stdout",
       "text": [
        "\r",
        "79% [Waiting for headers]                                     158 kB/s 1min 14s"
       ]
      },
      {
       "output_type": "stream",
       "stream": "stdout",
       "text": [
        "\r",
        "                                                                               \r",
        "Get:31 http://archive.ubuntu.com/ubuntu/ trusty/main libvorbis0a amd64 1.3.2-1.3ubuntu1 [87.2 kB]\r\n",
        "\r",
        "79% [31 libvorbis0a 0 B/87.2 kB 0%]                           158 kB/s 1min 14s"
       ]
      },
      {
       "output_type": "stream",
       "stream": "stdout",
       "text": [
        "\r",
        "79% [31 libvorbis0a 14.3 kB/87.2 kB 16%]                      158 kB/s 1min 14s"
       ]
      },
      {
       "output_type": "stream",
       "stream": "stdout",
       "text": [
        "\r",
        "79% [31 libvorbis0a 78.5 kB/87.2 kB 90%]                      158 kB/s 1min 13s"
       ]
      },
      {
       "output_type": "stream",
       "stream": "stdout",
       "text": [
        "\r",
        "79% [Working]                                                 158 kB/s 1min 13s"
       ]
      },
      {
       "output_type": "stream",
       "stream": "stdout",
       "text": [
        "\r",
        "                                                                               \r",
        "Get:32 http://archive.ubuntu.com/ubuntu/ trusty/main libvorbisenc2 amd64 1.3.2-1.3ubuntu1 [84.5 kB]\r\n",
        "\r",
        "79% [32 libvorbisenc2 0 B/84.5 kB 0%]                         158 kB/s 1min 13s"
       ]
      },
      {
       "output_type": "stream",
       "stream": "stdout",
       "text": [
        "\r",
        "79% [32 libvorbisenc2 62.5 kB/84.5 kB 74%]                    158 kB/s 1min 13s"
       ]
      },
      {
       "output_type": "stream",
       "stream": "stdout",
       "text": [
        "\r",
        "79% [Working]                                                 158 kB/s 1min 13s"
       ]
      },
      {
       "output_type": "stream",
       "stream": "stdout",
       "text": [
        "\r",
        "                                                                               \r",
        "Get:33 http://archive.ubuntu.com/ubuntu/ trusty/main libsndfile1 amd64 1.0.25-7ubuntu2 [136 kB]\r\n",
        "\r",
        "79% [33 libsndfile1 0 B/136 kB 0%]                            158 kB/s 1min 13s"
       ]
      },
      {
       "output_type": "stream",
       "stream": "stdout",
       "text": [
        "\r",
        "79% [33 libsndfile1 37.7 kB/136 kB 28%]                       158 kB/s 1min 12s"
       ]
      },
      {
       "output_type": "stream",
       "stream": "stdout",
       "text": [
        "\r",
        "79% [33 libsndfile1 105 kB/136 kB 77%]                        158 kB/s 1min 12s"
       ]
      },
      {
       "output_type": "stream",
       "stream": "stdout",
       "text": [
        "\r",
        "80% [Working]                                                 158 kB/s 1min 12s"
       ]
      },
      {
       "output_type": "stream",
       "stream": "stdout",
       "text": [
        "\r",
        "                                                                               \r",
        "Get:34 http://archive.ubuntu.com/ubuntu/ trusty/main libpulse0 amd64 1:4.0-0ubuntu11 [225 kB]\r\n",
        "\r",
        "80% [34 libpulse0 0 B/225 kB 0%]                              158 kB/s 1min 12s"
       ]
      },
      {
       "output_type": "stream",
       "stream": "stdout",
       "text": [
        "\r",
        "80% [34 libpulse0 58.1 kB/225 kB 26%]                         158 kB/s 1min 11s"
       ]
      },
      {
       "output_type": "stream",
       "stream": "stdout",
       "text": [
        "\r",
        "80% [34 libpulse0 78.5 kB/225 kB 35%]                         158 kB/s 1min 11s"
       ]
      },
      {
       "output_type": "stream",
       "stream": "stdout",
       "text": [
        "\r",
        "80% [Working]                                                84.5 kB/s 2min 12s"
       ]
      },
      {
       "output_type": "stream",
       "stream": "stdout",
       "text": [
        "\r",
        "80% [Waiting for headers]                                    84.5 kB/s 2min 12s"
       ]
      },
      {
       "output_type": "stream",
       "stream": "stdout",
       "text": [
        "\r",
        "                                                                               \r",
        "Get:35 http://archive.ubuntu.com/ubuntu/ trusty-updates/main openjdk-7-jre amd64 7u65-2.5.2-3~14.04 [183 kB]\r\n",
        "\r",
        "80% [35 openjdk-7-jre 0 B/183 kB 0%]                         84.5 kB/s 2min 12s"
       ]
      },
      {
       "output_type": "stream",
       "stream": "stdout",
       "text": [
        "\r",
        "80% [35 openjdk-7-jre 28.9 kB/183 kB 16%]                    84.5 kB/s 2min 12s"
       ]
      },
      {
       "output_type": "stream",
       "stream": "stdout",
       "text": [
        "\r",
        "80% [35 openjdk-7-jre 65.4 kB/183 kB 36%]                    84.5 kB/s 2min 11s"
       ]
      },
      {
       "output_type": "stream",
       "stream": "stdout",
       "text": [
        "\r",
        "80% [35 openjdk-7-jre 153 kB/183 kB 83%]                     84.5 kB/s 2min 10s"
       ]
      },
      {
       "output_type": "stream",
       "stream": "stdout",
       "text": [
        "\r",
        "80% [Working]                                                84.5 kB/s 2min 10s"
       ]
      },
      {
       "output_type": "stream",
       "stream": "stdout",
       "text": [
        "\r",
        "                                                                               \r",
        "Get:36 http://archive.ubuntu.com/ubuntu/ trusty/main default-jre amd64 2:1.7-51 [940 B]\r\n",
        "\r",
        "80% [36 default-jre 0 B/940 B 0%]                            84.5 kB/s 2min 10s\r",
        "80% [Working]                                                84.5 kB/s 2min 10s"
       ]
      },
      {
       "output_type": "stream",
       "stream": "stdout",
       "text": [
        "\r",
        "                                                                               \r",
        "Get:37 http://archive.ubuntu.com/ubuntu/ trusty/main libatk-wrapper-java all 0.30.4-4 [30.2 kB]\r\n",
        "\r",
        "80% [37 libatk-wrapper-java 0 B/30.2 kB 0%]                  84.5 kB/s 2min 10s"
       ]
      },
      {
       "output_type": "stream",
       "stream": "stdout",
       "text": [
        "\r",
        "80% [Working]                                                 84.5 kB/s 2min 9s"
       ]
      },
      {
       "output_type": "stream",
       "stream": "stdout",
       "text": [
        "\r",
        "                                                                               \r",
        "Get:38 http://archive.ubuntu.com/ubuntu/ trusty/main libatk-wrapper-java-jni amd64 0.30.4-4 [25.2 kB]\r\n",
        "\r",
        "80% [38 libatk-wrapper-java-jni 0 B/25.2 kB 0%]               84.5 kB/s 2min 9s"
       ]
      },
      {
       "output_type": "stream",
       "stream": "stdout",
       "text": [
        "\r",
        "80% [Working]                                                 84.5 kB/s 2min 9s"
       ]
      },
      {
       "output_type": "stream",
       "stream": "stdout",
       "text": [
        "\r",
        "80% [Waiting for headers]                                     84.5 kB/s 2min 9s"
       ]
      },
      {
       "output_type": "stream",
       "stream": "stdout",
       "text": [
        "\r",
        "                                                                               \r",
        "Get:39 http://archive.ubuntu.com/ubuntu/ trusty/main libavahi-glib1 amd64 0.6.31-4ubuntu1 [7,756 B]\r\n",
        "\r",
        "80% [39 libavahi-glib1 0 B/7,756 B 0%]                        84.5 kB/s 2min 9s\r",
        "80% [Working]                                                 84.5 kB/s 2min 9s"
       ]
      },
      {
       "output_type": "stream",
       "stream": "stdout",
       "text": [
        "\r",
        "80% [Waiting for headers]                                     84.5 kB/s 2min 9s"
       ]
      },
      {
       "output_type": "stream",
       "stream": "stdout",
       "text": [
        "\r",
        "                                                                               \r",
        "Get:40 http://archive.ubuntu.com/ubuntu/ trusty/main libbonobo2-common all 2.32.1-0ubuntu5 [34.2 kB]\r\n",
        "\r",
        "80% [40 libbonobo2-common 0 B/34.2 kB 0%]                     84.5 kB/s 2min 9s"
       ]
      },
      {
       "output_type": "stream",
       "stream": "stdout",
       "text": [
        "\r",
        "80% [40 libbonobo2-common 6,994 B/34.2 kB 20%]                84.5 kB/s 2min 9s"
       ]
      },
      {
       "output_type": "stream",
       "stream": "stdout",
       "text": [
        "\r",
        "80% [Working]                                                 84.5 kB/s 2min 9s"
       ]
      },
      {
       "output_type": "stream",
       "stream": "stdout",
       "text": [
        "\r",
        "                                                                               \r",
        "Get:41 http://archive.ubuntu.com/ubuntu/ trusty/main libidl-common all 0.8.14-0.2ubuntu4 [8,196 B]\r\n",
        "\r",
        "80% [41 libidl-common 0 B/8,196 B 0%]                        45.6 kB/s 3min 59s\r",
        "80% [Working]                                                45.6 kB/s 3min 59s"
       ]
      },
      {
       "output_type": "stream",
       "stream": "stdout",
       "text": [
        "\r",
        "                                                                               \r",
        "Get:42 http://archive.ubuntu.com/ubuntu/ trusty/main libidl0 amd64 0.8.14-0.2ubuntu4 [65.9 kB]\r\n",
        "\r",
        "80% [42 libidl0 0 B/65.9 kB 0%]                              45.6 kB/s 3min 59s"
       ]
      },
      {
       "output_type": "stream",
       "stream": "stdout",
       "text": [
        "\r",
        "81% [42 libidl0 46.4 kB/65.9 kB 70%]                         45.6 kB/s 3min 58s"
       ]
      },
      {
       "output_type": "stream",
       "stream": "stdout",
       "text": [
        "\r",
        "81% [Working]                                                45.6 kB/s 3min 57s"
       ]
      },
      {
       "output_type": "stream",
       "stream": "stdout",
       "text": [
        "\r",
        "81% [Waiting for headers]                                    45.6 kB/s 3min 57s"
       ]
      },
      {
       "output_type": "stream",
       "stream": "stdout",
       "text": [
        "\r",
        "                                                                               \r",
        "Get:43 http://archive.ubuntu.com/ubuntu/ trusty/main liborbit-2-0 amd64 1:2.14.19-0.3 [138 kB]\r\n",
        "\r",
        "81% [43 liborbit-2-0 0 B/138 kB 0%]                          45.6 kB/s 3min 57s"
       ]
      },
      {
       "output_type": "stream",
       "stream": "stdout",
       "text": [
        "\r",
        "81% [43 liborbit-2-0 17.2 kB/138 kB 13%]                     45.6 kB/s 3min 57s"
       ]
      },
      {
       "output_type": "stream",
       "stream": "stdout",
       "text": [
        "\r",
        "81% [43 liborbit-2-0 109 kB/138 kB 79%]                      45.6 kB/s 3min 55s"
       ]
      },
      {
       "output_type": "stream",
       "stream": "stdout",
       "text": [
        "\r",
        "81% [Working]                                                45.6 kB/s 3min 54s"
       ]
      },
      {
       "output_type": "stream",
       "stream": "stdout",
       "text": [
        "\r",
        "                                                                               \r",
        "Get:44 http://archive.ubuntu.com/ubuntu/ trusty/main liborbit2 amd64 1:2.14.19-0.3 [14.7 kB]\r\n",
        "\r",
        "81% [44 liborbit2 0 B/14.7 kB 0%]                            45.6 kB/s 3min 54s\r",
        "81% [Working]                                                45.6 kB/s 3min 54s"
       ]
      },
      {
       "output_type": "stream",
       "stream": "stdout",
       "text": [
        "\r",
        "81% [Waiting for headers]                                    45.6 kB/s 3min 54s"
       ]
      },
      {
       "output_type": "stream",
       "stream": "stdout",
       "text": [
        "\r",
        "                                                                               \r",
        "Get:45 http://archive.ubuntu.com/ubuntu/ trusty/main libbonobo2-0 amd64 2.32.1-0ubuntu5 [214 kB]\r\n",
        "\r",
        "81% [45 libbonobo2-0 0 B/214 kB 0%]                          45.6 kB/s 3min 54s"
       ]
      },
      {
       "output_type": "stream",
       "stream": "stdout",
       "text": [
        "\r",
        "81% [45 libbonobo2-0 33.3 kB/214 kB 16%]                     45.6 kB/s 3min 53s"
       ]
      },
      {
       "output_type": "stream",
       "stream": "stdout",
       "text": [
        "\r",
        "81% [45 libbonobo2-0 94.6 kB/214 kB 44%]                     45.6 kB/s 3min 52s"
       ]
      },
      {
       "output_type": "stream",
       "stream": "stdout",
       "text": [
        "\r",
        "81% [45 libbonobo2-0 179 kB/214 kB 84%]                      45.6 kB/s 3min 50s"
       ]
      },
      {
       "output_type": "stream",
       "stream": "stdout",
       "text": [
        "\r",
        "81% [Working]                                                45.6 kB/s 3min 49s"
       ]
      },
      {
       "output_type": "stream",
       "stream": "stdout",
       "text": [
        "\r",
        "                                                                               \r",
        "Get:46 http://archive.ubuntu.com/ubuntu/ trusty/main libcairo-gobject2 amd64 1.13.0~20140204-0ubuntu1 [17.3 kB]\r\n",
        "\r",
        "81% [46 libcairo-gobject2 0 B/17.3 kB 0%]                    69.5 kB/s 2min 30s"
       ]
      },
      {
       "output_type": "stream",
       "stream": "stdout",
       "text": [
        "\r",
        "81% [Working]                                                69.5 kB/s 2min 30s"
       ]
      },
      {
       "output_type": "stream",
       "stream": "stdout",
       "text": [
        "\r",
        "81% [Waiting for headers]                                    69.5 kB/s 2min 30s"
       ]
      },
      {
       "output_type": "stream",
       "stream": "stdout",
       "text": [
        "\r",
        "                                                                               \r",
        "Get:47 http://archive.ubuntu.com/ubuntu/ trusty/main libltdl7 amd64 2.4.2-1.7ubuntu1 [35.0 kB]\r\n",
        "\r",
        "81% [47 libltdl7 0 B/35.0 kB 0%]                             69.5 kB/s 2min 30s"
       ]
      },
      {
       "output_type": "stream",
       "stream": "stdout",
       "text": [
        "\r",
        "81% [47 libltdl7 14.3 kB/35.0 kB 41%]                        69.5 kB/s 2min 30s"
       ]
      },
      {
       "output_type": "stream",
       "stream": "stdout",
       "text": [
        "\r",
        "81% [Working]                                                69.5 kB/s 2min 29s"
       ]
      },
      {
       "output_type": "stream",
       "stream": "stdout",
       "text": [
        "\r",
        "                                                                               \r",
        "Get:48 http://archive.ubuntu.com/ubuntu/ trusty/main libtdb1 amd64 1.2.12-1 [37.8 kB]\r\n",
        "\r",
        "81% [48 libtdb1 0 B/37.8 kB 0%]                              69.5 kB/s 2min 29s"
       ]
      },
      {
       "output_type": "stream",
       "stream": "stdout",
       "text": [
        "\r",
        "81% [Working]                                                69.5 kB/s 2min 29s"
       ]
      },
      {
       "output_type": "stream",
       "stream": "stdout",
       "text": [
        "\r",
        "                                                                               \r",
        "Get:49 http://archive.ubuntu.com/ubuntu/ trusty/main libvorbisfile3 amd64 1.3.2-1.3ubuntu1 [15.8 kB]\r\n",
        "\r",
        "81% [49 libvorbisfile3 0 B/15.8 kB 0%]                       69.5 kB/s 2min 29s"
       ]
      },
      {
       "output_type": "stream",
       "stream": "stdout",
       "text": [
        "\r",
        "81% [Working]                                                69.5 kB/s 2min 29s"
       ]
      },
      {
       "output_type": "stream",
       "stream": "stdout",
       "text": [
        "\r",
        "                                                                               \r",
        "Get:50 http://archive.ubuntu.com/ubuntu/ trusty/main sound-theme-freedesktop all 0.8-1 [385 kB]\r\n",
        "\r",
        "81% [50 sound-theme-freedesktop 0 B/385 kB 0%]               69.5 kB/s 2min 29s"
       ]
      },
      {
       "output_type": "stream",
       "stream": "stdout",
       "text": [
        "\r",
        "81% [50 sound-theme-freedesktop 34.7 kB/385 kB 9%]           69.5 kB/s 2min 28s"
       ]
      },
      {
       "output_type": "stream",
       "stream": "stdout",
       "text": [
        "\r",
        "82% [50 sound-theme-freedesktop 68.6 kB/385 kB 18%]          69.5 kB/s 2min 28s"
       ]
      },
      {
       "output_type": "stream",
       "stream": "stdout",
       "text": [
        "\r",
        "82% [50 sound-theme-freedesktop 70.6 kB/385 kB 18%]          69.5 kB/s 2min 28s"
       ]
      },
      {
       "output_type": "stream",
       "stream": "stdout",
       "text": [
        "\r",
        "82% [50 sound-theme-freedesktop 242 kB/385 kB 63%]           69.5 kB/s 2min 25s"
       ]
      },
      {
       "output_type": "stream",
       "stream": "stdout",
       "text": [
        "\r",
        "82% [50 sound-theme-freedesktop 327 kB/385 kB 85%]           69.5 kB/s 2min 24s"
       ]
      },
      {
       "output_type": "stream",
       "stream": "stdout",
       "text": [
        "\r",
        "82% [Working]                                                69.5 kB/s 2min 23s"
       ]
      },
      {
       "output_type": "stream",
       "stream": "stdout",
       "text": [
        "\r",
        "                                                                               \r",
        "Get:51 http://archive.ubuntu.com/ubuntu/ trusty/main libcanberra0 amd64 0.30-0ubuntu3 [36.5 kB]\r\n",
        "\r",
        "82% [51 libcanberra0 0 B/36.5 kB 0%]                          79.6 kB/s 2min 5s"
       ]
      },
      {
       "output_type": "stream",
       "stream": "stdout",
       "text": [
        "\r",
        "82% [Working]                                                 79.6 kB/s 2min 5s"
       ]
      },
      {
       "output_type": "stream",
       "stream": "stdout",
       "text": [
        "\r",
        "                                                                               \r",
        "Get:52 http://archive.ubuntu.com/ubuntu/ trusty/main libcolord1 amd64 1.0.6-1 [83.1 kB]\r\n",
        "\r",
        "82% [52 libcolord1 0 B/83.1 kB 0%]                            79.6 kB/s 2min 5s"
       ]
      },
      {
       "output_type": "stream",
       "stream": "stdout",
       "text": [
        "\r",
        "82% [52 libcolord1 39.1 kB/83.1 kB 47%]                       79.6 kB/s 2min 4s"
       ]
      },
      {
       "output_type": "stream",
       "stream": "stdout",
       "text": [
        "\r",
        "82% [Working]                                                 79.6 kB/s 2min 4s"
       ]
      },
      {
       "output_type": "stream",
       "stream": "stdout",
       "text": [
        "\r",
        "82% [Waiting for headers]                                     79.6 kB/s 2min 4s\r",
        "                                                                               \r",
        "Get:53 http://archive.ubuntu.com/ubuntu/ trusty/main libdconf1 amd64 0.20.0-1 [31.5 kB]\r\n",
        "\r",
        "82% [53 libdconf1 0 B/31.5 kB 0%]                             79.6 kB/s 2min 4s"
       ]
      },
      {
       "output_type": "stream",
       "stream": "stdout",
       "text": [
        "\r",
        "82% [Working]                                                 79.6 kB/s 2min 3s"
       ]
      },
      {
       "output_type": "stream",
       "stream": "stdout",
       "text": [
        "\r",
        "                                                                               \r",
        "Get:54 http://archive.ubuntu.com/ubuntu/ trusty/main libexif12 amd64 0.6.21-1ubuntu1 [75.5 kB]\r\n",
        "\r",
        "82% [54 libexif12 0 B/75.5 kB 0%]                             79.6 kB/s 2min 3s"
       ]
      },
      {
       "output_type": "stream",
       "stream": "stdout",
       "text": [
        "\r",
        "82% [54 libexif12 46.4 kB/75.5 kB 61%]                        79.6 kB/s 2min 3s"
       ]
      },
      {
       "output_type": "stream",
       "stream": "stdout",
       "text": [
        "\r",
        "83% [Working]                                                 79.6 kB/s 2min 2s"
       ]
      },
      {
       "output_type": "stream",
       "stream": "stdout",
       "text": [
        "\r",
        "                                                                               \r",
        "Get:55 http://archive.ubuntu.com/ubuntu/ trusty/main gconf2-common all 3.2.6-0ubuntu2 [20.2 kB]\r\n",
        "\r",
        "83% [55 gconf2-common 0 B/20.2 kB 0%]                         79.6 kB/s 2min 2s"
       ]
      },
      {
       "output_type": "stream",
       "stream": "stdout",
       "text": [
        "\r",
        "83% [Working]                                                 79.6 kB/s 2min 2s"
       ]
      },
      {
       "output_type": "stream",
       "stream": "stdout",
       "text": [
        "\r",
        "83% [Waiting for headers]                                     79.6 kB/s 2min 2s"
       ]
      },
      {
       "output_type": "stream",
       "stream": "stdout",
       "text": [
        "\r",
        "                                                                               \r",
        "Get:56 http://archive.ubuntu.com/ubuntu/ trusty/main libgconf-2-4 amd64 3.2.6-0ubuntu2 [80.8 kB]\r\n",
        "\r",
        "83% [56 libgconf-2-4 0 B/80.8 kB 0%]                          79.6 kB/s 2min 2s"
       ]
      },
      {
       "output_type": "stream",
       "stream": "stdout",
       "text": [
        "\r",
        "83% [56 libgconf-2-4 30.4 kB/80.8 kB 38%]                     79.6 kB/s 2min 2s"
       ]
      },
      {
       "output_type": "stream",
       "stream": "stdout",
       "text": [
        "\r",
        "83% [Working]                                                 79.6 kB/s 2min 1s"
       ]
      },
      {
       "output_type": "stream",
       "stream": "stdout",
       "text": [
        "\r",
        "                                                                               \r",
        "Get:57 http://archive.ubuntu.com/ubuntu/ trusty/main libvpx1 amd64 1.3.0-2 [556 kB]\r\n",
        "\r",
        "83% [57 libvpx1 0 B/556 kB 0%]                               54.6 kB/s 2min 56s"
       ]
      },
      {
       "output_type": "stream",
       "stream": "stdout",
       "text": [
        "\r",
        "83% [57 libvpx1 52.2 kB/556 kB 9%]                           54.6 kB/s 2min 55s"
       ]
      },
      {
       "output_type": "stream",
       "stream": "stdout",
       "text": [
        "\r",
        "83% [57 libvpx1 159 kB/556 kB 29%]                           54.6 kB/s 2min 54s"
       ]
      },
      {
       "output_type": "stream",
       "stream": "stdout",
       "text": [
        "\r",
        "83% [57 libvpx1 273 kB/556 kB 49%]                           54.6 kB/s 2min 51s"
       ]
      },
      {
       "output_type": "stream",
       "stream": "stdout",
       "text": [
        "\r",
        "83% [57 libvpx1 384 kB/556 kB 69%]                           54.6 kB/s 2min 49s"
       ]
      },
      {
       "output_type": "stream",
       "stream": "stdout",
       "text": [
        "\r",
        "83% [57 libvpx1 446 kB/556 kB 80%]                           54.6 kB/s 2min 48s"
       ]
      },
      {
       "output_type": "stream",
       "stream": "stdout",
       "text": [
        "\r",
        "84% [57 libvpx1 525 kB/556 kB 95%]                           54.6 kB/s 2min 47s"
       ]
      },
      {
       "output_type": "stream",
       "stream": "stdout",
       "text": [
        "\r",
        "84% [Working]                                                54.6 kB/s 2min 46s"
       ]
      },
      {
       "output_type": "stream",
       "stream": "stdout",
       "text": [
        "\r",
        "84% [Waiting for headers]                                    54.6 kB/s 2min 46s"
       ]
      },
      {
       "output_type": "stream",
       "stream": "stdout",
       "text": [
        "\r",
        "                                                                               \r",
        "Get:58 http://archive.ubuntu.com/ubuntu/ trusty/main libgd3 amd64 2.1.0-3 [147 kB]\r\n",
        "\r",
        "84% [58 libgd3 0 B/147 kB 0%]                                54.6 kB/s 2min 46s"
       ]
      },
      {
       "output_type": "stream",
       "stream": "stdout",
       "text": [
        "\r",
        "84% [58 libgd3 27.4 kB/147 kB 19%]                           54.6 kB/s 2min 46s"
       ]
      },
      {
       "output_type": "stream",
       "stream": "stdout",
       "text": [
        "\r",
        "84% [58 libgd3 90.2 kB/147 kB 61%]                           54.6 kB/s 2min 45s"
       ]
      },
      {
       "output_type": "stream",
       "stream": "stdout",
       "text": [
        "\r",
        "84% [Working]                                                54.6 kB/s 2min 44s"
       ]
      },
      {
       "output_type": "stream",
       "stream": "stdout",
       "text": [
        "\r",
        "                                                                               \r",
        "Get:59 http://archive.ubuntu.com/ubuntu/ trusty/main gconf-service-backend amd64 3.2.6-0ubuntu2 [56.3 kB]\r\n",
        "\r",
        "84% [59 gconf-service-backend 0 B/56.3 kB 0%]                 116 kB/s 1min 17s"
       ]
      },
      {
       "output_type": "stream",
       "stream": "stdout",
       "text": [
        "\r",
        "84% [59 gconf-service-backend 30.4 kB/56.3 kB 54%]            116 kB/s 1min 17s"
       ]
      },
      {
       "output_type": "stream",
       "stream": "stdout",
       "text": [
        "\r",
        "84% [Working]                                                 116 kB/s 1min 16s"
       ]
      },
      {
       "output_type": "stream",
       "stream": "stdout",
       "text": [
        "\r",
        "84% [Waiting for headers]                                     116 kB/s 1min 16s"
       ]
      },
      {
       "output_type": "stream",
       "stream": "stdout",
       "text": [
        "\r",
        "                                                                               \r",
        "Get:60 http://archive.ubuntu.com/ubuntu/ trusty/main gconf-service amd64 3.2.6-0ubuntu2 [2,046 B]\r\n",
        "\r",
        "84% [60 gconf-service 0 B/2,046 B 0%]                         116 kB/s 1min 16s\r",
        "84% [Working]                                                 116 kB/s 1min 16s"
       ]
      },
      {
       "output_type": "stream",
       "stream": "stdout",
       "text": [
        "\r",
        "                                                                               \r",
        "Get:61 http://archive.ubuntu.com/ubuntu/ trusty-updates/main dbus-x11 amd64 1.6.18-0ubuntu4.2 [19.2 kB]\r\n",
        "\r",
        "84% [61 dbus-x11 0 B/19.2 kB 0%]                              116 kB/s 1min 16s"
       ]
      },
      {
       "output_type": "stream",
       "stream": "stdout",
       "text": [
        "\r",
        "84% [Working]                                                 116 kB/s 1min 16s"
       ]
      },
      {
       "output_type": "stream",
       "stream": "stdout",
       "text": [
        "\r",
        "                                                                               \r",
        "Get:62 http://archive.ubuntu.com/ubuntu/ trusty/main gconf2 amd64 3.2.6-0ubuntu2 [65.5 kB]\r\n",
        "\r",
        "84% [62 gconf2 0 B/65.5 kB 0%]                                116 kB/s 1min 16s"
       ]
      },
      {
       "output_type": "stream",
       "stream": "stdout",
       "text": [
        "\r",
        "84% [62 gconf2 12.8 kB/65.5 kB 20%]                           116 kB/s 1min 16s"
       ]
      },
      {
       "output_type": "stream",
       "stream": "stdout",
       "text": [
        "\r",
        "84% [Working]                                                 116 kB/s 1min 16s"
       ]
      },
      {
       "output_type": "stream",
       "stream": "stdout",
       "text": [
        "\r",
        "84% [Waiting for headers]                                     116 kB/s 1min 16s"
       ]
      },
      {
       "output_type": "stream",
       "stream": "stdout",
       "text": [
        "\r",
        "                                                                               \r",
        "Get:63 http://archive.ubuntu.com/ubuntu/ trusty/main libgnomevfs2-common amd64 1:2.24.4-1ubuntu6 [22.8 kB]\r\n",
        "\r",
        "84% [63 libgnomevfs2-common 0 B/22.8 kB 0%]                   116 kB/s 1min 16s"
       ]
      },
      {
       "output_type": "stream",
       "stream": "stdout",
       "text": [
        "\r",
        "84% [Working]                                                 116 kB/s 1min 15s"
       ]
      },
      {
       "output_type": "stream",
       "stream": "stdout",
       "text": [
        "\r",
        "84% [Waiting for headers]                                     116 kB/s 1min 15s"
       ]
      },
      {
       "output_type": "stream",
       "stream": "stdout",
       "text": [
        "\r",
        "                                                                               \r",
        "Get:64 http://archive.ubuntu.com/ubuntu/ trusty/main libgnomevfs2-0 amd64 1:2.24.4-1ubuntu6 [210 kB]\r\n",
        "\r",
        "84% [64 libgnomevfs2-0 0 B/210 kB 0%]                         116 kB/s 1min 15s"
       ]
      },
      {
       "output_type": "stream",
       "stream": "stdout",
       "text": [
        "\r",
        "84% [64 libgnomevfs2-0 36.2 kB/210 kB 17%]                    116 kB/s 1min 15s"
       ]
      },
      {
       "output_type": "stream",
       "stream": "stdout",
       "text": [
        "\r",
        "84% [64 libgnomevfs2-0 121 kB/210 kB 58%]                     47.7 kB/s 3min 1s"
       ]
      },
      {
       "output_type": "stream",
       "stream": "stdout",
       "text": [
        "\r",
        "85% [64 libgnomevfs2-0 191 kB/210 kB 91%]                     47.7 kB/s 3min 0s"
       ]
      },
      {
       "output_type": "stream",
       "stream": "stdout",
       "text": [
        "\r",
        "85% [Working]                                                47.7 kB/s 2min 59s"
       ]
      },
      {
       "output_type": "stream",
       "stream": "stdout",
       "text": [
        "\r",
        "                                                                               \r",
        "Get:65 http://archive.ubuntu.com/ubuntu/ trusty/main libgnome2-common all 2.32.1-4ubuntu1 [33.3 kB]\r\n",
        "\r",
        "85% [65 libgnome2-common 0 B/33.3 kB 0%]                     47.7 kB/s 2min 59s\r",
        "85% [Working]                                                47.7 kB/s 2min 58s"
       ]
      },
      {
       "output_type": "stream",
       "stream": "stdout",
       "text": [
        "\r",
        "85% [Waiting for headers]                                    47.7 kB/s 2min 58s"
       ]
      },
      {
       "output_type": "stream",
       "stream": "stdout",
       "text": [
        "\r",
        "                                                                               \r",
        "Get:66 http://archive.ubuntu.com/ubuntu/ trusty/main libgnome2-bin amd64 2.32.1-4ubuntu1 [15.0 kB]\r\n",
        "\r",
        "85% [66 libgnome2-bin 0 B/15.0 kB 0%]                        47.7 kB/s 2min 58s"
       ]
      },
      {
       "output_type": "stream",
       "stream": "stdout",
       "text": [
        "\r",
        "85% [Working]                                                47.7 kB/s 2min 58s"
       ]
      },
      {
       "output_type": "stream",
       "stream": "stdout",
       "text": [
        "\r",
        "                                                                               \r",
        "Get:67 http://archive.ubuntu.com/ubuntu/ trusty/main libgnome2-0 amd64 2.32.1-4ubuntu1 [43.2 kB]\r\n",
        "\r",
        "85% [67 libgnome2-0 0 B/43.2 kB 0%]                          47.7 kB/s 2min 58s"
       ]
      },
      {
       "output_type": "stream",
       "stream": "stdout",
       "text": [
        "\r",
        "85% [Working]                                                47.7 kB/s 2min 57s"
       ]
      },
      {
       "output_type": "stream",
       "stream": "stdout",
       "text": [
        "\r",
        "85% [Waiting for headers]                                    47.7 kB/s 2min 57s"
       ]
      },
      {
       "output_type": "stream",
       "stream": "stdout",
       "text": [
        "\r",
        "                                                                               \r",
        "Get:68 http://archive.ubuntu.com/ubuntu/ trusty-updates/main libgphoto2-port10 amd64 2.5.3.1-1ubuntu2.2 [40.8 kB]\r\n",
        "\r",
        "85% [68 libgphoto2-port10 0 B/40.8 kB 0%]                    47.7 kB/s 2min 57s"
       ]
      },
      {
       "output_type": "stream",
       "stream": "stdout",
       "text": [
        "\r",
        "85% [68 libgphoto2-port10 14.3 kB/40.8 kB 35%]               47.7 kB/s 2min 57s"
       ]
      },
      {
       "output_type": "stream",
       "stream": "stdout",
       "text": [
        "\r",
        "85% [Working]                                                47.7 kB/s 2min 56s"
       ]
      },
      {
       "output_type": "stream",
       "stream": "stdout",
       "text": [
        "\r",
        "                                                                               \r",
        "Get:69 http://archive.ubuntu.com/ubuntu/ trusty-updates/main libgphoto2-6 amd64 2.5.3.1-1ubuntu2.2 [737 kB]\r\n",
        "\r",
        "85% [69 libgphoto2-6 0 B/737 kB 0%]                          47.7 kB/s 2min 56s"
       ]
      },
      {
       "output_type": "stream",
       "stream": "stdout",
       "text": [
        "\r",
        "85% [69 libgphoto2-6 65.1 kB/737 kB 9%]                      47.7 kB/s 2min 55s"
       ]
      },
      {
       "output_type": "stream",
       "stream": "stdout",
       "text": [
        "\r",
        "85% [69 libgphoto2-6 125 kB/737 kB 17%]                      47.7 kB/s 2min 54s"
       ]
      },
      {
       "output_type": "stream",
       "stream": "stdout",
       "text": [
        "\r",
        "85% [69 libgphoto2-6 152 kB/737 kB 21%]                      61.8 kB/s 2min 14s"
       ]
      },
      {
       "output_type": "stream",
       "stream": "stdout",
       "text": [
        "\r",
        "85% [69 libgphoto2-6 211 kB/737 kB 29%]                      61.8 kB/s 2min 13s"
       ]
      },
      {
       "output_type": "stream",
       "stream": "stdout",
       "text": [
        "\r",
        "85% [69 libgphoto2-6 262 kB/737 kB 36%]                      61.8 kB/s 2min 12s"
       ]
      },
      {
       "output_type": "stream",
       "stream": "stdout",
       "text": [
        "\r",
        "85% [69 libgphoto2-6 341 kB/737 kB 46%]                      61.8 kB/s 2min 11s"
       ]
      },
      {
       "output_type": "stream",
       "stream": "stdout",
       "text": [
        "\r",
        "86% [69 libgphoto2-6 414 kB/737 kB 56%]                      61.8 kB/s 2min 10s"
       ]
      },
      {
       "output_type": "stream",
       "stream": "stdout",
       "text": [
        "\r",
        "86% [69 libgphoto2-6 463 kB/737 kB 63%]                       61.8 kB/s 2min 9s"
       ]
      },
      {
       "output_type": "stream",
       "stream": "stdout",
       "text": [
        "\r",
        "86% [69 libgphoto2-6 526 kB/737 kB 71%]                       61.8 kB/s 2min 8s"
       ]
      },
      {
       "output_type": "stream",
       "stream": "stdout",
       "text": [
        "\r",
        "86% [69 libgphoto2-6 592 kB/737 kB 80%]                       61.8 kB/s 2min 7s"
       ]
      },
      {
       "output_type": "stream",
       "stream": "stdout",
       "text": [
        "\r",
        "86% [69 libgphoto2-6 658 kB/737 kB 89%]                       61.8 kB/s 2min 6s"
       ]
      },
      {
       "output_type": "stream",
       "stream": "stdout",
       "text": [
        "\r",
        "86% [Working]                                                 61.8 kB/s 2min 4s"
       ]
      },
      {
       "output_type": "stream",
       "stream": "stdout",
       "text": [
        "\r",
        "86% [Waiting for headers]                                     61.8 kB/s 2min 4s"
       ]
      },
      {
       "output_type": "stream",
       "stream": "stdout",
       "text": [
        "\r",
        "                                                                               \r",
        "Get:70 http://archive.ubuntu.com/ubuntu/ trusty/main dconf-service amd64 0.20.0-1 [26.9 kB]\r\n",
        "\r",
        "86% [70 dconf-service 0 B/26.9 kB 0%]                         61.8 kB/s 2min 4s"
       ]
      },
      {
       "output_type": "stream",
       "stream": "stdout",
       "text": [
        "\r",
        "86% [Working]                                                 61.8 kB/s 2min 4s"
       ]
      },
      {
       "output_type": "stream",
       "stream": "stdout",
       "text": [
        "\r",
        "86% [Waiting for headers]                                     61.8 kB/s 2min 4s"
       ]
      },
      {
       "output_type": "stream",
       "stream": "stdout",
       "text": [
        "\r",
        "                                                                               \r",
        "Get:71 http://archive.ubuntu.com/ubuntu/ trusty/main dconf-gsettings-backend amd64 0.20.0-1 [19.3 kB]\r\n",
        "\r",
        "86% [71 dconf-gsettings-backend 0 B/19.3 kB 0%]               61.8 kB/s 2min 4s"
       ]
      },
      {
       "output_type": "stream",
       "stream": "stdout",
       "text": [
        "\r",
        "86% [Working]                                                 101 kB/s 1min 16s"
       ]
      },
      {
       "output_type": "stream",
       "stream": "stdout",
       "text": [
        "\r",
        "86% [Waiting for headers]                                     101 kB/s 1min 16s"
       ]
      },
      {
       "output_type": "stream",
       "stream": "stdout",
       "text": [
        "\r",
        "                                                                               \r",
        "Get:72 http://archive.ubuntu.com/ubuntu/ trusty-updates/main libgtk-3-common all 3.10.8-0ubuntu1.2 [167 kB]\r\n",
        "\r",
        "86% [72 libgtk-3-common 0 B/167 kB 0%]                        101 kB/s 1min 16s"
       ]
      },
      {
       "output_type": "stream",
       "stream": "stdout",
       "text": [
        "\r",
        "86% [72 libgtk-3-common 30.4 kB/167 kB 18%]                   101 kB/s 1min 15s"
       ]
      },
      {
       "output_type": "stream",
       "stream": "stdout",
       "text": [
        "\r",
        "86% [72 libgtk-3-common 94.6 kB/167 kB 57%]                   101 kB/s 1min 15s"
       ]
      },
      {
       "output_type": "stream",
       "stream": "stdout",
       "text": [
        "\r",
        "87% [Working]                                                 101 kB/s 1min 14s"
       ]
      },
      {
       "output_type": "stream",
       "stream": "stdout",
       "text": [
        "\r",
        "                                                                               \r",
        "Get:73 http://archive.ubuntu.com/ubuntu/ trusty/main libwayland-client0 amd64 1.4.0-1ubuntu1 [22.1 kB]\r\n",
        "\r",
        "87% [73 libwayland-client0 0 B/22.1 kB 0%]                    101 kB/s 1min 14s"
       ]
      },
      {
       "output_type": "stream",
       "stream": "stdout",
       "text": [
        "\r",
        "87% [Working]                                                 101 kB/s 1min 14s"
       ]
      },
      {
       "output_type": "stream",
       "stream": "stdout",
       "text": [
        "\r",
        "                                                                               \r",
        "Get:74 http://archive.ubuntu.com/ubuntu/ trusty/main libwayland-cursor0 amd64 1.4.0-1ubuntu1 [9,918 B]\r\n",
        "\r",
        "87% [74 libwayland-cursor0 0 B/9,918 B 0%]                    101 kB/s 1min 14s\r",
        "87% [Working]                                                 101 kB/s 1min 14s"
       ]
      },
      {
       "output_type": "stream",
       "stream": "stdout",
       "text": [
        "\r",
        "                                                                               \r",
        "Get:75 http://archive.ubuntu.com/ubuntu/ trusty/main libxkbcommon0 amd64 0.4.1-0ubuntu1 [87.9 kB]\r\n",
        "\r",
        "87% [75 libxkbcommon0 0 B/87.9 kB 0%]                         101 kB/s 1min 14s"
       ]
      },
      {
       "output_type": "stream",
       "stream": "stdout",
       "text": [
        "\r",
        "87% [75 libxkbcommon0 52.3 kB/87.9 kB 59%]                    101 kB/s 1min 13s"
       ]
      },
      {
       "output_type": "stream",
       "stream": "stdout",
       "text": [
        "\r",
        "87% [Working]                                                 101 kB/s 1min 13s"
       ]
      },
      {
       "output_type": "stream",
       "stream": "stdout",
       "text": [
        "\r",
        "87% [Waiting for headers]                                     101 kB/s 1min 13s"
       ]
      },
      {
       "output_type": "stream",
       "stream": "stdout",
       "text": [
        "\r",
        "                                                                               \r",
        "Get:76 http://archive.ubuntu.com/ubuntu/ trusty-updates/main libgtk-3-0 amd64 3.10.8-0ubuntu1.2 [1,957 kB]\r\n",
        "\r",
        "87% [76 libgtk-3-0 0 B/1,957 kB 0%]                           101 kB/s 1min 13s"
       ]
      },
      {
       "output_type": "stream",
       "stream": "stdout",
       "text": [
        "\r",
        "87% [76 libgtk-3-0 14.3 kB/1,957 kB 1%]                       101 kB/s 1min 13s"
       ]
      },
      {
       "output_type": "stream",
       "stream": "stdout",
       "text": [
        "\r",
        "87% [76 libgtk-3-0 46.4 kB/1,957 kB 2%]                       101 kB/s 1min 12s"
       ]
      },
      {
       "output_type": "stream",
       "stream": "stdout",
       "text": [
        "\r",
        "87% [76 libgtk-3-0 88.7 kB/1,957 kB 5%]                       58.6 kB/s 2min 4s"
       ]
      },
      {
       "output_type": "stream",
       "stream": "stdout",
       "text": [
        "\r",
        "87% [76 libgtk-3-0 143 kB/1,957 kB 7%]                        58.6 kB/s 2min 3s"
       ]
      },
      {
       "output_type": "stream",
       "stream": "stdout",
       "text": [
        "\r",
        "87% [76 libgtk-3-0 207 kB/1,957 kB 11%]                       58.6 kB/s 2min 2s"
       ]
      },
      {
       "output_type": "stream",
       "stream": "stdout",
       "text": [
        "\r",
        "87% [76 libgtk-3-0 255 kB/1,957 kB 13%]                       58.6 kB/s 2min 1s"
       ]
      },
      {
       "output_type": "stream",
       "stream": "stdout",
       "text": [
        "\r",
        "87% [76 libgtk-3-0 362 kB/1,957 kB 18%]                      58.6 kB/s 1min 59s"
       ]
      },
      {
       "output_type": "stream",
       "stream": "stdout",
       "text": [
        "\r",
        "88% [76 libgtk-3-0 432 kB/1,957 kB 22%]                      58.6 kB/s 1min 58s"
       ]
      },
      {
       "output_type": "stream",
       "stream": "stdout",
       "text": [
        "\r",
        "88% [76 libgtk-3-0 484 kB/1,957 kB 25%]                      58.6 kB/s 1min 57s"
       ]
      },
      {
       "output_type": "stream",
       "stream": "stdout",
       "text": [
        "\r",
        "88% [76 libgtk-3-0 584 kB/1,957 kB 30%]                      58.6 kB/s 1min 55s"
       ]
      },
      {
       "output_type": "stream",
       "stream": "stdout",
       "text": [
        "\r",
        "88% [76 libgtk-3-0 668 kB/1,957 kB 34%]                      58.6 kB/s 1min 54s"
       ]
      },
      {
       "output_type": "stream",
       "stream": "stdout",
       "text": [
        "\r",
        "88% [76 libgtk-3-0 743 kB/1,957 kB 38%]                      58.6 kB/s 1min 53s"
       ]
      },
      {
       "output_type": "stream",
       "stream": "stdout",
       "text": [
        "\r",
        "88% [76 libgtk-3-0 785 kB/1,957 kB 40%]                      58.6 kB/s 1min 52s"
       ]
      },
      {
       "output_type": "stream",
       "stream": "stdout",
       "text": [
        "\r",
        "88% [76 libgtk-3-0 916 kB/1,957 kB 47%]                      58.6 kB/s 1min 50s"
       ]
      },
      {
       "output_type": "stream",
       "stream": "stdout",
       "text": [
        "\r",
        "89% [76 libgtk-3-0 1,010 kB/1,957 kB 52%]                          153 kB/s 41s"
       ]
      },
      {
       "output_type": "stream",
       "stream": "stdout",
       "text": [
        "\r",
        "89% [76 libgtk-3-0 1,074 kB/1,957 kB 55%]                          153 kB/s 41s"
       ]
      },
      {
       "output_type": "stream",
       "stream": "stdout",
       "text": [
        "\r",
        "89% [76 libgtk-3-0 1,138 kB/1,957 kB 58%]                          153 kB/s 40s"
       ]
      },
      {
       "output_type": "stream",
       "stream": "stdout",
       "text": [
        "\r",
        "89% [76 libgtk-3-0 1,220 kB/1,957 kB 62%]                          153 kB/s 40s"
       ]
      },
      {
       "output_type": "stream",
       "stream": "stdout",
       "text": [
        "\r",
        "89% [76 libgtk-3-0 1,321 kB/1,957 kB 68%]                          153 kB/s 39s"
       ]
      },
      {
       "output_type": "stream",
       "stream": "stdout",
       "text": [
        "\r",
        "89% [76 libgtk-3-0 1,385 kB/1,957 kB 71%]                          153 kB/s 39s"
       ]
      },
      {
       "output_type": "stream",
       "stream": "stdout",
       "text": [
        "\r",
        "89% [76 libgtk-3-0 1,480 kB/1,957 kB 76%]                          153 kB/s 38s"
       ]
      },
      {
       "output_type": "stream",
       "stream": "stdout",
       "text": [
        "\r",
        "90% [76 libgtk-3-0 1,574 kB/1,957 kB 80%]                          153 kB/s 37s"
       ]
      },
      {
       "output_type": "stream",
       "stream": "stdout",
       "text": [
        "\r",
        "90% [76 libgtk-3-0 1,620 kB/1,957 kB 83%]                          153 kB/s 37s"
       ]
      },
      {
       "output_type": "stream",
       "stream": "stdout",
       "text": [
        "\r",
        "90% [76 libgtk-3-0 1,711 kB/1,957 kB 87%]                          153 kB/s 36s"
       ]
      },
      {
       "output_type": "stream",
       "stream": "stdout",
       "text": [
        "\r",
        "90% [76 libgtk-3-0 1,836 kB/1,957 kB 94%]                          153 kB/s 36s"
       ]
      },
      {
       "output_type": "stream",
       "stream": "stdout",
       "text": [
        "\r",
        "90% [76 libgtk-3-0 1,933 kB/1,957 kB 99%]                          153 kB/s 35s"
       ]
      },
      {
       "output_type": "stream",
       "stream": "stdout",
       "text": [
        "\r",
        "90% [Working]                                                      153 kB/s 35s"
       ]
      },
      {
       "output_type": "stream",
       "stream": "stdout",
       "text": [
        "\r",
        "                                                                               \r",
        "Get:77 http://archive.ubuntu.com/ubuntu/ trusty-updates/main libgudev-1.0-0 amd64 1:204-5ubuntu20.7 [14.1 kB]\r\n",
        "\r",
        "90% [77 libgudev-1.0-0 0 B/14.1 kB 0%]                             156 kB/s 34s\r",
        "90% [Working]                                                      156 kB/s 34s"
       ]
      },
      {
       "output_type": "stream",
       "stream": "stdout",
       "text": [
        "\r",
        "                                                                               \r",
        "Get:78 http://archive.ubuntu.com/ubuntu/ trusty/main libieee1284-3 amd64 0.2.11-12 [23.8 kB]\r\n",
        "\r",
        "90% [78 libieee1284-3 0 B/23.8 kB 0%]                              156 kB/s 34s"
       ]
      },
      {
       "output_type": "stream",
       "stream": "stdout",
       "text": [
        "\r",
        "90% [Working]                                                      156 kB/s 34s"
       ]
      },
      {
       "output_type": "stream",
       "stream": "stdout",
       "text": [
        "\r",
        "90% [Waiting for headers]                                          156 kB/s 34s"
       ]
      },
      {
       "output_type": "stream",
       "stream": "stdout",
       "text": [
        "\r",
        "                                                                               \r",
        "Get:79 http://archive.ubuntu.com/ubuntu/ trusty/main acl amd64 2.2.52-1 [43.8 kB]\r\n",
        "\r",
        "90% [79 acl 0 B/43.8 kB 0%]                                        156 kB/s 34s"
       ]
      },
      {
       "output_type": "stream",
       "stream": "stdout",
       "text": [
        "\r",
        "90% [79 acl 32.2 kB/43.8 kB 73%]                                   156 kB/s 34s"
       ]
      },
      {
       "output_type": "stream",
       "stream": "stdout",
       "text": [
        "\r",
        "90% [Working]                                                      156 kB/s 34s"
       ]
      },
      {
       "output_type": "stream",
       "stream": "stdout",
       "text": [
        "\r",
        "90% [Waiting for headers]                                          156 kB/s 34s"
       ]
      },
      {
       "output_type": "stream",
       "stream": "stdout",
       "text": [
        "\r",
        "                                                                               \r",
        "Get:80 http://archive.ubuntu.com/ubuntu/ trusty-updates/main libsane-common amd64 1.0.23-3ubuntu3.1 [451 kB]\r\n",
        "\r",
        "90% [80 libsane-common 0 B/451 kB 0%]                              156 kB/s 34s"
       ]
      },
      {
       "output_type": "stream",
       "stream": "stdout",
       "text": [
        "\r",
        "90% [80 libsane-common 21.6 kB/451 kB 5%]                          156 kB/s 33s"
       ]
      },
      {
       "output_type": "stream",
       "stream": "stdout",
       "text": [
        "\r",
        "91% [80 libsane-common 127 kB/451 kB 28%]                          156 kB/s 33s"
       ]
      },
      {
       "output_type": "stream",
       "stream": "stdout",
       "text": [
        "\r",
        "91% [80 libsane-common 198 kB/451 kB 44%]                          156 kB/s 32s"
       ]
      },
      {
       "output_type": "stream",
       "stream": "stdout",
       "text": [
        "\r",
        "91% [80 libsane-common 305 kB/451 kB 68%]                          156 kB/s 32s"
       ]
      },
      {
       "output_type": "stream",
       "stream": "stdout",
       "text": [
        "\r",
        "91% [80 libsane-common 417 kB/451 kB 92%]                          156 kB/s 31s"
       ]
      },
      {
       "output_type": "stream",
       "stream": "stdout",
       "text": [
        "\r",
        "91% [Working]                                                      156 kB/s 31s"
       ]
      },
      {
       "output_type": "stream",
       "stream": "stdout",
       "text": [
        "\r",
        "91% [Waiting for headers]                                          156 kB/s 31s"
       ]
      },
      {
       "output_type": "stream",
       "stream": "stdout",
       "text": [
        "\r",
        "                                                                               \r",
        "Get:81 http://archive.ubuntu.com/ubuntu/ trusty/main libv4lconvert0 amd64 1.0.1-1 [74.8 kB]\r\n",
        "\r",
        "91% [81 libv4lconvert0 0 B/74.8 kB 0%]                             156 kB/s 31s"
       ]
      },
      {
       "output_type": "stream",
       "stream": "stdout",
       "text": [
        "\r",
        "91% [81 libv4lconvert0 61.0 kB/74.8 kB 82%]                       95.3 kB/s 50s"
       ]
      },
      {
       "output_type": "stream",
       "stream": "stdout",
       "text": [
        "\r",
        "91% [Working]                                                     95.3 kB/s 50s"
       ]
      },
      {
       "output_type": "stream",
       "stream": "stdout",
       "text": [
        "\r",
        "                                                                               \r",
        "Get:82 http://archive.ubuntu.com/ubuntu/ trusty/main libv4l-0 amd64 1.0.1-1 [38.8 kB]\r\n",
        "\r",
        "91% [82 libv4l-0 0 B/38.8 kB 0%]                                  95.3 kB/s 50s"
       ]
      },
      {
       "output_type": "stream",
       "stream": "stdout",
       "text": [
        "\r",
        "91% [Working]                                                     95.3 kB/s 50s"
       ]
      },
      {
       "output_type": "stream",
       "stream": "stdout",
       "text": [
        "\r",
        "91% [Waiting for headers]                                         95.3 kB/s 50s"
       ]
      },
      {
       "output_type": "stream",
       "stream": "stdout",
       "text": [
        "\r",
        "                                                                               \r",
        "Get:83 http://archive.ubuntu.com/ubuntu/ trusty-updates/main libsane amd64 1.0.23-3ubuntu3.1 [1,929 kB]\r\n",
        "\r",
        "91% [83 libsane 0 B/1,929 kB 0%]                                  95.3 kB/s 50s"
       ]
      },
      {
       "output_type": "stream",
       "stream": "stdout",
       "text": [
        "\r",
        "92% [83 libsane 33.3 kB/1,929 kB 2%]                              95.3 kB/s 49s"
       ]
      },
      {
       "output_type": "stream",
       "stream": "stdout",
       "text": [
        "\r",
        "92% [83 libsane 62.5 kB/1,929 kB 3%]                              95.3 kB/s 49s"
       ]
      },
      {
       "output_type": "stream",
       "stream": "stdout",
       "text": [
        "\r",
        "92% [83 libsane 171 kB/1,929 kB 9%]                               95.3 kB/s 48s"
       ]
      },
      {
       "output_type": "stream",
       "stream": "stdout",
       "text": [
        "\r",
        "92% [83 libsane 226 kB/1,929 kB 12%]                              95.3 kB/s 47s"
       ]
      },
      {
       "output_type": "stream",
       "stream": "stdout",
       "text": [
        "\r",
        "92% [83 libsane 363 kB/1,929 kB 19%]                              95.3 kB/s 46s"
       ]
      },
      {
       "output_type": "stream",
       "stream": "stdout",
       "text": [
        "\r",
        "92% [83 libsane 425 kB/1,929 kB 22%]                              95.3 kB/s 45s"
       ]
      },
      {
       "output_type": "stream",
       "stream": "stdout",
       "text": [
        "\r",
        "92% [83 libsane 523 kB/1,929 kB 27%]                              95.3 kB/s 44s"
       ]
      },
      {
       "output_type": "stream",
       "stream": "stdout",
       "text": [
        "\r",
        "93% [83 libsane 614 kB/1,929 kB 32%]                              95.3 kB/s 43s"
       ]
      },
      {
       "output_type": "stream",
       "stream": "stdout",
       "text": [
        "\r",
        "93% [83 libsane 679 kB/1,929 kB 35%]                               118 kB/s 34s"
       ]
      },
      {
       "output_type": "stream",
       "stream": "stdout",
       "text": [
        "\r",
        "93% [83 libsane 807 kB/1,929 kB 42%]                               118 kB/s 33s"
       ]
      },
      {
       "output_type": "stream",
       "stream": "stdout",
       "text": [
        "\r",
        "93% [83 libsane 871 kB/1,929 kB 45%]                               118 kB/s 32s"
       ]
      },
      {
       "output_type": "stream",
       "stream": "stdout",
       "text": [
        "\r",
        "93% [83 libsane 992 kB/1,929 kB 51%]                               118 kB/s 31s"
       ]
      },
      {
       "output_type": "stream",
       "stream": "stdout",
       "text": [
        "\r",
        "93% [83 libsane 1,064 kB/1,929 kB 55%]                             118 kB/s 31s"
       ]
      },
      {
       "output_type": "stream",
       "stream": "stdout",
       "text": [
        "\r",
        "94% [83 libsane 1,173 kB/1,929 kB 61%]                             118 kB/s 30s"
       ]
      },
      {
       "output_type": "stream",
       "stream": "stdout",
       "text": [
        "\r",
        "94% [83 libsane 1,251 kB/1,929 kB 65%]                             118 kB/s 29s"
       ]
      },
      {
       "output_type": "stream",
       "stream": "stdout",
       "text": [
        "\r",
        "94% [83 libsane 1,336 kB/1,929 kB 69%]                             118 kB/s 29s"
       ]
      },
      {
       "output_type": "stream",
       "stream": "stdout",
       "text": [
        "\r",
        "94% [83 libsane 1,447 kB/1,929 kB 75%]                             118 kB/s 28s"
       ]
      },
      {
       "output_type": "stream",
       "stream": "stdout",
       "text": [
        "\r",
        "94% [83 libsane 1,520 kB/1,929 kB 79%]                             118 kB/s 27s"
       ]
      },
      {
       "output_type": "stream",
       "stream": "stdout",
       "text": [
        "\r",
        "94% [83 libsane 1,610 kB/1,929 kB 83%]                             118 kB/s 26s"
       ]
      },
      {
       "output_type": "stream",
       "stream": "stdout",
       "text": [
        "\r",
        "94% [83 libsane 1,704 kB/1,929 kB 88%]                             118 kB/s 25s"
       ]
      },
      {
       "output_type": "stream",
       "stream": "stdout",
       "text": [
        "\r",
        "95% [83 libsane 1,812 kB/1,929 kB 94%]                             188 kB/s 15s"
       ]
      },
      {
       "output_type": "stream",
       "stream": "stdout",
       "text": [
        "\r",
        "95% [83 libsane 1,885 kB/1,929 kB 98%]                             188 kB/s 15s"
       ]
      },
      {
       "output_type": "stream",
       "stream": "stdout",
       "text": [
        "\r",
        "95% [Working]                                                      188 kB/s 15s"
       ]
      },
      {
       "output_type": "stream",
       "stream": "stdout",
       "text": [
        "\r",
        "                                                                               \r",
        "Get:84 http://archive.ubuntu.com/ubuntu/ trusty/main libsecret-common all 0.16-0ubuntu1 [4,166 B]\r\n",
        "\r",
        "95% [84 libsecret-common 0 B/4,166 B 0%]                           188 kB/s 15s\r",
        "95% [Working]                                                      188 kB/s 15s"
       ]
      },
      {
       "output_type": "stream",
       "stream": "stdout",
       "text": [
        "\r",
        "95% [Waiting for headers]                                          188 kB/s 15s"
       ]
      },
      {
       "output_type": "stream",
       "stream": "stdout",
       "text": [
        "\r",
        "                                                                               \r",
        "Get:85 http://archive.ubuntu.com/ubuntu/ trusty/main libsecret-1-0 amd64 0.16-0ubuntu1 [90.7 kB]\r\n",
        "\r",
        "95% [85 libsecret-1-0 0 B/90.7 kB 0%]                              188 kB/s 15s"
       ]
      },
      {
       "output_type": "stream",
       "stream": "stdout",
       "text": [
        "\r",
        "95% [85 libsecret-1-0 14.3 kB/90.7 kB 16%]                         188 kB/s 15s"
       ]
      },
      {
       "output_type": "stream",
       "stream": "stdout",
       "text": [
        "\r",
        "95% [85 libsecret-1-0 69.8 kB/90.7 kB 77%]                         188 kB/s 14s"
       ]
      },
      {
       "output_type": "stream",
       "stream": "stdout",
       "text": [
        "\r",
        "95% [Working]                                                      188 kB/s 14s"
       ]
      },
      {
       "output_type": "stream",
       "stream": "stdout",
       "text": [
        "\r",
        "                                                                               \r",
        "Get:86 http://archive.ubuntu.com/ubuntu/ trusty/main libudisks2-0 amd64 2.1.3-1 [90.7 kB]\r\n",
        "\r",
        "95% [86 libudisks2-0 0 B/90.7 kB 0%]                               188 kB/s 14s"
       ]
      },
      {
       "output_type": "stream",
       "stream": "stdout",
       "text": [
        "\r",
        "95% [86 libudisks2-0 34.7 kB/90.7 kB 38%]                          188 kB/s 14s"
       ]
      },
      {
       "output_type": "stream",
       "stream": "stdout",
       "text": [
        "\r",
        "95% [86 libudisks2-0 65.4 kB/90.7 kB 72%]                          188 kB/s 14s"
       ]
      },
      {
       "output_type": "stream",
       "stream": "stdout",
       "text": [
        "\r",
        "95% [Working]                                                      188 kB/s 14s"
       ]
      },
      {
       "output_type": "stream",
       "stream": "stdout",
       "text": [
        "\r",
        "                                                                               \r",
        "Get:87 http://archive.ubuntu.com/ubuntu/ trusty/main libgusb2 amd64 0.1.6-5 [15.4 kB]\r\n",
        "\r",
        "95% [87 libgusb2 0 B/15.4 kB 0%]                                   188 kB/s 14s"
       ]
      },
      {
       "output_type": "stream",
       "stream": "stdout",
       "text": [
        "\r",
        "95% [Working]                                                      188 kB/s 14s"
       ]
      },
      {
       "output_type": "stream",
       "stream": "stdout",
       "text": [
        "\r",
        "95% [Waiting for headers]                                          188 kB/s 14s"
       ]
      },
      {
       "output_type": "stream",
       "stream": "stdout",
       "text": [
        "\r",
        "                                                                               \r",
        "Get:88 http://archive.ubuntu.com/ubuntu/ trusty/main libcolorhug1 amd64 1.0.6-1 [21.7 kB]\r\n",
        "\r",
        "95% [88 libcolorhug1 0 B/21.7 kB 0%]                              52.4 kB/s 50s"
       ]
      },
      {
       "output_type": "stream",
       "stream": "stdout",
       "text": [
        "\r",
        "95% [Working]                                                     52.4 kB/s 50s"
       ]
      },
      {
       "output_type": "stream",
       "stream": "stdout",
       "text": [
        "\r",
        "                                                                               \r",
        "Get:89 http://archive.ubuntu.com/ubuntu/ trusty/main at-spi2-core amd64 2.10.2.is.2.10.1-0ubuntu1 [43.1 kB]\r\n",
        "\r",
        "95% [89 at-spi2-core 0 B/43.1 kB 0%]                              52.4 kB/s 50s"
       ]
      },
      {
       "output_type": "stream",
       "stream": "stdout",
       "text": [
        "\r",
        "95% [Working]                                                     52.4 kB/s 49s"
       ]
      },
      {
       "output_type": "stream",
       "stream": "stdout",
       "text": [
        "\r",
        "95% [Waiting for headers]                                         52.4 kB/s 49s"
       ]
      },
      {
       "output_type": "stream",
       "stream": "stdout",
       "text": [
        "\r",
        "                                                                               \r",
        "Get:90 http://archive.ubuntu.com/ubuntu/ trusty/main colord amd64 1.0.6-1 [213 kB]\r\n",
        "\r",
        "95% [90 colord 0 B/213 kB 0%]                                     52.4 kB/s 49s"
       ]
      },
      {
       "output_type": "stream",
       "stream": "stdout",
       "text": [
        "\r",
        "95% [90 colord 36.2 kB/213 kB 17%]                                52.4 kB/s 48s"
       ]
      },
      {
       "output_type": "stream",
       "stream": "stdout",
       "text": [
        "\r",
        "96% [90 colord 88.1 kB/213 kB 41%]                                52.4 kB/s 47s"
       ]
      },
      {
       "output_type": "stream",
       "stream": "stdout",
       "text": [
        "\r",
        "96% [90 colord 189 kB/213 kB 89%]                                 52.4 kB/s 45s"
       ]
      },
      {
       "output_type": "stream",
       "stream": "stdout",
       "text": [
        "\r",
        "96% [Working]                                                     52.4 kB/s 45s"
       ]
      },
      {
       "output_type": "stream",
       "stream": "stdout",
       "text": [
        "\r",
        "96% [Waiting for headers]                                         52.4 kB/s 45s"
       ]
      },
      {
       "output_type": "stream",
       "stream": "stdout",
       "text": [
        "\r",
        "                                                                               \r",
        "Get:91 http://archive.ubuntu.com/ubuntu/ trusty/main desktop-file-utils amd64 0.22-1ubuntu1 [43.2 kB]\r\n",
        "\r",
        "96% [91 desktop-file-utils 0 B/43.2 kB 0%]                        52.4 kB/s 45s"
       ]
      },
      {
       "output_type": "stream",
       "stream": "stdout",
       "text": [
        "\r",
        "96% [91 desktop-file-utils 36.2 kB/43.2 kB 84%]                   52.4 kB/s 44s"
       ]
      },
      {
       "output_type": "stream",
       "stream": "stdout",
       "text": [
        "\r",
        "96% [Working]                                                     52.4 kB/s 44s"
       ]
      },
      {
       "output_type": "stream",
       "stream": "stdout",
       "text": [
        "\r",
        "96% [Waiting for headers]                                         52.4 kB/s 44s"
       ]
      },
      {
       "output_type": "stream",
       "stream": "stdout",
       "text": [
        "\r",
        "                                                                               \r",
        "Get:92 http://archive.ubuntu.com/ubuntu/ trusty/main fonts-dejavu-extra all 2.34-1ubuntu1 [1,736 kB]\r\n",
        "\r",
        "96% [92 fonts-dejavu-extra 0 B/1,736 kB 0%]                       52.4 kB/s 44s"
       ]
      },
      {
       "output_type": "stream",
       "stream": "stdout",
       "text": [
        "\r",
        "96% [92 fonts-dejavu-extra 14.3 kB/1,736 kB 1%]                   55.5 kB/s 41s"
       ]
      },
      {
       "output_type": "stream",
       "stream": "stdout",
       "text": [
        "\r",
        "96% [92 fonts-dejavu-extra 78.5 kB/1,736 kB 5%]                   55.5 kB/s 40s"
       ]
      },
      {
       "output_type": "stream",
       "stream": "stdout",
       "text": [
        "\r",
        "96% [92 fonts-dejavu-extra 103 kB/1,736 kB 6%]                    55.5 kB/s 39s"
       ]
      },
      {
       "output_type": "stream",
       "stream": "stdout",
       "text": [
        "\r",
        "96% [92 fonts-dejavu-extra 151 kB/1,736 kB 9%]                    55.5 kB/s 39s"
       ]
      },
      {
       "output_type": "stream",
       "stream": "stdout",
       "text": [
        "\r",
        "96% [92 fonts-dejavu-extra 207 kB/1,736 kB 12%]                   55.5 kB/s 38s"
       ]
      },
      {
       "output_type": "stream",
       "stream": "stdout",
       "text": [
        "\r",
        "96% [92 fonts-dejavu-extra 286 kB/1,736 kB 16%]                   55.5 kB/s 36s"
       ]
      },
      {
       "output_type": "stream",
       "stream": "stdout",
       "text": [
        "\r",
        "97% [92 fonts-dejavu-extra 398 kB/1,736 kB 23%]                   55.5 kB/s 34s"
       ]
      },
      {
       "output_type": "stream",
       "stream": "stdout",
       "text": [
        "\r",
        "97% [92 fonts-dejavu-extra 458 kB/1,736 kB 26%]                   55.5 kB/s 33s"
       ]
      },
      {
       "output_type": "stream",
       "stream": "stdout",
       "text": [
        "\r",
        "97% [92 fonts-dejavu-extra 562 kB/1,736 kB 32%]                   55.5 kB/s 31s"
       ]
      },
      {
       "output_type": "stream",
       "stream": "stdout",
       "text": [
        "\r",
        "97% [92 fonts-dejavu-extra 610 kB/1,736 kB 35%]                   55.5 kB/s 30s"
       ]
      },
      {
       "output_type": "stream",
       "stream": "stdout",
       "text": [
        "\r",
        "97% [92 fonts-dejavu-extra 657 kB/1,736 kB 38%]                   55.5 kB/s 30s"
       ]
      },
      {
       "output_type": "stream",
       "stream": "stdout",
       "text": [
        "\r",
        "97% [92 fonts-dejavu-extra 769 kB/1,736 kB 44%]                   55.5 kB/s 27s"
       ]
      },
      {
       "output_type": "stream",
       "stream": "stdout",
       "text": [
        "\r",
        "98% [92 fonts-dejavu-extra 969 kB/1,736 kB 56%]                     159 kB/s 8s"
       ]
      },
      {
       "output_type": "stream",
       "stream": "stdout",
       "text": [
        "\r",
        "98% [92 fonts-dejavu-extra 1,052 kB/1,736 kB 61%]                   159 kB/s 8s"
       ]
      },
      {
       "output_type": "stream",
       "stream": "stdout",
       "text": [
        "\r",
        "98% [92 fonts-dejavu-extra 1,063 kB/1,736 kB 61%]                   159 kB/s 7s"
       ]
      },
      {
       "output_type": "stream",
       "stream": "stdout",
       "text": [
        "\r",
        "98% [92 fonts-dejavu-extra 1,106 kB/1,736 kB 64%]                   159 kB/s 7s"
       ]
      },
      {
       "output_type": "stream",
       "stream": "stdout",
       "text": [
        "\r",
        "98% [92 fonts-dejavu-extra 1,134 kB/1,736 kB 65%]                   159 kB/s 7s"
       ]
      },
      {
       "output_type": "stream",
       "stream": "stdout",
       "text": [
        "\r",
        "98% [92 fonts-dejavu-extra 1,203 kB/1,736 kB 69%]                   159 kB/s 7s"
       ]
      },
      {
       "output_type": "stream",
       "stream": "stdout",
       "text": [
        "\r",
        "98% [92 fonts-dejavu-extra 1,267 kB/1,736 kB 73%]                   159 kB/s 6s"
       ]
      },
      {
       "output_type": "stream",
       "stream": "stdout",
       "text": [
        "\r",
        "98% [92 fonts-dejavu-extra 1,331 kB/1,736 kB 77%]                   159 kB/s 6s"
       ]
      },
      {
       "output_type": "stream",
       "stream": "stdout",
       "text": [
        "\r",
        "98% [92 fonts-dejavu-extra 1,455 kB/1,736 kB 84%]                   159 kB/s 5s"
       ]
      },
      {
       "output_type": "stream",
       "stream": "stdout",
       "text": [
        "\r",
        "99% [92 fonts-dejavu-extra 1,524 kB/1,736 kB 88%]                   159 kB/s 5s"
       ]
      },
      {
       "output_type": "stream",
       "stream": "stdout",
       "text": [
        "\r",
        "99% [92 fonts-dejavu-extra 1,641 kB/1,736 kB 94%]                   159 kB/s 4s"
       ]
      },
      {
       "output_type": "stream",
       "stream": "stdout",
       "text": [
        "\r",
        "99% [Working]                                                       159 kB/s 3s"
       ]
      },
      {
       "output_type": "stream",
       "stream": "stdout",
       "text": [
        "\r",
        "99% [Waiting for headers]                                           159 kB/s 3s"
       ]
      },
      {
       "output_type": "stream",
       "stream": "stdout",
       "text": [
        "\r",
        "                                                                               \r",
        "Get:93 http://archive.ubuntu.com/ubuntu/ trusty/main udisks2 amd64 2.1.3-1 [170 kB]\r\n",
        "\r",
        "99% [93 udisks2 0 B/170 kB 0%]                                      124 kB/s 4s"
       ]
      },
      {
       "output_type": "stream",
       "stream": "stdout",
       "text": [
        "\r",
        "99% [93 udisks2 23.1 kB/170 kB 14%]                                 124 kB/s 4s"
       ]
      },
      {
       "output_type": "stream",
       "stream": "stdout",
       "text": [
        "\r",
        "99% [93 udisks2 66.9 kB/170 kB 39%]                                 124 kB/s 4s"
       ]
      },
      {
       "output_type": "stream",
       "stream": "stdout",
       "text": [
        "\r",
        "99% [Working]                                                       124 kB/s 3s"
       ]
      },
      {
       "output_type": "stream",
       "stream": "stdout",
       "text": [
        "\r",
        "99% [Waiting for headers]                                           124 kB/s 3s"
       ]
      },
      {
       "output_type": "stream",
       "stream": "stdout",
       "text": [
        "\r",
        "                                                                               \r",
        "Get:94 http://archive.ubuntu.com/ubuntu/ trusty/main gvfs-common all 1.20.1-1ubuntu1 [42.0 kB]\r\n",
        "\r",
        "99% [94 gvfs-common 0 B/42.0 kB 0%]                                 124 kB/s 3s"
       ]
      },
      {
       "output_type": "stream",
       "stream": "stdout",
       "text": [
        "\r",
        "99% [94 gvfs-common 14.3 kB/42.0 kB 34%]                            124 kB/s 3s"
       ]
      },
      {
       "output_type": "stream",
       "stream": "stdout",
       "text": [
        "\r",
        "99% [Working]                                                       124 kB/s 3s"
       ]
      },
      {
       "output_type": "stream",
       "stream": "stdout",
       "text": [
        "\r",
        "                                                                               \r",
        "Get:95 http://archive.ubuntu.com/ubuntu/ trusty/main gvfs-libs amd64 1.20.1-1ubuntu1 [104 kB]\r\n",
        "\r",
        "99% [95 gvfs-libs 0 B/104 kB 0%]                                    124 kB/s 3s"
       ]
      },
      {
       "output_type": "stream",
       "stream": "stdout",
       "text": [
        "\r",
        "99% [95 gvfs-libs 30.3 kB/104 kB 29%]                               124 kB/s 2s"
       ]
      },
      {
       "output_type": "stream",
       "stream": "stdout",
       "text": [
        "\r",
        "100% [Working]                                                      124 kB/s 2s"
       ]
      },
      {
       "output_type": "stream",
       "stream": "stdout",
       "text": [
        "\r",
        "                                                                               \r",
        "Get:96 http://archive.ubuntu.com/ubuntu/ trusty/main gvfs-daemons amd64 1.20.1-1ubuntu1 [108 kB]\r\n",
        "\r",
        "100% [96 gvfs-daemons 0 B/108 kB 0%]                                124 kB/s 2s"
       ]
      },
      {
       "output_type": "stream",
       "stream": "stdout",
       "text": [
        "\r",
        "100% [96 gvfs-daemons 21.6 kB/108 kB 20%]                           124 kB/s 2s"
       ]
      },
      {
       "output_type": "stream",
       "stream": "stdout",
       "text": [
        "\r",
        "100% [96 gvfs-daemons 69.8 kB/108 kB 65%]                           124 kB/s 1s"
       ]
      },
      {
       "output_type": "stream",
       "stream": "stdout",
       "text": [
        "\r",
        "100% [96 gvfs-daemons 69.8 kB/108 kB 65%]                           124 kB/s 1s"
       ]
      },
      {
       "output_type": "stream",
       "stream": "stdout",
       "text": [
        "\r",
        "100% [96 gvfs-daemons 104 kB/108 kB 97%]                           67.7 kB/s 2s"
       ]
      },
      {
       "output_type": "stream",
       "stream": "stdout",
       "text": [
        "\r",
        "100% [Working]                                                     67.7 kB/s 2s"
       ]
      },
      {
       "output_type": "stream",
       "stream": "stdout",
       "text": [
        "\r",
        "                                                                               \r",
        "Get:97 http://archive.ubuntu.com/ubuntu/ trusty/main gvfs amd64 1.20.1-1ubuntu1 [89.7 kB]\r\n",
        "\r",
        "100% [97 gvfs 0 B/89.7 kB 0%]                                      67.7 kB/s 2s"
       ]
      },
      {
       "output_type": "stream",
       "stream": "stdout",
       "text": [
        "\r",
        "100% [97 gvfs 28.9 kB/89.7 kB 32%]                                 67.7 kB/s 1s"
       ]
      },
      {
       "output_type": "stream",
       "stream": "stdout",
       "text": [
        "\r",
        "100% [97 gvfs 81.5 kB/89.7 kB 91%]                                 67.7 kB/s 1s"
       ]
      },
      {
       "output_type": "stream",
       "stream": "stdout",
       "text": [
        "\r",
        "100% [Working]                                                     67.7 kB/s 1s"
       ]
      },
      {
       "output_type": "stream",
       "stream": "stdout",
       "text": [
        "\r",
        "                                                                               \r",
        "Get:98 http://archive.ubuntu.com/ubuntu/ trusty/main hicolor-icon-theme all 0.13-1 [7,140 B]\r\n",
        "\r",
        "100% [98 hicolor-icon-theme 0 B/7,140 B 0%]                        67.7 kB/s 1s\r",
        "100% [Working]                                                     67.7 kB/s 0s"
       ]
      },
      {
       "output_type": "stream",
       "stream": "stdout",
       "text": [
        "\r",
        "100% [Waiting for headers]                                         67.7 kB/s 0s"
       ]
      },
      {
       "output_type": "stream",
       "stream": "stdout",
       "text": [
        "\r",
        "                                                                               \r",
        "Get:99 http://archive.ubuntu.com/ubuntu/ trusty/main libgconf2-4 amd64 3.2.6-0ubuntu2 [2,042 B]\r\n",
        "\r",
        "100% [99 libgconf2-4 0 B/2,042 B 0%]                               67.7 kB/s 0s\r",
        "100% [Working]                                                     67.7 kB/s 0s"
       ]
      },
      {
       "output_type": "stream",
       "stream": "stdout",
       "text": [
        "\r",
        "100% [Waiting for headers]                                         67.7 kB/s 0s"
       ]
      },
      {
       "output_type": "stream",
       "stream": "stdout",
       "text": [
        "\r",
        "                                                                               \r",
        "Get:100 http://archive.ubuntu.com/ubuntu/ trusty-updates/main libgphoto2-l10n all 2.5.3.1-1ubuntu2.2 [7,602 B]\r\n",
        "\r",
        "100% [100 libgphoto2-l10n 0 B/7,602 B 0%]                          67.7 kB/s 0s\r",
        "100% [Working]                                                     67.7 kB/s 0s"
       ]
      },
      {
       "output_type": "stream",
       "stream": "stdout",
       "text": [
        "\r",
        "                                                                               \r",
        "Get:101 http://archive.ubuntu.com/ubuntu/ trusty-updates/main libgtk-3-bin amd64 3.10.8-0ubuntu1.2 [18.1 kB]\r\n",
        "\r",
        "100% [101 libgtk-3-bin 0 B/18.1 kB 0%]                             67.7 kB/s 0s"
       ]
      },
      {
       "output_type": "stream",
       "stream": "stdout",
       "text": [
        "\r",
        "100% [Working]                                                     67.7 kB/s 0s"
       ]
      },
      {
       "output_type": "stream",
       "stream": "stdout",
       "text": [
        "\r",
        "                                                                               \r",
        "Get:102 http://archive.ubuntu.com/ubuntu/ trusty-updates/main libgtk2.0-bin amd64 2.24.23-0ubuntu1.1 [9,738 B]\r\n",
        "\r",
        "100% [102 libgtk2.0-bin 0 B/9,738 B 0%]                            67.7 kB/s 0s\r",
        "100% [Working]                                                     67.7 kB/s 0s"
       ]
      },
      {
       "output_type": "stream",
       "stream": "stdout",
       "text": [
        "\r",
        "                                                                               \r",
        "Get:103 http://archive.ubuntu.com/ubuntu/ trusty/main policykit-1-gnome amd64 0.105-1ubuntu4 [27.8 kB]\r\n",
        "\r",
        "100% [103 policykit-1-gnome 0 B/27.8 kB 0%]                        67.7 kB/s 0s"
       ]
      },
      {
       "output_type": "stream",
       "stream": "stdout",
       "text": [
        "\r",
        "100% [Working]                                                     67.7 kB/s 0s\r",
        "                                                                               \r",
        "Fetched 55.8 MB in 5min 28s (170 kB/s)\r\n"
       ]
      },
      {
       "output_type": "stream",
       "stream": "stdout",
       "text": [
        "\r",
        "Extracting templates from packages: 29%"
       ]
      },
      {
       "output_type": "stream",
       "stream": "stdout",
       "text": [
        "\r",
        "Extracting templates from packages: 58%"
       ]
      },
      {
       "output_type": "stream",
       "stream": "stdout",
       "text": [
        "\r",
        "Extracting templates from packages: 87%\r",
        "Extracting templates from packages: 100%\r\n"
       ]
      },
      {
       "output_type": "stream",
       "stream": "stdout",
       "text": [
        "Selecting previously unselected package libasound2-data.\r\n",
        "(Reading database ... \r",
        "(Reading database ... 5%\r",
        "(Reading database ... 10%\r",
        "(Reading database ... 15%\r",
        "(Reading database ... 20%\r",
        "(Reading database ... 25%\r",
        "(Reading database ... 30%\r",
        "(Reading database ... 35%\r",
        "(Reading database ... 40%\r",
        "(Reading database ... 45%\r",
        "(Reading database ... 50%\r",
        "(Reading database ... 55%\r",
        "(Reading database ... 60%\r"
       ]
      },
      {
       "output_type": "stream",
       "stream": "stdout",
       "text": [
        "(Reading database ... 65%\r",
        "(Reading database ... 70%\r"
       ]
      },
      {
       "output_type": "stream",
       "stream": "stdout",
       "text": [
        "(Reading database ... 75%\r"
       ]
      },
      {
       "output_type": "stream",
       "stream": "stdout",
       "text": [
        "(Reading database ... 80%\r",
        "(Reading database ... 85%\r"
       ]
      },
      {
       "output_type": "stream",
       "stream": "stdout",
       "text": [
        "(Reading database ... 90%\r"
       ]
      },
      {
       "output_type": "stream",
       "stream": "stdout",
       "text": [
        "(Reading database ... 95%\r",
        "(Reading database ... 100%\r",
        "(Reading database ... 70467 files and directories currently installed.)\r\n",
        "Preparing to unpack .../libasound2-data_1.0.27.2-3ubuntu7_all.deb ...\r\n",
        "Unpacking libasound2-data (1.0.27.2-3ubuntu7) ...\r\n"
       ]
      },
      {
       "output_type": "stream",
       "stream": "stdout",
       "text": [
        "Selecting previously unselected package libasound2:amd64.\r\n",
        "Preparing to unpack .../libasound2_1.0.27.2-3ubuntu7_amd64.deb ...\r\n",
        "Unpacking libasound2:amd64 (1.0.27.2-3ubuntu7) ...\r\n"
       ]
      },
      {
       "output_type": "stream",
       "stream": "stdout",
       "text": [
        "Selecting previously unselected package libasyncns0:amd64.\r\n",
        "Preparing to unpack .../libasyncns0_0.8-4ubuntu2_amd64.deb ...\r\n",
        "Unpacking libasyncns0:amd64 (0.8-4ubuntu2) ...\r\n",
        "Selecting previously unselected package libatasmart4:amd64.\r\n",
        "Preparing to unpack .../libatasmart4_0.19-3_amd64.deb ...\r\n"
       ]
      },
      {
       "output_type": "stream",
       "stream": "stdout",
       "text": [
        "Unpacking libatasmart4:amd64 (0.19-3) ...\r\n",
        "Selecting previously unselected package libatk1.0-data.\r\n",
        "Preparing to unpack .../libatk1.0-data_2.10.0-2ubuntu2_all.deb ...\r\n",
        "Unpacking libatk1.0-data (2.10.0-2ubuntu2) ...\r\n",
        "Selecting previously unselected package libatk1.0-0:amd64."
       ]
      },
      {
       "output_type": "stream",
       "stream": "stdout",
       "text": [
        "\r\n",
        "Preparing to unpack .../libatk1.0-0_2.10.0-2ubuntu2_amd64.deb ...\r\n",
        "Unpacking libatk1.0-0:amd64 (2.10.0-2ubuntu2) ...\r\n",
        "Selecting previously unselected package libatspi2.0-0:amd64.\r\n",
        "Preparing to unpack .../libatspi2.0-0_2.10.2.is.2.10.1-0ubuntu1_amd64.deb ...\r\n",
        "Unpacking libatspi2.0-0:amd64 (2.10.2.is.2.10.1-0ubuntu1) ...\r\n"
       ]
      },
      {
       "output_type": "stream",
       "stream": "stdout",
       "text": [
        "Selecting previously unselected package libatk-bridge2.0-0:amd64.\r\n",
        "Preparing to unpack .../libatk-bridge2.0-0_2.10.2-2ubuntu1_amd64.deb ...\r\n",
        "Unpacking libatk-bridge2.0-0:amd64 (2.10.2-2ubuntu1) ...\r\n",
        "Selecting previously unselected package libgtk2.0-common.\r\n",
        "Preparing to unpack .../libgtk2.0-common_2.24.23-0ubuntu1.1_all.deb ...\r\n"
       ]
      },
      {
       "output_type": "stream",
       "stream": "stdout",
       "text": [
        "Unpacking libgtk2.0-common (2.24.23-0ubuntu1.1) ...\r\n",
        "Selecting previously unselected package libavahi-common-data:amd64.\r\n",
        "Preparing to unpack .../libavahi-common-data_0.6.31-4ubuntu1_amd64.deb ...\r\n",
        "Unpacking libavahi-common-data:amd64 (0.6.31-4ubuntu1) ...\r\n"
       ]
      },
      {
       "output_type": "stream",
       "stream": "stdout",
       "text": [
        "Selecting previously unselected package libavahi-common3:amd64.\r\n",
        "Preparing to unpack .../libavahi-common3_0.6.31-4ubuntu1_amd64.deb ...\r\n",
        "Unpacking libavahi-common3:amd64 (0.6.31-4ubuntu1) ...\r\n",
        "Selecting previously unselected package libavahi-client3:amd64.\r\n",
        "Preparing to unpack .../libavahi-client3_0.6.31-4ubuntu1_amd64.deb ...\r\n",
        "Unpacking libavahi-client3:amd64 (0.6.31-4ubuntu1) ...\r\n"
       ]
      },
      {
       "output_type": "stream",
       "stream": "stdout",
       "text": [
        "Selecting previously unselected package libcups2:amd64.\r\n",
        "Preparing to unpack .../libcups2_1.7.2-0ubuntu1.2_amd64.deb ...\r\n",
        "Unpacking libcups2:amd64 (1.7.2-0ubuntu1.2) ...\r\n"
       ]
      },
      {
       "output_type": "stream",
       "stream": "stdout",
       "text": [
        "Selecting previously unselected package libjasper1:amd64.\r\n",
        "Preparing to unpack .../libjasper1_1.900.1-14ubuntu3_amd64.deb ...\r\n",
        "Unpacking libjasper1:amd64 (1.900.1-14ubuntu3) ...\r\n"
       ]
      },
      {
       "output_type": "stream",
       "stream": "stdout",
       "text": [
        "Selecting previously unselected package libgdk-pixbuf2.0-common.\r\n",
        "Preparing to unpack .../libgdk-pixbuf2.0-common_2.30.7-0ubuntu1_all.deb ...\r\n",
        "Unpacking libgdk-pixbuf2.0-common (2.30.7-0ubuntu1) ...\r\n",
        "Selecting previously unselected package libgdk-pixbuf2.0-0:amd64.\r\n",
        "Preparing to unpack .../libgdk-pixbuf2.0-0_2.30.7-0ubuntu1_amd64.deb ...\r\n",
        "Unpacking libgdk-pixbuf2.0-0:amd64 (2.30.7-0ubuntu1) ...\r\n"
       ]
      },
      {
       "output_type": "stream",
       "stream": "stdout",
       "text": [
        "Selecting previously unselected package libgtk2.0-0:amd64.\r\n",
        "Preparing to unpack .../libgtk2.0-0_2.24.23-0ubuntu1.1_amd64.deb ...\r\n",
        "Unpacking libgtk2.0-0:amd64 (2.24.23-0ubuntu1.1) ...\r\n"
       ]
      },
      {
       "output_type": "stream",
       "stream": "stdout",
       "text": [
        "Selecting previously unselected package libnspr4:amd64.\r\n",
        "Preparing to unpack .../libnspr4_2%3a4.10.7-0ubuntu0.14.04.1_amd64.deb ...\r\n",
        "Unpacking libnspr4:amd64 (2:4.10.7-0ubuntu0.14.04.1) ...\r\n",
        "Selecting previously unselected package libnss3-nssdb.\r\n",
        "Preparing to unpack .../libnss3-nssdb_2%3a3.17.1-0ubuntu0.14.04.1_all.deb ...\r\n",
        "Unpacking libnss3-nssdb (2:3.17.1-0ubuntu0.14.04.1) ..."
       ]
      },
      {
       "output_type": "stream",
       "stream": "stdout",
       "text": [
        "\r\n",
        "Selecting previously unselected package libnss3:amd64.\r\n",
        "Preparing to unpack .../libnss3_2%3a3.17.1-0ubuntu0.14.04.1_amd64.deb ...\r\n",
        "Unpacking libnss3:amd64 (2:3.17.1-0ubuntu0.14.04.1) ...\r\n"
       ]
      },
      {
       "output_type": "stream",
       "stream": "stdout",
       "text": [
        "Selecting previously unselected package ca-certificates-java.\r\n",
        "Preparing to unpack .../ca-certificates-java_20130815ubuntu1_all.deb ...\r\n",
        "Unpacking ca-certificates-java (20130815ubuntu1) ...\r\n"
       ]
      },
      {
       "output_type": "stream",
       "stream": "stdout",
       "text": [
        "Selecting previously unselected package tzdata-java.\r\n",
        "Preparing to unpack .../tzdata-java_2014e-0ubuntu0.14.04_all.deb ...\r\n",
        "Unpacking tzdata-java (2014e-0ubuntu0.14.04) ...\r\n"
       ]
      },
      {
       "output_type": "stream",
       "stream": "stdout",
       "text": [
        "Selecting previously unselected package java-common.\r\n",
        "Preparing to unpack .../java-common_0.51_all.deb ...\r\n",
        "Unpacking java-common (0.51) ...\r\n"
       ]
      },
      {
       "output_type": "stream",
       "stream": "stdout",
       "text": [
        "Selecting previously unselected package libnss3-1d:amd64.\r\n",
        "Preparing to unpack .../libnss3-1d_2%3a3.17.1-0ubuntu0.14.04.1_amd64.deb ...\r\n",
        "Unpacking libnss3-1d:amd64 (2:3.17.1-0ubuntu0.14.04.1) ...\r\n",
        "Selecting previously unselected package libpcsclite1:amd64.\r\n"
       ]
      },
      {
       "output_type": "stream",
       "stream": "stdout",
       "text": [
        "Preparing to unpack .../libpcsclite1_1.8.10-1ubuntu1_amd64.deb ...\r\n",
        "Unpacking libpcsclite1:amd64 (1.8.10-1ubuntu1) ...\r\n",
        "Selecting previously unselected package openjdk-7-jre-headless:amd64.\r\n",
        "Preparing to unpack .../openjdk-7-jre-headless_7u65-2.5.2-3~14.04_amd64.deb ...\r\n",
        "Unpacking openjdk-7-jre-headless:amd64 (7u65-2.5.2-3~14.04) ...\r\n"
       ]
      },
      {
       "output_type": "stream",
       "stream": "stdout",
       "text": [
        "Selecting previously unselected package default-jre-headless.\r\n",
        "Preparing to unpack .../default-jre-headless_2%3a1.7-51_amd64.deb ...\r\n",
        "Unpacking default-jre-headless (2:1.7-51) ...\r\n",
        "Selecting previously unselected package libgif4:amd64.\r\n",
        "Preparing to unpack .../libgif4_4.1.6-11_amd64.deb ...\r\n",
        "Unpacking libgif4:amd64 (4.1.6-11) ...\r\n"
       ]
      },
      {
       "output_type": "stream",
       "stream": "stdout",
       "text": [
        "Selecting previously unselected package libogg0:amd64.\r\n",
        "Preparing to unpack .../libogg0_1.3.1-1ubuntu1_amd64.deb ...\r\n",
        "Unpacking libogg0:amd64 (1.3.1-1ubuntu1) ...\r\n",
        "Selecting previously unselected package libflac8:amd64.\r\n",
        "Preparing to unpack .../libflac8_1.3.0-2_amd64.deb ...\r\n",
        "Unpacking libflac8:amd64 (1.3.0-2) ...\r\n"
       ]
      },
      {
       "output_type": "stream",
       "stream": "stdout",
       "text": [
        "Selecting previously unselected package libvorbis0a:amd64.\r\n",
        "Preparing to unpack .../libvorbis0a_1.3.2-1.3ubuntu1_amd64.deb ...\r\n",
        "Unpacking libvorbis0a:amd64 (1.3.2-1.3ubuntu1) ...\r\n"
       ]
      },
      {
       "output_type": "stream",
       "stream": "stdout",
       "text": [
        "Selecting previously unselected package libvorbisenc2:amd64.\r\n",
        "Preparing to unpack .../libvorbisenc2_1.3.2-1.3ubuntu1_amd64.deb ...\r\n",
        "Unpacking libvorbisenc2:amd64 (1.3.2-1.3ubuntu1) ...\r\n"
       ]
      },
      {
       "output_type": "stream",
       "stream": "stdout",
       "text": [
        "Selecting previously unselected package libsndfile1:amd64.\r\n",
        "Preparing to unpack .../libsndfile1_1.0.25-7ubuntu2_amd64.deb ...\r\n",
        "Unpacking libsndfile1:amd64 (1.0.25-7ubuntu2) ...\r\n"
       ]
      },
      {
       "output_type": "stream",
       "stream": "stdout",
       "text": [
        "Selecting previously unselected package libpulse0:amd64.\r\n",
        "Preparing to unpack .../libpulse0_1%3a4.0-0ubuntu11_amd64.deb ...\r\n",
        "Unpacking libpulse0:amd64 (1:4.0-0ubuntu11) ...\r\n"
       ]
      },
      {
       "output_type": "stream",
       "stream": "stdout",
       "text": [
        "Selecting previously unselected package openjdk-7-jre:amd64.\r\n",
        "Preparing to unpack .../openjdk-7-jre_7u65-2.5.2-3~14.04_amd64.deb ...\r\n",
        "Unpacking openjdk-7-jre:amd64 (7u65-2.5.2-3~14.04) ...\r\n"
       ]
      },
      {
       "output_type": "stream",
       "stream": "stdout",
       "text": [
        "Selecting previously unselected package default-jre.\r\n",
        "Preparing to unpack .../default-jre_2%3a1.7-51_amd64.deb ...\r\n",
        "Unpacking default-jre (2:1.7-51) ...\r\n",
        "Selecting previously unselected package libatk-wrapper-java.\r\n",
        "Preparing to unpack .../libatk-wrapper-java_0.30.4-4_all.deb ...\r\n",
        "Unpacking libatk-wrapper-java (0.30.4-4) ..."
       ]
      },
      {
       "output_type": "stream",
       "stream": "stdout",
       "text": [
        "\r\n",
        "Selecting previously unselected package libatk-wrapper-java-jni:amd64.\r\n",
        "Preparing to unpack .../libatk-wrapper-java-jni_0.30.4-4_amd64.deb ...\r\n",
        "Unpacking libatk-wrapper-java-jni:amd64 (0.30.4-4) ...\r\n"
       ]
      },
      {
       "output_type": "stream",
       "stream": "stdout",
       "text": [
        "Selecting previously unselected package libavahi-glib1:amd64.\r\n",
        "Preparing to unpack .../libavahi-glib1_0.6.31-4ubuntu1_amd64.deb ...\r\n",
        "Unpacking libavahi-glib1:amd64 (0.6.31-4ubuntu1) ...\r\n",
        "Selecting previously unselected package libbonobo2-common.\r\n",
        "Preparing to unpack .../libbonobo2-common_2.32.1-0ubuntu5_all.deb ...\r\n",
        "Unpacking libbonobo2-common (2.32.1-0ubuntu5) ...\r\n"
       ]
      },
      {
       "output_type": "stream",
       "stream": "stdout",
       "text": [
        "Selecting previously unselected package libidl-common.\r\n",
        "Preparing to unpack .../libidl-common_0.8.14-0.2ubuntu4_all.deb ...\r\n",
        "Unpacking libidl-common (0.8.14-0.2ubuntu4) ...\r\n",
        "Selecting previously unselected package libidl0:amd64."
       ]
      },
      {
       "output_type": "stream",
       "stream": "stdout",
       "text": [
        "\r\n",
        "Preparing to unpack .../libidl0_0.8.14-0.2ubuntu4_amd64.deb ...\r\n",
        "Unpacking libidl0:amd64 (0.8.14-0.2ubuntu4) ...\r\n",
        "Selecting previously unselected package liborbit-2-0:amd64.\r\n",
        "Preparing to unpack .../liborbit-2-0_1%3a2.14.19-0.3_amd64.deb ...\r\n",
        "Unpacking liborbit-2-0:amd64 (1:2.14.19-0.3) ...\r\n"
       ]
      },
      {
       "output_type": "stream",
       "stream": "stdout",
       "text": [
        "Selecting previously unselected package liborbit2:amd64.\r\n",
        "Preparing to unpack .../liborbit2_1%3a2.14.19-0.3_amd64.deb ...\r\n",
        "Unpacking liborbit2:amd64 (1:2.14.19-0.3) ...\r\n"
       ]
      },
      {
       "output_type": "stream",
       "stream": "stdout",
       "text": [
        "Selecting previously unselected package libbonobo2-0:amd64.\r\n",
        "Preparing to unpack .../libbonobo2-0_2.32.1-0ubuntu5_amd64.deb ...\r\n",
        "Unpacking libbonobo2-0:amd64 (2.32.1-0ubuntu5) ...\r\n"
       ]
      },
      {
       "output_type": "stream",
       "stream": "stdout",
       "text": [
        "Selecting previously unselected package libcairo-gobject2:amd64.\r\n",
        "Preparing to unpack .../libcairo-gobject2_1.13.0~20140204-0ubuntu1_amd64.deb ...\r\n",
        "Unpacking libcairo-gobject2:amd64 (1.13.0~20140204-0ubuntu1) ...\r\n"
       ]
      },
      {
       "output_type": "stream",
       "stream": "stdout",
       "text": [
        "Selecting previously unselected package libltdl7:amd64.\r\n",
        "Preparing to unpack .../libltdl7_2.4.2-1.7ubuntu1_amd64.deb ...\r\n",
        "Unpacking libltdl7:amd64 (2.4.2-1.7ubuntu1) ...\r\n",
        "Selecting previously unselected package libtdb1:amd64.\r\n",
        "Preparing to unpack .../libtdb1_1.2.12-1_amd64.deb ...\r\n",
        "Unpacking libtdb1:amd64 (1.2.12-1) ...\r\n"
       ]
      },
      {
       "output_type": "stream",
       "stream": "stdout",
       "text": [
        "Selecting previously unselected package libvorbisfile3:amd64.\r\n",
        "Preparing to unpack .../libvorbisfile3_1.3.2-1.3ubuntu1_amd64.deb ...\r\n",
        "Unpacking libvorbisfile3:amd64 (1.3.2-1.3ubuntu1) ...\r\n",
        "Selecting previously unselected package sound-theme-freedesktop.\r\n",
        "Preparing to unpack .../sound-theme-freedesktop_0.8-1_all.deb ...\r\n",
        "Unpacking sound-theme-freedesktop (0.8-1) ...\r\n"
       ]
      },
      {
       "output_type": "stream",
       "stream": "stdout",
       "text": [
        "Selecting previously unselected package libcanberra0:amd64.\r\n",
        "Preparing to unpack .../libcanberra0_0.30-0ubuntu3_amd64.deb ...\r\n",
        "Unpacking libcanberra0:amd64 (0.30-0ubuntu3) ...\r\n",
        "Selecting previously unselected package libcolord1:amd64.\r\n",
        "Preparing to unpack .../libcolord1_1.0.6-1_amd64.deb ...\r\n",
        "Unpacking libcolord1:amd64 (1.0.6-1) ..."
       ]
      },
      {
       "output_type": "stream",
       "stream": "stdout",
       "text": [
        "\r\n",
        "Selecting previously unselected package libdconf1:amd64.\r\n",
        "Preparing to unpack .../libdconf1_0.20.0-1_amd64.deb ...\r\n",
        "Unpacking libdconf1:amd64 (0.20.0-1) ...\r\n"
       ]
      },
      {
       "output_type": "stream",
       "stream": "stdout",
       "text": [
        "Selecting previously unselected package libexif12:amd64.\r\n",
        "Preparing to unpack .../libexif12_0.6.21-1ubuntu1_amd64.deb ...\r\n",
        "Unpacking libexif12:amd64 (0.6.21-1ubuntu1) ...\r\n",
        "Selecting previously unselected package gconf2-common.\r\n"
       ]
      },
      {
       "output_type": "stream",
       "stream": "stdout",
       "text": [
        "Preparing to unpack .../gconf2-common_3.2.6-0ubuntu2_all.deb ...\r\n",
        "Unpacking gconf2-common (3.2.6-0ubuntu2) ...\r\n",
        "Selecting previously unselected package libgconf-2-4:amd64.\r\n",
        "Preparing to unpack .../libgconf-2-4_3.2.6-0ubuntu2_amd64.deb ...\r\n",
        "Unpacking libgconf-2-4:amd64 (3.2.6-0ubuntu2) ...\r\n"
       ]
      },
      {
       "output_type": "stream",
       "stream": "stdout",
       "text": [
        "Selecting previously unselected package libvpx1:amd64.\r\n",
        "Preparing to unpack .../libvpx1_1.3.0-2_amd64.deb ...\r\n",
        "Unpacking libvpx1:amd64 (1.3.0-2) ...\r\n"
       ]
      },
      {
       "output_type": "stream",
       "stream": "stdout",
       "text": [
        "Selecting previously unselected package libgd3:amd64.\r\n",
        "Preparing to unpack .../libgd3_2.1.0-3_amd64.deb ...\r\n",
        "Unpacking libgd3:amd64 (2.1.0-3) ...\r\n",
        "Selecting previously unselected package gconf-service-backend.\r\n",
        "Preparing to unpack .../gconf-service-backend_3.2.6-0ubuntu2_amd64.deb ...\r\n",
        "Unpacking gconf-service-backend (3.2.6-0ubuntu2) ...\r\n"
       ]
      },
      {
       "output_type": "stream",
       "stream": "stdout",
       "text": [
        "Selecting previously unselected package gconf-service.\r\n",
        "Preparing to unpack .../gconf-service_3.2.6-0ubuntu2_amd64.deb ...\r\n",
        "Unpacking gconf-service (3.2.6-0ubuntu2) ...\r\n"
       ]
      },
      {
       "output_type": "stream",
       "stream": "stdout",
       "text": [
        "Selecting previously unselected package dbus-x11.\r\n",
        "Preparing to unpack .../dbus-x11_1.6.18-0ubuntu4.2_amd64.deb ...\r\n",
        "Unpacking dbus-x11 (1.6.18-0ubuntu4.2) ...\r\n",
        "Selecting previously unselected package gconf2.\r\n",
        "Preparing to unpack .../gconf2_3.2.6-0ubuntu2_amd64.deb ...\r\n",
        "Unpacking gconf2 (3.2.6-0ubuntu2) ...\r\n"
       ]
      },
      {
       "output_type": "stream",
       "stream": "stdout",
       "text": [
        "Selecting previously unselected package libgnomevfs2-common.\r\n",
        "Preparing to unpack .../libgnomevfs2-common_1%3a2.24.4-1ubuntu6_amd64.deb ...\r\n",
        "Unpacking libgnomevfs2-common (1:2.24.4-1ubuntu6) ...\r\n"
       ]
      },
      {
       "output_type": "stream",
       "stream": "stdout",
       "text": [
        "Selecting previously unselected package libgnomevfs2-0:amd64.\r\n",
        "Preparing to unpack .../libgnomevfs2-0_1%3a2.24.4-1ubuntu6_amd64.deb ...\r\n",
        "Unpacking libgnomevfs2-0:amd64 (1:2.24.4-1ubuntu6) ...\r\n"
       ]
      },
      {
       "output_type": "stream",
       "stream": "stdout",
       "text": [
        "Selecting previously unselected package libgnome2-common.\r\n",
        "Preparing to unpack .../libgnome2-common_2.32.1-4ubuntu1_all.deb ...\r\n",
        "Unpacking libgnome2-common (2.32.1-4ubuntu1) ...\r\n"
       ]
      },
      {
       "output_type": "stream",
       "stream": "stdout",
       "text": [
        "Selecting previously unselected package libgnome2-bin.\r\n",
        "Preparing to unpack .../libgnome2-bin_2.32.1-4ubuntu1_amd64.deb ...\r\n",
        "Unpacking libgnome2-bin (2.32.1-4ubuntu1) ...\r\n",
        "Selecting previously unselected package libgnome2-0:amd64.\r\n",
        "Preparing to unpack .../libgnome2-0_2.32.1-4ubuntu1_amd64.deb ...\r\n",
        "Unpacking libgnome2-0:amd64 (2.32.1-4ubuntu1) ...\r\n"
       ]
      },
      {
       "output_type": "stream",
       "stream": "stdout",
       "text": [
        "Selecting previously unselected package libgphoto2-port10:amd64.\r\n",
        "Preparing to unpack .../libgphoto2-port10_2.5.3.1-1ubuntu2.2_amd64.deb ...\r\n",
        "Unpacking libgphoto2-port10:amd64 (2.5.3.1-1ubuntu2.2) ...\r\n"
       ]
      },
      {
       "output_type": "stream",
       "stream": "stdout",
       "text": [
        "Selecting previously unselected package libgphoto2-6:amd64.\r\n",
        "Preparing to unpack .../libgphoto2-6_2.5.3.1-1ubuntu2.2_amd64.deb ...\r\n",
        "Unpacking libgphoto2-6:amd64 (2.5.3.1-1ubuntu2.2) ...\r\n"
       ]
      },
      {
       "output_type": "stream",
       "stream": "stdout",
       "text": [
        "Selecting previously unselected package dconf-service.\r\n",
        "Preparing to unpack .../dconf-service_0.20.0-1_amd64.deb ...\r\n",
        "Unpacking dconf-service (0.20.0-1) ...\r\n",
        "Selecting previously unselected package dconf-gsettings-backend:amd64.\r\n"
       ]
      },
      {
       "output_type": "stream",
       "stream": "stdout",
       "text": [
        "Preparing to unpack .../dconf-gsettings-backend_0.20.0-1_amd64.deb ...\r\n",
        "Unpacking dconf-gsettings-backend:amd64 (0.20.0-1) ...\r\n",
        "Selecting previously unselected package libgtk-3-common.\r\n",
        "Preparing to unpack .../libgtk-3-common_3.10.8-0ubuntu1.2_all.deb ...\r\n",
        "Unpacking libgtk-3-common (3.10.8-0ubuntu1.2) ...\r\n"
       ]
      },
      {
       "output_type": "stream",
       "stream": "stdout",
       "text": [
        "Selecting previously unselected package libwayland-client0:amd64.\r\n"
       ]
      },
      {
       "output_type": "stream",
       "stream": "stdout",
       "text": [
        "Preparing to unpack .../libwayland-client0_1.4.0-1ubuntu1_amd64.deb ...\r\n",
        "Unpacking libwayland-client0:amd64 (1.4.0-1ubuntu1) ...\r\n",
        "Selecting previously unselected package libwayland-cursor0:amd64.\r\n",
        "Preparing to unpack .../libwayland-cursor0_1.4.0-1ubuntu1_amd64.deb ...\r\n",
        "Unpacking libwayland-cursor0:amd64 (1.4.0-1ubuntu1) ...\r\n"
       ]
      },
      {
       "output_type": "stream",
       "stream": "stdout",
       "text": [
        "Selecting previously unselected package libxkbcommon0:amd64.\r\n",
        "Preparing to unpack .../libxkbcommon0_0.4.1-0ubuntu1_amd64.deb ...\r\n",
        "Unpacking libxkbcommon0:amd64 (0.4.1-0ubuntu1) ...\r\n"
       ]
      },
      {
       "output_type": "stream",
       "stream": "stdout",
       "text": [
        "Selecting previously unselected package libgtk-3-0:amd64.\r\n",
        "Preparing to unpack .../libgtk-3-0_3.10.8-0ubuntu1.2_amd64.deb ...\r\n",
        "Unpacking libgtk-3-0:amd64 (3.10.8-0ubuntu1.2) ...\r\n"
       ]
      },
      {
       "output_type": "stream",
       "stream": "stdout",
       "text": [
        "Selecting previously unselected package libgudev-1.0-0:amd64.\r\n",
        "Preparing to unpack .../libgudev-1.0-0_1%3a204-5ubuntu20.7_amd64.deb ...\r\n",
        "Unpacking libgudev-1.0-0:amd64 (1:204-5ubuntu20.7) ...\r\n",
        "Selecting previously unselected package libieee1284-3:amd64.\r\n",
        "Preparing to unpack .../libieee1284-3_0.2.11-12_amd64.deb ..."
       ]
      },
      {
       "output_type": "stream",
       "stream": "stdout",
       "text": [
        "\r\n",
        "Unpacking libieee1284-3:amd64 (0.2.11-12) ...\r\n",
        "Selecting previously unselected package acl.\r\n",
        "Preparing to unpack .../acl_2.2.52-1_amd64.deb ...\r\n",
        "Unpacking acl (2.2.52-1) ...\r\n"
       ]
      },
      {
       "output_type": "stream",
       "stream": "stdout",
       "text": [
        "Selecting previously unselected package libsane-common.\r\n",
        "Preparing to unpack .../libsane-common_1.0.23-3ubuntu3.1_amd64.deb ...\r\n",
        "Unpacking libsane-common (1.0.23-3ubuntu3.1) ...\r\n"
       ]
      },
      {
       "output_type": "stream",
       "stream": "stdout",
       "text": [
        "Selecting previously unselected package libv4lconvert0:amd64.\r\n",
        "Preparing to unpack .../libv4lconvert0_1.0.1-1_amd64.deb ...\r\n",
        "Unpacking libv4lconvert0:amd64 (1.0.1-1) ...\r\n"
       ]
      },
      {
       "output_type": "stream",
       "stream": "stdout",
       "text": [
        "Selecting previously unselected package libv4l-0:amd64.\r\n",
        "Preparing to unpack .../libv4l-0_1.0.1-1_amd64.deb ...\r\n",
        "Unpacking libv4l-0:amd64 (1.0.1-1) ...\r\n"
       ]
      },
      {
       "output_type": "stream",
       "stream": "stdout",
       "text": [
        "Selecting previously unselected package libsane:amd64.\r\n",
        "Preparing to unpack .../libsane_1.0.23-3ubuntu3.1_amd64.deb ...\r\n",
        "Unpacking libsane:amd64 (1.0.23-3ubuntu3.1) ...\r\n"
       ]
      },
      {
       "output_type": "stream",
       "stream": "stdout",
       "text": [
        "Selecting previously unselected package libsecret-common.\r\n",
        "Preparing to unpack .../libsecret-common_0.16-0ubuntu1_all.deb ...\r\n",
        "Unpacking libsecret-common (0.16-0ubuntu1) ...\r\n",
        "Selecting previously unselected package libsecret-1-0:amd64.\r\n",
        "Preparing to unpack .../libsecret-1-0_0.16-0ubuntu1_amd64.deb ...\r\n",
        "Unpacking libsecret-1-0:amd64 (0.16-0ubuntu1) ...\r\n"
       ]
      },
      {
       "output_type": "stream",
       "stream": "stdout",
       "text": [
        "Selecting previously unselected package libudisks2-0:amd64.\r\n",
        "Preparing to unpack .../libudisks2-0_2.1.3-1_amd64.deb ...\r\n",
        "Unpacking libudisks2-0:amd64 (2.1.3-1) ...\r\n"
       ]
      },
      {
       "output_type": "stream",
       "stream": "stdout",
       "text": [
        "Selecting previously unselected package libgusb2:amd64.\r\n",
        "Preparing to unpack .../libgusb2_0.1.6-5_amd64.deb ...\r\n",
        "Unpacking libgusb2:amd64 (0.1.6-5) ...\r\n",
        "Selecting previously unselected package libcolorhug1:amd64.\r\n"
       ]
      },
      {
       "output_type": "stream",
       "stream": "stdout",
       "text": [
        "Preparing to unpack .../libcolorhug1_1.0.6-1_amd64.deb ...\r\n",
        "Unpacking libcolorhug1:amd64 (1.0.6-1) ...\r\n",
        "Selecting previously unselected package at-spi2-core.\r\n",
        "Preparing to unpack .../at-spi2-core_2.10.2.is.2.10.1-0ubuntu1_amd64.deb ...\r\n",
        "Unpacking at-spi2-core (2.10.2.is.2.10.1-0ubuntu1) ...\r\n"
       ]
      },
      {
       "output_type": "stream",
       "stream": "stdout",
       "text": [
        "Selecting previously unselected package colord.\r\n",
        "Preparing to unpack .../colord_1.0.6-1_amd64.deb ...\r\n",
        "Unpacking colord (1.0.6-1) ...\r\n"
       ]
      },
      {
       "output_type": "stream",
       "stream": "stdout",
       "text": [
        "Selecting previously unselected package desktop-file-utils.\r\n",
        "Preparing to unpack .../desktop-file-utils_0.22-1ubuntu1_amd64.deb ...\r\n",
        "Unpacking desktop-file-utils (0.22-1ubuntu1) ...\r\n",
        "Selecting previously unselected package fonts-dejavu-extra.\r\n",
        "Preparing to unpack .../fonts-dejavu-extra_2.34-1ubuntu1_all.deb ...\r\n",
        "Unpacking fonts-dejavu-extra (2.34-1ubuntu1) ...\r\n"
       ]
      },
      {
       "output_type": "stream",
       "stream": "stdout",
       "text": [
        "Selecting previously unselected package udisks2.\r\n",
        "Preparing to unpack .../udisks2_2.1.3-1_amd64.deb ...\r\n",
        "Unpacking udisks2 (2.1.3-1) ...\r\n"
       ]
      },
      {
       "output_type": "stream",
       "stream": "stdout",
       "text": [
        "Selecting previously unselected package gvfs-common.\r\n",
        "Preparing to unpack .../gvfs-common_1.20.1-1ubuntu1_all.deb ...\r\n",
        "Unpacking gvfs-common (1.20.1-1ubuntu1) ...\r\n"
       ]
      },
      {
       "output_type": "stream",
       "stream": "stdout",
       "text": [
        "Selecting previously unselected package gvfs-libs:amd64.\r\n",
        "Preparing to unpack .../gvfs-libs_1.20.1-1ubuntu1_amd64.deb ...\r\n",
        "Unpacking gvfs-libs:amd64 (1.20.1-1ubuntu1) ...\r\n"
       ]
      },
      {
       "output_type": "stream",
       "stream": "stdout",
       "text": [
        "Selecting previously unselected package gvfs-daemons.\r\n",
        "Preparing to unpack .../gvfs-daemons_1.20.1-1ubuntu1_amd64.deb ...\r\n",
        "Unpacking gvfs-daemons (1.20.1-1ubuntu1) ...\r\n"
       ]
      },
      {
       "output_type": "stream",
       "stream": "stdout",
       "text": [
        "Selecting previously unselected package gvfs:amd64.\r\n",
        "Preparing to unpack .../gvfs_1.20.1-1ubuntu1_amd64.deb ...\r\n",
        "Unpacking gvfs:amd64 (1.20.1-1ubuntu1) ...\r\n"
       ]
      },
      {
       "output_type": "stream",
       "stream": "stdout",
       "text": [
        "Selecting previously unselected package hicolor-icon-theme.\r\n",
        "Preparing to unpack .../hicolor-icon-theme_0.13-1_all.deb ...\r\n",
        "Unpacking hicolor-icon-theme (0.13-1) ...\r\n"
       ]
      },
      {
       "output_type": "stream",
       "stream": "stdout",
       "text": [
        "Selecting previously unselected package libgconf2-4:amd64.\r\n",
        "Preparing to unpack .../libgconf2-4_3.2.6-0ubuntu2_amd64.deb ...\r\n",
        "Unpacking libgconf2-4:amd64 (3.2.6-0ubuntu2) ...\r\n",
        "Selecting previously unselected package libgphoto2-l10n.\r\n",
        "Preparing to unpack .../libgphoto2-l10n_2.5.3.1-1ubuntu2.2_all.deb ...\r\n",
        "Unpacking libgphoto2-l10n (2.5.3.1-1ubuntu2.2) ...\r\n"
       ]
      },
      {
       "output_type": "stream",
       "stream": "stdout",
       "text": [
        "Selecting previously unselected package libgtk-3-bin.\r\n",
        "Preparing to unpack .../libgtk-3-bin_3.10.8-0ubuntu1.2_amd64.deb ...\r\n"
       ]
      },
      {
       "output_type": "stream",
       "stream": "stdout",
       "text": [
        "Adding 'diversion of /usr/sbin/update-icon-caches to /usr/sbin/update-icon-caches.gtk2 by libgtk-3-bin'\r\n",
        "Adding 'diversion of /usr/share/man/man8/update-icon-caches.8.gz to /usr/share/man/man8/update-icon-caches.gtk2.8.gz by libgtk-3-bin'\r\n",
        "Unpacking libgtk-3-bin (3.10.8-0ubuntu1.2) ...\r\n"
       ]
      },
      {
       "output_type": "stream",
       "stream": "stdout",
       "text": [
        "Selecting previously unselected package libgtk2.0-bin.\r\n",
        "Preparing to unpack .../libgtk2.0-bin_2.24.23-0ubuntu1.1_amd64.deb ...\r\n",
        "Unpacking libgtk2.0-bin (2.24.23-0ubuntu1.1) ...\r\n",
        "Selecting previously unselected package policykit-1-gnome.\r\n",
        "Preparing to unpack .../policykit-1-gnome_0.105-1ubuntu4_amd64.deb ...\r\n",
        "Unpacking policykit-1-gnome (0.105-1ubuntu4) ...\r\n"
       ]
      },
      {
       "output_type": "stream",
       "stream": "stdout",
       "text": [
        "Processing triggers for ca-certificates (20130906ubuntu2) ...\r\n",
        "Updating certificates in /etc/ssl/certs... "
       ]
      },
      {
       "output_type": "stream",
       "stream": "stdout",
       "text": [
        "0 added, 0 removed; done.\r\n",
        "Running hooks in /etc/ca-certificates/update.d....done.\r\n",
        "Processing triggers for man-db (2.6.7.1-1) ...\r\n"
       ]
      },
      {
       "output_type": "stream",
       "stream": "stdout",
       "text": [
        "Processing triggers for mime-support (3.54ubuntu1) ...\r\n"
       ]
      },
      {
       "output_type": "stream",
       "stream": "stdout",
       "text": [
        "Processing triggers for udev (204-5ubuntu20.6) ...\r\n"
       ]
      },
      {
       "output_type": "stream",
       "stream": "stdout",
       "text": [
        "Processing triggers for libglib2.0-0:amd64 (2.40.0-2) ...\r\n",
        "Processing triggers for fontconfig (2.11.0-0ubuntu4.1) ...\r\n"
       ]
      },
      {
       "output_type": "stream",
       "stream": "stdout",
       "text": [
        "Setting up libasound2-data (1.0.27.2-3ubuntu7) ...\r\n"
       ]
      },
      {
       "output_type": "stream",
       "stream": "stdout",
       "text": [
        "Setting up libasound2:amd64 (1.0.27.2-3ubuntu7) ...\r\n",
        "Setting up libasyncns0:amd64 (0.8-4ubuntu2) ...\r\n",
        "Setting up libatasmart4:amd64 (0.19-3) ...\r\n",
        "Setting up libatk1.0-data (2.10.0-2ubuntu2) ...\r\n",
        "Setting up libatk1.0-0:amd64 (2.10.0-2ubuntu2) ...\r\n",
        "Setting up libatspi2.0-0:amd64 (2.10.2.is.2.10.1-0ubuntu1) ...\r\n"
       ]
      },
      {
       "output_type": "stream",
       "stream": "stdout",
       "text": [
        "Setting up libatk-bridge2.0-0:amd64 (2.10.2-2ubuntu1) ...\r\n",
        "Setting up libgtk2.0-common (2.24.23-0ubuntu1.1) ...\r\n",
        "Setting up libavahi-common-data:amd64 (0.6.31-4ubuntu1) ...\r\n",
        "Setting up libavahi-common3:amd64 (0.6.31-4ubuntu1) ...\r\n",
        "Setting up libavahi-client3:amd64 (0.6.31-4ubuntu1) ...\r\n",
        "Setting up libcups2:amd64 (1.7.2-0ubuntu1.2) ...\r\n",
        "Setting up libjasper1:amd64 (1.900.1-14ubuntu3) ...\r\n"
       ]
      },
      {
       "output_type": "stream",
       "stream": "stdout",
       "text": [
        "Setting up libgdk-pixbuf2.0-common (2.30.7-0ubuntu1) ...\r\n",
        "Setting up libgdk-pixbuf2.0-0:amd64 (2.30.7-0ubuntu1) ...\r\n"
       ]
      },
      {
       "output_type": "stream",
       "stream": "stdout",
       "text": [
        "Setting up libgtk2.0-0:amd64 (2.24.23-0ubuntu1.1) ...\r\n"
       ]
      },
      {
       "output_type": "stream",
       "stream": "stdout",
       "text": [
        "Setting up libnspr4:amd64 (2:4.10.7-0ubuntu0.14.04.1) ...\r\n",
        "Setting up tzdata-java (2014e-0ubuntu0.14.04) ...\r\n",
        "Setting up java-common (0.51) ...\r\n",
        "Setting up libpcsclite1:amd64 (1.8.10-1ubuntu1) ...\r\n",
        "Setting up libgif4:amd64 (4.1.6-11) ...\r\n"
       ]
      },
      {
       "output_type": "stream",
       "stream": "stdout",
       "text": [
        "Setting up libogg0:amd64 (1.3.1-1ubuntu1) ...\r\n",
        "Setting up libflac8:amd64 (1.3.0-2) ...\r\n",
        "Setting up libvorbis0a:amd64 (1.3.2-1.3ubuntu1) ...\r\n",
        "Setting up libvorbisenc2:amd64 (1.3.2-1.3ubuntu1) ...\r\n",
        "Setting up libsndfile1:amd64 (1.0.25-7ubuntu2) ...\r\n"
       ]
      },
      {
       "output_type": "stream",
       "stream": "stdout",
       "text": [
        "Setting up libpulse0:amd64 (1:4.0-0ubuntu11) ...\r\n",
        "Setting up libavahi-glib1:amd64 (0.6.31-4ubuntu1) ...\r\n",
        "Setting up libbonobo2-common (2.32.1-0ubuntu5) ...\r\n",
        "Setting up libidl-common (0.8.14-0.2ubuntu4) ...\r\n",
        "Setting up libidl0:amd64 (0.8.14-0.2ubuntu4) ...\r\n",
        "Setting up liborbit-2-0:amd64 (1:2.14.19-0.3) ...\r\n",
        "Setting up liborbit2:amd64 (1:2.14.19-0.3) ...\r\n"
       ]
      },
      {
       "output_type": "stream",
       "stream": "stdout",
       "text": [
        "Setting up libbonobo2-0:amd64 (2.32.1-0ubuntu5) ...\r\n",
        "Setting up libcairo-gobject2:amd64 (1.13.0~20140204-0ubuntu1) ...\r\n",
        "Setting up libltdl7:amd64 (2.4.2-1.7ubuntu1) ...\r\n",
        "Setting up libtdb1:amd64 (1.2.12-1) ...\r\n",
        "Setting up libvorbisfile3:amd64 (1.3.2-1.3ubuntu1) ...\r\n"
       ]
      },
      {
       "output_type": "stream",
       "stream": "stdout",
       "text": [
        "Setting up sound-theme-freedesktop (0.8-1) ...\r\n",
        "Setting up libcanberra0:amd64 (0.30-0ubuntu3) ...\r\n",
        "Setting up libcolord1:amd64 (1.0.6-1) ...\r\n",
        "Setting up libdconf1:amd64 (0.20.0-1) ...\r\n",
        "Setting up libexif12:amd64 (0.6.21-1ubuntu1) ...\r\n",
        "Setting up gconf2-common (3.2.6-0ubuntu2) ...\r\n"
       ]
      },
      {
       "output_type": "stream",
       "stream": "stdout",
       "text": [
        "\r\n",
        "Creating config file /etc/gconf/2/path with new version\r\n"
       ]
      },
      {
       "output_type": "stream",
       "stream": "stdout",
       "text": [
        "Setting up libgconf-2-4:amd64 (3.2.6-0ubuntu2) ...\r\n",
        "Setting up libvpx1:amd64 (1.3.0-2) ...\r\n",
        "Setting up libgd3:amd64 (2.1.0-3) ...\r\n",
        "Setting up dbus-x11 (1.6.18-0ubuntu4.2) ...\r\n",
        "Setting up libgphoto2-port10:amd64 (2.5.3.1-1ubuntu2.2) ...\r\n",
        "Setting up libgphoto2-6:amd64 (2.5.3.1-1ubuntu2.2) ...\r\n"
       ]
      },
      {
       "output_type": "stream",
       "stream": "stdout",
       "text": [
        "Setting up dconf-service (0.20.0-1) ...\r\n",
        "Setting up dconf-gsettings-backend:amd64 (0.20.0-1) ...\r\n",
        "Setting up libgtk-3-common (3.10.8-0ubuntu1.2) ...\r\n",
        "Setting up libwayland-client0:amd64 (1.4.0-1ubuntu1) ...\r\n",
        "Setting up libwayland-cursor0:amd64 (1.4.0-1ubuntu1) ...\r\n",
        "Setting up libxkbcommon0:amd64 (0.4.1-0ubuntu1) ...\r\n",
        "Setting up libgtk-3-0:amd64 (3.10.8-0ubuntu1.2) ...\r\n"
       ]
      },
      {
       "output_type": "stream",
       "stream": "stdout",
       "text": [
        "Setting up libgudev-1.0-0:amd64 (1:204-5ubuntu20.7) ...\r\n",
        "Setting up libieee1284-3:amd64 (0.2.11-12) ...\r\n",
        "Setting up acl (2.2.52-1) ...\r\n",
        "Setting up libsane-common (1.0.23-3ubuntu3.1) ...\r\n",
        "Setting up libv4lconvert0:amd64 (1.0.1-1) ...\r\n",
        "Setting up libv4l-0:amd64 (1.0.1-1) ...\r\n"
       ]
      },
      {
       "output_type": "stream",
       "stream": "stdout",
       "text": [
        "Setting up libsane:amd64 (1.0.23-3ubuntu3.1) ...\r\n"
       ]
      },
      {
       "output_type": "stream",
       "stream": "stdout",
       "text": [
        "Adding scanner group...\r\n"
       ]
      },
      {
       "output_type": "stream",
       "stream": "stdout",
       "text": [
        "Setting up libsecret-common (0.16-0ubuntu1) ...\r\n",
        "Setting up libsecret-1-0:amd64 (0.16-0ubuntu1) ...\r\n"
       ]
      },
      {
       "output_type": "stream",
       "stream": "stdout",
       "text": [
        "Setting up libudisks2-0:amd64 (2.1.3-1) ...\r\n",
        "Setting up libgusb2:amd64 (0.1.6-5) ...\r\n",
        "Setting up libcolorhug1:amd64 (1.0.6-1) ...\r\n",
        "Setting up at-spi2-core (2.10.2.is.2.10.1-0ubuntu1) ...\r\n"
       ]
      },
      {
       "output_type": "stream",
       "stream": "stdout",
       "text": [
        "Setting up colord (1.0.6-1) ...\r\n"
       ]
      },
      {
       "output_type": "stream",
       "stream": "stdout",
       "text": [
        "Setting up desktop-file-utils (0.22-1ubuntu1) ...\r\n",
        "Setting up fonts-dejavu-extra (2.34-1ubuntu1) ...\r\n",
        "Setting up udisks2 (2.1.3-1) ...\r\n",
        "Setting up gvfs-common (1.20.1-1ubuntu1) ...\r\n",
        "Setting up gvfs-libs:amd64 (1.20.1-1ubuntu1) ...\r\n"
       ]
      },
      {
       "output_type": "stream",
       "stream": "stdout",
       "text": [
        "Setting up gvfs-daemons (1.20.1-1ubuntu1) ...\r\n",
        "Setting up gvfs:amd64 (1.20.1-1ubuntu1) ...\r\n",
        "Setting up hicolor-icon-theme (0.13-1) ...\r\n"
       ]
      },
      {
       "output_type": "stream",
       "stream": "stdout",
       "text": [
        "Setting up libgphoto2-l10n (2.5.3.1-1ubuntu2.2) ...\r\n",
        "Setting up libgtk-3-bin (3.10.8-0ubuntu1.2) ...\r\n",
        "Setting up libgtk2.0-bin (2.24.23-0ubuntu1.1) ...\r\n",
        "Setting up policykit-1-gnome (0.105-1ubuntu4) ...\r\n",
        "Setting up gconf-service (3.2.6-0ubuntu2) ...\r\n",
        "Setting up libgconf2-4:amd64 (3.2.6-0ubuntu2) ...\r\n",
        "Setting up libnss3-nssdb (2:3.17.1-0ubuntu0.14.04.1) ...\r\n"
       ]
      },
      {
       "output_type": "stream",
       "stream": "stdout",
       "text": [
        "Setting up libnss3:amd64 (2:3.17.1-0ubuntu0.14.04.1) ...\r\n",
        "Setting up libnss3-1d:amd64 (2:3.17.1-0ubuntu0.14.04.1) ...\r\n",
        "Setting up openjdk-7-jre-headless:amd64 (7u65-2.5.2-3~14.04) ...\r\n"
       ]
      },
      {
       "output_type": "stream",
       "stream": "stdout",
       "text": [
        "update-alternatives: using /usr/lib/jvm/java-7-openjdk-amd64/jre/bin/java to provide /usr/bin/java (java) in auto mode\r\n",
        "update-alternatives: using /usr/lib/jvm/java-7-openjdk-amd64/jre/bin/keytool to provide /usr/bin/keytool (keytool) in auto mode\r\n",
        "update-alternatives: using /usr/lib/jvm/java-7-openjdk-amd64/jre/bin/pack200 to provide /usr/bin/pack200 (pack200) in auto mode\r\n",
        "update-alternatives: using /usr/lib/jvm/java-7-openjdk-amd64/jre/bin/rmid to provide /usr/bin/rmid (rmid) in auto mode\r\n",
        "update-alternatives: using /usr/lib/jvm/java-7-openjdk-amd64/jre/bin/rmiregistry to provide /usr/bin/rmiregistry (rmiregistry) in auto mode\r\n",
        "update-alternatives: using /usr/lib/jvm/java-7-openjdk-amd64/jre/bin/unpack200 to provide /usr/bin/unpack200 (unpack200) in auto mode\r\n",
        "update-alternatives: using /usr/lib/jvm/java-7-openjdk-amd64/jre/bin/orbd to provide /usr/bin/orbd (orbd) in auto mode\r\n",
        "update-alternatives: using /usr/lib/jvm/java-7-openjdk-amd64/jre/bin/servertool to provide /usr/bin/servertool (servertool) in auto mode\r\n"
       ]
      },
      {
       "output_type": "stream",
       "stream": "stdout",
       "text": [
        "update-alternatives: using /usr/lib/jvm/java-7-openjdk-amd64/jre/bin/tnameserv to provide /usr/bin/tnameserv (tnameserv) in auto mode\r\n",
        "update-alternatives: using /usr/lib/jvm/java-7-openjdk-amd64/jre/lib/jexec to provide /usr/bin/jexec (jexec) in auto mode\r\n"
       ]
      },
      {
       "output_type": "stream",
       "stream": "stdout",
       "text": [
        "Setting up default-jre-headless (2:1.7-51) ...\r\n",
        "Setting up libatk-wrapper-java (0.30.4-4) ...\r\n",
        "Setting up libatk-wrapper-java-jni:amd64 (0.30.4-4) ...\r\n",
        "Setting up openjdk-7-jre:amd64 (7u65-2.5.2-3~14.04) ...\r\n"
       ]
      },
      {
       "output_type": "stream",
       "stream": "stdout",
       "text": [
        "update-alternatives: using /usr/lib/jvm/java-7-openjdk-amd64/jre/bin/policytool to provide /usr/bin/policytool (policytool) in auto mode\r\n",
        "Setting up default-jre (2:1.7-51) ...\r\n",
        "Setting up gconf-service-backend (3.2.6-0ubuntu2) ...\r\n",
        "Setting up gconf2 (3.2.6-0ubuntu2) ...\r\n",
        "update-alternatives: using /usr/bin/gconftool-2 to provide /usr/bin/gconftool (gconftool) in auto mode\r\n"
       ]
      },
      {
       "output_type": "stream",
       "stream": "stdout",
       "text": [
        "\r\n",
        "(gconftool-2:7792): GConf-WARNING **: Client failed to connect to the D-BUS daemon:\r\n",
        "Unable to autolaunch a dbus-daemon without a $DISPLAY for X11\r\n"
       ]
      },
      {
       "output_type": "stream",
       "stream": "stdout",
       "text": [
        "Setting up libgnomevfs2-common (1:2.24.4-1ubuntu6) ...\r\n",
        "Setting up libgnomevfs2-0:amd64 (1:2.24.4-1ubuntu6) ...\r\n",
        "Setting up libgnome2-common (2.32.1-4ubuntu1) ...\r\n",
        "Setting up libgnome2-bin (2.32.1-4ubuntu1) ...\r\n",
        "Setting up libgnome2-0:amd64 (2.32.1-4ubuntu1) ...\r\n",
        "Setting up ca-certificates-java (20130815ubuntu1) ...\r\n"
       ]
      },
      {
       "output_type": "stream",
       "stream": "stdout",
       "text": [
        "Adding debian:Entrust_Root_Certification_Authority.pem"
       ]
      },
      {
       "output_type": "stream",
       "stream": "stdout",
       "text": [
        "\r\n",
        "Adding debian:GlobalSign_Root_CA.pem\r\n",
        "Adding debian:VeriSign_Universal_Root_Certification_Authority.pem\r\n",
        "Adding debian:PSCProcert.pem\r\n",
        "Adding debian:NetLock_Arany_=Class_Gold=_F\u0151tan\u00fas\u00edtv\u00e1ny.pem\r\n"
       ]
      },
      {
       "output_type": "stream",
       "stream": "stdout",
       "text": [
        "Adding debian:Verisign_Class_3_Public_Primary_Certification_Authority_-_G3.pem\r\n",
        "Adding debian:QuoVadis_Root_CA_3.pem\r\n",
        "Adding debian:Certinomis_-_Autorit\u00e9_Racine.pem"
       ]
      },
      {
       "output_type": "stream",
       "stream": "stdout",
       "text": [
        "\r\n",
        "Adding debian:TC_TrustCenter_Class_3_CA_II.pem\r\n",
        "Adding debian:Certum_Trusted_Network_CA.pem\r\n",
        "Adding debian:Chambers_of_Commerce_Root_-_2008.pem\r\n",
        "Adding debian:Entrust.net_Secure_Server_CA.pem\r\n",
        "Adding debian:SwissSign_Platinum_CA_-_G2.pem\r\n",
        "Adding debian:Secure_Global_CA.pem\r\n",
        "Adding debian:certSIGN_ROOT_CA.pem\r\n"
       ]
      },
      {
       "output_type": "stream",
       "stream": "stdout",
       "text": [
        "Adding debian:Starfield_Services_Root_Certificate_Authority_-_G2.pem\r\n",
        "Adding debian:Verisign_Class_2_Public_Primary_Certification_Authority_-_G2.pem\r\n",
        "Adding debian:thawte_Primary_Root_CA_-_G3.pem\r\n",
        "Adding debian:QuoVadis_Root_CA.pem\r\n",
        "Adding debian:EBG_Elektronik_Sertifika_Hizmet_Sa\u011flay\u0131c\u0131s\u0131.pem\r\n",
        "Adding debian:Camerfirma_Global_Chambersign_Root.pem\r\n",
        "Adding debian:Verisign_Class_1_Public_Primary_Certification_Authority_-_G2.pem\r\n",
        "Adding debian:Verisign_Class_3_Public_Primary_Certification_Authority.pem\r\n"
       ]
      },
      {
       "output_type": "stream",
       "stream": "stdout",
       "text": [
        "Adding debian:UTN_USERFirst_Email_Root_CA.pem\r\n",
        "Adding debian:ePKI_Root_Certification_Authority.pem\r\n",
        "Adding debian:EE_Certification_Centre_Root_CA.pem\r\n",
        "Adding debian:ComSign_CA.pem\r\n",
        "Adding debian:CA_Disig_Root_R1.pem\r\n",
        "Adding debian:D-TRUST_Root_Class_3_CA_2_EV_2009.pem"
       ]
      },
      {
       "output_type": "stream",
       "stream": "stdout",
       "text": [
        "\r\n",
        "Adding debian:XRamp_Global_CA_Root.pem\r\n",
        "Adding debian:Comodo_Trusted_Services_root.pem\r\n",
        "Adding debian:Visa_eCommerce_Root.pem\r\n",
        "Adding debian:Baltimore_CyberTrust_Root.pem\r\n",
        "Adding debian:Autoridad_de_Certificacion_Firmaprofesional_CIF_A62634068.pem\r\n",
        "Adding debian:Cybertrust_Global_Root.pem\r\n"
       ]
      },
      {
       "output_type": "stream",
       "stream": "stdout",
       "text": [
        "Adding debian:GeoTrust_Primary_Certification_Authority_-_G2.pem\r\n",
        "Adding debian:T\u00dcB\u0130TAK_UEKAE_K\u00f6k_Sertifika_Hizmet_Sa\u011flay\u0131c\u0131s\u0131_-_S\u00fcr\u00fcm_3.pem\r\n",
        "Adding debian:GlobalSign_Root_CA_-_R2.pem\r\n",
        "Adding debian:Verisign_Class_3_Public_Primary_Certification_Authority_2.pem\r\n",
        "Adding debian:AddTrust_Public_Services_Root.pem\r\n",
        "Adding debian:Verisign_Class_4_Public_Primary_Certification_Authority_-_G3.pem\r\n",
        "Adding debian:Juur-SK.pem\r\n",
        "Adding debian:Thawte_Server_CA.pem\r\n",
        "Adding debian:Sonera_Class_2_Root_CA.pem\r\n",
        "Adding debian:UTN_USERFirst_Hardware_Root_CA.pem\r\n"
       ]
      },
      {
       "output_type": "stream",
       "stream": "stdout",
       "text": [
        "Adding debian:Go_Daddy_Class_2_CA.pem\r\n",
        "Adding debian:AffirmTrust_Commercial.pem\r\n",
        "Adding debian:Digital_Signature_Trust_Co._Global_CA_3.pem\r\n",
        "Adding debian:GeoTrust_Global_CA_2.pem\r\n",
        "Adding debian:NetLock_Express_=Class_C=_Root.pem\r\n",
        "Adding debian:Comodo_Secure_Services_root.pem\r\n",
        "Adding debian:TURKTRUST_Certificate_Services_Provider_Root_1.pem\r\n",
        "Adding debian:EC-ACC.pem\r\n",
        "Adding debian:Network_Solutions_Certificate_Authority.pem\r\n",
        "Adding debian:TDC_Internet_Root_CA.pem\r\n",
        "Adding debian:Verisign_Class_2_Public_Primary_Certification_Authority_-_G3.pem\r\n",
        "Adding debian:Staat_der_Nederlanden_Root_CA.pem\r\n",
        "Adding debian:Swisscom_Root_CA_1.pem\r\n",
        "Adding debian:GlobalSign_Root_CA_-_R3.pem\r\n",
        "Adding debian:GeoTrust_Primary_Certification_Authority_-_G3.pem\r\n",
        "Adding debian:Go_Daddy_Root_Certificate_Authority_-_G2.pem\r\n",
        "Adding debian:GeoTrust_Global_CA.pem\r\n",
        "Adding debian:Root_CA_Generalitat_Valenciana.pem\r\n"
       ]
      },
      {
       "output_type": "stream",
       "stream": "stdout",
       "text": [
        "Adding debian:Digital_Signature_Trust_Co._Global_CA_1.pem\r\n",
        "Adding debian:Microsec_e-Szigno_Root_CA_2009.pem\r\n",
        "Adding debian:thawte_Primary_Root_CA_-_G2.pem\r\n",
        "Adding debian:Firmaprofesional_Root_CA.pem\r\n",
        "Adding debian:A-Trust-nQual-03.pem\r\n",
        "Adding debian:VeriSign_Class_3_Public_Primary_Certification_Authority_-_G4.pem\r\n",
        "Adding debian:ValiCert_Class_2_VA.pem\r\n",
        "Adding debian:CNNIC_ROOT.pem\r\n",
        "Adding debian:UTN_DATACorp_SGC_Root_CA.pem\r\n",
        "Adding debian:AddTrust_Low-Value_Services_Root.pem\r\n"
       ]
      },
      {
       "output_type": "stream",
       "stream": "stdout",
       "text": [
        "Adding debian:DST_ACES_CA_X6.pem\r\n",
        "Adding debian:Security_Communication_Root_CA.pem\r\n",
        "Adding debian:ComSign_Secured_CA.pem\r\n",
        "Adding debian:QuoVadis_Root_CA_2.pem\r\n",
        "Adding debian:Starfield_Root_Certificate_Authority_-_G2.pem\r\n",
        "Adding debian:RSA_Root_Certificate_1.pem\r\n",
        "Adding debian:ACEDICOM_Root.pem\r\n",
        "Adding debian:WellsSecure_Public_Root_Certificate_Authority.pem\r\n",
        "Adding debian:Buypass_Class_3_CA_1.pem\r\n",
        "Adding debian:SwissSign_Gold_CA_-_G2.pem"
       ]
      },
      {
       "output_type": "stream",
       "stream": "stdout",
       "text": [
        "\r\n",
        "Adding debian:ApplicationCA_-_Japanese_Government.pem\r\n",
        "Adding debian:CA_Disig.pem\r\n",
        "Adding debian:Equifax_Secure_Global_eBusiness_CA.pem\r\n"
       ]
      },
      {
       "output_type": "stream",
       "stream": "stdout",
       "text": [
        "Adding debian:Deutsche_Telekom_Root_CA_2.pem\r\n",
        "Adding debian:Entrust.net_Premium_2048_Secure_Server_CA.pem\r\n",
        "Adding debian:DST_Root_CA_X3.pem\r\n",
        "Adding debian:E-Guven_Kok_Elektronik_Sertifika_Hizmet_Saglayicisi.pem\r\n",
        "Adding debian:SecureSign_RootCA11.pem\r\n",
        "Adding debian:Swisscom_Root_EV_CA_2.pem\r\n",
        "Adding debian:StartCom_Certification_Authority_G2.pem\r\n",
        "Adding debian:TC_TrustCenter_Universal_CA_I.pem\r\n"
       ]
      },
      {
       "output_type": "stream",
       "stream": "stdout",
       "text": [
        "Adding debian:IGC_A.pem\r\n",
        "Adding debian:TURKTRUST_Certificate_Services_Provider_Root_2.pem\r\n",
        "Adding debian:Camerfirma_Chambers_of_Commerce_Root.pem\r\n",
        "Adding debian:thawte_Primary_Root_CA.pem\r\n",
        "Adding debian:T-TeleSec_GlobalRoot_Class_3.pem\r\n",
        "Adding debian:Wells_Fargo_Root_CA.pem\r\n",
        "Adding debian:AddTrust_External_Root.pem\r\n",
        "Adding debian:CA_Disig_Root_R2.pem\r\n"
       ]
      },
      {
       "output_type": "stream",
       "stream": "stdout",
       "text": [
        "Adding debian:Security_Communication_RootCA2.pem\r\n",
        "Adding debian:StartCom_Certification_Authority.pem\r\n",
        "Adding debian:OISTE_WISeKey_Global_Root_GA_CA.pem\r\n",
        "Adding debian:Equifax_Secure_eBusiness_CA_1.pem\r\n",
        "Adding debian:Verisign_Class_1_Public_Primary_Certification_Authority_-_G3.pem\r\n",
        "Adding debian:Comodo_AAA_Services_root.pem\r\n",
        "Adding debian:Certplus_Class_2_Primary_CA.pem\r\n",
        "Adding debian:AffirmTrust_Premium.pem\r\n",
        "Adding debian:SwissSign_Silver_CA_-_G2.pem\r\n",
        "Adding debian:DigiCert_Global_Root_CA.pem\r\n"
       ]
      },
      {
       "output_type": "stream",
       "stream": "stdout",
       "text": [
        "Adding debian:DigiCert_High_Assurance_EV_Root_CA.pem\r\n",
        "Adding debian:Equifax_Secure_CA.pem\r\n",
        "Adding debian:DigiCert_Assured_ID_Root_CA.pem\r\n",
        "Adding debian:Buypass_Class_3_Root_CA.pem\r\n",
        "Adding debian:NetLock_Notary_=Class_A=_Root.pem\r\n",
        "Adding debian:GeoTrust_Universal_CA_2.pem\r\n",
        "Adding debian:Sonera_Class_1_Root_CA.pem\r\n",
        "Adding debian:NetLock_Qualified_=Class_QA=_Root.pem\r\n",
        "Adding debian:Izenpe.com.pem\r\n",
        "Adding debian:Buypass_Class_2_CA_1.pem\r\n"
       ]
      },
      {
       "output_type": "stream",
       "stream": "stdout",
       "text": [
        "Adding debian:China_Internet_Network_Information_Center_EV_Certificates_Root.pem\r\n",
        "Adding debian:AC_Ra\u00edz_Certic\u00e1mara_S.A..pem\r\n",
        "Adding debian:America_Online_Root_Certification_Authority_2.pem\r\n",
        "Adding debian:RSA_Security_2048_v3.pem\r\n",
        "Adding debian:GTE_CyberTrust_Global_Root.pem\r\n",
        "Adding debian:Verisign_Class_1_Public_Primary_Certification_Authority.pem\r\n",
        "Adding debian:TC_TrustCenter_Class_2_CA_II.pem\r\n",
        "Adding debian:Microsec_e-Szigno_Root_CA.pem\r\n",
        "Adding debian:Buypass_Class_2_Root_CA.pem\r\n"
       ]
      },
      {
       "output_type": "stream",
       "stream": "stdout",
       "text": [
        "Adding debian:Certigna.pem\r\n",
        "Adding debian:Global_Chambersign_Root_-_2008.pem\r\n",
        "Adding debian:COMODO_ECC_Certification_Authority.pem\r\n",
        "Adding debian:AddTrust_Qualified_Certificates_Root.pem\r\n",
        "Adding debian:Swisscom_Root_CA_2.pem\r\n",
        "Adding debian:Trustis_FPS_Root_CA.pem\r\n",
        "Adding debian:Staat_der_Nederlanden_Root_CA_-_G2.pem\r\n",
        "Adding debian:Actalis_Authentication_Root_CA.pem\r\n"
       ]
      },
      {
       "output_type": "stream",
       "stream": "stdout",
       "text": [
        "Adding debian:ValiCert_Class_1_VA.pem\r\n",
        "Adding debian:Certum_Root_CA.pem\r\n",
        "Adding debian:NetLock_Business_=Class_B=_Root.pem\r\n",
        "Adding debian:spi-cacert-2008.pem\r\n",
        "Adding debian:Verisign_Class_3_Public_Primary_Certification_Authority_-_G2.pem\r\n",
        "Adding debian:America_Online_Root_Certification_Authority_1.pem\r\n",
        "Adding debian:S-TRUST_Authentication_and_Encryption_Root_CA_2005_PN.pem\r\n",
        "Adding debian:StartCom_Certification_Authority_2.pem\r\n",
        "Adding debian:AffirmTrust_Networking.pem"
       ]
      },
      {
       "output_type": "stream",
       "stream": "stdout",
       "text": [
        "\r\n",
        "Adding debian:Thawte_Premium_Server_CA.pem\r\n",
        "Adding debian:Hellenic_Academic_and_Research_Institutions_RootCA_2011.pem\r\n",
        "Adding debian:Security_Communication_EV_RootCA1.pem\r\n",
        "Adding debian:TURKTRUST_Certificate_Services_Provider_Root_2007.pem\r\n",
        "Adding debian:AffirmTrust_Premium_ECC.pem\r\n",
        "Adding debian:GeoTrust_Universal_CA.pem\r\n",
        "Adding debian:VeriSign_Class_3_Public_Primary_Certification_Authority_-_G5.pem\r\n",
        "Adding debian:COMODO_Certification_Authority.pem\r\n"
       ]
      },
      {
       "output_type": "stream",
       "stream": "stdout",
       "text": [
        "Adding debian:SecureTrust_CA.pem\r\n",
        "Adding debian:TDC_OCES_Root_CA.pem\r\n",
        "Adding debian:Hongkong_Post_Root_CA_1.pem\r\n",
        "Adding debian:D-TRUST_Root_Class_3_CA_2_2009.pem\r\n",
        "Adding debian:TWCA_Root_Certification_Authority.pem\r\n",
        "Adding debian:Taiwan_GRCA.pem\r\n",
        "Adding debian:GeoTrust_Primary_Certification_Authority.pem\r\n",
        "Adding debian:Starfield_Class_2_CA.pem\r\n"
       ]
      },
      {
       "output_type": "stream",
       "stream": "stdout",
       "text": [
        "done.\r\n",
        "Processing triggers for libc-bin (2.19-0ubuntu6.3) ...\r\n",
        "Processing triggers for ca-certificates (20130906ubuntu2) ...\r\n",
        "Updating certificates in /etc/ssl/certs... "
       ]
      },
      {
       "output_type": "stream",
       "stream": "stdout",
       "text": [
        "0 added, 0 removed; done.\r\n",
        "Running hooks in /etc/ca-certificates/update.d....\r\n"
       ]
      },
      {
       "output_type": "stream",
       "stream": "stdout",
       "text": [
        "done.\r\n",
        "done.\r\n"
       ]
      }
     ],
     "prompt_number": 6
    },
    {
     "cell_type": "markdown",
     "metadata": {},
     "source": [
      "#### Check its been installed"
     ]
    },
    {
     "cell_type": "code",
     "collapsed": false,
     "input": [
      "!java "
     ],
     "language": "python",
     "metadata": {},
     "outputs": [
      {
       "output_type": "stream",
       "stream": "stdout",
       "text": [
        "Usage: java [-options] class [args...]\r\n",
        "           (to execute a class)\r\n",
        "   or  java [-options] -jar jarfile [args...]\r\n",
        "           (to execute a jar file)\r\n",
        "where options include:\r\n",
        "    -d32\t  use a 32-bit data model if available\r\n",
        "    -d64\t  use a 64-bit data model if available\r\n",
        "    -server\t  to select the \"server\" VM\r\n",
        "    -zero\t  to select the \"zero\" VM\r\n",
        "    -jamvm\t  to select the \"jamvm\" VM\r\n",
        "    -avian\t  to select the \"avian\" VM\r\n",
        "    -dcevm\t  to select the \"dcevm\" VM\r\n",
        "                  The default VM is server.\r\n",
        "\r\n",
        "    -cp <class search path of directories and zip/jar files>\r\n",
        "    -classpath <class search path of directories and zip/jar files>\r\n",
        "                  A : separated list of directories, JAR archives,\r\n",
        "                  and ZIP archives to search for class files.\r\n",
        "    -D<name>=<value>\r\n",
        "                  set a system property\r\n",
        "    -verbose:[class|gc|jni]\r\n",
        "                  enable verbose output\r\n",
        "    -version      print product version and exit\r\n",
        "    -version:<value>\r\n",
        "                  require the specified version to run\r\n",
        "    -showversion  print product version and continue\r\n",
        "    -jre-restrict-search | -no-jre-restrict-search\r\n",
        "                  include/exclude user private JREs in the version search\r\n",
        "    -? -help      print this help message\r\n",
        "    -X            print help on non-standard options\r\n",
        "    -ea[:<packagename>...|:<classname>]\r\n",
        "    -enableassertions[:<packagename>...|:<classname>]\r\n",
        "                  enable assertions with specified granularity\r\n",
        "    -da[:<packagename>...|:<classname>]\r\n",
        "    -disableassertions[:<packagename>...|:<classname>]\r\n",
        "                  disable assertions with specified granularity\r\n",
        "    -esa | -enablesystemassertions\r\n",
        "                  enable system assertions\r\n",
        "    -dsa | -disablesystemassertions\r\n",
        "                  disable system assertions\r\n",
        "    -agentlib:<libname>[=<options>]\r\n",
        "                  load native agent library <libname>, e.g. -agentlib:hprof\r\n",
        "                  see also, -agentlib:jdwp=help and -agentlib:hprof=help\r\n",
        "    -agentpath:<pathname>[=<options>]\r\n",
        "                  load native agent library by full pathname\r\n",
        "    -javaagent:<jarpath>[=<options>]\r\n",
        "                  load Java programming language agent, see java.lang.instrument\r\n",
        "    -splash:<imagepath>\r\n",
        "                  show splash screen with specified image\r\n",
        "See http://www.oracle.com/technetwork/java/javase/documentation/index.html for more details.\r\n"
       ]
      }
     ],
     "prompt_number": 9
    },
    {
     "cell_type": "markdown",
     "metadata": {},
     "source": [
      "#### Check if we can run Beagle\n",
      "\n",
      "- woo hoo!\n",
      "- specifying 2Gb memory"
     ]
    },
    {
     "cell_type": "code",
     "collapsed": false,
     "input": [
      "!java  -Xmx2000m -jar /usr/local/bin/beagle.r1398.jar"
     ],
     "language": "python",
     "metadata": {},
     "outputs": [
      {
       "output_type": "stream",
       "stream": "stdout",
       "text": [
        "beagle.jar (r1398)\r\n",
        "Copyright (C) 2014 Brian L. Browning\r\n",
        "Command line syntax: java -jar beagle.jar [arguments]\r\n",
        "\r\n",
        "data input/output parameters ...\r\n",
        "  gt=<VCF file: use GT field>                        (optional)\r\n",
        "  gl=<VCF file: use GL/PL field>                     (optional)\r\n",
        "  gtgl=<VCF file: use GT and GL/PL fields>           (optional)\r\n",
        "  ref=<VCF file with phased genotypes>               (optional)\r\n",
        "  out=<output file prefix>                           (required)\r\n",
        "  excludesamples=<file with 1 sample ID per line>    (optional)\r\n",
        "  excludemarkers=<file with 1 marker ID per line>    (optional)\r\n",
        "  ped=<linkage format pedigree file>                 (optional)\r\n",
        "  chrom=<[chrom] or [chrom]:[start]-[end]>           (optional)\r\n",
        "  maxlr=<max GL/PL likelihood ratio>                 (default=5000)\r\n",
        "\r\n",
        "algorithm parameters ...\r\n",
        "  nthreads=<number of threads>                       (default=1)\r\n",
        "  window=<markers per window>                        (default=24000)\r\n",
        "  overlap=<overlap between windows>                  (default=3000)\r\n",
        "  gprobs=<print GP field (true/false)>               (default=true)\r\n",
        "  impute=<impute ungenotyped variants (true/false)>  (default=true)\r\n",
        "  usephase=<use phase in \"gt\" or \"gtgl\" file>        (default=false)\r\n",
        "  singlescale=<model scale for singles>              (default=1.0)\r\n",
        "  duoscale=<model scale for duos>                    (default=1.0)\r\n",
        "  trioscale=<model scale trios>                      (default=1.0)\r\n",
        "  burnin-its=<number of iterations>                  (default=5)\r\n",
        "  phase-its=<number of iterations>                   (default=5)\r\n",
        "  impute-its=<number of iterations>                  (default=5)\r\n",
        "  seed=<random seed>                                 (default=-99999)\r\n",
        "\r\n",
        "IBD parameters ...\r\n",
        "  ibd=<perform IBD detection (true/false)>           (default=false)\r\n",
        "  ibdlod=<min LOD score for reporting IBD>           (default=3.0)\r\n",
        "  ibdscale=<model scale factor for Refined IBD>      (default: data-dependent)\r\n",
        "  ibdtrim=<markers at each segment end>              (default=40)\r\n",
        "\r\n"
       ]
      }
     ],
     "prompt_number": 22
    },
    {
     "cell_type": "markdown",
     "metadata": {},
     "source": [
      "### Try it out\n",
      "\n",
      "- using 1 Mb of Kiwifruit\n",
      "- some parentage in here but for starters just treat as unrelated"
     ]
    },
    {
     "cell_type": "code",
     "collapsed": false,
     "input": [
      "ls /vagrant_data/Chr1_1Mb.vcf.gz*"
     ],
     "language": "python",
     "metadata": {},
     "outputs": [
      {
       "output_type": "stream",
       "stream": "stdout",
       "text": [
        "\u001b[0m\u001b[01;32m/vagrant_data/Chr1_1Mb.vcf.gz\u001b[0m*  \u001b[01;32m/vagrant_data/Chr1_1Mb.vcf.gz.tbi\u001b[0m*\r\n"
       ]
      }
     ],
     "prompt_number": 20
    },
    {
     "cell_type": "code",
     "collapsed": false,
     "input": [
      "!vcfsamplenames /vagrant_data/Chr1_1Mb.vcf.gz"
     ],
     "language": "python",
     "metadata": {},
     "outputs": [
      {
       "output_type": "stream",
       "stream": "stdout",
       "text": [
        "EA01-01\r\n",
        "16-2-1A\r\n",
        "16-1-1A\r\n",
        "52-18-20C\r\n",
        "52-15-05A\r\n",
        "39-4-5B\r\n",
        "39-4-6B\r\n",
        "CK51-11-KK14-03-06A\r\n",
        "CK51-09-KK03-07-09B\r\n",
        "CK51-06-KK03-07-13A\r\n",
        "52-13-22D-KK14-07-02A\r\n",
        "Hort16A\r\n",
        "52-08-06c\r\n",
        "43-03-14b\r\n",
        "CK15_02\r\n",
        "CK51_05\r\n",
        "CK51F3_01\r\n"
       ]
      }
     ],
     "prompt_number": 21
    },
    {
     "cell_type": "markdown",
     "metadata": {},
     "source": [
      "#### For starters just look at the first 10kb of Chr1\n",
      "\n",
      "-exclude some samples which are other species-only use **A chinensis** by listing in  an excludes file"
     ]
    },
    {
     "cell_type": "code",
     "collapsed": false,
     "input": [
      "%%bash --out=out \n",
      "java  -Xmx1000m -jar /usr/local/bin/beagle.r1398.jar excludesamples=/vagrant_data/nonCK.txt  gl=/vagrant_data/Chr1_1Mb.vcf.gz out=Chr1_10kb chrom=Chr1:1-1000 \n"
     ],
     "language": "python",
     "metadata": {},
     "outputs": [],
     "prompt_number": 12
    },
    {
     "cell_type": "markdown",
     "metadata": {},
     "source": [
      "#### Check out the phased genotypes"
     ]
    },
    {
     "cell_type": "code",
     "collapsed": false,
     "input": [
      "!zcat Chr1_10kb.vcf.gz | head -n15"
     ],
     "language": "python",
     "metadata": {},
     "outputs": [
      {
       "output_type": "stream",
       "stream": "stdout",
       "text": [
        "##fileformat=VCFv4.1\r\n",
        "##filedate=20141015\r\n",
        "##source=\"beagle.jar (r1398)\"\r\n",
        "##INFO=<ID=AF,Number=A,Type=Float,Description=\"Estimated Allele Frequencies\">\r\n",
        "##INFO=<ID=AR2,Number=1,Type=Float,Description=\"Allelic R-Squared: estimated correlation between most probable ALT dose and true ALT dose\">\r\n",
        "##INFO=<ID=DR2,Number=1,Type=Float,Description=\"Dosage R-Squared: estimated correlation between estimated ALT dose [P(RA) + 2*P(AA)] and true ALT dose\">\r\n",
        "##FORMAT=<ID=GT,Number=1,Type=String,Description=\"Genotype\">\r\n",
        "##FORMAT=<ID=DS,Number=1,Type=Float,Description=\"estimated ALT dose [P(RA) + P(AA)]\">\r\n",
        "##FORMAT=<ID=GP,Number=G,Type=Float,Description=\"Estimated Genotype Probability\">\r\n",
        "#CHROM\tPOS\tID\tREF\tALT\tQUAL\tFILTER\tINFO\tFORMAT\t16-2-1A\t16-1-1A\t39-4-5B\t39-4-6B\tCK51-11-KK14-03-06A\tCK51-09-KK03-07-09B\tCK51-06-KK03-07-13A\t52-13-22D-KK14-07-02A\tHort16A\tCK15_02\tCK51_05\tCK51F3_01\r\n",
        "Chr1\t19\t.\tT\tA\t.\tPASS\tAR2=0;DR2=0;AF=0\tGT:DS:GP\t0|0:0:1,0,0\t0|0:0:1,0,0\t0|0:0:1,0,0\t0|0:0:1,0,0\t0|0:0:1,0,0\t0|0:0:1,0,0\t0|0:0:1,0,0\t0|0:0:1,0,0\t0|0:0:1,0,0\t0|0:0:1,0,0\t0|0:0:1,0,0\t0|0:0:1,0,0\r\n",
        "Chr1\t38\t.\tT\tA\t.\tPASS\tAR2=0;DR2=0;AF=0\tGT:DS:GP\t0|0:0:1,0,0\t0|0:0:1,0,0\t0|0:0:1,0,0\t0|0:0:1,0,0\t0|0:0:1,0,0\t0|0:0:1,0,0\t0|0:0:1,0,0\t0|0:0:1,0,0\t0|0:0:1,0,0\t0|0:0:1,0,0\t0|0:0:1,0,0\t0|0:0:1,0,0\r\n",
        "Chr1\t49\t.\tTC\tGC,GA\t.\tPASS\tAR2=0;DR2=0;AF=0,0\tGT:DS:GP\t0|0:0:1,0,0,0,0,0\t0|0:0:1,0,0,0,0,0\t0|0:0:1,0,0,0,0,0\t0|0:0:1,0,0,0,0,0\t0|0:0:1,0,0,0,0,0\t0|0:0:1,0,0,0,0,0\t0|0:0:1,0,0,0,0,0\t0|0:0:1,0,0,0,0,0\t0|0:0:1,0,0,0,0,0\t0|0:0:1,0,0,0,0,0\t0|0:0:1,0,0,0,0,0\t0|0:0:1,0,0,0,0,0\r\n",
        "Chr1\t175\t.\tT\tG\t.\tPASS\tAR2=0;DR2=0;AF=0\tGT:DS:GP\t0|0:0:1,0,0\t0|0:0:1,0,0\t0|0:0:1,0,0\t0|0:0:1,0,0\t0|0:0:1,0,0\t0|0:0:1,0,0\t0|0:0:1,0,0\t0|0:0:1,0,0\t0|0:0:1,0,0\t0|0:0:1,0,0\t0|0:0:1,0,0\t0|0:0:1,0,0\r\n",
        "Chr1\t178\t.\tA\tC\t.\tPASS\tAR2=0;DR2=0;AF=0\tGT:DS:GP\t0|0:0:1,0,0\t0|0:0:1,0,0\t0|0:0:1,0,0\t0|0:0:1,0,0\t0|0:0:1,0,0\t0|0:0:1,0,0\t0|0:0:1,0,0\t0|0:0:1,0,0\t0|0:0:1,0,0\t0|0:0:1,0,0\t0|0:0:1,0,0\t0|0:0:1,0,0\r\n"
       ]
      }
     ],
     "prompt_number": 13
    },
    {
     "cell_type": "markdown",
     "metadata": {},
     "source": [
      "### Get Alleles Using Vcflib vcfgeno2haplo\n",
      "\n",
      "- https://github.com/ekg/vcflib#vcfgeno2haplo\n",
      "- need to index the phased vcf file and the reference file"
     ]
    },
    {
     "cell_type": "code",
     "collapsed": false,
     "input": [
      "%%bash\n",
      "tabix -f Chr1_10kb.vcf.gz\n",
      "samtools faidx /vagrant_data/Kiwifruit_pseudomolecule.fa\n",
      "vcfgeno2haplo -w 20 -r /vagrant_data/Kiwifruit_pseudomolecule.fa Chr1_10kb.vcf.gz    > Chr1_10kb.vcf.hap"
     ],
     "language": "python",
     "metadata": {},
     "outputs": [
      {
       "output_type": "stream",
       "stream": "stderr",
       "text": [
        "no alternate alleles remain at Chr1:19 after haplotype validation\n",
        "no alternate alleles remain at Chr1:175 after haplotype validation\n",
        "no alternate alleles remain at Chr1:615 after haplotype validation\n",
        "no alternate alleles remain at Chr1:768 after haplotype validation\n"
       ]
      }
     ],
     "prompt_number": 22
    },
    {
     "cell_type": "code",
     "collapsed": false,
     "input": [
      "!head -n 200 Chr1_10kb.vcf.hap"
     ],
     "language": "python",
     "metadata": {},
     "outputs": [
      {
       "output_type": "stream",
       "stream": "stdout",
       "text": [
        "##fileformat=VCFv4.1\r\n",
        "##filedate=20141015\r\n",
        "##source=\"beagle.jar (r1398)\"\r\n",
        "##INFO=<ID=AF,Number=A,Type=Float,Description=\"Estimated Allele Frequencies\">\r\n",
        "##INFO=<ID=AR2,Number=1,Type=Float,Description=\"Allelic R-Squared: estimated correlation between most probable ALT dose and true ALT dose\">\r\n",
        "##INFO=<ID=DR2,Number=1,Type=Float,Description=\"Dosage R-Squared: estimated correlation between estimated ALT dose [P(RA) + 2*P(AA)] and true ALT dose\">\r\n",
        "##FORMAT=<ID=GT,Number=1,Type=String,Description=\"Genotype\">\r\n",
        "##FORMAT=<ID=DS,Number=1,Type=Float,Description=\"estimated ALT dose [P(RA) + P(AA)]\">\r\n",
        "##FORMAT=<ID=GP,Number=G,Type=Float,Description=\"Estimated Genotype Probability\">\r\n",
        "#CHROM\tPOS\tID\tREF\tALT\tQUAL\tFILTER\tINFO\tFORMAT\t16-2-1A\t16-1-1A\t39-4-5B\t39-4-6B\tCK51-11-KK14-03-06A\tCK51-09-KK03-07-09B\tCK51-06-KK03-07-13A\t52-13-22D-KK14-07-02A\tHort16A\tCK15_02\tCK51_05\tCK51F3_01\r\n",
        "Chr1\t221\t.\tTACAGTAACAGAATGATCATTTGGTTGATCATTTGGT\tCTTCAAATGTAATACAGTAACAGAAAATGTCCCAAAA\t6.9406e-310\t.\tAF=0.167,0;AR2=1;DR2=1\tGT:DS:GP\t0|1:.:.\t0|1:.:.\t0|1:.:.\t0|1:.:.\t0|0:.:.\t0|0:.:.\t0|0:.:.\t0|0:.:.\t0|0:.:.\t0|0:.:.\t0|0:.:.\t0|0:.:.\r\n",
        "Chr1\t259\t.\tATGTCCCAAAAAAGATCTAT\tATGTCCCAAAAAAGATCTAC,ATGTGCCAAAAAAGATCTAT,AGATCTATGTTTGTTTCTAT,AGATCTATGTTTGTTTGTAT,AGATCTATGTTTGTTTGTAC,GTGTCCCAAAAAAGATCTAT\t6.9406e-310\t.\tAF=0.125;AR2=1;DR2=1\tGT:DS:GP\t0|5:.:.\t1|3:.:.\t0|4:.:.\t0|4:.:.\t0|2:.:.\t0|0:.:.\t2|6:.:.\t0|6:.:.\t0|0:.:.\t0|0:.:.\t0|0:.:.\t0|6:.:.\r\n",
        "Chr1\t305\t.\tTTGAACTAGTCTACTTCCAGTTGCCC\tTTGAACTAGTCTACTTCCAGTTGCCA\t6.9406e-310\t.\tAF=0;AR2=0;DR2=0\tGT:DS:GP\t0|0:.:.\t0|0:.:.\t1|0:.:.\t0|0:.:.\t0|0:.:.\t0|1:.:.\t0|0:.:.\t0|0:.:.\t0|0:.:.\t0|0:.:.\t0|1:.:.\t0|0:.:.\r\n",
        "Chr1\t370\t.\tGA\tGT,GC,AT\t0\tPASS\tAF=0.333,0.667,0;AR2=0;DR2=0\tGT:DS:GP\t1|2:2:0,0,0,0,1,0,0,0,0,0\t2|1:2:0,0,0,0,1,0,0,0,0,0\t2|2:2:0,0,0,0,0,1,0,0,0,0\t2|2:2:0,0,0,0,0,1,0,0,0,0\t2|1:2:0,0,0,0,1,0,0,0,0,0\t1|2:2:0,0,0,0,1,0,0,0,0,0\t2|2:2:0,0,0,0,0,1,0,0,0,0\t1|2:2:0,0,0,0,1,0,0,0,0,0\t1|2:2:0,0,0,0,1,0,0,0,0,0\t2|2:2:0,0,0,0,0,1,0,0,0,0\t1|2:2:0,0,0,0,1,0,0,0,0,0\t1|2:2:0,0,0,0,1,0,0,0,0,0\r\n",
        "Chr1\t393\t.\tTTCTCTCTCTCTCT\tTTCTCTCTCTCTCTC,TTCTCTCTCTCTCTCT,TTCTCTCTCTCTCTCTCT,TTCTCTCTCTCTCTCTC\t0\tPASS\tAF=0,0,0.042,0.042;AR2=1;DR2=1\tGT:DS:GP\t3|0:1:0,0,0,0,0,0,1,0,0,0,0,0,0,0,0\t0|4:1:0,0,0,0,0,0,0,0,0,0,1,0,0,0,0\t0|0:0:1,0,0,0,0,0,0,0,0,0,0,0,0,0,0\t0|0:0:1,0,0,0,0,0,0,0,0,0,0,0,0,0,0\t0|0:0:1,0,0,0,0,0,0,0,0,0,0,0,0,0,0\t0|0:0:1,0,0,0,0,0,0,0,0,0,0,0,0,0,0\t0|0:0:1,0,0,0,0,0,0,0,0,0,0,0,0,0,0\t0|0:0:1,0,0,0,0,0,0,0,0,0,0,0,0,0,0\t0|0:0:1,0,0,0,0,0,0,0,0,0,0,0,0,0,0\t0|0:0:1,0,0,0,0,0,0,0,0,0,0,0,0,0,0\t0|0:0:1,0,0,0,0,0,0,0,0,0,0,0,0,0,0\t0|0:0:1,0,0,0,0,0,0,0,0,0,0,0,0,0,0\r\n",
        "Chr1\t407\t.\tTATTTTTTGGGGGACCTGAATTTGAATGCACTAGGGATTCAGGAACGTTATAACGTGCAAATCTACCTCAAGAATCAATAAAGTCATGGATATTGACCTGAATTTGCATAATTTGGGGGAATTTTTT\tTATTTTTTGGGGGACCTGAATTTGAATGCACTAGGGTTTCAGGAACGTTATAACGTGCAAATCTGCCTCAAGAATCAATAAAGCCATGGATATTGACCTGAATTTGCATAATTTGGGGGAATTTTTT,TATTTTTTGGGGGACCTGAATTTGAATGCACTAGGGTTTCAGGAACGTTATAACGTGCAAATCTGCCTCAAGAATCAATAAAGCCATGGATATTGACCTGAATTTGCATAATTTGGGGGATTTTTTT,TATTTTTTGGGGGACCTGAATTTGAATGCACTAGGGGTTCAGGAACGTTATAACGTGCAAATCTACCTCAAGAATCAATAAAGTCATGGATATTGACCTGAATTTGCATAATTTGGGGGAATTTTTT,TATTTTTTGGGGGACCTGAATTTGAATGCACTAGGGGTTCAGGAACGTTATAACGTGCAAATCTACCTCAAGAATCAATAAAGTCATGGATATTGACCTGAATTTGCATAATTTGGGGGAAATATTT,TATTTTTTTGGGGACCTGAATTTGAATGCACTAGGGTTTCAGGAACGTTATAACGTGCAAATCTGCCTCAAGAATCAATAAAGCCATGGATATTGACCTGAATTTGCATAATTTGGGGGAATTTTTT,TATTTTTTTGGGGACCTGAATTTGAATGCACTAGGGTTTCAGGAACGTTATAACGTGCAAATCTGCCTCAAGAATCAATAAAGCCATGGATATTGACCTGAATTTGCATAATTTGGGGGATTTTTTT,TATTTTTTTGGGGACCTGAATTTGAATGCACTAGGGTTTCAGGAACGTTATAACGTGCAAATCTGCCTCAAGAATCAATAAAGCCATGGATATTGACCTGAATTTGCATAATTTGGGGGAAATATTT,TTATTTTTTGGGGGACCTGAATTTGATTGCACAAGGGTTTCAGGAACGTATAACGTGCAAATCTGCCTCAAGAATCAATAAAGTCATGGATATTGACCTGAATTTGCATAATTTGGGGGATTTTTTT,TTATTTTTTGGGGGACCTGAATTTGATTGCACAAGGGTTTCAGGAACGTTATAACGTCAAATCTGCCTCAAGAATCAATAAAGTCATGGATATTGACCTGAATTTGCATAATTTGGGGGATTTTTTT\t6.9406e-310\t.\tAF=0;AR2=0;DR2=0\tGT:DS:GP\t9|1:.:.\t1|8:.:.\t6|1:.:.\t2|2:.:.\t5|3:.:.\t3|5:.:.\t7|1:.:.\t4|1:.:.\t3|1:.:.\t1|1:.:.\t3|5:.:.\t4|1:.:.\r\n",
        "Chr1\t534\t.\tATTTTTTTTTTGGGTACATAACTTTTGGGAATCTTACACTAAAT\tATTTTTTTTTTGGGTACATAACTTTTGGGAATCTTATACTAAAT,TTTTTTTTTTTGGGTACATAACTTTTGGGAATCTTACACTAAAT,TTTTTTTTTTTGGGTACATAACTTTTGGGAATCTTATACTAAAT,TTTTTTTTTTTGGGTACATAACTTTTGGGAATCTTATACTAAAC\t6.9406e-310\t.\tAF=0.708;AR2=1;DR2=1\tGT:DS:GP\t4|2:.:.\t2|4:.:.\t4|3:.:.\t4|4:.:.\t2|1:.:.\t0|3:.:.\t1|3:.:.\t1|2:.:.\t0|3:.:.\t3|3:.:.\t1|2:.:.\t1|2:.:.\r\n",
        "Chr1\t711\t.\tT\tC\t0\tPASS\tAF=0;AR2=0;DR2=0\tGT:DS:GP\t0|0:0:1,0,0\t0|0:0:1,0,0\t0|0:0:1,0,0\t0|0:0:1,0,0\t0|0:0:1,0,0\t0|0:0:1,0,0\t0|0:0:1,0,0\t0|0:0:1,0,0\t0|0:0:1,0,0\t0|0:0:1,0,0\t0|0:0:1,0,0\t0|0:0:1,0,0\r\n",
        "Chr1\t736\t.\tGTTATACAGTAACAAGAATGTACATACG\tGTTATACGGTAACAAGAATGTACATACG\t6.9406e-310\t.\tAF=0;AR2=0;DR2=0\tGT:DS:GP\t0|1:.:.\t1|0:.:.\t0|0:.:.\t0|0:.:.\t1|0:.:.\t1|0:.:.\t0|0:.:.\t0|1:.:.\t1|0:.:.\t0|0:.:.\t0|1:.:.\t0|1:.:.\r\n",
        "Chr1\t837\t.\tATCCTATCATA\tCTCCTATCATA,CTCCTATCATT,TTCCTATCATA\t6.9406e-310\t.\tAF=0.667,0.333,0;AR2=0;DR2=0\tGT:DS:GP\t1|3:.:.\t3|1:.:.\t1|1:.:.\t1|1:.:.\t3|2:.:.\t3|2:.:.\t2|1:.:.\t1|3:.:.\t3|1:.:.\t1|1:.:.\t1|3:.:.\t1|3:.:.\r\n",
        "Chr1\t877\t.\tACCCCAAAAGCCCTGTTTTGGGCCGTCCGCTAATGGATTGTGGGATTGGTCTC\tACCCCAAAAGCCCTGTTTTGGGCCGTCCGCTAATGGATTGTGATTAGTCAGGA,ACCCCAATAGCCCTGTTTTGGGCCGTCCGCTAATGGATGGTGGGATTGGTCTC,ACCCCAATAGCCCTGTTTTGGGCCGTCCGCTAATGGATTTGGGGATTGGTCTC,ACCCCAATAGCCCTGTTTTGGGCCGTCCGCTAATGGATTTGGATTAGTCAGGA,ACCCCAATAGCCCTGTTTTGGGCCTTCCGCTAATGGATGGTGGGATTGGTCTC,ACCCCAATAGCCCTGTTTTGGGCCTTCCGCTAATGGATTTGGGGATTGGTCTC,ACCCCAATAGTCCTGTTTCCTGTTTTGGGATGGTGGGAGGTGGGATTGGTCTC,ACCCCAATAGTCAATAGTCCTGCCGTGGGACGTCCGGAGGTGTCTCCGGATTA,ACCCCAATAGTCAATAGTCCTGTTTTGGGACGTCCGGAGGTGTCTCCGGATTA,ACCCCAATAGTCAATAGTCCTGCCTTGGGACGTCCGGAGGTGTCTCCGGATTA\t6.9406e-310\t.\tAF=0;AR2=0;DR2=0\tGT:DS:GP\t0|9:.:.\t7|0:.:.\t5|0:.:.\t0|0:.:.\t7|4:.:.\t10|3:.:.\t2|1:.:.\t0|9:.:.\t9|0:.:.\t0|0:.:.\t6|8:.:.\t0|9:.:.\r\n",
        "Chr1\t930\t.\tCGGATTAGTCAGGCCAGATACCGAGTTACACATGATGA\tCGGATTAGTCAGGCCAGATACCGAGTTACAGTTGATCA,CGGATTAGTCTACCGGGTTACACATGATGACATGATGT,GTCAGTAGTCAGGCCAGATACCGAGTTACACATGATGA,GTCAGTAGTCAGGCCGGATACCGAGTTACACATGATGA,GTCAGTAGTCTACCGGGTTACACATGATGACATGATGT,CAGATACCGAGTTACACATACCGAGTTACACATGATGA,CAGAGACCGAGTTACACATACCGAGTTACACATGATGA\t6.9406e-310\t.\tAF=0.292,0.083;AR2=0.999;DR2=0.999\tGT:DS:GP\t0|3:.:.\t0|0:.:.\t0|0:.:.\t0|4:.:.\t0|7:.:.\t3|0:.:.\t0|6:.:.\t0|3:.:.\t5|1:.:.\t1|2:.:.\t0|3:.:.\t0|3:.:.\r\n"
       ]
      }
     ],
     "prompt_number": 23
    },
    {
     "cell_type": "markdown",
     "metadata": {},
     "source": [
      "--------------------------------\n",
      "\n",
      "### Save to a Secret Gist"
     ]
    },
    {
     "cell_type": "code",
     "collapsed": false,
     "input": [
      "!gist -p -d \"How to install and start to use Beagle 4\" Phasing\\ with\\ Beagle.ipynb"
     ],
     "language": "python",
     "metadata": {},
     "outputs": [
      {
       "output_type": "stream",
       "stream": "stdout",
       "text": [
        "https://gist.github.com/4e30c980f1a0fd5af2b8\r\n"
       ]
      }
     ],
     "prompt_number": 57
    },
    {
     "cell_type": "markdown",
     "metadata": {},
     "source": [
      "Can now share via nbviewer link http://nbviewer.ipython.org/4e30c980f1a0fd5af2b8\n",
      "\n",
      "-------------------\n",
      "\n",
      "#### Update"
     ]
    },
    {
     "cell_type": "code",
     "collapsed": false,
     "input": [
      "!gist -u https://gist.github.com/4e30c980f1a0fd5af2b8 Phasing\\ with\\ Beagle.ipynb"
     ],
     "language": "python",
     "metadata": {},
     "outputs": [
      {
       "output_type": "stream",
       "stream": "stdout",
       "text": [
        "https://gist.github.com/4e30c980f1a0fd5af2b8\r\n"
       ]
      }
     ],
     "prompt_number": 58
    }
   ],
   "metadata": {}
  }
 ]
}