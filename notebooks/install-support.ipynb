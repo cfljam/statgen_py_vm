{
 "metadata": {
  "name": "",
  "signature": "sha256:bcf0ed6ee2723668bfc89ff69b532e006824a2c1e48bb0c01419cf86ec556f2a"
 },
 "nbformat": 3,
 "nbformat_minor": 0,
 "worksheets": [
  {
   "cells": [
    {
     "cell_type": "markdown",
     "metadata": {},
     "source": [
      "# Installing the slideshow support\n",
      "\n",
      "**NOTE** The tools here require IPython 1.0, they do *not* work with\n",
      "IPython 0.13.2.\n",
      "\n",
      "You should only need to run this notebook *once*. \n",
      "\n",
      "It will install the slideshow tools in your IPython profile from github.  It's done in steps so you can debug it more easily if things go wrong.\n",
      "\n",
      "Start by getting the location of your current profile:"
     ]
    },
    {
     "cell_type": "code",
     "collapsed": false,
     "input": [
      "profile_dir = get_ipython().profile_dir.location\n",
      "profile_dir"
     ],
     "language": "python",
     "metadata": {},
     "outputs": [
      {
       "metadata": {},
       "output_type": "pyout",
       "prompt_number": 1,
       "text": [
        "u'/home/vagrant/.ipython/profile_default'"
       ]
      }
     ],
     "prompt_number": 1
    },
    {
     "cell_type": "markdown",
     "metadata": {},
     "source": [
      "Clone the [Github repo](https://github.com/ipython-contrib/IPython-notebook-extensions) with IPython extensions, including the slideshow support, into the right location:"
     ]
    },
    {
     "cell_type": "code",
     "collapsed": false,
     "input": [
      "import os\n",
      "tgt = os.path.join( profile_dir, 'static', 'custom')\n",
      "!rm -r /home/vagrant/.ipython/profile_default/static/custom\n",
      "!git clone https://github.com/ipython-contrib/IPython-notebook-extensions.git $tgt"
     ],
     "language": "python",
     "metadata": {},
     "outputs": [
      {
       "output_type": "stream",
       "stream": "stdout",
       "text": [
        "Cloning into '/home/vagrant/.ipython/profile_default/static/custom'...\r\n"
       ]
      },
      {
       "output_type": "stream",
       "stream": "stdout",
       "text": [
        "remote: Counting objects: 1196, done.\u001b[K\r\n"
       ]
      },
      {
       "output_type": "stream",
       "stream": "stdout",
       "text": [
        "Receiving objects:   0% (1/1196)   \r",
        "Receiving objects:   1% (12/1196)   \r",
        "Receiving objects:   2% (24/1196)   \r",
        "Receiving objects:   3% (36/1196)   \r",
        "Receiving objects:   4% (48/1196)   \r",
        "Receiving objects:   5% (60/1196)   \r",
        "Receiving objects:   6% (72/1196)   \r"
       ]
      },
      {
       "output_type": "stream",
       "stream": "stdout",
       "text": [
        "Receiving objects:   7% (84/1196)   \r",
        "Receiving objects:   8% (96/1196)   \r",
        "Receiving objects:   9% (108/1196)   \r",
        "Receiving objects:  10% (120/1196)   \r",
        "Receiving objects:  11% (132/1196)   \r",
        "Receiving objects:  12% (144/1196)   \r",
        "Receiving objects:  13% (156/1196)   \r",
        "Receiving objects:  14% (168/1196)   \r",
        "Receiving objects:  15% (180/1196)   \r",
        "Receiving objects:  16% (192/1196)   \r",
        "Receiving objects:  17% (204/1196)   \r"
       ]
      },
      {
       "output_type": "stream",
       "stream": "stdout",
       "text": [
        "Receiving objects:  18% (216/1196), 44.00 KiB | 64.00 KiB/s   \r",
        "Receiving objects:  19% (228/1196), 44.00 KiB | 64.00 KiB/s   \r",
        "Receiving objects:  20% (240/1196), 44.00 KiB | 64.00 KiB/s   \r",
        "Receiving objects:  21% (252/1196), 44.00 KiB | 64.00 KiB/s   \r",
        "Receiving objects:  22% (264/1196), 44.00 KiB | 64.00 KiB/s   \r",
        "Receiving objects:  23% (276/1196), 44.00 KiB | 64.00 KiB/s   \r",
        "Receiving objects:  24% (288/1196), 44.00 KiB | 64.00 KiB/s   \r",
        "Receiving objects:  25% (299/1196), 44.00 KiB | 64.00 KiB/s   \r",
        "Receiving objects:  26% (311/1196), 44.00 KiB | 64.00 KiB/s   \r",
        "Receiving objects:  27% (323/1196), 44.00 KiB | 64.00 KiB/s   \r"
       ]
      },
      {
       "output_type": "stream",
       "stream": "stdout",
       "text": [
        "Receiving objects:  28% (335/1196), 44.00 KiB | 64.00 KiB/s   \r",
        "Receiving objects:  29% (347/1196), 44.00 KiB | 64.00 KiB/s   \r"
       ]
      },
      {
       "output_type": "stream",
       "stream": "stdout",
       "text": [
        "Receiving objects:  29% (350/1196), 100.00 KiB | 78.00 KiB/s   \r"
       ]
      },
      {
       "output_type": "stream",
       "stream": "stdout",
       "text": [
        "Receiving objects:  29% (357/1196), 300.00 KiB | 120.00 KiB/s   \r"
       ]
      },
      {
       "output_type": "stream",
       "stream": "stdout",
       "text": [
        "Receiving objects:  29% (358/1196), 420.00 KiB | 135.00 KiB/s   \r"
       ]
      },
      {
       "output_type": "stream",
       "stream": "stdout",
       "text": [
        "Receiving objects:  29% (358/1196), 660.00 KiB | 152.00 KiB/s   \r"
       ]
      },
      {
       "output_type": "stream",
       "stream": "stdout",
       "text": [
        "Receiving objects:  30% (359/1196), 660.00 KiB | 152.00 KiB/s   \r"
       ]
      },
      {
       "output_type": "stream",
       "stream": "stdout",
       "text": [
        "Receiving objects:  30% (359/1196), 1.02 MiB | 193.00 KiB/s   \r"
       ]
      },
      {
       "output_type": "stream",
       "stream": "stdout",
       "text": [
        "Receiving objects:  30% (361/1196), 1.22 MiB | 229.00 KiB/s   \r"
       ]
      },
      {
       "output_type": "stream",
       "stream": "stdout",
       "text": [
        "Receiving objects:  30% (363/1196), 1.66 MiB | 296.00 KiB/s   \r"
       ]
      },
      {
       "output_type": "stream",
       "stream": "stdout",
       "text": [
        "Receiving objects:  31% (371/1196), 1.94 MiB | 341.00 KiB/s   \r",
        "Receiving objects:  32% (383/1196), 1.94 MiB | 341.00 KiB/s   \r",
        "Receiving objects:  33% (395/1196), 1.94 MiB | 341.00 KiB/s   \r",
        "Receiving objects:  34% (407/1196), 1.94 MiB | 341.00 KiB/s   \r"
       ]
      },
      {
       "output_type": "stream",
       "stream": "stdout",
       "text": [
        "Receiving objects:  35% (419/1196), 1.94 MiB | 341.00 KiB/s   \r",
        "Receiving objects:  36% (431/1196), 1.94 MiB | 341.00 KiB/s   \r",
        "Receiving objects:  37% (443/1196), 1.94 MiB | 341.00 KiB/s   \r"
       ]
      },
      {
       "output_type": "stream",
       "stream": "stdout",
       "text": [
        "Receiving objects:  38% (455/1196), 2.25 MiB | 388.00 KiB/s   \r"
       ]
      },
      {
       "output_type": "stream",
       "stream": "stdout",
       "text": [
        "Receiving objects:  38% (462/1196), 2.25 MiB | 388.00 KiB/s   \r"
       ]
      },
      {
       "output_type": "stream",
       "stream": "stdout",
       "text": [
        "Receiving objects:  39% (467/1196), 2.61 MiB | 453.00 KiB/s   \r"
       ]
      },
      {
       "output_type": "stream",
       "stream": "stdout",
       "text": [
        "Receiving objects:  40% (479/1196), 2.61 MiB | 453.00 KiB/s   \r"
       ]
      },
      {
       "output_type": "stream",
       "stream": "stdout",
       "text": [
        "Receiving objects:  40% (487/1196), 2.93 MiB | 491.00 KiB/s   \r",
        "Receiving objects:  41% (491/1196), 2.93 MiB | 491.00 KiB/s   \r",
        "Receiving objects:  42% (503/1196), 2.93 MiB | 491.00 KiB/s   \r",
        "Receiving objects:  43% (515/1196), 2.93 MiB | 491.00 KiB/s   \r",
        "Receiving objects:  44% (527/1196), 2.93 MiB | 491.00 KiB/s   \r",
        "Receiving objects:  45% (539/1196), 2.93 MiB | 491.00 KiB/s   \r",
        "Receiving objects:  46% (551/1196), 2.93 MiB | 491.00 KiB/s   \r",
        "Receiving objects:  47% (563/1196), 2.93 MiB | 491.00 KiB/s   \r",
        "Receiving objects:  48% (575/1196), 2.93 MiB | 491.00 KiB/s   \r",
        "Receiving objects:  49% (587/1196), 2.93 MiB | 491.00 KiB/s   \r",
        "Receiving objects:  50% (598/1196), 2.93 MiB | 491.00 KiB/s   \r",
        "Receiving objects:  51% (610/1196), 2.93 MiB | 491.00 KiB/s   \r",
        "Receiving objects:  52% (622/1196), 2.93 MiB | 491.00 KiB/s   \r",
        "Receiving objects:  53% (634/1196), 2.93 MiB | 491.00 KiB/s   \r",
        "Receiving objects:  54% (646/1196), 2.93 MiB | 491.00 KiB/s   \r",
        "Receiving objects:  55% (658/1196), 2.93 MiB | 491.00 KiB/s   \r",
        "Receiving objects:  56% (670/1196), 2.93 MiB | 491.00 KiB/s   \r",
        "Receiving objects:  57% (682/1196), 2.93 MiB | 491.00 KiB/s   \r",
        "Receiving objects:  58% (694/1196), 2.93 MiB | 491.00 KiB/s   \r",
        "Receiving objects:  59% (706/1196), 2.93 MiB | 491.00 KiB/s   \r",
        "Receiving objects:  60% (718/1196), 2.93 MiB | 491.00 KiB/s   \r",
        "Receiving objects:  61% (730/1196), 2.93 MiB | 491.00 KiB/s   \r",
        "Receiving objects:  62% (742/1196), 2.93 MiB | 491.00 KiB/s   \r",
        "Receiving objects:  63% (754/1196), 2.93 MiB | 491.00 KiB/s   \r",
        "Receiving objects:  64% (766/1196), 2.93 MiB | 491.00 KiB/s   \r",
        "Receiving objects:  65% (778/1196), 2.93 MiB | 491.00 KiB/s   \r",
        "Receiving objects:  66% (790/1196), 2.93 MiB | 491.00 KiB/s   \r",
        "Receiving objects:  67% (802/1196), 2.93 MiB | 491.00 KiB/s   \r",
        "Receiving objects:  68% (814/1196), 2.93 MiB | 491.00 KiB/s   \r",
        "Receiving objects:  69% (826/1196), 2.93 MiB | 491.00 KiB/s   \r",
        "Receiving objects:  70% (838/1196), 2.93 MiB | 491.00 KiB/s   \r",
        "Receiving objects:  71% (850/1196), 2.93 MiB | 491.00 KiB/s   \r",
        "Receiving objects:  72% (862/1196), 2.93 MiB | 491.00 KiB/s   \r",
        "Receiving objects:  73% (874/1196), 2.93 MiB | 491.00 KiB/s   \r",
        "Receiving objects:  74% (886/1196), 2.93 MiB | 491.00 KiB/s   \r",
        "Receiving objects:  75% (897/1196), 2.93 MiB | 491.00 KiB/s   \r",
        "Receiving objects:  76% (909/1196), 2.93 MiB | 491.00 KiB/s   \r",
        "Receiving objects:  77% (921/1196), 2.93 MiB | 491.00 KiB/s   \r",
        "Receiving objects:  78% (933/1196), 2.93 MiB | 491.00 KiB/s   \r",
        "Receiving objects:  79% (945/1196), 2.93 MiB | 491.00 KiB/s   \r",
        "Receiving objects:  80% (957/1196), 2.93 MiB | 491.00 KiB/s   \r",
        "Receiving objects:  81% (969/1196), 2.93 MiB | 491.00 KiB/s   \r",
        "Receiving objects:  82% (981/1196), 2.93 MiB | 491.00 KiB/s   \r",
        "Receiving objects:  83% (993/1196), 2.93 MiB | 491.00 KiB/s   \r",
        "Receiving objects:  84% (1005/1196), 2.93 MiB | 491.00 KiB/s   \r",
        "Receiving objects:  85% (1017/1196), 2.93 MiB | 491.00 KiB/s   \r",
        "Receiving objects:  86% (1029/1196), 2.93 MiB | 491.00 KiB/s   \r",
        "Receiving objects:  87% (1041/1196), 2.93 MiB | 491.00 KiB/s   \r",
        "Receiving objects:  88% (1053/1196), 2.93 MiB | 491.00 KiB/s   \r",
        "remote: Total 1196 (delta 0), reused 0 (delta 0)\u001b[K\r\n",
        "Receiving objects:  89% (1065/1196), 2.93 MiB | 491.00 KiB/s   \r",
        "Receiving objects:  90% (1077/1196), 2.93 MiB | 491.00 KiB/s   \r",
        "Receiving objects:  91% (1089/1196), 2.93 MiB | 491.00 KiB/s   \r",
        "Receiving objects:  92% (1101/1196), 2.93 MiB | 491.00 KiB/s   \r",
        "Receiving objects:  93% (1113/1196), 2.93 MiB | 491.00 KiB/s   \r",
        "Receiving objects:  94% (1125/1196), 2.93 MiB | 491.00 KiB/s   \r",
        "Receiving objects:  95% (1137/1196), 2.93 MiB | 491.00 KiB/s   \r",
        "Receiving objects:  96% (1149/1196), 2.93 MiB | 491.00 KiB/s   \r",
        "Receiving objects:  97% (1161/1196), 2.93 MiB | 491.00 KiB/s   \r",
        "Receiving objects:  98% (1173/1196), 2.93 MiB | 491.00 KiB/s   \r",
        "Receiving objects:  99% (1185/1196), 2.93 MiB | 491.00 KiB/s   \r",
        "Receiving objects: 100% (1196/1196), 2.93 MiB | 491.00 KiB/s   \r",
        "Receiving objects: 100% (1196/1196), 3.10 MiB | 512.00 KiB/s, done.\r\n",
        "Resolving deltas:   0% (0/581)   \r",
        "Resolving deltas:   1% (7/581)   \r",
        "Resolving deltas:   2% (12/581)   \r",
        "Resolving deltas:   3% (23/581)   \r",
        "Resolving deltas:   4% (24/581)   \r",
        "Resolving deltas:   7% (42/581)   \r"
       ]
      },
      {
       "output_type": "stream",
       "stream": "stdout",
       "text": [
        "Resolving deltas:   8% (47/581)   \r",
        "Resolving deltas:   9% (55/581)   \r",
        "Resolving deltas:  10% (61/581)   \r",
        "Resolving deltas:  11% (67/581)   \r",
        "Resolving deltas:  12% (70/581)   \r",
        "Resolving deltas:  14% (84/581)   \r",
        "Resolving deltas:  15% (91/581)   \r",
        "Resolving deltas:  16% (97/581)   \r",
        "Resolving deltas:  17% (103/581)   \r",
        "Resolving deltas:  18% (107/581)   \r",
        "Resolving deltas:  19% (112/581)   \r",
        "Resolving deltas:  20% (119/581)   \r",
        "Resolving deltas:  21% (123/581)   \r",
        "Resolving deltas:  22% (133/581)   \r",
        "Resolving deltas:  23% (134/581)   \r",
        "Resolving deltas:  24% (143/581)   \r",
        "Resolving deltas:  30% (180/581)   \r",
        "Resolving deltas:  31% (183/581)   \r",
        "Resolving deltas:  39% (231/581)   \r",
        "Resolving deltas:  41% (240/581)   \r",
        "Resolving deltas:  42% (249/581)   \r",
        "Resolving deltas:  43% (250/581)   \r",
        "Resolving deltas:  44% (258/581)   \r",
        "Resolving deltas:  53% (308/581)   \r",
        "Resolving deltas:  54% (315/581)   \r",
        "Resolving deltas:  56% (329/581)   \r",
        "Resolving deltas:  60% (352/581)   \r",
        "Resolving deltas:  61% (355/581)   \r",
        "Resolving deltas:  62% (362/581)   \r",
        "Resolving deltas:  64% (375/581)   \r",
        "Resolving deltas:  65% (379/581)   \r",
        "Resolving deltas:  66% (384/581)   \r",
        "Resolving deltas:  67% (391/581)   \r",
        "Resolving deltas:  68% (398/581)   \r",
        "Resolving deltas:  76% (444/581)   \r",
        "Resolving deltas:  77% (448/581)   \r",
        "Resolving deltas:  79% (462/581)   \r",
        "Resolving deltas:  81% (476/581)   \r",
        "Resolving deltas:  88% (512/581)   \r",
        "Resolving deltas:  89% (519/581)   \r",
        "Resolving deltas:  91% (529/581)   \r",
        "Resolving deltas:  94% (547/581)   \r",
        "Resolving deltas:  95% (552/581)   \r",
        "Resolving deltas:  96% (559/581)   \r",
        "Resolving deltas:  97% (565/581)   \r",
        "Resolving deltas:  98% (570/581)   \r",
        "Resolving deltas: 100% (581/581)   \r",
        "Resolving deltas: 100% (581/581), done.\r\n",
        "Checking connectivity... done.\r\n"
       ]
      }
     ],
     "prompt_number": 3
    },
    {
     "cell_type": "markdown",
     "metadata": {},
     "source": [
      "Let's `cd` into that directory and check that the contents look right:"
     ]
    },
    {
     "cell_type": "code",
     "collapsed": false,
     "input": [
      "%cd $tgt\n",
      "!ls"
     ],
     "language": "python",
     "metadata": {},
     "outputs": [
      {
       "output_type": "stream",
       "stream": "stdout",
       "text": [
        "/home/vagrant/.ipython/profile_default/static/custom\n",
        "COPYING.rst\t   publishing  slidemode  testing    wiki-images\r\n",
        "custom.example.js  README.md   styling\t  usability\r\n"
       ]
      }
     ],
     "prompt_number": 4
    },
    {
     "cell_type": "markdown",
     "metadata": {},
     "source": [
      "Finally, write out a `custom.js` file that has activated the slideshow extension.  This is simply the provided `custom.example.js` file, with two lines commented out. Feel free to add more to activate other extensions, as explained in the `README.md` file:"
     ]
    },
    {
     "cell_type": "code",
     "collapsed": false,
     "input": [
      "%%writefile custom.js\n",
      "// we want strict javascript that fails\n",
      "// on ambiguous syntax\n",
      "\"using strict\";\n",
      "\n",
      "// do not use notebook loaded  event as it is re-triggerd on\n",
      "// revert to checkpoint but this allow extesnsion to be loaded\n",
      "// late enough to work.\n",
      "//\n",
      "\n",
      "$([IPython.events]).on('app_initialized.NotebookApp', function(){\n",
      "\n",
      "\n",
      "    /**  Use path to js file relative to /static/ dir without leading slash, or\n",
      "     *  js extension.\n",
      "     *  Link directly to file is js extension.\n",
      "     *\n",
      "     *  first argument of require is a **list** that can contains several modules if needed.\n",
      "     **/\n",
      "\n",
      "    // require(['custom/noscroll']);\n",
      "    // require(['custom/clean_start'])\n",
      "    // require(['custom/toggle_all_line_number'])\n",
      "    // require(['custom/gist_it']);\n",
      "\n",
      "    /**\n",
      "     *  Link to entrypoint if extesnsion is a folder.\n",
      "     *  to be consistent with commonjs module, the entrypoint is main.js\n",
      "     *  here youcan also trigger a custom function on load that will do extra\n",
      "     *  action with the module if needed\n",
      "     **/\n",
      "     require(['custom/slidemode/main'],function(slidemode){\n",
      "    //     // do stuff\n",
      "     })\n",
      "\n",
      "});\n"
     ],
     "language": "python",
     "metadata": {},
     "outputs": [
      {
       "output_type": "stream",
       "stream": "stdout",
       "text": [
        "Writing custom.js\n"
       ]
      }
     ],
     "prompt_number": 5
    },
    {
     "cell_type": "markdown",
     "metadata": {},
     "source": [
      "That's it! You should now restart your notebook server and reload the pages just to make sure you get fresh CSS.  If everything went well, your toolbar should look like this, with a new button highlighted here in red:\n",
      "\n",
      "![img](files/toolbar-slideshow.png)\n",
      "\n",
      "That new button is the toggle to enter live slideshow mode, which you can use to switch between the normal editing mode (with the whole notebook as one long scrolling document) and the presentation mode.\n",
      "\n",
      "Now that you've read this, look at the accompanying `notebook-slideshow-example` notebook as a starting illustration of how you can write a presentation-oriented notebook."
     ]
    }
   ],
   "metadata": {}
  }
 ]
}