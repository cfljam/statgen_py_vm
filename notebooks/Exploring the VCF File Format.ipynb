{
 "metadata": {
  "name": "",
  "signature": "sha256:83413257799b53d59928254e7055af21c72d78afbbd82adb59d8fbd48508cf53"
 },
 "nbformat": 3,
 "nbformat_minor": 0,
 "worksheets": [
  {
   "cells": [
    {
     "cell_type": "markdown",
     "metadata": {
      "slideshow": {
       "slide_type": "slide"
      }
     },
     "source": [
      "Exploring the VCF File Format\n",
      "==========================\n",
      "\n",
      "- VCF= variant call format\n",
      "- developed for 1000 genome project variant data\n",
      "- an interval format \n",
      "        #CHROM\tPOS\tID\tREF\tALT\tQUAL\tFILTER\tINFO\tFORMAT\n",
      "       \n",
      "- [VCF Specifications ](http://vcftools.sourceforge.net/specs.html)\n",
      "- usually stored compressed"
     ]
    },
    {
     "cell_type": "markdown",
     "metadata": {
      "slideshow": {
       "slide_type": "slide"
      }
     },
     "source": [
      "#### List vcf files in our vagrant share"
     ]
    },
    {
     "cell_type": "code",
     "collapsed": false,
     "input": [
      "!ls /vagrant_data/*vcf* -lh"
     ],
     "language": "python",
     "metadata": {},
     "outputs": [
      {
       "output_type": "stream",
       "stream": "stdout",
       "text": [
        "-rwxrwxrwx 1 vagrant vagrant 15M Oct 13 07:55 /vagrant_data/Chr1_1Mb.vcf.gz\r\n"
       ]
      }
     ],
     "prompt_number": 3
    },
    {
     "cell_type": "markdown",
     "metadata": {
      "slideshow": {
       "slide_type": "slide"
      }
     },
     "source": [
      "#### Inspect the top 100 lines of the file using zcat"
     ]
    },
    {
     "cell_type": "markdown",
     "metadata": {},
     "source": [
      "- this command is one of several for looking at compressed files\n",
      "- see [this link](http://www.thegeekstuff.com/2009/05/zcat-zless-zgrep-zdiff-zcmp-zmore-gzip-file-operations-on-the-compressed-files/) for more info\n",
      "- we pipe the output into the head command"
     ]
    },
    {
     "cell_type": "code",
     "collapsed": false,
     "input": [
      "!zcat /vagrant_data/Chr1_1Mb.vcf.gz | head -n 100"
     ],
     "language": "python",
     "metadata": {},
     "outputs": [
      {
       "output_type": "stream",
       "stream": "stdout",
       "text": [
        "##fileformat=VCFv4.1\r\n",
        "##fileDate=20140930\r\n",
        "##source=freeBayes v0.9.14-23-g40ecd03-dirty\r\n",
        "##reference=../00.data/Kiwifruit_pseudomolecule.fa\r\n",
        "##phasing=none\r\n",
        "##commandline=\"freebayes -f ../00.data/Kiwifruit_pseudomolecule.fa --genotype-qualities --report-genotype-likelihood-max -L ../00.data/bamfiles --max-complex-gap 0 --region Chr1:1-1000000 -0 -v Chr1_1Mb.vcf\"\r\n",
        "##INFO=<ID=NS,Number=1,Type=Integer,Description=\"Number of samples with data\">\r\n",
        "##INFO=<ID=DP,Number=1,Type=Integer,Description=\"Total read depth at the locus\">\r\n",
        "##INFO=<ID=DPB,Number=1,Type=Float,Description=\"Total read depth per bp at the locus; bases in reads overlapping / bases in haplotype\">\r\n",
        "##INFO=<ID=AC,Number=A,Type=Integer,Description=\"Total number of alternate alleles in called genotypes\">\r\n",
        "##INFO=<ID=AN,Number=1,Type=Integer,Description=\"Total number of alleles in called genotypes\">\r\n",
        "##INFO=<ID=AF,Number=A,Type=Float,Description=\"Estimated allele frequency in the range (0,1]\">\r\n",
        "##INFO=<ID=RO,Number=1,Type=Integer,Description=\"Reference allele observation count, with partial observations recorded fractionally\">\r\n",
        "##INFO=<ID=AO,Number=A,Type=Integer,Description=\"Alternate allele observations, with partial observations recorded fractionally\">\r\n",
        "##INFO=<ID=PRO,Number=1,Type=Float,Description=\"Reference allele observation count, with partial observations recorded fractionally\">\r\n",
        "##INFO=<ID=PAO,Number=A,Type=Float,Description=\"Alternate allele observations, with partial observations recorded fractionally\">\r\n",
        "##INFO=<ID=QR,Number=1,Type=Integer,Description=\"Reference allele quality sum in phred\">\r\n",
        "##INFO=<ID=QA,Number=A,Type=Integer,Description=\"Alternate allele quality sum in phred\">\r\n",
        "##INFO=<ID=PQR,Number=1,Type=Float,Description=\"Reference allele quality sum in phred for partial observations\">\r\n",
        "##INFO=<ID=PQA,Number=A,Type=Float,Description=\"Alternate allele quality sum in phred for partial observations\">\r\n",
        "##INFO=<ID=SRF,Number=1,Type=Integer,Description=\"Number of reference observations on the forward strand\">\r\n",
        "##INFO=<ID=SRR,Number=1,Type=Integer,Description=\"Number of reference observations on the reverse strand\">\r\n",
        "##INFO=<ID=SAF,Number=A,Type=Integer,Description=\"Number of alternate observations on the forward strand\">\r\n",
        "##INFO=<ID=SAR,Number=A,Type=Integer,Description=\"Number of alternate observations on the reverse strand\">\r\n",
        "##INFO=<ID=SRP,Number=1,Type=Float,Description=\"Strand balance probability for the reference allele: Phred-scaled upper-bounds estimate of the probability of observing the deviation between SRF and SRR given E(SRF/SRR) ~ 0.5, derived using Hoeffding's inequality\">\r\n",
        "##INFO=<ID=SAP,Number=A,Type=Float,Description=\"Strand balance probability for the alternate allele: Phred-scaled upper-bounds estimate of the probability of observing the deviation between SAF and SAR given E(SAF/SAR) ~ 0.5, derived using Hoeffding's inequality\">\r\n",
        "##INFO=<ID=AB,Number=A,Type=Float,Description=\"Allele balance at heterozygous sites: a number between 0 and 1 representing the ratio of reads showing the reference allele to all reads, considering only reads from individuals called as heterozygous\">\r\n",
        "##INFO=<ID=ABP,Number=A,Type=Float,Description=\"Allele balance probability at heterozygous sites: Phred-scaled upper-bounds estimate of the probability of observing the deviation between ABR and ABA given E(ABR/ABA) ~ 0.5, derived using Hoeffding's inequality\">\r\n",
        "##INFO=<ID=RUN,Number=A,Type=Integer,Description=\"Run length: the number of consecutive repeats of the alternate allele in the reference genome\">\r\n",
        "##INFO=<ID=RPP,Number=A,Type=Float,Description=\"Read Placement Probability: Phred-scaled upper-bounds estimate of the probability of observing the deviation between RPL and RPR given E(RPL/RPR) ~ 0.5, derived using Hoeffding's inequality\">\r\n",
        "##INFO=<ID=RPPR,Number=1,Type=Float,Description=\"Read Placement Probability for reference observations: Phred-scaled upper-bounds estimate of the probability of observing the deviation between RPL and RPR given E(RPL/RPR) ~ 0.5, derived using Hoeffding's inequality\">\r\n",
        "##INFO=<ID=EPP,Number=A,Type=Float,Description=\"End Placement Probability: Phred-scaled upper-bounds estimate of the probability of observing the deviation between EL and ER given E(EL/ER) ~ 0.5, derived using Hoeffding's inequality\">\r\n",
        "##INFO=<ID=EPPR,Number=1,Type=Float,Description=\"End Placement Probability for reference observations: Phred-scaled upper-bounds estimate of the probability of observing the deviation between EL and ER given E(EL/ER) ~ 0.5, derived using Hoeffding's inequality\">\r\n",
        "##INFO=<ID=DPRA,Number=A,Type=Float,Description=\"Alternate allele depth ratio.  Ratio between depth in samples with each called alternate allele and those without.\">\r\n",
        "##INFO=<ID=ODDS,Number=1,Type=Float,Description=\"The log odds ratio of the best genotype combination to the second-best.\">\r\n",
        "##INFO=<ID=GTI,Number=1,Type=Integer,Description=\"Number of genotyping iterations required to reach convergence or bailout.\">\r\n",
        "##INFO=<ID=TYPE,Number=A,Type=String,Description=\"The type of allele, either snp, mnp, ins, del, or complex.\">\r\n",
        "##INFO=<ID=CIGAR,Number=A,Type=String,Description=\"The extended CIGAR representation of each alternate allele, with the exception that '=' is replaced by 'M' to ease VCF parsing.  Note that INDEL alleles do not have the first matched base (which is provided by default, per the spec) referred to by the CIGAR.\">\r\n",
        "##INFO=<ID=NUMALT,Number=1,Type=Integer,Description=\"Number of unique non-reference alleles in called genotypes at this position.\">\r\n",
        "##INFO=<ID=MEANALT,Number=A,Type=Float,Description=\"Mean number of unique non-reference allele observations per sample with the corresponding alternate alleles.\">\r\n",
        "##INFO=<ID=LEN,Number=A,Type=Integer,Description=\"allele length\">\r\n",
        "##INFO=<ID=MQM,Number=A,Type=Float,Description=\"Mean mapping quality of observed alternate alleles\">\r\n",
        "##INFO=<ID=MQMR,Number=1,Type=Float,Description=\"Mean mapping quality of observed reference alleles\">\r\n",
        "##INFO=<ID=PAIRED,Number=A,Type=Float,Description=\"Proportion of observed alternate alleles which are supported by properly paired read fragments\">\r\n",
        "##INFO=<ID=PAIREDR,Number=1,Type=Float,Description=\"Proportion of observed reference alleles which are supported by properly paired read fragments\">\r\n",
        "##INFO=<ID=technology.Illumina,Number=A,Type=Float,Description=\"Fraction of observations supporting the alternate observed in reads from Illumina\">\r\n",
        "##FORMAT=<ID=GT,Number=1,Type=String,Description=\"Genotype\">\r\n",
        "##FORMAT=<ID=GQ,Number=1,Type=Float,Description=\"Genotype Quality, the Phred-scaled marginal (or unconditional) probability of the called genotype\">\r\n",
        "##FORMAT=<ID=GL,Number=G,Type=Float,Description=\"Genotype Likelihood, log10-scaled likelihoods of the data given the called genotype for each possible genotype generated from the reference and alternate alleles given the sample ploidy\">\r\n",
        "##FORMAT=<ID=DP,Number=1,Type=Integer,Description=\"Read Depth\">\r\n",
        "##FORMAT=<ID=RO,Number=1,Type=Integer,Description=\"Reference allele observation count\">\r\n",
        "##FORMAT=<ID=QR,Number=1,Type=Integer,Description=\"Sum of quality of the reference observations\">\r\n",
        "##FORMAT=<ID=AO,Number=A,Type=Integer,Description=\"Alternate allele observation count\">\r\n",
        "##FORMAT=<ID=QA,Number=A,Type=Integer,Description=\"Sum of quality of the alternate observations\">\r\n",
        "#CHROM\tPOS\tID\tREF\tALT\tQUAL\tFILTER\tINFO\tFORMAT\tEA01-01\t16-2-1A\t16-1-1A\t52-18-20C\t52-15-05A\t39-4-5B\t39-4-6B\tCK51-11-KK14-03-06A\tCK51-09-KK03-07-09B\tCK51-06-KK03-07-13A\t52-13-22D-KK14-07-02A\tHort16A\t52-08-06c\t43-03-14b\tCK15_02\tCK51_05\tCK51F3_01\r\n",
        "Chr1\t19\t.\tT\tA\t700.624\t.\tAB=0.0666667;ABP=27.4756;AC=5;AF=0.147059;AN=34;AO=31;CIGAR=1X;DP=171;DPB=171;DPRA=1.66667;EPP=6.44263;EPPR=15.1705;GTI=1;LEN=1;MEANALT=1;MQM=192.29;MQMR=197.757;NS=17;NUMALT=1;ODDS=1.51804;PAIRED=0.612903;PAIREDR=0.6;PAO=0;PQA=0;PQR=0;PRO=0;QA=1095;QR=4915;RO=140;RPP=70.3259;RPPR=307.016;RUN=1;SAF=19;SAP=6.44263;SAR=12;SRF=84;SRP=15.1705;SRR=56;TYPE=snp;technology.Illumina=1\tGT:GQ:DP:RO:QR:AO:QA:GL\t1/1:43.2168:17:0:0:17:587:-10,-5.11751,0\t0/0:32.4938:8:8:282:0:0:0,-2.40824,-10\t0/0:32.4938:8:8:277:0:0:0,-2.40824,-10\t0/1:0.851999:15:14:488:1:40:-0.660641,0,-10\t0/0:50.5556:14:14:496:0:0:0,-4.21442,-10\t0/0:29.4835:7:7:252:0:0:0,-2.10721,-10\t0/0:29.4835:7:7:244:0:0:0,-2.10721,-10\t0/0:29.4835:7:7:236:0:0:0,-2.10721,-10\t0/0:41.5247:11:11:399:0:0:0,-3.31133,-10\t0/0:32.4938:8:8:293:0:0:0,-2.40824,-10\t0/0:38.5144:10:10:333:0:0:0,-3.0103,-10\t0/0:41.5247:11:11:392:0:0:0,-3.31133,-10\t0/0:38.5144:10:10:345:0:0:0,-3.0103,-10\t1/1:31.1756:13:0:0:13:468:-10,-3.91339,0\t0/0:35.5041:9:9:328:0:0:0,-2.70927,-10\t0/0:26.4732:6:6:209:0:0:0,-1.80618,-10\t0/0:38.5144:10:10:341:0:0:0,-3.0103,-10\r\n",
        "Chr1\t38\t.\tT\tA\t1706.75\t.\tAB=0;ABP=0;AC=6;AF=0.176471;AN=34;AO=65;CIGAR=1X;DP=338;DPB=338;DPRA=1.13235;EPP=3.84548;EPPR=28.8532;GTI=0;LEN=1;MEANALT=1;MQM=194.615;MQMR=197.495;NS=17;NUMALT=1;ODDS=7.07555;PAIRED=0.461538;PAIREDR=0.604396;PAO=0;PQA=0;PQR=0;PRO=0;QA=2353;QR=9905;RO=273;RPP=144.156;RPPR=595.822;RUN=1;SAF=30;SAP=3.84548;SAR=35;SRF=165;SRP=28.8532;SRR=108;TYPE=snp;technology.Illumina=1\tGT:GQ:DP:RO:QR:AO:QA:GL\t0/0:103.9:29:29:1050:0:0:0,-8.72987,-10\t0/0:67.7755:17:17:623:0:0:0,-5.11751,-10\t0/0:58.7446:14:14:513:0:0:0,-4.21442,-10\t1/1:30.7329:29:1:41:28:987:-10,-3.16747,0\t1/1:60.8642:22:0:0:22:820:-10,-6.62266,0\t0/0:67.7755:17:17:608:0:0:0,-5.11751,-10\t0/0:73.7962:19:19:671:0:0:0,-5.71957,-10\t0/0:67.7755:17:17:587:0:0:0,-5.11751,-10\t0/0:88.8477:24:24:902:0:0:0,-7.22472,-10\t0/0:64.7652:16:16:609:0:0:0,-4.81648,-10\t0/0:82.8271:22:22:779:0:0:0,-6.62266,-10\t0/0:88.8477:24:24:889:0:0:0,-7.22472,-10\t1/1:39.7921:15:0:0:15:546:-10,-4.51545,0\t0/0:100.889:28:28:1034:0:0:0,-8.42884,-10\t0/0:61.7549:15:15:542:0:0:0,-4.51545,-10\t0/0:64.7652:16:16:580:0:0:0,-4.81648,-10\t0/0:58.7446:14:14:477:0:0:0,-4.21442,-10\r\n",
        "Chr1\t49\t.\tTC\tGC,GA\t3808.76\t.\tAB=0.5,0.5;ABP=3.0103,3.0103;AC=9,1;AF=0.264706,0.0294118;AN=34;AO=124,16;CIGAR=1X1M,2X;DP=427;DPB=430.5;DPRA=1.19579,1.2962;EPP=5.53201,3.0103;EPPR=34.9771;GTI=0;LEN=1,2;MEANALT=1.2,2;MQM=194.629,194.125;MQMR=198.105;NS=17;NUMALT=2;ODDS=5.55309;PAIRED=0.548387,0.5;PAIREDR=0.61324;PAO=3.5,0;PQA=0,0;PQR=0;PRO=3.5;QA=4557,565;QR=10348;RO=287;RPP=272.273,37.7539;RPPR=626.223;RUN=1,1;SAF=68,8;SAP=5.53201,3.0103;SAR=56,8;SRF=176;SRP=34.9771;SRR=111;TYPE=snp,mnp;technology.Illumina=1,1\tGT:GQ:DP:RO:QR:AO:QA:GL\t1/1:96.8636:30:0:0:30,0:1094,0:-10,-9.0309,0,-10,-9.0309,-10\t0/0:81.5592:23:23:806:0,0:0,0:0,-6.92369,-10,-6.92369,-10,-10\t0/0:72.5283:20:20:750:0,0:0,0:0,-6.0206,-10,-6.0206,-10,-10\t1/1:68.0926:33:1:27:32,0:1136,0:-10,-5.71548,0,-10,-9.63296,-10\t1/1:87.8339:27:0:0:27,0:1024,0:-10,-8.12781,0,-10,-8.12781,-10\t0/0:78.5489:22:22:806:0,0:0,0:0,-6.62266,-10,-6.62266,-10,-10\t0/0:78.5489:22:22:795:0,0:0,0:0,-6.62266,-10,-6.62266,-10,-10\t0/0:72.5283:20:20:710:0,0:0,0:0,-6.0206,-10,-6.0206,-10,-10\t0/0:117.689:35:35:1269:0,0:0,0:0,-10,-10,-10,-10,-10\t0/0:84.5695:24:24:902:0,0:0,0:0,-7.22472,-10,-7.22472,-10,-10\t0/0:93.5999:27:27:973:0,0:0,0:0,-8.12781,-10,-8.12781,-10,-10\t0/0:105.642:31:31:1110:0,0:0,0:0,-9.33193,-10,-9.33193,-10,-10\t1/1:24.1336:20:1:34:19,0:691,0:-10,-1.31957,0,-10,-5.71957,-10\t1/2:0:32:0:0:16,16:612,565:-10,-10,-10,-10,0,-10\t0/0:72.5283:20:20:737:0,0:0,0:0,-6.0206,-10,-6.0206,-10,-10\t0/0:75.5386:21:21:750:0,0:0,0:0,-6.32163,-10,-6.32163,-10,-10\t0/0:72.5283:20:20:679:0,0:0,0:0,-6.0206,-10,-6.0206,-10,-10\r\n",
        "Chr1\t175\t.\tT\tG\t12385.7\t.\tAB=0;ABP=0;AC=10;AF=0.294118;AN=34;AO=387;CIGAR=1X;DP=1275;DPB=1275;DPRA=1.03476;EPP=13.3851;EPPR=34.8618;GTI=0;LEN=1;MEANALT=1.33333;MQM=192.349;MQMR=196.445;NS=17;NUMALT=1;ODDS=41.2148;PAIRED=0.989664;PAIREDR=0.919865;PAO=0;PQA=0;PQR=0;PRO=0;QA=14068;QR=31797;RO=886;RPP=3.95857;RPPR=3.80438;RUN=1;SAF=206;SAP=6.5172;SAR=181;SRF=458;SRP=5.21608;SRR=428;TYPE=snp;technology.Illumina=1\tGT:GQ:DP:RO:QR:AO:QA:GL\t1/1:146.509:72:0:0:71:2557:-10,-10,0\t0/0:146.509:65:65:2336:0:0:0,-10,-10\t0/0:146.509:76:76:2781:0:0:0,-10,-10\t1/1:146.509:82:0:0:82:2931:-10,-10,0\t1/1:146.509:67:0:0:67:2485:-10,-10,0\t0/0:146.509:97:97:3487:0:0:0,-10,-10\t0/0:146.509:74:74:2654:0:0:0,-10,-10\t0/0:146.509:73:73:2611:0:0:0,-10,-10\t0/0:146.509:98:98:3657:0:0:0,-10,-10\t0/0:146.509:82:82:3002:0:0:0,-10,-10\t0/0:146.509:74:74:2603:0:0:0,-10,-10\t0/0:146.509:74:74:2636:0:0:0,-10,-10\t1/1:146.509:75:0:0:75:2732:-10,-10,0\t1/1:146.509:91:0:0:91:3337:-10,-10,0\t0/0:146.509:51:51:1806:0:0:0,-10,-10\t0/0:146.509:51:51:1829:0:0:0,-10,-10\t0/0:146.509:73:71:2395:1:26:0,-10,-10\r\n",
        "Chr1\t178\t.\tA\tC\t12605.7\t.\tAB=0;ABP=0;AC=10;AF=0.294118;AN=34;AO=393;CIGAR=1X;DP=1293;DPB=1293;DPRA=1.02614;EPP=16.2767;EPPR=31.708;GTI=0;LEN=1;MEANALT=1.16667;MQM=191.84;MQMR=195.897;NS=17;NUMALT=1;ODDS=42.5825;PAIRED=0.989822;PAIREDR=0.918799;PAO=0;PQA=0;PQR=0;PRO=0;QA=14317;QR=33170;RO=899;RPP=5.93322;RPPR=3.88227;RUN=1;SAF=204;SAP=4.25351;SAR=189;SRF=468;SRP=6.31702;SRR=431;TYPE=snp;technology.Illumina=1\tGT:GQ:DP:RO:QR:AO:QA:GL\t1/1:0:73:0:0:73:2636:-10,-10,0\t0/0:0:63:63:2345:0:0:0,-10,-10\t0/0:0:79:79:2988:0:0:0,-10,-10\t1/1:0:83:0:0:83:2944:-10,-10,0\t1/1:0:66:0:0:66:2471:-10,-10,0\t0/0:0:99:99:3650:0:0:0,-10,-10\t0/0:0:83:83:3028:0:0:0,-10,-10\t0/0:0:76:76:2826:0:0:0,-10,-10\t0/0:0:99:99:3760:0:0:0,-10,-10\t0/0:0:78:78:2955:0:0:0,-10,-10\t0/0:0:71:71:2605:0:0:0,-10,-10\t0/0:0:74:74:2702:0:0:0,-10,-10\t1/1:0:80:0:0:80:2923:-10,-10,0\t1/1:0:90:0:0:90:3312:-10,-10,0\t0/0:0:54:54:1977:0:0:0,-10,-10\t0/0:0:53:53:1986:0:0:0,-10,-10\t0/0:0:72:70:2348:1:31:0,-10,-10\r\n",
        "Chr1\t197\t.\tT\tC\t4893.37\t.\tAB=0;ABP=0;AC=4;AF=0.117647;AN=34;AO=157;CIGAR=1X;DP=1272;DPB=1272;DPRA=1.05754;EPP=8.0033;EPPR=28.0126;GTI=0;LEN=1;MEANALT=1.33333;MQM=191.522;MQMR=194.167;NS=17;NUMALT=1;ODDS=39.7352;PAIRED=1;PAIREDR=0.94229;PAO=0;PQA=0;PQR=0;PRO=0;QA=5669;QR=40579;RO=1109;RPP=3.13478;RPPR=5.69086;RUN=1;SAF=76;SAP=3.35608;SAR=81;SRF=524;SRP=10.2962;SRR=585;TYPE=snp;technology.Illumina=1\tGT:GQ:DP:RO:QR:AO:QA:GL\t1/1:141.87:68:0:0:67:2440:-10,-10,0\t0/0:141.87:61:61:2291:0:0:0,-10,-10\t0/0:141.87:70:70:2632:0:0:0,-10,-10\t0/0:141.87:84:80:2845:0:0:0,-10,-10\t0/0:141.87:66:66:2469:0:0:0,-10,-10\t0/0:141.87:94:94:3473:0:0:0,-10,-10\t0/0:141.87:80:80:2871:0:0:0,-10,-10\t0/0:141.87:78:77:2831:1:36:0,-10,-10\t0/0:141.87:105:105:3883:0:0:0,-10,-10\t0/0:141.87:76:76:2834:0:0:0,-10,-10\t0/0:141.87:68:68:2473:0:0:0,-10,-10\t0/0:141.87:77:77:2784:0:0:0,-10,-10\t0/0:141.87:82:81:2976:0:0:0,-10,-10\t1/1:141.87:89:0:0:89:3193:-10,-10,0\t0/0:141.87:58:58:2133:0:0:0,-10,-10\t0/0:136.836:48:48:1783:0:0:0,-10,-10\t0/0:141.87:68:68:2301:0:0:0,-10,-10\r\n",
        "Chr1\t221\t.\tTACAGT\tCTTCAA,TACGGT\t1636.67\t.\tAB=0.158654,0.47561;ABP=213.518,3.434;AC=3,1;AF=0.0882353,0.0294118;AN=34;AO=37,39;CIGAR=6X,3M1X2M;DP=1196;DPB=1260.5;DPRA=0.969121,1.1766;EPP=5.88603,9.74743;EPPR=5.81496;GTI=1;LEN=6,1;MEANALT=1.25,1;MQM=147.054,194.436;MQMR=193.48;NS=17;NUMALT=2;ODDS=16.181;PAIRED=1,1;PAIREDR=0.954383;PAO=12,29;PQA=368,685;PQR=2609;PRO=89;QA=1226,1448;QR=40635;RO=1118;RPP=83.3548,5.73856;RPPR=8.26223;RUN=1,1;SAF=15,16;SAP=5.88603,5.73856;SAR=22,23;SRF=521;SRP=14.2289;SRR=597;TYPE=mnp,snp;technology.Illumina=1,1\tGT:GQ:DP:RO:QR:AO:QA:GL\t0/0:0:76:76:2723:0,0:0,0:0,-10,-10,-10,-10,-10\t0/1:137.225:65:54:2016:11,0:385,0:-10,0,-10,-10,-10,-10\t0/0:127.205:64:59:2213:4,0:138,0:0,-0.709888,-10,-10,-10,-10\t0/0:0:71:71:2491:0,0:0,0:0,-10,-10,-10,-10,-10\t0/0:0:62:62:2270:0,0:0,0:0,-10,-10,-10,-10,-10\t0/1:4.0783e-07:78:71:2614:7,0:213,0:-5.41586,0,-10,-10,-10,-10\t0/1:0:65:50:1788:15,0:490,0:-10,0,-10,-10,-10,-10\t0/0:0:76:76:2780:0,0:0,0:0,-10,-10,-10,-10,-10\t0/0:0:97:97:3633:0,0:0,0:0,-10,-10,-10,-10,-10\t0/0:0:76:76:2777:0,0:0,0:0,-10,-10,-10,-10,-10\t0/0:0:66:66:2385:0,0:0,0:0,-10,-10,-10,-10,-10\t0/0:0:73:73:2598:0,0:0,0:0,-10,-10,-10,-10,-10\t0/2:0:82:43:1529:0,39:0,1448:-10,-10,-10,0,-10,-10\t0/0:0:81:81:2987:0,0:0,0:0,-10,-10,-10,-10,-10\t0/0:0:57:57:2087:0,0:0,0:0,-10,-10,-10,-10,-10\t0/0:0:45:45:1696:0,0:0,0:0,-10,-10,-10,-10,-10\t0/0:0:62:61:2048:0,0:0,0:0,-10,-10,-10,-10,-10\r\n",
        "Chr1\t228\t.\tACAG\tTGTA\t823.274\t.\tAB=0.184783;ABP=241.211;AC=4;AF=0.117647;AN=34;AO=51;CIGAR=4X;DP=1236;DPB=1274;DPRA=0.934375;EPP=3.3935;EPPR=9.84043;GTI=1;LEN=4;MEANALT=1;MQM=151.804;MQMR=193.473;NS=17;NUMALT=1;ODDS=10.3569;PAIRED=1;PAIREDR=0.957735;PAO=5;PQA=160;PQR=1770;PRO=67;QA=1722;QR=43262;RO=1183;RPP=113.755;RPPR=8.56288;RUN=1;SAF=24;SAP=3.3935;SAR=27;SRF=553;SRP=13.8934;SRR=630;TYPE=mnp;technology.Illumina=1\tGT:GQ:DP:RO:QR:AO:QA:GL\t0/0:142.966:86:86:3096:0:0:0,-10,-10\t0/1:142.966:62:49:1854:13:459:-10,0,-10\t0/1:44.9796:65:57:2165:8:274:-10,0,-10\t0/0:142.966:71:71:2523:0:0:0,-10,-10\t0/0:142.966:64:64:2348:0:0:0,-10,-10\t0/1:3.78737e-05:79:72:2655:7:228:-6.52656,0,-10\t0/1:142.966:70:47:1657:23:761:-10,0,-10\t0/0:142.966:80:80:2933:0:0:0,-10,-10\t0/0:142.966:97:97:3607:0:0:0,-10,-10\t0/0:142.966:82:82:3054:0:0:0,-10,-10\t0/0:142.966:70:70:2550:0:0:0,-10,-10\t0/0:142.966:74:74:2684:0:0:0,-10,-10\t0/0:142.966:77:77:2859:0:0:0,-10,-10\t0/0:142.966:88:87:3150:0:0:0,-10,-10\t0/0:142.966:59:59:2182:0:0:0,-10,-10\t0/0:142.966:49:49:1855:0:0:0,-10,-10\t0/0:142.966:63:62:2090:0:0:0,-10,-10\r\n",
        "Chr1\t233\t.\tATG\tTAC\t979.397\t.\tAB=0.202206;ABP=212.525;AC=4;AF=0.117647;AN=34;AO=55;CIGAR=3X;DP=1237;DPB=1261.33;DPRA=0.916062;EPP=3.36563;EPPR=18.913;GTI=1;LEN=3;MEANALT=1;MQM=155.636;MQMR=193.607;NS=17;NUMALT=1;ODDS=0.341373;PAIRED=1;PAIREDR=0.96105;PAO=2;PQA=67;PQR=1196;PRO=44;QA=1900;QR=43355;RO=1181;RPP=122.441;RPPR=25.6646;RUN=1;SAF=26;SAP=3.36563;SAR=29;SRF=549;SRP=15.6769;SRR=632;TYPE=mnp;technology.Illumina=1\tGT:GQ:DP:RO:QR:AO:QA:GL\t0/0:0:84:84:3068:0:0:0,-10,-10\t0/1:0:61:47:1788:14:491:-10,0,-10\t0/1:137.505:67:57:2132:10:369:-10,0,-10\t0/0:0:69:69:2472:0:0:0,-10,-10\t0/0:0:63:63:2360:0:0:0,-10,-10\t0/1:2.33198:77:69:2525:8:262:-10,0,-10\t0/1:0:67:44:1585:23:778:-10,0,-10\t0/0:0:81:81:2969:0:0:0,-10,-10\t0/0:0:101:101:3741:0:0:0,-10,-10\t0/0:0:83:83:3097:0:0:0,-10,-10\t0/0:0:67:67:2449:0:0:0,-10,-10\t0/0:0:76:76:2758:0:0:0,-10,-10\t0/0:0:80:80:2984:0:0:0,-10,-10\t0/0:0:93:93:3376:0:0:0,-10,-10\t0/0:0:56:56:2096:0:0:0,-10,-10\t0/0:0:49:49:1858:0:0:0,-10,-10\t0/0:0:63:62:2097:0:0:0,-10,-10\r\n",
        "Chr1\t237\t.\tTC\tGT\t1312.43\t.\tAB=0.229927;ABP=176.601;AC=4;AF=0.117647;AN=34;AO=63;CIGAR=2X;DP=1247;DPB=1254;DPRA=0.915211;EPP=3.32051;EPPR=18.8861;GTI=0;LEN=2;MEANALT=1;MQM=157.714;MQMR=193.602;NS=17;NUMALT=1;ODDS=11.7642;PAIRED=1;PAIREDR=0.961116;PAO=0;PQA=0;PQR=219;PRO=14;QA=2226;QR=43262;RO=1183;RPP=139.813;RPPR=32.6161;RUN=1;SAF=30;SAP=3.32051;SAR=33;SRF=547;SRP=17.5498;SRR=636;TYPE=mnp;technology.Illumina=1\tGT:GQ:DP:RO:QR:AO:QA:GL\t0/0:0:86:86:3099:0:0:0,-10,-10\t0/1:0:62:46:1741:16:579:-10,0,-10\t0/1:0:69:57:2149:12:432:-10,0,-10\t0/0:0:75:75:2614:0:0:0,-10,-10\t0/0:0:65:65:2397:0:0:0,-10,-10\t0/1:51.0913:75:66:2422:9:300:-10,0,-10\t0/1:0:68:42:1511:26:915:-10,0,-10\t0/0:0:81:81:2987:0:0:0,-10,-10\t0/0:0:98:98:3655:0:0:0,-10,-10\t0/0:0:82:82:3074:0:0:0,-10,-10\t0/0:0:64:64:2381:0:0:0,-10,-10\t0/0:0:73:73:2648:0:0:0,-10,-10\t0/0:0:83:83:3053:0:0:0,-10,-10\t0/0:0:93:93:3381:0:0:0,-10,-10\t0/0:0:59:59:2152:0:0:0,-10,-10\t0/0:0:50:50:1883:0:0:0,-10,-10\t0/0:0:64:63:2115:0:0:0,-10,-10\r\n",
        "Chr1\t240\t.\tTTT\tACA\t1458.26\t.\tAB=0.248148;ABP=151.764;AC=4;AF=0.117647;AN=34;AO=67;CIGAR=3X;DP=1246;DPB=1267.33;DPRA=0.899078;EPP=3.04271;EPPR=30.0218;GTI=0;LEN=3;MEANALT=1.25;MQM=158.896;MQMR=193.411;NS=17;NUMALT=1;ODDS=25.1338;PAIRED=1;PAIREDR=0.962617;PAO=3;PQA=95;PQR=1022;PRO=42;QA=2359;QR=43356;RO=1177;RPP=148.499;RPPR=64.7949;RUN=1;SAF=33;SAP=3.04271;SAR=34;SRF=545;SRP=16.9745;SRR=632;TYPE=mnp;technology.Illumina=1\tGT:GQ:DP:RO:QR:AO:QA:GL\t0/0:142.182:90:90:3288:0:0:0,-10,-10\t0/1:142.182:63:45:1721:18:632:-10,0,-10\t0/1:142.182:64:53:2015:11:410:-10,0,-10\t0/0:142.182:78:78:2779:0:0:0,-10,-10\t0/0:142.182:65:65:2415:0:0:0,-10,-10\t0/1:109.152:74:64:2371:10:349:-10,0,-10\t0/1:142.182:69:40:1481:28:968:-10,0,-10\t0/0:142.182:79:79:2939:0:0:0,-10,-10\t0/0:142.182:100:100:3732:0:0:0,-10,-10\t0/0:142.182:79:79:2945:0:0:0,-10,-10\t0/0:142.182:65:65:2437:0:0:0,-10,-10\t0/0:142.182:70:70:2559:0:0:0,-10,-10\t0/0:142.182:85:85:3164:0:0:0,-10,-10\t0/0:142.182:95:95:3454:0:0:0,-10,-10\t0/0:142.182:59:59:2173:0:0:0,-10,-10\t0/0:142.182:51:51:1891:0:0:0,-10,-10\t0/0:142.182:60:59:1992:0:0:0,-10,-10\r\n",
        "Chr1\t244\t.\tGT\tAA\t1824.94\t.\tAB=0.279851;ABP=115.83;AC=4;AF=0.117647;AN=34;AO=75;CIGAR=2X;DP=1232;DPB=1244;DPRA=0.903527;EPP=3.27088;EPPR=44.2269;GTI=0;LEN=2;MEANALT=1;MQM=161.413;MQMR=193.471;NS=17;NUMALT=1;ODDS=39.3509;PAIRED=1;PAIREDR=0.962738;PAO=1;PQA=35;PQR=427;PRO=23;QA=2715;QR=42073;RO=1154;RPP=165.871;RPPR=54.8622;RUN=1;SAF=36;SAP=3.27088;SAR=39;SRF=533;SRP=17.5821;SRR=621;TYPE=mnp;technology.Illumina=1\tGT:GQ:DP:RO:QR:AO:QA:GL\t0/0:0:86:86:3087:0:0:0,-10,-10\t0/1:0:61:43:1622:18:636:-10,0,-10\t0/1:0:67:52:1937:15:556:-10,0,-10\t0/0:0:74:74:2637:0:0:0,-10,-10\t0/0:0:65:64:2347:0:0:0,-10,-10\t0/1:136.386:72:61:2241:11:397:-10,0,-10\t0/1:0:68:37:1334:31:1126:-10,0,-10\t0/0:0:75:75:2772:0:0:0,-10,-10\t0/0:0:95:95:3495:0:0:0,-10,-10\t0/0:0:77:77:2836:0:0:0,-10,-10\t0/0:0:64:64:2382:0:0:0,-10,-10\t0/0:0:74:73:2667:0:0:0,-10,-10\t0/0:0:85:85:3127:0:0:0,-10,-10\t0/0:0:96:96:3449:0:0:0,-10,-10\t0/0:0:61:61:2232:0:0:0,-10,-10\t0/0:0:53:53:1955:0:0:0,-10,-10\t0/0:0:59:58:1953:0:0:0,-10,-10\r\n",
        "Chr1\t246\t.\tTGATCATTTGGT\tAATGTCCCAAAA,TAATCATTTGGT,TAATCATTTGGA\t6326.59\t.\tAB=0.289362,0.533333,0.466667;ABP=93.5746,3.73412,3.73412;AC=4,3,1;AF=0.117647,0.0882353,0.0294118;AN=34;AO=68,119,37;CIGAR=12X,1M1X10M,1M1X9M1X;DP=1075;DPB=1209;DPRA=0.921569,1.25439,1.25439;EPP=6.20364,12.6633,7.76406;EPPR=21.1213;GTI=0;LEN=12,1,12;MEANALT=1.25,2,2;MQM=155.353,191.277,190.216;MQMR=194.176;NS=17;NUMALT=3;ODDS=32.42;PAIRED=1,1,0.972973;PAIREDR=0.962175;PAO=13,72.8333,19.3333;PQA=392,2063.5,615;PQR=5203.5;PRO=167.833;QA=2306,4425,1334;QR=30974;RO=846;RPP=150.67,3.46649,3.5385;RPPR=5.02263;RUN=1,1,1;SAF=29,62,14;SAP=6.20364,3.46649,7.76406;SAR=39,57,23;SRF=394;SRP=11.6449;SRR=452;TYPE=mnp,snp,complex;technology.Illumina=1,1,1\tGT:GQ:DP:RO:QR:AO:QA:GL\t2/2:135.924:81:0:0:0,79,2:0,2917,65:-10,-10,-10,-10,-10,0,-10,-10,-10,-10\t0/1:135.924:60:45:1659:15,0,0:554,0,0:-10,0,-10,-10,-10,-10,-10,-10,-10,-10\t0/1:134.699:56:46:1747:10,0,0:323,0,0:-10,0,-10,-10,-10,-10,-10,-10,-10,-10\t0/0:135.924:67:66:2326:0,0,0:0,0,0:0,-10,-10,-10,-10,-10,-10,-10,-10,-10\t0/0:135.924:54:54:1981:0,0,0:0,0,0:0,-10,-10,-10,-10,-10,-10,-10,-10,-10\t0/1:135.924:58:43:1578:14,0,0:480,0,0:-10,0,-10,-10,-10,-10,-10,-10,-10,-10\t0/1:135.924:61:32:1145:29,0,0:949,0,0:-10,0,-10,-10,-10,-10,-10,-10,-10,-10\t0/0:135.924:66:65:2415:0,0,0:0,0,0:0,-10,-10,-10,-10,-10,-10,-10,-10,-10\t0/0:135.924:83:83:3086:0,0,0:0,0,0:0,-10,-10,-10,-10,-10,-10,-10,-10,-10\t0/0:135.924:66:66:2465:0,0,0:0,0,0:0,-10,-10,-10,-10,-10,-10,-10,-10,-10\t0/0:135.924:58:58:2136:0,0,0:0,0,0:0,-10,-10,-10,-10,-10,-10,-10,-10,-10\t0/0:135.924:62:62:2244:0,0,0:0,0,0:0,-10,-10,-10,-10,-10,-10,-10,-10,-10\t0/0:135.924:77:77:2847:0,0,0:0,0,0:0,-10,-10,-10,-10,-10,-10,-10,-10,-10\t2/3:135.924:75:0:0:0,40,35:0,1508,1269:-10,-10,-10,-10,-10,-10,-10,-10,0,-10\t0/0:135.924:54:54:1993:0,0,0:0,0,0:0,-10,-10,-10,-10,-10,-10,-10,-10,-10\t0/0:130.839:45:44:1640:0,0,0:0,0,0:0,-10,-10,-10,-10,-10,-10,-10,-10,-10\t0/0:135.924:52:51:1712:0,0,0:0,0,0:0,-10,-10,-10,-10,-10,-10,-10,-10,-10\r\n",
        "Chr1\t259\t.\tA\tG\t3020.27\t.\tAB=0.505208;ABP=3.05554;AC=3;AF=0.0882353;AN=34;AO=100;CIGAR=1X;DP=1190;DPB=1190;DPRA=1.03295;EPP=3.35774;EPPR=16.747;GTI=0;LEN=1;MEANALT=1.25;MQM=197.16;MQMR=191.242;NS=17;NUMALT=1;ODDS=38.8683;PAIRED=1;PAIREDR=0.970615;PAO=0;PQA=0;PQR=0;PRO=0;QA=3641;QR=39966;RO=1089;RPP=3.35774;RPPR=7.04816;RUN=1;SAF=44;SAP=6.13722;SAR=56;SRF=511;SRP=11.9614;SRR=578;TYPE=snp;technology.Illumina=1\tGT:GQ:DP:RO:QR:AO:QA:GL\t0/0:0:94:94:3395:0:0:0,-10,-10\t0/0:0:63:63:2361:0:0:0,-10,-10\t0/0:0:63:63:2350:0:0:0,-10,-10\t0/0:0:70:70:2516:0:0:0,-10,-10\t0/0:0:59:59:2187:0:0:0,-10,-10\t0/0:0:68:68:2487:0:0:0,-10,-10\t0/0:0:67:67:2419:0:0:0,-10,-10\t0/0:0:82:82:2981:0:0:0,-10,-10\t0/0:139.97:95:92:3451:3:118:0,-10,-10\t0/1:0:73:38:1407:35:1296:-10,0,-10\t0/1:0:57:22:811:35:1319:-10,0,-10\t0/0:0:68:68:2501:0:0:0,-10,-10\t0/0:0:82:82:3035:0:0:0,-10,-10\t0/0:0:80:80:2975:0:0:0,-10,-10\t0/0:0:57:57:2115:0:0:0,-10,-10\t0/0:0:50:50:1834:0:0:0,-10,-10\t0/1:0:62:34:1141:27:908:-10,0,-10\r\n",
        "Chr1\t260\t.\tTG\tGA\t1266.91\t.\tAB=0.232824;ABP=165.456;AC=4;AF=0.117647;AN=34;AO=61;CIGAR=2X;DP=1176;DPB=1193.5;DPRA=0.931619;EPP=5.89373;EPPR=10.9945;GTI=0;LEN=2;MEANALT=1;MQM=151.82;MQMR=194.01;NS=17;NUMALT=1;ODDS=2.39178;PAIRED=1;PAIREDR=0.974865;PAO=1;PQA=34;PQR=514;PRO=34;QA=2144;QR=40338;RO=1114;RPP=135.47;RPPR=6.12911;RUN=1;SAF=26;SAP=5.89373;SAR=35;SRF=536;SRP=6.44879;SRR=578;TYPE=mnp;technology.Illumina=1\tGT:GQ:DP:RO:QR:AO:QA:GL\t0/0:0:90:90:3206:0:0:0,-10,-10\t0/1:0:65:53:1954:12:446:-10,0,-10\t0/1:10.7675:63:56:2074:7:236:-10,0,-10\t0/0:0:71:71:2519:0:0:0,-10,-10\t0/0:0:57:57:2091:0:0:0,-10,-10\t0/1:0:68:52:1888:16:556:-10,0,-10\t0/1:0:66:40:1421:26:906:-10,0,-10\t0/0:0:79:79:2808:0:0:0,-10,-10\t0/0:0:96:96:3558:0:0:0,-10,-10\t0/0:0:69:69:2557:0:0:0,-10,-10\t0/0:0:58:58:2110:0:0:0,-10,-10\t0/0:0:69:69:2503:0:0:0,-10,-10\t0/0:0:81:81:2944:0:0:0,-10,-10\t0/0:0:81:81:2938:0:0:0,-10,-10\t0/0:0:55:55:1988:0:0:0,-10,-10\t0/0:0:46:46:1718:0:0:0,-10,-10\t0/0:0:62:61:2061:0:0:0,-10,-10\r\n",
        "Chr1\t263\t.\tC\tG\t2100.47\t.\tAB=0.458904;ABP=5.15203;AC=2;AF=0.0588235;AN=34;AO=71;CIGAR=1X;DP=1168;DPB=1168;DPRA=1.15371;EPP=6.71098;EPPR=14.1448;GTI=0;LEN=1;MEANALT=1;MQM=196;MQMR=191.613;NS=17;NUMALT=1;ODDS=40.9293;PAIRED=1;PAIREDR=0.975387;PAO=0;PQA=0;PQR=0;PRO=0;QA=2607;QR=39959;RO=1097;RPP=3.04088;RPPR=15.3641;RUN=1;SAF=38;SAP=3.7749;SAR=33;SRF=522;SRP=8.57062;SRR=575;TYPE=snp;technology.Illumina=1\tGT:GQ:DP:RO:QR:AO:QA:GL\t0/0:0:91:91:3261:0:0:0,-10,-10\t0/0:0:69:69:2505:0:0:0,-10,-10\t0/0:0:62:62:2316:0:0:0,-10,-10\t0/0:0:72:72:2564:0:0:0,-10,-10\t0/0:0:59:59:2129:0:0:0,-10,-10\t0/0:0:65:65:2362:0:0:0,-10,-10\t0/0:0:67:67:2369:0:0:0,-10,-10\t0/1:0:76:43:1533:33:1198:-10,0,-10\t0/0:0:95:92:3479:3:109:0,-10,-10\t0/1:0:70:36:1364:34:1266:-10,0,-10\t0/0:0:55:55:2057:0:0:0,-10,-10\t0/0:0:68:68:2489:0:0:0,-10,-10\t0/0:0:79:79:2901:0:0:0,-10,-10\t0/0:0:77:77:2863:0:0:0,-10,-10\t0/0:0:53:53:1921:0:0:0,-10,-10\t0/0:0:45:45:1678:0:0:0,-10,-10\t0/0:0:65:64:2168:1:34:0,-10,-10\r\n",
        "Chr1\t264\t.\tCCAAAAAAGA\tCCAAAACAGA,TATGTTTGTT\t11456.5\t.\tAB=0,0.148472;ABP=0,248.804;AC=10,4;AF=0.294118,0.117647;AN=34;AO=341,34;CIGAR=6M1X3M,10X;DP=1067;DPB=1181.1;DPRA=1.10869,0.888126;EPP=4.44309,5.30951;EPPR=3.81595;GTI=2;LEN=1,10;MEANALT=1.4,1;MQM=194.035,142.706;MQMR=194.045;NS=17;NUMALT=2;ODDS=0.902453;PAIRED=0.997067,1;PAIREDR=0.969565;PAO=87.5,21;PQA=2595.5,601;PQR=3725.5;PRO=120.5;QA=12639,1111;QR=25100;RO=690;RPP=8.36575,76.8404;RPPR=3.0103;RUN=1,1;SAF=167,14;SAP=3.32233,5.30951;SAR=174,20;SRF=336;SRP=4.02995;SRR=354;TYPE=snp,mnp;technology.Illumina=1,1\tGT:GQ:DP:RO:QR:AO:QA:GL\t1/1:0:83:0:0:83,0:3052,0:-10,-10,0,-10,-10,-10\t0/2:1.47854:62:56:2049:0,6:0,211:-8.4665,-10,-10,0,-10,-10\t0/2:8.59042e-09:54:50:1888:0,4:0,127:-0.991912,-10,-10,0,-10,-10\t1/1:0:63:0:0:62,0:2251,0:-10,-10,0,-10,-10,-10\t1/1:0:52:0:0:51,0:1894,0:-10,-10,0,-10,-10,-10\t0/2:136.298:61:50:1811:0,11:0,358:-10,-10,-10,0,-10,-10\t0/2:0:52:39:1386:0,13:0,415:-10,-10,-10,0,-10,-10\t0/0:0:73:73:2637:0,0:0,0:0,-10,-10,-10,-10,-10\t0/0:0:89:89:3293:0,0:0,0:0,-10,-10,-10,-10,-10\t0/0:0:67:67:2502:0,0:0,0:0,-10,-10,-10,-10,-10\t0/0:135.668:46:46:1712:0,0:0,0:0,-10,-10,-10,-10,-10\t0/0:0:67:67:2457:0,0:0,0:0,-10,-10,-10,-10,-10\t1/1:0:74:0:0:74,0:2771,0:-10,-10,0,-10,-10,-10\t1/1:0:71:0:0:71,0:2671,0:-10,-10,0,-10,-10,-10\t0/0:136.301:55:55:1984:0,0:0,0:0,-10,-10,-10,-10,-10\t0/0:123.051:39:39:1452:0,0:0,0:0,-10,-10,-10,-10,-10\t0/0:0:59:59:1929:0,0:0,0:0,-10,-10,-10,-10,-10\r\n",
        "Chr1\t275\t.\tC\tG\t383.242\t.\tAB=0.153061;ABP=207.926;AC=3;AF=0.0882353;AN=34;AO=32;CIGAR=1X;DP=1174;DPB=1174;DPRA=0.874865;EPP=5.45321;EPPR=3.84958;GTI=1;LEN=1;MEANALT=1;MQM=140.594;MQMR=194.032;NS=17;NUMALT=1;ODDS=8.21797;PAIRED=1;PAIREDR=0.983348;PAO=0;PQA=0;PQR=0;PRO=0;QA=1136;QR=41252;RO=1141;RPP=72.4974;RPPR=3.69733;RUN=1;SAF=13;SAP=5.45321;SAR=19;SRF=555;SRP=4.83921;SRR=586;TYPE=snp;technology.Illumina=1\tGT:GQ:DP:RO:QR:AO:QA:GL\t0/0:0:93:93:3346:0:0:0,-10,-10\t0/1:0.0011714:67:61:2211:6:218:-7.81344,0,-10\t0/0:0:53:51:1869:2:69:0,-6.26034,-10\t0/0:0:72:72:2506:0:0:0,-10,-10\t0/0:0:57:57:2055:0:0:0,-10,-10\t0/1:96.0195:65:56:2009:9:321:-10,0,-10\t0/1:0:64:49:1734:15:528:-10,0,-10\t0/0:0:77:77:2814:0:0:0,-10,-10\t0/0:0:100:100:3688:0:0:0,-10,-10\t0/0:0:74:74:2776:0:0:0,-10,-10\t0/0:0:51:51:1853:0:0:0,-10,-10\t0/0:0:71:71:2589:0:0:0,-10,-10\t0/0:0:74:74:2719:0:0:0,-10,-10\t0/0:0:87:87:3141:0:0:0,-10,-10\t0/0:0:57:57:2066:0:0:0,-10,-10\t0/0:0:42:42:1543:0:0:0,-10,-10\t0/0:0:70:69:2333:0:0:0,-10,-10\r\n",
        "Chr1\t278\t.\tT\tC\t1863.9\t.\tAB=0.508333;ABP=3.08268;AC=2;AF=0.0588235;AN=34;AO=62;CIGAR=1X;DP=1176;DPB=1176;DPRA=0.916243;EPP=9.87495;EPPR=3.88966;GTI=0;LEN=1;MEANALT=2;MQM=195.968;MQMR=193.914;NS=17;NUMALT=1;ODDS=42.5162;PAIRED=1;PAIREDR=0.983471;PAO=0;PQA=0;PQR=0;PRO=0;QA=2244;QR=40079;RO=1089;RPP=3.57068;RPPR=7.79791;RUN=1;SAF=31;SAP=3.0103;SAR=31;SRF=528;SRP=5.18177;SRR=561;TYPE=snp;technology.Illumina=1\tGT:GQ:DP:RO:QR:AO:QA:GL\t0/0:141.57:97:97:3580:0:0:0,-10,-10\t0/1:141.57:67:33:1251:29:1054:-10,0,-10\t0/1:141.57:53:20:758:32:1160:-10,0,-10\t0/0:141.57:72:71:2558:0:0:0,-10,-10\t0/0:141.57:57:57:2083:0:0:0,-10,-10\t0/0:141.57:59:52:1914:0:0:0,-10,-10\t0/0:141.57:61:51:1869:0:0:0,-10,-10\t0/0:141.57:78:78:2859:0:0:0,-10,-10\t0/0:141.57:98:98:3632:0:0:0,-10,-10\t0/0:141.57:78:78:2936:0:0:0,-10,-10\t0/0:141.57:51:51:1895:0:0:0,-10,-10\t0/0:141.57:71:71:2624:0:0:0,-10,-10\t0/0:141.57:75:75:2763:0:0:0,-10,-10\t0/0:141.57:88:88:3296:0:0:0,-10,-10\t0/0:141.57:56:56:2066:0:0:0,-10,-10\t0/0:141.57:42:42:1597:0:0:0,-10,-10\t0/0:141.57:73:71:2398:1:30:0,-10,-10\r\n",
        "Chr1\t305\t.\tT\tA\t5542.99\t.\tAB=0;ABP=0;AC=4;AF=0.117647;AN=34;AO=174;CIGAR=1X;DP=1172;DPB=1172;DPRA=1.30762;EPP=8.00219;EPPR=5.52555;GTI=0;LEN=1;MEANALT=1;MQM=191.362;MQMR=194.19;NS=17;NUMALT=1;ODDS=31.2624;PAIRED=0.988506;PAIREDR=0.990982;PAO=0;PQA=0;PQR=0;PRO=0;QA=6376;QR=36218;RO=998;RPP=3.06022;RPPR=3.71527;RUN=1;SAF=93;SAP=4.80738;SAR=81;SRF=484;SRP=4.96854;SRR=514;TYPE=snp;technology.Illumina=1\tGT:GQ:DP:RO:QR:AO:QA:GL\t1/1:148.491:93:0:0:93:3363:-10,-10,0\t0/0:148.491:74:74:2720:0:0:0,-10,-10\t0/0:140.642:55:55:2067:0:0:0,-10,-10\t0/0:148.491:62:62:2228:0:0:0,-10,-10\t0/0:148.491:62:62:2221:0:0:0,-10,-10\t0/0:148.491:64:64:2321:0:0:0,-10,-10\t0/0:148.491:68:68:2468:0:0:0,-10,-10\t0/0:148.491:69:69:2502:0:0:0,-10,-10\t0/0:148.491:99:99:3668:0:0:0,-10,-10\t0/0:148.491:91:91:3355:0:0:0,-10,-10\t0/0:140.669:56:56:2012:0:0:0,-10,-10\t0/0:148.491:65:65:2386:0:0:0,-10,-10\t0/0:148.491:66:66:2399:0:0:0,-10,-10\t1/1:148.491:81:0:0:81:3013:-10,-10,0\t0/0:139.924:51:51:1868:0:0:0,-10,-10\t0/0:135.545:47:47:1714:0:0:0,-10,-10\t0/0:148.491:69:69:2289:0:0:0,-10,-10\r\n",
        "Chr1\t318\t.\tC\tA\t5569.33\t.\tAB=0;ABP=0;AC=4;AF=0.117647;AN=34;AO=177;CIGAR=1X;DP=1157;DPB=1157;DPRA=1.21496;EPP=5.08363;EPPR=3.06586;GTI=0;LEN=1;MEANALT=1;MQM=190.548;MQMR=194.776;NS=17;NUMALT=1;ODDS=27.574;PAIRED=0.983051;PAIREDR=0.988741;PAO=0;PQA=0;PQR=0;PRO=0;QA=6450;QR=35274;RO=977;RPP=4.00402;RPPR=5.4307;RUN=1;SAF=93;SAP=4.00402;SAR=84;SRF=471;SRP=5.73298;SRR=506;TYPE=snp;technology.Illumina=1\tGT:GQ:DP:RO:QR:AO:QA:GL\t1/1:0:91:0:0:91:3301:-10,-10,0\t0/0:0:71:71:2633:0:0:0,-10,-10\t0/0:139.09:55:55:2009:0:0:0,-10,-10\t0/0:0:63:63:2232:0:0:0,-10,-10\t0/0:119.703:63:62:2247:1:41:0,-10,-10\t0/0:0:62:62:2247:0:0:0,-10,-10\t0/0:0:62:62:2248:0:0:0,-10,-10\t0/0:0:67:67:2418:0:0:0,-10,-10\t0/0:0:96:96:3532:0:0:0,-10,-10\t0/0:0:87:87:3210:0:0:0,-10,-10\t0/0:139.204:61:61:2103:0:0:0,-10,-10\t0/0:139.192:58:58:2081:0:0:0,-10,-10\t0/0:0:64:64:2350:0:0:0,-10,-10\t1/1:0:85:0:0:85:3108:-10,-10,0\t0/0:138.974:54:54:1971:0:0:0,-10,-10\t0/0:124.749:45:45:1647:0:0:0,-10,-10\t0/0:0:73:70:2346:0:0:0,-10,-10\r\n",
        "Chr1\t330\t.\tC\tA\t3201.61\t.\tAB=0.528497;ABP=4.37169;AC=3;AF=0.0882353;AN=34;AO=102;CIGAR=1X;DP=1104;DPB=1104;DPRA=0.988657;EPP=4.37279;EPPR=3.63723;GTI=0;LEN=1;MEANALT=1;MQM=195.225;MQMR=193.245;NS=17;NUMALT=1;ODDS=41.3357;PAIRED=0.980392;PAIREDR=0.986014;PAO=0;PQA=0;PQR=0;PRO=0;QA=3715;QR=36235;RO=1001;RPP=3.7767;RPPR=3.37691;RUN=1;SAF=47;SAP=4.37279;SAR=55;SRF=487;SRP=4.59172;SRR=514;TYPE=snp;technology.Illumina=1\tGT:GQ:DP:RO:QR:AO:QA:GL\t0/0:0:83:83:2963:0:0:0,-10,-10\t0/0:0:66:66:2502:0:0:0,-10,-10\t0/0:0:50:50:1874:0:0:0,-10,-10\t0/0:0:67:67:2381:0:0:0,-10,-10\t0/0:0:60:60:2165:0:0:0,-10,-10\t0/1:0:62:27:962:35:1265:-10,0,-10\t0/0:0:55:55:2016:0:0:0,-10,-10\t0/0:0:66:66:2386:0:0:0,-10,-10\t0/1:0:89:42:1469:47:1742:-10,0,-10\t0/0:0:81:81:3051:0:0:0,-10,-10\t0/0:0:50:50:1813:0:0:0,-10,-10\t0/0:0:58:58:2071:0:0:0,-10,-10\t0/0:0:66:66:2425:0:0:0,-10,-10\t0/0:0:79:79:2871:0:0:0,-10,-10\t0/0:0:57:57:2062:0:0:0,-10,-10\t0/1:0:42:22:796:20:708:-10,0,-10\t0/0:0:73:72:2428:0:0:0,-10,-10\r\n",
        "Chr1\t370\t.\tGA\tGT,GC,AT\t35075.2\t.\tAB=0.47678,0.518595,0.530864;ABP=6.03557,4.46393,4.35072;AC=16,16,2;AF=0.470588,0.470588,0.0588235;AN=34;AO=493,541,86;CIGAR=1M1X,1M1X,2X;DP=1126;DPB=1139.5;DPRA=0.87882,1.03191,1.18125;EPP=10.4144,11.1383,3.0103;EPPR=3.0103;GTI=0;LEN=1,1,2;MEANALT=1.84615,1.75,2;MQM=174.815,194.675,189.919;MQMR=143.75;NS=17;NUMALT=3;ODDS=41.2301;PAIRED=0.977688,0.985213,1;PAIREDR=1;PAO=10,7,5;PQA=267.833,207.333,120.5;PQR=147.333;PRO=5;QA=17093,19568,3024;QR=118;RO=4;RPP=4.60036,3.68863,6.64625;RPPR=5.18177;RUN=1,1,1;SAF=249,278,36;SAP=3.12042,3.91341,7.95924;SAR=244,263,50;SRF=1;SRP=5.18177;SRR=3;TYPE=snp,snp,mnp;technology.Illumina=1,1,1\tGT:GQ:DP:RO:QR:AO:QA:GL\t1/3:139.873:70:1:23:30,0,39:1058,0,1410:-10,-10,-10,-10,-10,-10,-10,0,-10,-10\t1/2:139.873:71:0:0:32,39,0:1087,1458,0:-10,-10,-10,-10,0,-10,-10,-10,-10,-10\t1/2:139.873:53:0:0:27,26,0:976,954,0:-10,-10,-10,-10,0,-10,-10,-10,-10,-10\t1/1:139.873:72:2:72:70,0,0:2385,0,0:-10,-10,0,-10,-10,-10,-10,-10,-10,-10\t1/1:139.873:59:0:0:58,0,0:2000,0,0:-10,-10,0,-10,-10,-10,-10,-10,-10,-10\t2/2:139.873:66:1:23:0,64,0:0,2297,0:-10,-10,-10,-10,-10,0,-10,-10,-10,-10\t2/2:139.873:69:0:0:0,69,0:0,2472,0:-10,-10,-10,-10,-10,0,-10,-10,-10,-10\t1/2:139.873:62:0:0:31,31,0:1075,1133,0:-10,-10,-10,-10,0,-10,-10,-10,-10,-10\t1/2:139.873:86:0:0:35,51,0:1232,1876,0:-10,-10,-10,-10,0,-10,-10,-10,-10,-10\t2/2:139.873:95:0:0:0,95,0:0,3478,0:-10,-10,-10,-10,-10,0,-10,-10,-10,-10\t1/2:139.873:56:0:0:28,28,0:962,1053,0:-10,-10,-10,-10,0,-10,-10,-10,-10,-10\t1/2:139.873:56:0:0:33,23,0:1153,824,0:-10,-10,-10,-10,0,-10,-10,-10,-10,-10\t1/1:139.873:57:0:0:57,0,0:2023,0,0:-10,-10,0,-10,-10,-10,-10,-10,-10,-10\t1/3:139.873:92:0:0:45,0,47:1562,0,1614:-10,-10,-10,-10,-10,-10,-10,0,-10,-10\t2/2:139.873:62:0:0:0,62,0:0,2199,0:-10,-10,-10,-10,-10,0,-10,-10,-10,-10\t1/2:139.873:33:0:0:14,19,0:481,716,0:-10,-10,-10,-10,0,-10,-10,-10,-10,-10\t1/2:139.873:67:0:0:33,34,0:1099,1108,0:-10,-10,-10,-10,0,-10,-10,-10,-10,-10\r\n",
        "Chr1\t393\t.\tTTCTCTCTCTCTCT\tTTCTCTCTCTCTCTC,TTCTCTCTCTCTCTCT,TTCTCTCTCTCTCTCTCT,TTCTCTCTCTCTCTCTC\t3848.94\t.\tAB=0.587413,0.251748,0.198925,0.166667;ABP=12.501,79.5585,149.456,182.519;AC=3,3,2,1;AF=0.0882353,0.0882353,0.0588235,0.0294118;AN=34;AO=84,36,37,32;CIGAR=9M1I5X,1M2I13M,1M4I13M,9M3I5X;DP=939;DPB=1114.5;DPRA=0.859563,0.859563,1.11803,1.02837;EPP=3.0103,9.04217,3.5385,4.09604;EPPR=4.89264;GTI=0;LEN=15,2,4,17;MEANALT=3.66667,3.66667,3,2.5;MQM=105.583,140.417,167.135,119.156;MQMR=193.494;NS=17;NUMALT=4;ODDS=22.8867;PAIRED=0.97619,0.944444,0.837838,0.9375;PAIREDR=0.984743;PAO=36.2,76.2,76.2,36.2;PQA=1121.5,2256.33,2256.33,1121.5;PQR=2256.33;PRO=76.2;QA=2895,1178,1248,1135;QR=25419;RO=721;RPP=3.42391,3.25157,3.5385,3.28173;RPPR=5.54318;RUN=1,1,1,1;SAF=50,18,22,19;SAP=9.62812,3.0103,5.88603,5.45321;SAR=34,18,15,13;SRF=367;SRP=3.51929;SRR=354;TYPE=complex,ins,ins,complex;technology.Illumina=1,1,1,1\tGT:GQ:DP:RO:QR:AO:QA:GL\t0/0:133.852:46:45:1543:0,0,0,1:0,0,0,33:0,-10,-10,-10,-10,-10,-10,-10,-10,-10,-8.88462,-10,-10,-10,-10\t0/3:133.852:62:41:1445:0,0,12,6:0,0,393,201:-10,-10,-10,-10,-10,-10,0,-10,-10,-10,-10,-10,-10,-10,-10\t0/4:99.3941:44:25:890:0,0,6,11:0,0,207,391:-10,-10,-10,-10,-10,-10,-10,-10,-10,-10,0,-10,-10,-10,-10\t1/2:133.852:53:2:63:32,12,0,0:1068,385,0,0:-10,-10,-10,-10,0,-10,-10,-10,-10,-10,-10,-10,-10,-10,-10\t1/2:133.852:43:3:102:25,12,0,0:853,380,0,0:-10,-10,-10,-10,0,-10,-10,-10,-10,-10,-10,-10,-10,-10,-10\t0/0:133.852:61:61:2160:0,0,0,0:0,0,0,0:0,-10,-10,-10,-10,-10,-10,-10,-10,-10,-10,-10,-10,-10,-10\t0/0:133.852:58:58:2051:0,0,0,0:0,0,0,0:0,-10,-10,-10,-10,-10,-10,-10,-10,-10,-10,-10,-10,-10,-10\t0/0:133.852:60:59:2075:0,0,0,0:0,0,0,0:0,-10,-10,-10,-10,-10,-10,-10,-10,-10,-10,-10,-10,-10,-10\t0/0:133.852:67:66:2408:0,0,0,0:0,0,0,0:0,-10,-10,-10,-10,-10,-10,-10,-10,-10,-10,-10,-10,-10,-10\t0/0:133.852:71:71:2560:0,0,0,0:0,0,0,0:0,-10,-10,-10,-10,-10,-10,-10,-10,-10,-10,-10,-10,-10,-10\t0/0:133.852:54:54:1876:0,0,0,0:0,0,0,0:0,-10,-10,-10,-10,-10,-10,-10,-10,-10,-10,-10,-10,-10,-10\t0/0:133.852:48:46:1639:0,0,0,0:0,0,0,0:0,-10,-10,-10,-10,-10,-10,-10,-10,-10,-10,-10,-10,-10,-10\t1/2:133.852:47:4:147:27,12,0,0:974,413,0,0:-10,-10,-10,-10,0,-10,-10,-10,-10,-10,-10,-10,-10,-10,-10\t0/3:128.057:80:46:1603:0,0,19,14:0,0,648,510:-10,-10,-10,-10,-10,-10,0,-10,-10,-10,-10,-10,-10,-10,-10\t0/0:133.852:62:62:2190:0,0,0,0:0,0,0,0:0,-10,-10,-10,-10,-10,-10,-10,-10,-10,-10,-10,-10,-10,-10\t0/0:128.099:34:33:1200:0,0,0,0:0,0,0,0:0,-9.93399,-10,-9.93399,-10,-10,-9.93399,-10,-10,-10,-9.93399,-10,-10,-10,-10\t0/0:133.852:49:45:1467:0,0,0,0:0,0,0,0:0,-10,-10,-10,-10,-10,-10,-10,-10,-10,-10,-10,-10,-10,-10\r\n",
        "Chr1\t407\t.\tT\tC\t200.534\t.\tAB=0.2;ABP=53.8228;AC=1;AF=0.0294118;AN=34;AO=25;CIGAR=1X;DP=1137;DPB=1137;DPRA=1.08061;EPP=7.26639;EPPR=3.16862;GTI=0;LEN=1;MEANALT=1;MQM=176.32;MQMR=177.219;NS=17;NUMALT=1;ODDS=27.5866;PAIRED=1;PAIREDR=0.979298;PAO=0;PQA=0;PQR=0;PRO=0;QA=793;QR=40642;RO=1111;RPP=17.6895;RPPR=3.02789;RUN=1;SAF=9;SAP=7.26639;SAR=16;SRF=584;SRP=9.36054;SRR=527;TYPE=snp;technology.Illumina=1\tGT:GQ:DP:RO:QR:AO:QA:GL\t0/0:0:50:50:1807:0:0:0,-10,-10\t0/0:0:78:78:2874:0:0:0,-10,-10\t0/0:0:57:56:2076:1:31:0,-10,-10\t0/0:0:82:79:2868:3:90:0,-10,-10\t0/1:0:65:52:1895:13:407:-10,0,-10\t0/0:0:66:66:2427:0:0:0,-10,-10\t0/0:0:64:64:2342:0:0:0,-10,-10\t0/0:0:68:68:2471:0:0:0,-10,-10\t0/0:0:78:78:2963:0:0:0,-10,-10\t0/0:0:88:88:3245:0:0:0,-10,-10\t0/0:0:63:63:2230:0:0:0,-10,-10\t0/0:0:58:58:2160:0:0:0,-10,-10\t0/0:119.835:65:61:2264:4:140:0,-0.786335,-10\t0/0:0:84:80:2994:4:125:0,-7.43857,-10\t0/0:0:70:70:2570:0:0:0,-10,-10\t0/0:0:45:45:1668:0:0:0,-10,-10\t0/0:0:56:55:1788:0:0:0,-10,-10\r\n",
        "Chr1\t408\t.\tAT\tTA\t3821.57\t.\tAB=0.333333;ABP=101.45;AC=6;AF=0.176471;AN=34;AO=138;CIGAR=2X;DP=1099;DPB=1111;DPRA=0.970551;EPP=7.03854;EPPR=10.5883;GTI=0;LEN=2;MEANALT=2.125;MQM=111.652;MQMR=188.083;NS=17;NUMALT=1;ODDS=34.7188;PAIRED=0.978261;PAIREDR=0.977444;PAO=5;PQA=153;PQR=244;PRO=19;QA=4823;QR=33047;RO=931;RPP=13.6474;RPPR=6.93108;RUN=1;SAF=83;SAP=15.3468;SAR=55;SRF=481;SRP=5.25174;SRR=450;TYPE=mnp;technology.Illumina=1\tGT:GQ:DP:RO:QR:AO:QA:GL\t0/0:133.011:45:44:1526:1:33:0,-8.59314,-10\t0/1:0:74:61:2164:13:421:-10,0,-10\t0/1:0:56:42:1485:13:454:-10,0,-10\t0/1:0:77:30:1033:38:1302:-10,0,-10\t0/1:0:58:21:740:26:930:-10,0,-10\t0/0:0:64:64:2296:0:0:0,-10,-10\t0/0:0:66:66:2306:0:0:0,-10,-10\t0/0:0:66:65:2299:0:0:0,-10,-10\t0/0:0:79:79:2884:0:0:0,-10,-10\t0/0:0:85:85:3070:0:0:0,-10,-10\t0/0:0:59:59:2055:0:0:0,-10,-10\t0/0:0:60:60:2111:0:0:0,-10,-10\t0/1:0:65:27:963:32:1144:-10,0,-10\t0/1:0:78:62:2256:14:507:-10,0,-10\t0/0:0:66:66:2427:0:0:0,-10,-10\t0/0:0:45:45:1613:0:0:0,-10,-10\t0/0:0:56:55:1819:1:32:0,-10,-10\r\n",
        "Chr1\t414\t.\tTGGGGGA\tTTGGGGA,TGGGGA,TTGGGGG\t10896.9\t.\tAB=0.423841,0.147399,0.178295;ABP=25.8323,376.654,118.974;AC=12,3,2;AF=0.352941,0.0882353,0.0588235;AN=34;AO=292,51,23;CIGAR=1M1X5M,1M1D5M,1M1X4M1X;DP=971;DPB=1035.71;DPRA=0.997172,1.0377,1.16067;EPP=3.27802,6.45911,3.86001;EPPR=12.6475;GTI=0;LEN=1,1,7;MEANALT=3,4.16667,1.5;MQM=184.764,147.824,119.913;MQMR=193.591;NS=17;NUMALT=3;ODDS=24.0148;PAIRED=0.976027,1,1;PAIREDR=0.983364;PAO=34.25,35.75,15.75;PQA=944.25,958.75,482.75;PQR=1365.25;PRO=49.25;QA=10885,1800,743;QR=19073;RO=541;RPP=24.6953,105.24,18.9659;RPPR=10.4318;RUN=1,1,1;SAF=140,22,12;SAP=4.08116,5.09662,3.10471;SAR=152,29,11;SRF=286;SRP=6.86757;SRR=255;TYPE=snp,del,complex;technology.Illumina=1,1,1\tGT:GQ:DP:RO:QR:AO:QA:GL\t1/1:117.944:44:0:0:44,0,0:1623,0,0:-10,-10,0,-10,-10,-10,-10,-10,-10,-10\t0/3:104.282:75:64:2239:0,0,10:0,0,321:-10,-10,-10,-10,-10,-10,0,-10,-10,-10\t0/3:144.848:54:41:1489:0,0,13:0,0,422:-10,-10,-10,-10,-10,-10,0,-10,-10,-10\t1/2:144.848:49:0:0:11,16,0:380,543,0:-10,-10,-10,-10,0,-10,-10,-10,-10,-10\t1/2:144.848:35:0:0:10,13,0:375,470,0:-10,-10,-10,-10,0,-10,-10,-10,-10,-10\t0/1:144.848:65:30:1057:32,2,0:1164,67,0:-10,0,-10,-10,-10,-10,-10,-10,-10,-10\t0/0:144.848:65:65:2256:0,0,0:0,0,0:0,-10,-10,-10,-10,-10,-10,-10,-10,-10\t0/1:144.848:64:31:1090:33,0,0:1218,0,0:-10,0,-10,-10,-10,-10,-10,-10,-10,-10\t0/1:144.848:75:38:1385:36,1,0:1375,33,0:-10,0,-10,-10,-10,-10,-10,-10,-10,-10\t0/1:144.848:81:44:1565:36,1,0:1347,35,0:-10,0,-10,-10,-10,-10,-10,-10,-10,-10\t0/0:144.848:52:52:1795:0,0,0:0,0,0:0,-10,-10,-10,-10,-10,-10,-10,-10,-10\t0/0:129.27:52:49:1735:1,0,0:37,0,0:0,-9.9792,-10,-10,-10,-10,-10,-10,-10,-10\t1/2:144.848:41:0:0:13,18,0:504,652,0:-10,-10,-10,-10,0,-10,-10,-10,-10,-10\t1/1:129.293:68:0:0:55,0,0:2062,0,0:-10,-10,0,-10,-10,-10,-10,-10,-10,-10\t0/0:144.848:61:61:2202:0,0,0:0,0,0:0,-10,-10,-10,-10,-10,-10,-10,-10,-10\t0/1:144.848:43:22:815:21,0,0:800,0,0:-10,0,-10,-10,-10,-10,-10,-10,-10,-10\t0/0:144.848:47:44:1445:0,0,0:0,0,0:0,-10,-10,-10,-10,-10,-10,-10,-10,-10\r\n",
        "Chr1\t421\t.\tC\tA\t2433.72\t.\tAB=0.253807;ABP=210.436;AC=6;AF=0.176471;AN=34;AO=101;CIGAR=1X;DP=1091;DPB=1091;DPRA=0.980349;EPP=3.0318;EPPR=3.06598;GTI=0;LEN=1;MEANALT=1.71429;MQM=109.921;MQMR=186.294;NS=17;NUMALT=1;ODDS=29.3089;PAIRED=0.980198;PAIREDR=0.982564;PAO=0;PQA=0;PQR=0;PRO=0;QA=3405;QR=34645;RO=975;RPP=3.2038;RPPR=6.75414;RUN=1;SAF=64;SAP=18.6836;SAR=37;SRF=476;SRP=4.18846;SRR=499;TYPE=snp;technology.Illumina=1\tGT:GQ:DP:RO:QR:AO:QA:GL\t0/0:0:45:45:1597:0:0:0,-10,-10\t0/1:126.825:80:70:2450:10:332:-10,0,-10\t0/1:0:56:43:1554:13:422:-10,0,-10\t0/1:0:69:45:1560:17:573:-10,0,-10\t0/1:0:54:27:971:27:914:-10,0,-10\t0/0:0:72:72:2500:0:0:0,-10,-10\t0/0:0:67:67:2348:0:0:0,-10,-10\t0/0:0:68:68:2362:0:0:0,-10,-10\t0/0:0:82:82:3020:0:0:0,-10,-10\t0/0:0:87:86:3119:0:0:0,-10,-10\t0/0:0:58:58:2042:0:0:0,-10,-10\t0/0:0:56:56:1984:0:0:0,-10,-10\t0/1:0:59:36:1349:20:691:-10,0,-10\t0/1:0:76:62:2208:13:444:-10,0,-10\t0/0:0:62:62:2244:0:0:0,-10,-10\t0/0:0:50:50:1810:0:0:0,-10,-10\t0/0:0:50:46:1527:1:29:0,-9.86548,-10\r\n",
        "Chr1\t423\t.\tTGA\tCTG\t2469.87\t.\tAB=0.246883;ABP=226.163;AC=6;AF=0.176471;AN=34;AO=99;CIGAR=3X;DP=1105;DPB=1126.67;DPRA=1.04427;EPP=3.03223;EPPR=4.74042;GTI=0;LEN=3;MEANALT=2.16667;MQM=107.778;MQMR=186.895;NS=17;NUMALT=1;ODDS=29.0742;PAIRED=0.979798;PAIREDR=0.980691;PAO=7;PQA=193;PQR=636;PRO=35;QA=3471;QR=35126;RO=984;RPP=16.7191;RPPR=3.57524;RUN=1;SAF=63;SAP=19.0002;SAR=36;SRF=484;SRP=3.57524;SRR=500;TYPE=mnp;technology.Illumina=1\tGT:GQ:DP:RO:QR:AO:QA:GL\t0/0:136.376:45:45:1614:0:0:0,-10,-10\t0/1:125.863:83:73:2532:10:349:-10,0,-10\t0/1:136.376:56:45:1660:11:358:-10,0,-10\t0/1:136.376:66:39:1365:16:580:-10,0,-10\t0/1:136.376:58:26:913:30:1060:-10,0,-10\t0/0:136.376:72:72:2553:0:0:0,-10,-10\t0/0:136.376:66:66:2330:0:0:0,-10,-10\t0/0:136.376:67:67:2361:0:0:0,-10,-10\t0/0:136.376:84:84:3098:0:0:0,-10,-10\t0/0:136.376:86:85:3128:0:0:0,-10,-10\t0/0:136.376:66:66:2300:0:0:0,-10,-10\t0/0:136.376:56:56:1997:0:0:0,-10,-10\t0/1:136.376:59:35:1328:20:703:-10,0,-10\t0/1:136.376:79:66:2326:12:421:-10,0,-10\t0/0:136.376:66:66:2408:0:0:0,-10,-10\t0/0:136.376:48:48:1725:0:0:0,-10,-10\t0/0:136.376:48:45:1488:0:0:0,-10,-10\r\n",
        "Chr1\t427\t.\tT\tA\t2966.44\t.\tAB=0.262295;ABP=212.575;AC=6;AF=0.176471;AN=34;AO=112;CIGAR=1X;DP=1145;DPB=1145;DPRA=1.0903;EPP=7.97367;EPPR=6.72921;GTI=0;LEN=1;MEANALT=1.33333;MQM=112.036;MQMR=185.945;NS=17;NUMALT=1;ODDS=37.9075;PAIRED=0.973214;PAIREDR=0.981553;PAO=0;PQA=0;PQR=0;PRO=0;QA=4033;QR=37446;RO=1030;RPP=25.423;RPPR=3.42351;RUN=1;SAF=71;SAP=20.4596;SAR=41;SRF=508;SRP=3.42351;SRR=522;TYPE=snp;technology.Illumina=1\tGT:GQ:DP:RO:QR:AO:QA:GL\t0/0:138.996:43:43:1565:0:0:0,-10,-10\t0/1:133.867:88:77:2751:11:397:-10,0,-10\t0/1:138.996:58:46:1743:12:416:-10,0,-10\t0/1:138.996:71:48:1716:22:778:-10,0,-10\t0/1:138.996:62:29:1063:33:1214:-10,0,-10\t0/0:138.996:73:73:2666:0:0:0,-10,-10\t0/0:138.996:71:71:2572:0:0:0,-10,-10\t0/0:138.996:66:66:2381:0:0:0,-10,-10\t0/0:138.996:85:85:3177:0:0:0,-10,-10\t0/0:138.996:90:90:3317:0:0:0,-10,-10\t0/0:138.996:67:67:2399:0:0:0,-10,-10\t0/0:138.996:59:59:2103:0:0:0,-10,-10\t0/1:138.996:59:37:1408:20:738:-10,0,-10\t0/1:138.996:89:75:2689:14:490:-10,0,-10\t0/0:138.996:69:69:2554:0:0:0,-10,-10\t0/0:138.996:48:48:1770:0:0:0,-10,-10\t0/0:138.996:47:47:1572:0:0:0,-10,-10\r\n",
        "Chr1\t430\t.\tGAA\tTGA,GA\t2026.39\t.\tAB=0.207692,0.194969;ABP=292.451,131.51;AC=6,1;AF=0.176471,0.0294118;AN=34;AO=82,31;CIGAR=2X1M,1M1D1M;DP=1089;DPB=1098.67;DPRA=1.11345,0.834049;EPP=5.65844,4.76149;EPPR=3.12266;GTI=0;LEN=2,1;MEANALT=2.85714,5;MQM=137.829,142.774;MQMR=189.19;NS=17;NUMALT=2;ODDS=29.9611;PAIRED=0.987805,1;PAIREDR=0.983105;PAO=5.5,13.5;PQA=63,272;PQR=471;PRO=19;QA=2889,1122;QR=33798;RO=947;RPP=4.70511,33.9012;RPPR=3.19603;RUN=1,1;SAF=51,12;SAP=13.6028,6.44263;SAR=31,19;SRF=473;SRP=3.01259;SRR=474;TYPE=mnp,del;technology.Illumina=1,1\tGT:GQ:DP:RO:QR:AO:QA:GL\t0/0:135.762:42:42:1488:0,0:0,0:0,-10,-10,-10,-10,-10\t0/1:129.073:84:74:2609:10,0:362,0:-10,0,-10,-10,-10,-10\t0/1:135.762:59:49:1809:10,0:351,0:-10,0,-10,-10,-10,-10\t0/1:128.525:62:29:1018:14,10:472,349:-10,0,-10,-10,-10,-10\t1/2:135.762:46:3:107:20,12:700,438:-10,-10,-10,-10,0,-10\t0/0:135.762:67:67:2397:0,0:0,0:0,-10,-10,-10,-10,-10\t0/0:135.762:69:69:2461:0,0:0,0:0,-10,-10,-10,-10,-10\t0/0:135.762:66:66:2300:0,0:0,0:0,-10,-10,-10,-10,-10\t0/0:135.762:85:85:3118:0,0:0,0:0,-10,-10,-10,-10,-10\t0/0:135.762:87:86:3135:1,0:36,0:0,-10,-10,-10,-10,-10\t0/0:135.762:66:66:2348:0,0:0,0:0,-10,-10,-10,-10,-10\t0/0:135.762:57:56:1952:0,0:0,0:0,-10,-10,-10,-10,-10\t0/1:135.762:51:23:869:13,9:475,335:-10,0,-10,-10,-10,-10\t0/1:135.762:88:73:2575:14,0:493,0:-10,0,-10,-10,-10,-10\t0/0:135.762:64:63:2301:0,0:0,0:0,-10,-10,-10,-10,-10\t0/0:135.762:51:51:1822:0,0:0,0:0,-10,-10,-10,-10,-10\t0/0:135.762:45:45:1489:0,0:0,0:0,-10,-10,-10,-10,-10\r\n",
        "Chr1\t434\t.\tG\tT\t1062.94\t.\tAB=0.165877;ABP=412.214;AC=6;AF=0.176471;AN=34;AO=71;CIGAR=1X;DP=1125;DPB=1125;DPRA=1.18467;EPP=9.89173;EPPR=4.12881;GTI=0;LEN=1;MEANALT=1.85714;MQM=86.831;MQMR=186.76;NS=17;NUMALT=1;ODDS=8.82652;PAIRED=0.985915;PAIREDR=0.985394;PAO=0;PQA=0;PQR=0;PRO=0;QA=2365;QR=36999;RO=1027;RPP=116.814;RPPR=13.0769;RUN=1;SAF=46;SAP=16.4979;SAR=25;SRF=517;SRP=3.1139;SRR=510;TYPE=snp;technology.Illumina=1\tGT:GQ:DP:RO:QR:AO:QA:GL\t0/0:0:44:44:1546:0:0:0,-10,-10\t0/1:38.3337:83:74:2637:9:291:-10,0,-10\t0/1:59.2967:58:50:1870:8:272:-10,0,-10\t0/1:0:70:46:1652:15:499:-10,0,-10\t0/1:0:63:38:1373:14:469:-10,0,-10\t0/0:0:69:69:2499:0:0:0,-10,-10\t0/0:0:71:71:2547:0:0:0,-10,-10\t0/0:0:67:67:2370:0:0:0,-10,-10\t0/0:0:82:82:3026:0:0:0,-10,-10\t0/0:0:88:87:3144:1:36:0,-10,-10\t0/0:0:64:64:2270:0:0:0,-10,-10\t0/0:0:58:58:2075:0:0:0,-10,-10\t0/1:0:61:42:1577:13:440:-10,0,-10\t0/1:97.7974:87:75:2716:11:358:-10,0,-10\t0/0:0:65:65:2390:0:0:0,-10,-10\t0/0:0:49:49:1797:0:0:0,-10,-10\t0/0:0:46:46:1510:0:0:0,-10,-10\r\n",
        "Chr1\t435\t.\tCACT\tGCAC,CACA,CGCT\t7066.23\t.\tAB=0.160494,0.616216,0;ABP=327.391,24.7133,0;AC=5,3,4;AF=0.147059,0.0882353,0.117647;AN=34;AO=52,115,111;CIGAR=4X,3M1X,1M1X2M;DP=1098;DPB=1133;DPRA=1.00465,0.969676,1;EPP=13.7006,4.53977,3.18637;EPPR=3.41016;GTI=2;LEN=4,1,1;MEANALT=3,3.75,3.5;MQM=75.9038,163.513,183.009;MQMR=190.77;NS=17;NUMALT=3;ODDS=4.67736;PAIRED=0.980769,1,0.972973;PAIREDR=0.985934;PAO=5,18.5,21;PQA=140,605.5,432.5;PQR=618;PRO=27.5;QA=1757,4271,3946;QR=27443;RO=782;RPP=115.927,133.091,6.31642;RPPR=3.11027;RUN=1,1,1;SAF=34,53,48;SAP=13.7006,4.53977,7.41193;SAR=18,62,63;SRF=405;SRP=5.18733;SRR=377;TYPE=mnp,snp,snp;technology.Illumina=1,1,1\tGT:GQ:DP:RO:QR:AO:QA:GL\t3/3:48.5912:44:2:77:0,0,41:0,0,1426:-10,-10,-10,-10,-10,-10,-3.0086,-10,-10,0\t0/1:2.64991e-11:80:74:2549:6,0,0:199,0,0:-2.63711,0,-10,-10,-10,-10,-10,-10,-10,-10\t0/1:0.0402172:59:52:1887:7,0,0:247,0,0:-10,0,-10,-10,-10,-10,-10,-10,-10,-10\t1/2:130.556:67:5:189:13,41,0:436,1511,0:-10,-10,-10,-10,0,-10,-10,-10,-10,-10\t1/2:0:60:2:74:14,34,0:469,1242,0:-10,-10,-10,-10,0,-10,-10,-10,-10,-10\t0/0:0:70:70:2436:0,0,0:0,0,0:0,-10,-10,-10,-10,-10,-10,-10,-10,-10\t0/0:0:69:69:2402:0,0,0:0,0,0:0,-10,-10,-10,-10,-10,-10,-10,-10,-10\t0/0:0:67:67:2330:0,0,0:0,0,0:0,-10,-10,-10,-10,-10,-10,-10,-10,-10\t0/0:0:77:77:2811:0,0,0:0,0,0:0,-10,-10,-10,-10,-10,-10,-10,-10,-10\t0/0:0:84:83:2978:0,0,0:0,0,0:0,-10,-10,-10,-10,-10,-10,-10,-10,-10\t0/0:0:63:63:2155:0,0,0:0,0,0:0,-10,-10,-10,-10,-10,-10,-10,-10,-10\t0/0:0:57:57:1946:0,0,0:0,0,0:0,-10,-10,-10,-10,-10,-10,-10,-10,-10\t1/2:0:58:2:68:12,39,0:406,1493,0:-10,-10,-10,-10,0,-10,-10,-10,-10,-10\t3/3:86.1005:85:3:116:0,0,70:0,0,2520:-10,-10,-10,-10,-10,-10,-6.72676,-10,-10,0\t0/0:0:65:63:2278:0,1,0:0,25,0:0,-10,-10,-10,-10,-10,-10,-10,-10,-10\t0/0:0:48:48:1678:0,0,0:0,0,0:0,-10,-10,-10,-10,-10,-10,-10,-10,-10\t0/0:0:45:45:1469:0,0,0:0,0,0:0,-10,-10,-10,-10,-10,-10,-10,-10,-10\r\n",
        "Chr1\t440\t.\tG\tA\t825.458\t.\tAB=0.147806;ABP=469.526;AC=6;AF=0.176471;AN=34;AO=64;CIGAR=1X;DP=1145;DPB=1145;DPRA=1.11493;EPP=11.6962;EPPR=5.91364;GTI=1;LEN=1;MEANALT=1.16667;MQM=80.4219;MQMR=184.84;NS=17;NUMALT=1;ODDS=4.97394;PAIRED=0.984375;PAIREDR=0.986111;PAO=0;PQA=0;PQR=0;PRO=0;QA=2200;QR=39350;RO=1080;RPP=141.985;RPPR=5.33458;RUN=1;SAF=40;SAP=11.6962;SAR=24;SRF=542;SRP=3.04247;SRR=538;TYPE=snp;technology.Illumina=1\tGT:GQ:DP:RO:QR:AO:QA:GL\t0/0:0:45:45:1623:0:0:0,-10,-10\t0/1:8.0692e-09:83:77:2794:6:199:-1.83303,0,-10\t0/1:21.6315:60:53:1985:7:247:-10,0,-10\t0/1:0:76:62:2213:13:438:-10,0,-10\t0/1:0:68:53:1909:15:541:-10,0,-10\t0/0:0:69:69:2524:0:0:0,-10,-10\t0/0:0:70:70:2556:0:0:0,-10,-10\t0/0:0:71:71:2536:0:0:0,-10,-10\t0/0:0:80:80:3027:0:0:0,-10,-10\t0/0:0:87:87:3219:0:0:0,-10,-10\t0/0:0:63:63:2269:0:0:0,-10,-10\t0/0:0:62:62:2247:0:0:0,-10,-10\t0/1:0:62:49:1829:13:451:-10,0,-10\t0/1:58.9293:84:74:2680:10:324:-10,0,-10\t0/0:0:68:68:2523:0:0:0,-10,-10\t0/0:0:49:49:1813:0:0:0,-10,-10\t0/0:0:48:48:1603:0:0:0,-10,-10\r\n",
        "Chr1\t443\t.\tA\tT,G\t33591.8\t.\tAB=0.604651,0.391473;ABP=76.6384,82.1933;AC=22,12;AF=0.647059,0.352941;AN=34;AO=783,303;CIGAR=1X,1X;DP=1090;DPB=1090;DPRA=0,1.02057;EPP=5.03202,8.23473;EPPR=9.52472;GTI=0;LEN=1,1;MEANALT=1.76471,2.08333;MQM=182.255,170.195;MQMR=112;NS=17;NUMALT=2;ODDS=38.2192;PAIRED=0.988506,0.986799;PAIREDR=1;PAO=0,0;PQA=0,0;PQR=0;PRO=0;QA=27283,10949;QR=104;RO=3;RPP=4.23331,13.9107;RPPR=3.73412;RUN=1,1;SAF=376,153;SAP=5.67541,3.0748;SAR=407,150;SRF=1;SRP=3.73412;SRR=2;TYPE=snp,snp;technology.Illumina=1,1\tGT:GQ:DP:RO:QR:AO:QA:GL\t1/1:138.963:42:0:0:42,0:1452,0:-10,-10,0,-10,-10,-10\t1/2:138.963:81:0:0:49,32:1641,1160:-10,-10,-10,-10,0,-10\t1/2:138.963:59:0:0:26,33:903,1250:-10,-10,-10,-10,0,-10\t1/2:138.963:76:0:0:64,11:2260,366:-10,-10,-10,-10,0,-10\t1/2:138.963:67:0:0:52,15:1735,556:-10,-10,-10,-10,0,-10\t1/1:138.963:62:0:0:62,0:2164,0:-10,-10,0,-10,-10,-10\t1/1:138.963:66:0:0:66,0:2274,0:-10,-10,0,-10,-10,-10\t1/2:138.963:62:0:0:39,23:1272,867:-10,-10,-10,-10,0,-10\t1/2:138.963:74:0:0:37,37:1341,1396:-10,-10,-10,-10,0,-10\t1/1:138.963:84:1:34:83,0:2970,0:-10,-10,0,-10,-10,-10\t1/2:138.963:64:0:0:26,38:911,1378:-10,-10,-10,-10,0,-10\t1/2:138.963:59:0:0:24,35:853,1221:-10,-10,-10,-10,0,-10\t1/2:138.963:58:0:0:46,12:1661,423:-10,-10,-10,-10,0,-10\t1/2:133.857:77:2:70:65,10:2292,355:-10,-10,-10,-10,0,-10\t1/1:138.963:62:0:0:62,0:2210,0:-10,-10,0,-10,-10,-10\t1/2:138.963:50:0:0:23,27:789,989:-10,-10,-10,-10,0,-10\t1/2:138.963:47:0:0:17,30:555,988:-10,-10,-10,-10,0,-10\r\n",
        "Chr1\t446\t.\tCAG\tTCA\t565.747\t.\tAB=0.128019;ABP=500.582;AC=6;AF=0.176471;AN=34;AO=53;CIGAR=3X;DP=1101;DPB=1122.33;DPRA=1.1048;EPP=7.96781;EPPR=3.06357;GTI=3;LEN=3;MEANALT=2.66667;MQM=74.2453;MQMR=186.977;NS=17;NUMALT=1;ODDS=0.423308;PAIRED=1;PAIREDR=0.98528;PAO=3;PQA=35;PQR=668;PRO=36;QA=1839;QR=36422;RO=1019;RPP=118.098;RPPR=5.92762;RUN=1;SAF=32;SAP=7.96781;SAR=21;SRF=506;SRP=3.11472;SRR=513;TYPE=mnp;technology.Illumina=1\tGT:GQ:DP:RO:QR:AO:QA:GL\t0/0:144.563:42:41:1429:0:0:0,-10,-10\t0/1:1.94481e-05:82:76:2655:6:224:-4.39314,0,-10\t0/1:1.24342e-05:59:54:1970:5:177:-5.22275,0,-10\t0/1:75.386:78:53:1904:9:292:-10,0,-10\t0/1:144.563:64:43:1585:15:522:-10,0,-10\t0/0:144.563:65:65:2345:0:0:0,-10,-10\t0/0:144.563:70:70:2428:0:0:0,-10,-10\t0/0:144.563:64:64:2261:0:0:0,-10,-10\t0/0:144.563:76:76:2805:0:0:0,-10,-10\t0/0:144.563:83:82:2978:0:0:0,-10,-10\t0/0:144.563:66:66:2345:0:0:0,-10,-10\t0/0:144.563:63:63:2206:0:0:0,-10,-10\t0/1:144.563:56:42:1577:11:378:-10,0,-10\t0/1:2.18764:75:66:2353:7:246:-9.38571,0,-10\t0/0:144.563:67:67:2448:0:0:0,-10,-10\t0/0:144.563:48:48:1718:0:0:0,-10,-10\t0/0:144.563:43:43:1415:0:0:0,-10,-10\r\n",
        "Chr1\t450\t.\tA\tG\t1100.73\t.\tAB=0.160287;ABP=422.011;AC=6;AF=0.176471;AN=34;AO=67;CIGAR=1X;DP=1088;DPB=1088;DPRA=1.14378;EPP=3.82055;EPPR=4.13981;GTI=2;LEN=1;MEANALT=1.5;MQM=77.7463;MQMR=186.03;NS=17;NUMALT=1;ODDS=4.54427;PAIRED=0.970149;PAIREDR=0.984267;PAO=0;PQA=0;PQR=0;PRO=0;QA=2394;QR=36642;RO=1017;RPP=139.943;RPPR=3.11492;RUN=1;SAF=37;SAP=4.59839;SAR=30;SRF=515;SRP=3.37114;SRR=502;TYPE=snp;technology.Illumina=1\tGT:GQ:DP:RO:QR:AO:QA:GL\t0/0:0:40:40:1459:0:0:0,-10,-10\t0/1:0.000460576:77:71:2519:6:227:-6.00394,0,-10\t0/1:0.0459082:60:54:1995:6:204:-8.33772,0,-10\t0/1:0:76:58:2087:16:562:-10,0,-10\t0/1:0:65:47:1723:17:632:-10,0,-10\t0/0:0:65:65:2374:0:0:0,-10,-10\t0/0:0:62:62:2192:0:0:0,-10,-10\t0/0:0:63:63:2241:0:0:0,-10,-10\t0/0:0:76:76:2781:0:0:0,-10,-10\t0/0:0:81:81:2957:0:0:0,-10,-10\t0/0:0:63:63:2247:0:0:0,-10,-10\t0/0:0:63:63:2263:0:0:0,-10,-10\t0/1:0:59:46:1728:13:453:-10,0,-10\t0/1:64.4972:81:71:2511:9:316:-10,0,-10\t0/0:0:66:66:2418:0:0:0,-10,-10\t0/0:0:46:46:1663:0:0:0,-10,-10\t0/0:0:45:45:1484:0:0:0,-10,-10\r\n",
        "Chr1\t451\t.\tA\tG\t2951.2\t.\tAB=0.85124;ABP=132.671;AC=2;AF=0.0588235;AN=34;AO=104;CIGAR=1X;DP=1085;DPB=1085;DPRA=0.953015;EPP=3.09382;EPPR=5.59283;GTI=0;LEN=1;MEANALT=1.33333;MQM=181.433;MQMR=179.342;NS=17;NUMALT=1;ODDS=5.13795;PAIRED=0.990385;PAIREDR=0.983539;PAO=0;PQA=0;PQR=0;PRO=0;QA=3654;QR=34761;RO=972;RPP=3.0103;RPPR=6.23623;RUN=1;SAF=43;SAP=9.77527;SAR=61;SRF=502;SRP=5.29794;SRR=470;TYPE=snp;technology.Illumina=1\tGT:GQ:DP:RO:QR:AO:QA:GL\t0/1:22.3393:41:3:118:38:1336:-10,0,-2.69886\t0/0:0:78:78:2743:0:0:0,-10,-10\t0/0:135.476:60:60:2195:0:0:0,-10,-10\t0/0:0:77:72:2581:0:0:0,-10,-10\t0/0:112.157:63:60:2222:1:24:0,-10,-10\t0/0:135.683:67:67:2399:0:0:0,-10,-10\t0/0:135.659:63:63:2197:0:0:0,-10,-10\t0/0:135.672:64:64:2267:0:0:0,-10,-10\t0/0:0:72:72:2666:0:0:0,-10,-10\t0/0:0:81:81:2918:0:0:0,-10,-10\t0/0:135.476:60:60:2102:0:0:0,-10,-10\t0/0:135.659:63:63:2225:0:0:0,-10,-10\t0/0:134.244:59:57:2099:0:0:0,-10,-10\t0/1:0:80:15:515:65:2294:-10,0,-10\t0/0:135.683:66:66:2365:0:0:0,-10,-10\t0/0:109.632:47:47:1684:0:0:0,-10,-10\t0/0:100.601:44:44:1465:0:0:0,-10,-10\r\n",
        "Chr1\t452\t.\tCGT\tACG\t542.361\t.\tAB=0.13783;ABP=391.513;AC=5;AF=0.147059;AN=34;AO=47;CIGAR=3X;DP=1078;DPB=1102.33;DPRA=1.11045;EPP=8.60069;EPPR=4.82381;GTI=2;LEN=3;MEANALT=2.4;MQM=68.7021;MQMR=186.103;NS=17;NUMALT=1;ODDS=8.37203;PAIRED=0.957447;PAIREDR=0.985104;PAO=0;PQA=0;PQR=928;PRO=50;QA=1554;QR=35609;RO=1007;RPP=105.07;RPPR=5.65186;RUN=1;SAF=29;SAP=8.60069;SAR=18;SRF=512;SRP=3.63349;SRR=495;TYPE=mnp;technology.Illumina=1\tGT:GQ:DP:RO:QR:AO:QA:GL\t0/0:137.843:42:42:1478:0:0:0,-10,-10\t0/1:2.26417e-08:77:72:2497:5:185:-1.13643,0,-10\t0/1:0.00100417:61:55:2003:6:190:-6.79833,0,-10\t0/1:65.3739:78:57:2041:10:287:-10,0,-10\t0/1:137.843:64:46:1674:14:490:-10,0,-10\t0/0:137.843:67:67:2382:0:0:0,-10,-10\t0/0:137.843:62:62:2124:0:0:0,-10,-10\t0/0:137.843:63:63:2197:0:0:0,-10,-10\t0/0:137.843:69:69:2501:0:0:0,-10,-10\t0/0:137.843:81:81:2919:0:0:0,-10,-10\t0/0:137.843:61:61:2127:0:0:0,-10,-10\t0/0:137.843:63:63:2214:0:0:0,-10,-10\t0/1:137.843:61:46:1687:12:402:-10,0,-10\t0/0:137.843:74:68:2393:0:0:0,-10,-10\t0/0:137.843:65:65:2305:0:0:0,-10,-10\t0/0:137.843:48:48:1697:0:0:0,-10,-10\t0/0:137.843:42:42:1370:0:0:0,-10,-10\r\n",
        "Chr1\t456\t.\tATA\tTAT\t904.31\t.\tAB=0.182143;ABP=248.728;AC=4;AF=0.117647;AN=34;AO=58;CIGAR=3X;DP=1084;DPB=1108;DPRA=1.13284;EPP=3.0103;EPPR=3.14817;GTI=1;LEN=3;MEANALT=2.16667;MQM=73.2931;MQMR=185.929;NS=17;NUMALT=1;ODDS=5.25829;PAIRED=0.965517;PAIREDR=0.985119;PAO=4;PQA=100;PQR=980;PRO=44;QA=1946;QR=35833;RO=1008;RPP=112.183;RPPR=4.46657;RUN=1;SAF=31;SAP=3.60933;SAR=27;SRF=519;SRP=4.94911;SRR=489;TYPE=mnp;technology.Illumina=1\tGT:GQ:DP:RO:QR:AO:QA:GL\t0/0:137.532:44:41:1430:0:0:0,-10,-10\t0/1:0.0225429:72:66:2335:6:224:-7.05296,0,-10\t0/0:101.906:60:56:2065:4:129:0,-0.441205,-10\t0/1:137.532:80:62:2222:16:529:-10,0,-10\t0/1:137.532:63:45:1652:16:533:-10,0,-10\t0/0:137.532:65:64:2315:0:0:0,-10,-10\t0/0:137.532:60:60:2052:0:0:0,-10,-10\t0/0:137.532:62:62:2159:0:0:0,-10,-10\t0/0:137.532:68:68:2443:0:0:0,-10,-10\t0/0:137.532:85:85:3040:0:0:0,-10,-10\t0/0:137.532:65:65:2293:0:0:0,-10,-10\t0/0:137.532:64:64:2241:0:0:0,-10,-10\t0/1:137.532:65:50:1852:13:443:-10,0,-10\t0/0:137.532:74:63:2240:3:88:0,-7.30295,-10\t0/0:137.532:63:63:2276:0:0:0,-10,-10\t0/0:137.532:53:53:1871:0:0:0,-10,-10\t0/0:137.532:41:41:1347:0:0:0,-10,-10\r\n",
        "Chr1\t460\t.\tC\tA\t276.984\t.\tAB=0.125;ABP=354.789;AC=4;AF=0.117647;AN=34;AO=44;CIGAR=1X;DP=1086;DPB=1086;DPRA=1.1925;EPP=3.20771;EPPR=3.0439;GTI=2;LEN=1;MEANALT=1.5;MQM=67.5;MQMR=184.051;NS=17;NUMALT=1;ODDS=20.0714;PAIRED=0.977273;PAIREDR=0.985493;PAO=0;PQA=0;PQR=0;PRO=0;QA=1320;QR=37393;RO=1034;RPP=98.5551;RPPR=3.31271;RUN=1;SAF=23;SAP=3.20771;SAR=21;SRF=542;SRP=8.26048;SRR=492;TYPE=snp;technology.Illumina=1\tGT:GQ:DP:RO:QR:AO:QA:GL\t0/0:0:40:37:1352:0:0:0,-10,-10\t0/1:8.33435e-09:72:67:2403:5:174:-1.47971,0,-10\t0/0:125.424:65:61:2254:4:130:0,-1.71134,-10\t0/1:1.91166e-09:84:75:2700:7:181:-1.14941,0,-10\t0/1:0:67:53:1929:14:415:-10,0,-10\t0/0:0:66:66:2440:0:0:0,-10,-10\t0/0:0:63:63:2164:0:0:0,-10,-10\t0/0:0:59:59:2092:0:0:0,-10,-10\t0/0:0:69:69:2548:0:0:0,-10,-10\t0/0:0:85:85:3060:0:0:0,-10,-10\t0/0:0:63:63:2256:0:0:0,-10,-10\t0/0:0:62:62:2213:0:0:0,-10,-10\t0/1:89.7677:65:53:1968:10:296:-10,0,-10\t0/0:132.777:75:70:2569:4:124:0,-5.08729,-10\t0/0:0:62:62:2300:0:0:0,-10,-10\t0/0:0:50:50:1845:0:0:0,-10,-10\t0/0:0:39:39:1300:0:0:0,-10,-10\r\n",
        "Chr1\t461\t.\tG\tC\t662.3\t.\tAB=0.164336;ABP=282.902;AC=4;AF=0.117647;AN=34;AO=52;CIGAR=1X;DP=1075;DPB=1075;DPRA=1.18479;EPP=5.68288;EPPR=3.26866;GTI=1;LEN=1;MEANALT=1.5;MQM=72.0192;MQMR=184.616;NS=17;NUMALT=1;ODDS=18.8486;PAIRED=0.980769;PAIREDR=0.984267;PAO=0;PQA=0;PQR=0;PRO=0;QA=1604;QR=36824;RO=1017;RPP=91.3725;RPPR=3.01244;RUN=1;SAF=25;SAP=3.17734;SAR=27;SRF=541;SRP=12.0314;SRR=476;TYPE=snp;technology.Illumina=1\tGT:GQ:DP:RO:QR:AO:QA:GL\t0/0:0:38:38:1400:0:0:0,-10,-10\t0/1:2.83099e-08:71:66:2402:5:174:-1.74948,0,-10\t0/0:135.933:62:59:2178:3:94:0,-5.3128,-10\t0/1:0:83:65:2380:16:480:-10,0,-10\t0/1:0:67:52:1914:15:455:-10,0,-10\t0/0:0:66:66:2398:0:0:0,-10,-10\t0/0:0:58:58:2041:0:0:0,-10,-10\t0/0:0:60:60:2153:0:0:0,-10,-10\t0/0:0:67:67:2498:0:0:0,-10,-10\t0/0:0:84:84:3005:0:0:0,-10,-10\t0/0:0:63:63:2236:0:0:0,-10,-10\t0/0:0:62:62:2227:0:0:0,-10,-10\t0/1:136.265:65:52:1931:11:327:-10,0,-10\t0/0:0:74:70:2556:2:74:0,-10,-10\t0/0:0:63:63:2267:0:0:0,-10,-10\t0/0:0:52:52:1908:0:0:0,-10,-10\t0/0:0:40:40:1330:0:0:0,-10,-10\r\n",
        "Chr1\t462\t.\tT\tG\t811.371\t.\tAB=0.180212;ABP=254.387;AC=4;AF=0.117647;AN=34;AO=56;CIGAR=1X;DP=1039;DPB=1039;DPRA=1.2144;EPP=5.49198;EPPR=4.19088;GTI=1;LEN=1;MEANALT=1.33333;MQM=73.2857;MQMR=184.649;NS=17;NUMALT=1;ODDS=15.0157;PAIRED=0.982143;PAIREDR=0.988695;PAO=0;PQA=0;PQR=0;PRO=0;QA=1733;QR=34271;RO=973;RPP=99.951;RPPR=3.01253;RUN=1;SAF=27;SAP=3.16541;SAR=29;SRF=511;SRP=8.36868;SRR=462;TYPE=snp;technology.Illumina=1\tGT:GQ:DP:RO:QR:AO:QA:GL\t0/0:0:37:35:1225:0:0:0,-10,-10\t0/1:1.30789e-06:68:63:2183:5:174:-2.556,0,-10\t0/0:133.652:62:59:2096:3:94:0,-5.3128,-10\t0/1:0:85:67:2320:18:541:-10,0,-10\t0/1:0:66:51:1819:15:455:-10,0,-10\t0/0:0:61:61:2208:0:0:0,-10,-10\t0/0:0:55:55:1860:0:0:0,-10,-10\t0/0:0:59:59:2037:0:0:0,-10,-10\t0/0:0:68:68:2433:0:0:0,-10,-10\t0/0:0:78:78:2772:0:0:0,-10,-10\t0/0:0:60:60:2072:0:0:0,-10,-10\t0/0:0:60:60:2092:0:0:0,-10,-10\t0/1:0:64:51:1848:13:395:-10,0,-10\t0/0:0:69:60:2175:2:74:0,-8.71923,-10\t0/0:0:59:59:2108:0:0:0,-10,-10\t0/0:0:50:49:1774:0:0:0,-10,-10\t0/0:0:38:38:1249:0:0:0,-10,-10\r\n",
        "Chr1\t463\t.\tG\tT\t280.446\t.\tAB=0.126316;ABP=348.686;AC=4;AF=0.117647;AN=34;AO=42;CIGAR=1X;DP=1063;DPB=1063;DPRA=1.21242;EPP=3.21711;EPPR=3.79186;GTI=2;LEN=1;MEANALT=1.57143;MQM=68.1667;MQMR=184.492;NS=17;NUMALT=1;ODDS=14.762;PAIRED=0.97619;PAIREDR=0.985045;PAO=0;PQA=0;PQR=0;PRO=0;QA=1275;QR=35476;RO=1003;RPP=94.2121;RPPR=3.06442;RUN=1;SAF=22;SAP=3.21711;SAR=20;SRF=534;SRP=12.1573;SRR=469;TYPE=snp;technology.Illumina=1\tGT:GQ:DP:RO:QR:AO:QA:GL\t0/0:0:40:40:1420:0:0:0,-10,-10\t0/1:1.23552e-07:69:64:2232:5:174:-2.28764,0,-10\t0/0:132.598:63:60:2141:3:94:0,-5.59265,-10\t0/1:1.68551e-06:83:65:2299:7:181:-3.75736,0,-10\t0/1:0:68:53:1873:14:415:-10,0,-10\t0/0:0:64:64:2248:0:0:0,-10,-10\t0/0:0:58:58:1919:0:0:0,-10,-10\t0/0:0:58:58:2026:0:0:0,-10,-10\t0/0:0:70:69:2510:1:41:0,-10,-10\t0/0:0:81:81:2929:0:0:0,-10,-10\t0/0:0:63:63:2207:0:0:0,-10,-10\t0/0:0:60:60:2083:0:0:0,-10,-10\t0/1:94.9774:65:52:1917:10:296:-10,0,-10\t0/0:0:70:65:2366:2:74:0,-10,-10\t0/0:0:62:62:2191:0:0:0,-10,-10\t0/0:0:51:51:1833:0:0:0,-10,-10\t0/0:0:38:38:1282:0:0:0,-10,-10\r\n",
        "Chr1\t464\t.\tC\tT\t2977.44\t.\tAB=0.549738;ABP=7.1145;AC=3;AF=0.0882353;AN=34;AO=108;CIGAR=1X;DP=1054;DPB=1054;DPRA=1.04645;EPP=3.73412;EPPR=5.96263;GTI=0;LEN=1;MEANALT=2.16667;MQM=170.963;MQMR=184.632;NS=17;NUMALT=1;ODDS=13.4668;PAIRED=0.990741;PAIREDR=0.984462;PAO=0;PQA=0;PQR=0;PRO=0;QA=3892;QR=31892;RO=901;RPP=8.15749;RPPR=5.03717;RUN=1;SAF=47;SAP=6.95112;SAR=61;SRF=483;SRP=13.1928;SRR=418;TYPE=snp;technology.Illumina=1\tGT:GQ:DP:RO:QR:AO:QA:GL\t0/1:58.4857:39:3:113:36:1294:-10,0,-2.7674\t0/0:0:66:61:2161:0:0:0,-10,-10\t0/0:0:63:60:2101:0:0:0,-10,-10\t0/1:133.669:81:64:2296:8:272:-10,0,-10\t0/0:122.286:68:54:1921:1:40:0,-10,-10\t0/0:0:63:63:2245:0:0:0,-10,-10\t0/0:0:58:58:1965:0:0:0,-10,-10\t0/0:0:56:56:2020:0:0:0,-10,-10\t0/0:0:70:70:2530:0:0:0,-10,-10\t0/0:0:80:80:2871:0:0:0,-10,-10\t0/0:0:64:64:2227:0:0:0,-10,-10\t0/0:0:59:59:2045:0:0:0,-10,-10\t0/0:121.707:64:51:1876:1:31:0,-10,-10\t0/1:131.839:71:7:245:61:2228:-10,0,-10\t0/0:133.479:60:59:2079:1:27:0,-10,-10\t0/0:0:53:53:1920:0:0:0,-10,-10\t0/0:127.288:39:39:1277:0:0:0,-10,-10\r\n",
        "\r\n",
        "gzip: stdout: Broken pipe\r\n"
       ]
      }
     ],
     "prompt_number": 3
    },
    {
     "cell_type": "markdown",
     "metadata": {},
     "source": [
      "#### Get the Sample Names\n",
      "\n",
      "- use a [vcflib](https://github.com/ekg/vcflib) tool to get sample names\n",
      "- ! is the shorthand for **shell**"
     ]
    },
    {
     "cell_type": "code",
     "collapsed": false,
     "input": [
      "!vcfsamplenames /vagrant_data/Chr1_1Mb.vcf.gz"
     ],
     "language": "python",
     "metadata": {},
     "outputs": [
      {
       "output_type": "stream",
       "stream": "stdout",
       "text": [
        "[tabix++] the index file is older than the vcf file. Please use '-f' to overwrite or reindex.\r\n"
       ]
      }
     ],
     "prompt_number": 7
    },
    {
     "cell_type": "markdown",
     "metadata": {},
     "source": [
      "#### Vcftools Needs an Indexed File\n",
      "\n",
      "- Indices are key to high performance file access\n",
      "- create with [Tabix](http://samtools.sourceforge.net/tabix.shtml)\n",
      "- use the longhand Bash Cell Magic (read about all the magics [here](http://nbviewer.ipython.org/github/ipython/ipython/blob/1.x/examples/notebooks/Cell%20Magics.ipynb))"
     ]
    },
    {
     "cell_type": "code",
     "collapsed": false,
     "input": [
      "%%bash\n",
      "tabix /vagrant_data/Chr1_1Mb.vcf.gz\n",
      "ls -l /vagrant_data"
     ],
     "language": "python",
     "metadata": {},
     "outputs": [
      {
       "output_type": "stream",
       "stream": "stdout",
       "text": [
        "total 14743\n",
        "-rwxrwxrwx 1 vagrant vagrant 15095989 Oct 13 07:55 Chr1_1Mb.vcf.gz\n",
        "-rwxrwxrwx 1 vagrant vagrant      362 Oct 13 20:28 Chr1_1Mb.vcf.gz.tbi\n"
       ]
      }
     ],
     "prompt_number": 14
    },
    {
     "cell_type": "markdown",
     "metadata": {},
     "source": [
      "#### Check the Sample Names\n",
      "\n",
      "- use a tools from [vcflib](https://github.com/ekg/vcflib)"
     ]
    },
    {
     "cell_type": "code",
     "collapsed": false,
     "input": [
      "!vcfsamplenames /vagrant_data/Chr1_1Mb.vcf.gz"
     ],
     "language": "python",
     "metadata": {},
     "outputs": [
      {
       "output_type": "stream",
       "stream": "stdout",
       "text": [
        "EA01-01\r\n",
        "16-2-1A\r\n",
        "16-1-1A\r\n",
        "52-18-20C\r\n",
        "52-15-05A\r\n",
        "39-4-5B\r\n",
        "39-4-6B\r\n",
        "CK51-11-KK14-03-06A\r\n",
        "CK51-09-KK03-07-09B\r\n",
        "CK51-06-KK03-07-13A\r\n",
        "52-13-22D-KK14-07-02A\r\n",
        "Hort16A\r\n",
        "52-08-06c\r\n",
        "43-03-14b\r\n",
        "CK15_02\r\n",
        "CK51_05\r\n",
        "CK51F3_01\r\n"
       ]
      }
     ],
     "prompt_number": 15
    },
    {
     "cell_type": "markdown",
     "metadata": {},
     "source": [
      "#### Capture the Output of this command using the Bash shell magic"
     ]
    },
    {
     "cell_type": "code",
     "collapsed": false,
     "input": [
      "%%bash --out output \n",
      "vcfsamplenames /vagrant_data/Chr1_1Mb.vcf.gz"
     ],
     "language": "python",
     "metadata": {},
     "outputs": [
      {
       "output_type": "stream",
       "stream": "stderr",
       "text": [
        "[tabix++] the index file is older than the vcf file. Please use '-f' to overwrite or reindex.\n"
       ]
      }
     ],
     "prompt_number": 6
    },
    {
     "cell_type": "code",
     "collapsed": false,
     "input": [
      "output"
     ],
     "language": "python",
     "metadata": {},
     "outputs": [
      {
       "metadata": {},
       "output_type": "pyout",
       "prompt_number": 11,
       "text": [
        "'EA01-01\\n16-2-1A\\n16-1-1A\\n52-18-20C\\n52-15-05A\\n39-4-5B\\n39-4-6B\\nCK51-11-KK14-03-06A\\nCK51-09-KK03-07-09B\\nCK51-06-KK03-07-13A\\n52-13-22D-KK14-07-02A\\nHort16A\\n52-08-06c\\n43-03-14b\\nCK15_02\\nCK51_05\\nCK51F3_01\\n'"
       ]
      }
     ],
     "prompt_number": 11
    },
    {
     "cell_type": "markdown",
     "metadata": {},
     "source": [
      "#### Do Stuff with Python"
     ]
    },
    {
     "cell_type": "code",
     "collapsed": false,
     "input": [
      "sorted(output.strip().split('\\n'))\n"
     ],
     "language": "python",
     "metadata": {},
     "outputs": [
      {
       "metadata": {},
       "output_type": "pyout",
       "prompt_number": 26,
       "text": [
        "['16-1-1A',\n",
        " '16-2-1A',\n",
        " '39-4-5B',\n",
        " '39-4-6B',\n",
        " '43-03-14b',\n",
        " '52-08-06c',\n",
        " '52-13-22D-KK14-07-02A',\n",
        " '52-15-05A',\n",
        " '52-18-20C',\n",
        " 'CK15_02',\n",
        " 'CK51-06-KK03-07-13A',\n",
        " 'CK51-09-KK03-07-09B',\n",
        " 'CK51-11-KK14-03-06A',\n",
        " 'CK51F3_01',\n",
        " 'CK51_05',\n",
        " 'EA01-01',\n",
        " 'Hort16A']"
       ]
      }
     ],
     "prompt_number": 26
    },
    {
     "cell_type": "code",
     "collapsed": false,
     "input": [
      "[\"CK_\"+ X for X in output.strip().split('\\n')]"
     ],
     "language": "python",
     "metadata": {},
     "outputs": [
      {
       "metadata": {},
       "output_type": "pyout",
       "prompt_number": 36,
       "text": [
        "['CK_EA01-01',\n",
        " 'CK_16-2-1A',\n",
        " 'CK_16-1-1A',\n",
        " 'CK_52-18-20C',\n",
        " 'CK_52-15-05A',\n",
        " 'CK_39-4-5B',\n",
        " 'CK_39-4-6B',\n",
        " 'CK_CK51-11-KK14-03-06A',\n",
        " 'CK_CK51-09-KK03-07-09B',\n",
        " 'CK_CK51-06-KK03-07-13A',\n",
        " 'CK_52-13-22D-KK14-07-02A',\n",
        " 'CK_Hort16A',\n",
        " 'CK_52-08-06c',\n",
        " 'CK_43-03-14b',\n",
        " 'CK_CK15_02',\n",
        " 'CK_CK51_05',\n",
        " 'CK_CK51F3_01']"
       ]
      }
     ],
     "prompt_number": 36
    },
    {
     "cell_type": "markdown",
     "metadata": {},
     "source": [
      "### Get Pi in 1kb Steps\n",
      "\n",
      "-use [vcftools](http://vcftools.sourceforge.net/man_latest.html)"
     ]
    },
    {
     "cell_type": "code",
     "collapsed": false,
     "input": [
      "%%bash\n",
      "vcftools --gzvcf  /vagrant_data/Chr1_1Mb.vcf.gz --window-pi 1000 --out Chr1_1Mb\n",
      "head Chr1_1Mb.windowed.pi\n"
     ],
     "language": "python",
     "metadata": {},
     "outputs": [
      {
       "output_type": "stream",
       "stream": "stdout",
       "text": [
        "CHROM\tBIN_START\tBIN_END\tN_VARIANTS\tPI\n",
        "Chr1\t1\t1000\t110\t0.0321283\n",
        "Chr1\t1001\t2000\t31\t0.00635294\n",
        "Chr1\t2001\t3000\t69\t0.0214171\n",
        "Chr1\t3001\t4000\t96\t0.0218164\n",
        "Chr1\t4001\t5000\t112\t0.0395205\n",
        "Chr1\t5001\t6000\t130\t0.0343173\n",
        "Chr1\t6001\t7000\t151\t0.0499447\n",
        "Chr1\t7001\t8000\t136\t0.0342424\n",
        "Chr1\t8001\t9000\t79\t0.0226756\n"
       ]
      },
      {
       "output_type": "stream",
       "stream": "stderr",
       "text": [
        "\n",
        "VCFtools - v0.1.12b\n",
        "(C) Adam Auton and Anthony Marcketta 2009\n",
        "\n",
        "Parameters as interpreted:\n",
        "\t--gzvcf /vagrant_data/Chr1_1Mb.vcf.gz\n",
        "\t--out Chr1_1Mb\n",
        "\t--window-pi 1000\n",
        "\n",
        "Using zlib version: 1.2.8\n",
        "After filtering, kept 17 out of 17 Individuals\n",
        "Outputting Windowed Nucleotide Diversity Statistics...\n",
        "\twindowPi: Only using fully diploid sites.\n",
        "After filtering, kept 41637 out of a possible 41637 Sites\n",
        "Run Time = 1.00 seconds\n"
       ]
      }
     ],
     "prompt_number": 4
    },
    {
     "cell_type": "markdown",
     "metadata": {},
     "source": [
      "#### Read File Using Pandas"
     ]
    },
    {
     "cell_type": "code",
     "collapsed": false,
     "input": [
      "import pandas as pd\n",
      "piDf=pd.read_csv('Chr1_1Mb.windowed.pi',sep=\"\\t\")\n",
      "piDf.head()"
     ],
     "language": "python",
     "metadata": {},
     "outputs": [
      {
       "html": [
        "<div style=\"max-height:1000px;max-width:1500px;overflow:auto;\">\n",
        "<table border=\"1\" class=\"dataframe\">\n",
        "  <thead>\n",
        "    <tr style=\"text-align: right;\">\n",
        "      <th></th>\n",
        "      <th>CHROM</th>\n",
        "      <th>BIN_START</th>\n",
        "      <th>BIN_END</th>\n",
        "      <th>N_VARIANTS</th>\n",
        "      <th>PI</th>\n",
        "    </tr>\n",
        "  </thead>\n",
        "  <tbody>\n",
        "    <tr>\n",
        "      <th>0</th>\n",
        "      <td> Chr1</td>\n",
        "      <td>    1</td>\n",
        "      <td> 1000</td>\n",
        "      <td> 110</td>\n",
        "      <td> 0.032128</td>\n",
        "    </tr>\n",
        "    <tr>\n",
        "      <th>1</th>\n",
        "      <td> Chr1</td>\n",
        "      <td> 1001</td>\n",
        "      <td> 2000</td>\n",
        "      <td>  31</td>\n",
        "      <td> 0.006353</td>\n",
        "    </tr>\n",
        "    <tr>\n",
        "      <th>2</th>\n",
        "      <td> Chr1</td>\n",
        "      <td> 2001</td>\n",
        "      <td> 3000</td>\n",
        "      <td>  69</td>\n",
        "      <td> 0.021417</td>\n",
        "    </tr>\n",
        "    <tr>\n",
        "      <th>3</th>\n",
        "      <td> Chr1</td>\n",
        "      <td> 3001</td>\n",
        "      <td> 4000</td>\n",
        "      <td>  96</td>\n",
        "      <td> 0.021816</td>\n",
        "    </tr>\n",
        "    <tr>\n",
        "      <th>4</th>\n",
        "      <td> Chr1</td>\n",
        "      <td> 4001</td>\n",
        "      <td> 5000</td>\n",
        "      <td> 112</td>\n",
        "      <td> 0.039521</td>\n",
        "    </tr>\n",
        "  </tbody>\n",
        "</table>\n",
        "</div>"
       ],
       "metadata": {},
       "output_type": "pyout",
       "prompt_number": 16,
       "text": [
        "  CHROM  BIN_START  BIN_END  N_VARIANTS        PI\n",
        "0  Chr1          1     1000         110  0.032128\n",
        "1  Chr1       1001     2000          31  0.006353\n",
        "2  Chr1       2001     3000          69  0.021417\n",
        "3  Chr1       3001     4000          96  0.021816\n",
        "4  Chr1       4001     5000         112  0.039521"
       ]
      }
     ],
     "prompt_number": 16
    },
    {
     "cell_type": "markdown",
     "metadata": {},
     "source": [
      "#### Generate Some Summaries"
     ]
    },
    {
     "cell_type": "code",
     "collapsed": false,
     "input": [
      "piDf.describe()"
     ],
     "language": "python",
     "metadata": {},
     "outputs": [
      {
       "html": [
        "<div style=\"max-height:1000px;max-width:1500px;overflow:auto;\">\n",
        "<table border=\"1\" class=\"dataframe\">\n",
        "  <thead>\n",
        "    <tr style=\"text-align: right;\">\n",
        "      <th></th>\n",
        "      <th>BIN_START</th>\n",
        "      <th>BIN_END</th>\n",
        "      <th>N_VARIANTS</th>\n",
        "      <th>PI</th>\n",
        "    </tr>\n",
        "  </thead>\n",
        "  <tbody>\n",
        "    <tr>\n",
        "      <th>count</th>\n",
        "      <td>    249.000000</td>\n",
        "      <td>    249.000000</td>\n",
        "      <td> 249.000000</td>\n",
        "      <td> 249.000000</td>\n",
        "    </tr>\n",
        "    <tr>\n",
        "      <th>mean</th>\n",
        "      <td> 143796.180723</td>\n",
        "      <td> 144795.180723</td>\n",
        "      <td> 111.578313</td>\n",
        "      <td>   0.031728</td>\n",
        "    </tr>\n",
        "    <tr>\n",
        "      <th>std</th>\n",
        "      <td>  80822.000613</td>\n",
        "      <td>  80822.000613</td>\n",
        "      <td>  58.089778</td>\n",
        "      <td>   0.018172</td>\n",
        "    </tr>\n",
        "    <tr>\n",
        "      <th>min</th>\n",
        "      <td>      1.000000</td>\n",
        "      <td>   1000.000000</td>\n",
        "      <td>   3.000000</td>\n",
        "      <td>   0.000727</td>\n",
        "    </tr>\n",
        "    <tr>\n",
        "      <th>25%</th>\n",
        "      <td>  77001.000000</td>\n",
        "      <td>  78000.000000</td>\n",
        "      <td>  69.000000</td>\n",
        "      <td>   0.018020</td>\n",
        "    </tr>\n",
        "    <tr>\n",
        "      <th>50%</th>\n",
        "      <td> 140001.000000</td>\n",
        "      <td> 141000.000000</td>\n",
        "      <td> 110.000000</td>\n",
        "      <td>   0.030073</td>\n",
        "    </tr>\n",
        "    <tr>\n",
        "      <th>75%</th>\n",
        "      <td> 215001.000000</td>\n",
        "      <td> 216000.000000</td>\n",
        "      <td> 154.000000</td>\n",
        "      <td>   0.043476</td>\n",
        "    </tr>\n",
        "    <tr>\n",
        "      <th>max</th>\n",
        "      <td> 282001.000000</td>\n",
        "      <td> 283000.000000</td>\n",
        "      <td> 284.000000</td>\n",
        "      <td>   0.103996</td>\n",
        "    </tr>\n",
        "  </tbody>\n",
        "</table>\n",
        "</div>"
       ],
       "metadata": {},
       "output_type": "pyout",
       "prompt_number": 17,
       "text": [
        "           BIN_START        BIN_END  N_VARIANTS          PI\n",
        "count     249.000000     249.000000  249.000000  249.000000\n",
        "mean   143796.180723  144795.180723  111.578313    0.031728\n",
        "std     80822.000613   80822.000613   58.089778    0.018172\n",
        "min         1.000000    1000.000000    3.000000    0.000727\n",
        "25%     77001.000000   78000.000000   69.000000    0.018020\n",
        "50%    140001.000000  141000.000000  110.000000    0.030073\n",
        "75%    215001.000000  216000.000000  154.000000    0.043476\n",
        "max    282001.000000  283000.000000  284.000000    0.103996"
       ]
      }
     ],
     "prompt_number": 17
    },
    {
     "cell_type": "markdown",
     "metadata": {},
     "source": [
      "#### Plot the Distribution of Pi"
     ]
    },
    {
     "cell_type": "code",
     "collapsed": false,
     "input": [
      "%pylab inline\n",
      "piDf.hist(\"PI\")"
     ],
     "language": "python",
     "metadata": {},
     "outputs": [
      {
       "output_type": "stream",
       "stream": "stdout",
       "text": [
        "Populating the interactive namespace from numpy and matplotlib\n"
       ]
      },
      {
       "metadata": {},
       "output_type": "pyout",
       "prompt_number": 19,
       "text": [
        "array([[<matplotlib.axes._subplots.AxesSubplot object at 0x7f99f67c4950>]], dtype=object)"
       ]
      },
      {
       "metadata": {},
       "output_type": "display_data",
       "png": "[encoded data removed]",
       "text": [
        "<matplotlib.figure.Figure at 0x7f99f6ab1b10>"
       ]
      }
     ],
     "prompt_number": 19
    },
    {
     "cell_type": "markdown",
     "metadata": {},
     "source": [
      "#### Plot along the Chromosome"
     ]
    },
    {
     "cell_type": "code",
     "collapsed": false,
     "input": [
      "piDf.plot(\"BIN_START\",\"PI\",figsize=(15, 3),title='A chinensis Chromosome 1')"
     ],
     "language": "python",
     "metadata": {},
     "outputs": [
      {
       "metadata": {},
       "output_type": "pyout",
       "prompt_number": 27,
       "text": [
        "<matplotlib.axes._subplots.AxesSubplot at 0x7f99f609aa10>"
       ]
      },
      {
       "metadata": {},
       "output_type": "display_data",
       "png": "[encoded data removed]",
       "text": [
        "<matplotlib.figure.Figure at 0x7f99f60b7210>"
       ]
      }
     ],
     "prompt_number": 27
    },
    {
     "cell_type": "markdown",
     "metadata": {},
     "source": [
      "#### Pass the Data Frame to R"
     ]
    },
    {
     "cell_type": "code",
     "collapsed": false,
     "input": [
      "%load_ext rpy2.ipython\n",
      "%Rpush  piDf"
     ],
     "language": "python",
     "metadata": {},
     "outputs": [],
     "prompt_number": 31
    },
    {
     "cell_type": "markdown",
     "metadata": {},
     "source": [
      "#### Plot with ggplot2"
     ]
    },
    {
     "cell_type": "code",
     "collapsed": false,
     "input": [
      "%%R -w 800 -h 400\n",
      "library(ggplot2)\n",
      "library(grid)\n",
      "ggplot(piDf,aes(x=BIN_START,y=PI)) + \n",
      "    geom_point() +\n",
      "geom_smooth(span=0.05) +\n",
      "ggtitle(\"A chinensis Chromosome 1\")"
     ],
     "language": "python",
     "metadata": {},
     "outputs": [
      {
       "metadata": {},
       "output_type": "display_data",
       "text": [
        "geom_smooth: method=\"auto\" and size of largest group is <1000, so using loess. Use 'method = x' to change the smoothing method.\n"
       ]
      },
      {
       "metadata": {},
       "output_type": "display_data",
       "png": "[encoded data removed]"
      }
     ],
     "prompt_number": 45
    },
    {
     "cell_type": "markdown",
     "metadata": {
      "slideshow": {
       "slide_type": "slide"
      }
     },
     "source": [
      "---------------------------------------\n",
      "\n",
      "### Save this file as a secret Gist\n",
      "\n",
      "- use the [Jist](https://github.com/ConradIrwin/jist) Gister"
     ]
    },
    {
     "cell_type": "code",
     "collapsed": false,
     "input": [
      "!gist -h"
     ],
     "language": "python",
     "metadata": {},
     "outputs": [
      {
       "output_type": "stream",
       "stream": "stdout",
       "text": [
        "Gist (v4.3.0) lets you upload to https://gist.github.com/\r\n",
        "\r\n",
        "The content to be uploaded can be passed as a list of files, if none are\r\n",
        "specified STDIN will be read. The default filename for STDIN is \"a.rb\", and all\r\n",
        "filenames can be overridden by repeating the \"-f\" flag. The most useful reason\r\n",
        "to do this is to change the syntax highlighting.\r\n",
        "\r\n",
        "If you'd like your gists to be associated with your GitHub account, so that you\r\n",
        "can edit them and find them in future, first use `gist --login` to obtain an\r\n",
        "Oauth2 access token. This is stored and used by gist in the future.\r\n",
        "\r\n",
        "Private gists do not have guessable URLs and can be created with \"-p\", you can\r\n",
        "also set the description at the top of the gist by passing \"-d\".\r\n",
        "\r\n",
        "Anonymous gists are not associated with your GitHub account, they can be created\r\n",
        "with \"-a\" even after you have used \"gist --login\".\r\n",
        "\r\n",
        "If you would like to shorten the resulting gist URL, use the -s flag. This will\r\n",
        "use GitHub's URL shortener, git.io. You can also use -R to get the link to the\r\n",
        "raw gist.\r\n",
        "\r\n",
        "To copy the resulting URL to your clipboard you can use the -c option, or to\r\n",
        "just open it directly in your browser, use -o. Using the -e option will copy the\r\n",
        "embeddable URL to the clipboard. You can add `alias gist='gist -c'` to your\r\n",
        "shell's rc file to configure this behaviour by default.\r\n",
        "\r\n",
        "Instead of creating a new gist, you can update an existing one by passing its ID\r\n",
        "or URL with \"-u\". For this to work, you must be logged in, and have created the\r\n",
        "original gist with the same GitHub account.\r\n",
        "\r\n",
        "Usage: gist [-o|-c|-e] [-p] [-s] [-R] [-d DESC] [-a] [-u URL] [-P] [-f NAME|-t EXT]* FILE*\r\n",
        "       gist --login\r\n",
        "\r\n",
        "        --login                      Authenticate gist on this computer.\r\n",
        "    -f, --filename [NAME.EXTENSION]  Sets the filename and syntax type.\r\n",
        "    -t, --type [EXTENSION]           Sets the file extension and syntax type.\r\n",
        "    -p, --private                    Makes your gist private.\r\n",
        "        --no-private\r\n",
        "    -d, --description DESCRIPTION    Adds a description to your gist.\r\n",
        "    -s, --shorten                    Shorten the gist URL using git.io.\r\n",
        "    -u, --update [ URL | ID ]        Update an existing gist.\r\n",
        "    -a, --anonymous                  Create an anonymous gist.\r\n",
        "    -c, --copy                       Copy the resulting URL to the clipboard\r\n",
        "    -e, --embed                      Copy the embed code for the gist to the clipboard\r\n",
        "    -o, --open                       Open the resulting URL in a browser\r\n",
        "        --no-open\r\n",
        "    -P, --paste                      Paste from the clipboard to gist\r\n",
        "    -R, --raw                        Raw url of the new gist\r\n",
        "    -l, --list [USER]                List all gists for user\r\n",
        "    -h, --help                       Show this message.\r\n",
        "    -v, --version                    Print the version.\r\n"
       ]
      }
     ],
     "prompt_number": 2
    },
    {
     "cell_type": "markdown",
     "metadata": {},
     "source": [
      "#### Authenticate on GitHub\n",
      "\n",
      "```\n",
      "    vagrant@vagrant-ubuntu-trusty-64:~$ gist --login\n",
      "    Obtaining OAuth2 access_token from github.\n",
      "    GitHub username: cfljam\n",
      "    GitHub password: \n",
      "    Success! https://github.com/settings/applications\n",
      "    vagrant@vagrant-ubuntu-trusty-64:~$ \n",
      "    ```\n"
     ]
    },
    {
     "cell_type": "code",
     "collapsed": false,
     "input": [
      "!gist -p -d \"Exploring the VCF Format in iPython\" Exploring\\ the\\ VCF\\ File\\ Format.ipynb"
     ],
     "language": "python",
     "metadata": {},
     "outputs": [
      {
       "output_type": "stream",
       "stream": "stdout",
       "text": [
        "https://gist.github.com/d8354169001f6788af3e\r\n"
       ]
      }
     ],
     "prompt_number": 3
    },
    {
     "cell_type": "markdown",
     "metadata": {},
     "source": [
      "#### Can Now Browse  \n",
      "\n",
      "- Gist record and revisions https://gist.github.com/d8354169001f6788af3e\n",
      "- rendered version https://gist.github.com/d8354169001f6788af3e"
     ]
    },
    {
     "cell_type": "markdown",
     "metadata": {},
     "source": [
      "### Update the Gist"
     ]
    },
    {
     "cell_type": "code",
     "collapsed": false,
     "input": [
      "!gist -u https://gist.github.com/d8354169001f6788af3e Exploring\\ the\\ VCF\\ File\\ Format.ipynb"
     ],
     "language": "python",
     "metadata": {},
     "outputs": [
      {
       "output_type": "stream",
       "stream": "stdout",
       "text": [
        "https://gist.github.com/d8354169001f6788af3e\r\n"
       ]
      }
     ],
     "prompt_number": 49
    }
   ],
   "metadata": {}
  }
 ]
}